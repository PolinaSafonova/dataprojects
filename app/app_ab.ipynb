{
 "cells": [
  {
   "cell_type": "markdown",
   "metadata": {},
   "source": [
    "# Проект: поведение пользователей мобильного приложения"
   ]
  },
  {
   "cell_type": "markdown",
   "metadata": {},
   "source": [
    "Цель проекта: определить, повлияет ли изменение шрифта в приложении на поведение пользователей.  \n",
    "\n",
    "Задачи:  \n",
    "- изучить данные и определить период анализа;\n",
    "- узнать, какие события входят в логи, и их частоту;\n",
    "- построить воронку событий и определить, на каком шаге теряется больше всего пользователей;\n",
    "- проверить, есть ли статистические различия между контрольными группами и группой с изменённым шрифтом."
   ]
  },
  {
   "cell_type": "markdown",
   "metadata": {},
   "source": [
    "## Описание данных"
   ]
  },
  {
   "cell_type": "markdown",
   "metadata": {},
   "source": [
    "Каждая запись в логе — это действие пользователя, или событие.   \n",
    "*EventName* — название события;  \n",
    "*DeviceIDHash* — уникальный идентификатор пользователя;  \n",
    "*EventTimestamp* — время события;  \n",
    "*ExpId* — номер эксперимента: 246 и 247 — контрольные группы, а 248 — экспериментальная."
   ]
  },
  {
   "cell_type": "markdown",
   "metadata": {},
   "source": [
    "## Загрузка данных"
   ]
  },
  {
   "cell_type": "code",
   "execution_count": 1,
   "metadata": {},
   "outputs": [],
   "source": [
    "#загружаем нужные библиотеки\n",
    "import pandas as pd\n",
    "from datetime import datetime, timedelta \n",
    "import datetime as dt\n",
    "import matplotlib.pyplot as plt\n",
    "import seaborn as sns \n",
    "from scipy import stats as st\n",
    "import numpy as np\n",
    "import math as mth\n",
    "from plotly import graph_objects as go"
   ]
  },
  {
   "cell_type": "code",
   "execution_count": 2,
   "metadata": {},
   "outputs": [],
   "source": [
    "#загружаем данные\n",
    "try:\n",
    "    df = pd.read_csv('/datasets/logs_exp.csv', sep='\\t')\n",
    "    \n",
    "except:\n",
    "    df =  pd.read_csv('logs_exp.csv', sep='\\t')"
   ]
  },
  {
   "cell_type": "code",
   "execution_count": 3,
   "metadata": {},
   "outputs": [
    {
     "data": {
      "text/html": [
       "<div>\n",
       "<style scoped>\n",
       "    .dataframe tbody tr th:only-of-type {\n",
       "        vertical-align: middle;\n",
       "    }\n",
       "\n",
       "    .dataframe tbody tr th {\n",
       "        vertical-align: top;\n",
       "    }\n",
       "\n",
       "    .dataframe thead th {\n",
       "        text-align: right;\n",
       "    }\n",
       "</style>\n",
       "<table border=\"1\" class=\"dataframe\">\n",
       "  <thead>\n",
       "    <tr style=\"text-align: right;\">\n",
       "      <th></th>\n",
       "      <th>EventName</th>\n",
       "      <th>DeviceIDHash</th>\n",
       "      <th>EventTimestamp</th>\n",
       "      <th>ExpId</th>\n",
       "    </tr>\n",
       "  </thead>\n",
       "  <tbody>\n",
       "    <tr>\n",
       "      <th>0</th>\n",
       "      <td>MainScreenAppear</td>\n",
       "      <td>4575588528974610257</td>\n",
       "      <td>1564029816</td>\n",
       "      <td>246</td>\n",
       "    </tr>\n",
       "    <tr>\n",
       "      <th>1</th>\n",
       "      <td>MainScreenAppear</td>\n",
       "      <td>7416695313311560658</td>\n",
       "      <td>1564053102</td>\n",
       "      <td>246</td>\n",
       "    </tr>\n",
       "    <tr>\n",
       "      <th>2</th>\n",
       "      <td>PaymentScreenSuccessful</td>\n",
       "      <td>3518123091307005509</td>\n",
       "      <td>1564054127</td>\n",
       "      <td>248</td>\n",
       "    </tr>\n",
       "    <tr>\n",
       "      <th>3</th>\n",
       "      <td>CartScreenAppear</td>\n",
       "      <td>3518123091307005509</td>\n",
       "      <td>1564054127</td>\n",
       "      <td>248</td>\n",
       "    </tr>\n",
       "    <tr>\n",
       "      <th>4</th>\n",
       "      <td>PaymentScreenSuccessful</td>\n",
       "      <td>6217807653094995999</td>\n",
       "      <td>1564055322</td>\n",
       "      <td>248</td>\n",
       "    </tr>\n",
       "  </tbody>\n",
       "</table>\n",
       "</div>"
      ],
      "text/plain": [
       "                 EventName         DeviceIDHash  EventTimestamp  ExpId\n",
       "0         MainScreenAppear  4575588528974610257      1564029816    246\n",
       "1         MainScreenAppear  7416695313311560658      1564053102    246\n",
       "2  PaymentScreenSuccessful  3518123091307005509      1564054127    248\n",
       "3         CartScreenAppear  3518123091307005509      1564054127    248\n",
       "4  PaymentScreenSuccessful  6217807653094995999      1564055322    248"
      ]
     },
     "execution_count": 3,
     "metadata": {},
     "output_type": "execute_result"
    }
   ],
   "source": [
    "df.head()"
   ]
  },
  {
   "cell_type": "code",
   "execution_count": 4,
   "metadata": {
    "scrolled": false
   },
   "outputs": [
    {
     "name": "stdout",
     "output_type": "stream",
     "text": [
      "<class 'pandas.core.frame.DataFrame'>\n",
      "RangeIndex: 244126 entries, 0 to 244125\n",
      "Data columns (total 4 columns):\n",
      " #   Column          Non-Null Count   Dtype \n",
      "---  ------          --------------   ----- \n",
      " 0   EventName       244126 non-null  object\n",
      " 1   DeviceIDHash    244126 non-null  int64 \n",
      " 2   EventTimestamp  244126 non-null  int64 \n",
      " 3   ExpId           244126 non-null  int64 \n",
      "dtypes: int64(3), object(1)\n",
      "memory usage: 7.5+ MB\n"
     ]
    }
   ],
   "source": [
    "df.info()"
   ]
  },
  {
   "cell_type": "markdown",
   "metadata": {},
   "source": [
    "## Предобработка данных"
   ]
  },
  {
   "cell_type": "code",
   "execution_count": 5,
   "metadata": {},
   "outputs": [],
   "source": [
    "# переименовываем переменные\n",
    "df.columns=['event_name', 'device_id', 'event_timestamp', 'group']"
   ]
  },
  {
   "cell_type": "code",
   "execution_count": 6,
   "metadata": {},
   "outputs": [
    {
     "data": {
      "text/html": [
       "<div>\n",
       "<style scoped>\n",
       "    .dataframe tbody tr th:only-of-type {\n",
       "        vertical-align: middle;\n",
       "    }\n",
       "\n",
       "    .dataframe tbody tr th {\n",
       "        vertical-align: top;\n",
       "    }\n",
       "\n",
       "    .dataframe thead th {\n",
       "        text-align: right;\n",
       "    }\n",
       "</style>\n",
       "<table border=\"1\" class=\"dataframe\">\n",
       "  <thead>\n",
       "    <tr style=\"text-align: right;\">\n",
       "      <th></th>\n",
       "      <th>event_name</th>\n",
       "      <th>device_id</th>\n",
       "      <th>event_timestamp</th>\n",
       "      <th>group</th>\n",
       "    </tr>\n",
       "  </thead>\n",
       "  <tbody>\n",
       "    <tr>\n",
       "      <th>0</th>\n",
       "      <td>MainScreenAppear</td>\n",
       "      <td>4575588528974610257</td>\n",
       "      <td>1564029816</td>\n",
       "      <td>246</td>\n",
       "    </tr>\n",
       "    <tr>\n",
       "      <th>1</th>\n",
       "      <td>MainScreenAppear</td>\n",
       "      <td>7416695313311560658</td>\n",
       "      <td>1564053102</td>\n",
       "      <td>246</td>\n",
       "    </tr>\n",
       "    <tr>\n",
       "      <th>2</th>\n",
       "      <td>PaymentScreenSuccessful</td>\n",
       "      <td>3518123091307005509</td>\n",
       "      <td>1564054127</td>\n",
       "      <td>248</td>\n",
       "    </tr>\n",
       "    <tr>\n",
       "      <th>3</th>\n",
       "      <td>CartScreenAppear</td>\n",
       "      <td>3518123091307005509</td>\n",
       "      <td>1564054127</td>\n",
       "      <td>248</td>\n",
       "    </tr>\n",
       "    <tr>\n",
       "      <th>4</th>\n",
       "      <td>PaymentScreenSuccessful</td>\n",
       "      <td>6217807653094995999</td>\n",
       "      <td>1564055322</td>\n",
       "      <td>248</td>\n",
       "    </tr>\n",
       "  </tbody>\n",
       "</table>\n",
       "</div>"
      ],
      "text/plain": [
       "                event_name            device_id  event_timestamp  group\n",
       "0         MainScreenAppear  4575588528974610257       1564029816    246\n",
       "1         MainScreenAppear  7416695313311560658       1564053102    246\n",
       "2  PaymentScreenSuccessful  3518123091307005509       1564054127    248\n",
       "3         CartScreenAppear  3518123091307005509       1564054127    248\n",
       "4  PaymentScreenSuccessful  6217807653094995999       1564055322    248"
      ]
     },
     "execution_count": 6,
     "metadata": {},
     "output_type": "execute_result"
    }
   ],
   "source": [
    "df.head()"
   ]
  },
  {
   "cell_type": "code",
   "execution_count": 7,
   "metadata": {
    "scrolled": true
   },
   "outputs": [
    {
     "data": {
      "text/plain": [
       "event_name         0\n",
       "device_id          0\n",
       "event_timestamp    0\n",
       "group              0\n",
       "dtype: int64"
      ]
     },
     "metadata": {},
     "output_type": "display_data"
    },
    {
     "name": "stdout",
     "output_type": "stream",
     "text": [
      "Количество дубликатов: 413\n"
     ]
    }
   ],
   "source": [
    "# ищем пропуски\n",
    "display(df.isna().sum())\n",
    "\n",
    "#ищем дубликаты \n",
    "print('Количество дубликатов:', df.duplicated().sum())"
   ]
  },
  {
   "cell_type": "code",
   "execution_count": 8,
   "metadata": {},
   "outputs": [
    {
     "data": {
      "text/plain": [
       "0.17"
      ]
     },
     "execution_count": 8,
     "metadata": {},
     "output_type": "execute_result"
    }
   ],
   "source": [
    "# процент дубликтов от общего датасета\n",
    "round(df.duplicated().sum()/len(df)*100, 2)"
   ]
  },
  {
   "cell_type": "markdown",
   "metadata": {},
   "source": [
    "В датасете 413 дубликатов, так как они составляют всего 0,17% от данных, мы можем их удалить."
   ]
  },
  {
   "cell_type": "code",
   "execution_count": 9,
   "metadata": {},
   "outputs": [],
   "source": [
    "# удаляем дубликаты \n",
    "df = df.drop_duplicates()"
   ]
  },
  {
   "cell_type": "code",
   "execution_count": 10,
   "metadata": {},
   "outputs": [],
   "source": [
    "# добавляем столбец даты и времени, а также отдельный столбец дат\n",
    "df['datetime'] = pd.to_datetime(df['event_timestamp'], unit='s')\n",
    "df['date'] = df['datetime'].dt.date\n",
    "df['date']=pd.to_datetime(df['date'])"
   ]
  },
  {
   "cell_type": "code",
   "execution_count": 11,
   "metadata": {
    "scrolled": true
   },
   "outputs": [
    {
     "data": {
      "text/html": [
       "<div>\n",
       "<style scoped>\n",
       "    .dataframe tbody tr th:only-of-type {\n",
       "        vertical-align: middle;\n",
       "    }\n",
       "\n",
       "    .dataframe tbody tr th {\n",
       "        vertical-align: top;\n",
       "    }\n",
       "\n",
       "    .dataframe thead th {\n",
       "        text-align: right;\n",
       "    }\n",
       "</style>\n",
       "<table border=\"1\" class=\"dataframe\">\n",
       "  <thead>\n",
       "    <tr style=\"text-align: right;\">\n",
       "      <th></th>\n",
       "      <th>event_name</th>\n",
       "      <th>device_id</th>\n",
       "      <th>event_timestamp</th>\n",
       "      <th>group</th>\n",
       "      <th>datetime</th>\n",
       "      <th>date</th>\n",
       "    </tr>\n",
       "  </thead>\n",
       "  <tbody>\n",
       "    <tr>\n",
       "      <th>0</th>\n",
       "      <td>MainScreenAppear</td>\n",
       "      <td>4575588528974610257</td>\n",
       "      <td>1564029816</td>\n",
       "      <td>246</td>\n",
       "      <td>2019-07-25 04:43:36</td>\n",
       "      <td>2019-07-25</td>\n",
       "    </tr>\n",
       "    <tr>\n",
       "      <th>1</th>\n",
       "      <td>MainScreenAppear</td>\n",
       "      <td>7416695313311560658</td>\n",
       "      <td>1564053102</td>\n",
       "      <td>246</td>\n",
       "      <td>2019-07-25 11:11:42</td>\n",
       "      <td>2019-07-25</td>\n",
       "    </tr>\n",
       "    <tr>\n",
       "      <th>2</th>\n",
       "      <td>PaymentScreenSuccessful</td>\n",
       "      <td>3518123091307005509</td>\n",
       "      <td>1564054127</td>\n",
       "      <td>248</td>\n",
       "      <td>2019-07-25 11:28:47</td>\n",
       "      <td>2019-07-25</td>\n",
       "    </tr>\n",
       "    <tr>\n",
       "      <th>3</th>\n",
       "      <td>CartScreenAppear</td>\n",
       "      <td>3518123091307005509</td>\n",
       "      <td>1564054127</td>\n",
       "      <td>248</td>\n",
       "      <td>2019-07-25 11:28:47</td>\n",
       "      <td>2019-07-25</td>\n",
       "    </tr>\n",
       "    <tr>\n",
       "      <th>4</th>\n",
       "      <td>PaymentScreenSuccessful</td>\n",
       "      <td>6217807653094995999</td>\n",
       "      <td>1564055322</td>\n",
       "      <td>248</td>\n",
       "      <td>2019-07-25 11:48:42</td>\n",
       "      <td>2019-07-25</td>\n",
       "    </tr>\n",
       "  </tbody>\n",
       "</table>\n",
       "</div>"
      ],
      "text/plain": [
       "                event_name            device_id  event_timestamp  group  \\\n",
       "0         MainScreenAppear  4575588528974610257       1564029816    246   \n",
       "1         MainScreenAppear  7416695313311560658       1564053102    246   \n",
       "2  PaymentScreenSuccessful  3518123091307005509       1564054127    248   \n",
       "3         CartScreenAppear  3518123091307005509       1564054127    248   \n",
       "4  PaymentScreenSuccessful  6217807653094995999       1564055322    248   \n",
       "\n",
       "             datetime       date  \n",
       "0 2019-07-25 04:43:36 2019-07-25  \n",
       "1 2019-07-25 11:11:42 2019-07-25  \n",
       "2 2019-07-25 11:28:47 2019-07-25  \n",
       "3 2019-07-25 11:28:47 2019-07-25  \n",
       "4 2019-07-25 11:48:42 2019-07-25  "
      ]
     },
     "execution_count": 11,
     "metadata": {},
     "output_type": "execute_result"
    }
   ],
   "source": [
    "df.head()"
   ]
  },
  {
   "cell_type": "markdown",
   "metadata": {},
   "source": [
    "## Изучение данных"
   ]
  },
  {
   "cell_type": "code",
   "execution_count": 12,
   "metadata": {
    "scrolled": true
   },
   "outputs": [
    {
     "name": "stdout",
     "output_type": "stream",
     "text": [
      "Количество событий: 243713\n",
      "Количество уникальных событий: 5\n"
     ]
    }
   ],
   "source": [
    "# Сколько всего событий в логе\n",
    "print('Количество событий:', len(df))\n",
    "print('Количество уникальных событий:', df['event_name'].nunique())"
   ]
  },
  {
   "cell_type": "code",
   "execution_count": 13,
   "metadata": {},
   "outputs": [
    {
     "data": {
      "text/html": [
       "<div>\n",
       "<style scoped>\n",
       "    .dataframe tbody tr th:only-of-type {\n",
       "        vertical-align: middle;\n",
       "    }\n",
       "\n",
       "    .dataframe tbody tr th {\n",
       "        vertical-align: top;\n",
       "    }\n",
       "\n",
       "    .dataframe thead th {\n",
       "        text-align: right;\n",
       "    }\n",
       "</style>\n",
       "<table border=\"1\" class=\"dataframe\">\n",
       "  <thead>\n",
       "    <tr style=\"text-align: right;\">\n",
       "      <th></th>\n",
       "      <th>events_amount</th>\n",
       "    </tr>\n",
       "    <tr>\n",
       "      <th>event_name</th>\n",
       "      <th></th>\n",
       "    </tr>\n",
       "  </thead>\n",
       "  <tbody>\n",
       "    <tr>\n",
       "      <th>MainScreenAppear</th>\n",
       "      <td>119101</td>\n",
       "    </tr>\n",
       "    <tr>\n",
       "      <th>OffersScreenAppear</th>\n",
       "      <td>46808</td>\n",
       "    </tr>\n",
       "    <tr>\n",
       "      <th>CartScreenAppear</th>\n",
       "      <td>42668</td>\n",
       "    </tr>\n",
       "    <tr>\n",
       "      <th>PaymentScreenSuccessful</th>\n",
       "      <td>34118</td>\n",
       "    </tr>\n",
       "    <tr>\n",
       "      <th>Tutorial</th>\n",
       "      <td>1018</td>\n",
       "    </tr>\n",
       "  </tbody>\n",
       "</table>\n",
       "</div>"
      ],
      "text/plain": [
       "                         events_amount\n",
       "event_name                            \n",
       "MainScreenAppear                119101\n",
       "OffersScreenAppear               46808\n",
       "CartScreenAppear                 42668\n",
       "PaymentScreenSuccessful          34118\n",
       "Tutorial                          1018"
      ]
     },
     "metadata": {},
     "output_type": "display_data"
    }
   ],
   "source": [
    "# какие события происходят чаще\n",
    "events = df.groupby('event_name').agg({'device_id':'count'}).sort_values(by='device_id', ascending=False)\n",
    "events.columns=['events_amount']\n",
    "display(events)"
   ]
  },
  {
   "cell_type": "code",
   "execution_count": 14,
   "metadata": {},
   "outputs": [
    {
     "data": {
      "image/png": "[encoded data removed]",
      "text/plain": [
       "<Figure size 1300x900 with 1 Axes>"
      ]
     },
     "metadata": {},
     "output_type": "display_data"
    }
   ],
   "source": [
    "# визуализируем количество событий \n",
    "plt.rcParams['figure.figsize'] = [13, 9] #корректируем размер графика\n",
    "events.plot(kind='bar', color='#8dd0f7')\n",
    "plt.legend('')\n",
    "plt.title('Количество событий')\n",
    "plt.xlabel('События')\n",
    "plt.ylabel('Количество')\n",
    "plt.xticks(rotation=0);"
   ]
  },
  {
   "cell_type": "markdown",
   "metadata": {},
   "source": [
    "Самое популярное событие - просмотр главной страницы. А вот туториалы оказались непопулярными - их посмотрели чуть больше тысячи раз."
   ]
  },
  {
   "cell_type": "code",
   "execution_count": 15,
   "metadata": {
    "scrolled": true
   },
   "outputs": [
    {
     "name": "stdout",
     "output_type": "stream",
     "text": [
      "Количество уникальных пользователей: 7551\n",
      "Количество пользователей по группам\n"
     ]
    },
    {
     "data": {
      "text/plain": [
       "group\n",
       "246    2489\n",
       "247    2520\n",
       "248    2542\n",
       "Name: device_id, dtype: int64"
      ]
     },
     "metadata": {},
     "output_type": "display_data"
    }
   ],
   "source": [
    "#Сколько всего пользователей в логе\n",
    "print('Количество уникальных пользователей:', df['device_id'].nunique())\n",
    "\n",
    "#Сколько пользователей в каждой группе\n",
    "print('Количество пользователей по группам')\n",
    "user_groups=df.groupby('group')['device_id'].nunique()\n",
    "display(user_groups)"
   ]
  },
  {
   "cell_type": "code",
   "execution_count": 16,
   "metadata": {},
   "outputs": [
    {
     "data": {
      "image/png": "[encoded data removed]",
      "text/plain": [
       "<Figure size 1300x900 with 1 Axes>"
      ]
     },
     "metadata": {},
     "output_type": "display_data"
    }
   ],
   "source": [
    "# визуализируем количество пользователей по группам \n",
    "plt.rcParams['figure.figsize'] = [13, 9] #корректируем размер графика\n",
    "user_groups.plot(kind='bar', color='#FFC889', ylim=([2450, 2575]), grid=True) # заодно задаем диапазон оси y\n",
    "plt.legend('')\n",
    "plt.title('Количество пользователей')\n",
    "plt.xlabel('Группы')\n",
    "plt.ylabel('Количество')\n",
    "plt.xticks(rotation=0)\n",
    "plt.yticks(user_groups); # делаем подписи по точному количеству пользователей"
   ]
  },
  {
   "cell_type": "markdown",
   "metadata": {},
   "source": [
    "В 248 (экспериментальной) группе больше всего пользователей, в контрольных 246 и 247 - меньше."
   ]
  },
  {
   "cell_type": "code",
   "execution_count": 17,
   "metadata": {},
   "outputs": [
    {
     "name": "stdout",
     "output_type": "stream",
     "text": [
      "Среднее количество событий на пользователя: 32\n"
     ]
    }
   ],
   "source": [
    "#Сколько в среднем событий приходится на пользователя\n",
    "events_per_user = df.pivot_table(index='device_id',values='event_name',aggfunc='count')['event_name'].mean()\n",
    "print('Среднее количество событий на пользователя:', round(events_per_user))"
   ]
  },
  {
   "cell_type": "code",
   "execution_count": 18,
   "metadata": {},
   "outputs": [
    {
     "name": "stdout",
     "output_type": "stream",
     "text": [
      "Минимальная дата: 2019-07-25 00:00:00\n",
      "Максимальная дата 2019-08-07 00:00:00\n"
     ]
    }
   ],
   "source": [
    "# период данных\n",
    "print('Минимальная дата:', df['date'].min())\n",
    "print('Максимальная дата', df['date'].max())"
   ]
  },
  {
   "cell_type": "code",
   "execution_count": 19,
   "metadata": {},
   "outputs": [
    {
     "data": {
      "image/png": "[encoded data removed]",
      "text/plain": [
       "<Figure size 1700x900 with 1 Axes>"
      ]
     },
     "metadata": {},
     "output_type": "display_data"
    }
   ],
   "source": [
    "from matplotlib.dates import HourLocator, DayLocator, DateFormatter\n",
    "\n",
    "# гистограмма дат\n",
    "plt.rcParams['figure.figsize'] = [17,9]\n",
    "df['date'].hist(bins=50, grid=False, color='#8e70ab')\n",
    "plt.legend('')\n",
    "plt.title('События по дням')\n",
    "plt.xlabel('Дата')\n",
    "plt.ylabel('Количество событий')\n",
    "plt.xticks(rotation=0)\n",
    "days = DayLocator(interval=1) # указываем интервал (1 день) для засечек на оси х\n",
    "plt.gca().xaxis.set_major_locator(days) # применяем интервал"
   ]
  },
  {
   "cell_type": "markdown",
   "metadata": {},
   "source": [
    "На графике мы четко видим, что за период с 25 июля по 31 июля 2019 у нас слишком мало данных, так как в логи новых дней по некоторым пользователям попали события из прошлого. Для анализа мы возьмем данные начиная с 1 августа 2019."
   ]
  },
  {
   "cell_type": "code",
   "execution_count": 20,
   "metadata": {},
   "outputs": [
    {
     "data": {
      "text/html": [
       "<div>\n",
       "<style scoped>\n",
       "    .dataframe tbody tr th:only-of-type {\n",
       "        vertical-align: middle;\n",
       "    }\n",
       "\n",
       "    .dataframe tbody tr th {\n",
       "        vertical-align: top;\n",
       "    }\n",
       "\n",
       "    .dataframe thead th {\n",
       "        text-align: right;\n",
       "    }\n",
       "</style>\n",
       "<table border=\"1\" class=\"dataframe\">\n",
       "  <thead>\n",
       "    <tr style=\"text-align: right;\">\n",
       "      <th></th>\n",
       "      <th>event_name</th>\n",
       "      <th>device_id</th>\n",
       "      <th>event_timestamp</th>\n",
       "      <th>group</th>\n",
       "      <th>datetime</th>\n",
       "      <th>date</th>\n",
       "    </tr>\n",
       "  </thead>\n",
       "  <tbody>\n",
       "    <tr>\n",
       "      <th>2828</th>\n",
       "      <td>Tutorial</td>\n",
       "      <td>3737462046622621720</td>\n",
       "      <td>1564618048</td>\n",
       "      <td>246</td>\n",
       "      <td>2019-08-01 00:07:28</td>\n",
       "      <td>2019-08-01</td>\n",
       "    </tr>\n",
       "    <tr>\n",
       "      <th>2829</th>\n",
       "      <td>MainScreenAppear</td>\n",
       "      <td>3737462046622621720</td>\n",
       "      <td>1564618080</td>\n",
       "      <td>246</td>\n",
       "      <td>2019-08-01 00:08:00</td>\n",
       "      <td>2019-08-01</td>\n",
       "    </tr>\n",
       "    <tr>\n",
       "      <th>2830</th>\n",
       "      <td>MainScreenAppear</td>\n",
       "      <td>3737462046622621720</td>\n",
       "      <td>1564618135</td>\n",
       "      <td>246</td>\n",
       "      <td>2019-08-01 00:08:55</td>\n",
       "      <td>2019-08-01</td>\n",
       "    </tr>\n",
       "    <tr>\n",
       "      <th>2831</th>\n",
       "      <td>OffersScreenAppear</td>\n",
       "      <td>3737462046622621720</td>\n",
       "      <td>1564618138</td>\n",
       "      <td>246</td>\n",
       "      <td>2019-08-01 00:08:58</td>\n",
       "      <td>2019-08-01</td>\n",
       "    </tr>\n",
       "    <tr>\n",
       "      <th>2832</th>\n",
       "      <td>MainScreenAppear</td>\n",
       "      <td>1433840883824088890</td>\n",
       "      <td>1564618139</td>\n",
       "      <td>247</td>\n",
       "      <td>2019-08-01 00:08:59</td>\n",
       "      <td>2019-08-01</td>\n",
       "    </tr>\n",
       "  </tbody>\n",
       "</table>\n",
       "</div>"
      ],
      "text/plain": [
       "              event_name            device_id  event_timestamp  group  \\\n",
       "2828            Tutorial  3737462046622621720       1564618048    246   \n",
       "2829    MainScreenAppear  3737462046622621720       1564618080    246   \n",
       "2830    MainScreenAppear  3737462046622621720       1564618135    246   \n",
       "2831  OffersScreenAppear  3737462046622621720       1564618138    246   \n",
       "2832    MainScreenAppear  1433840883824088890       1564618139    247   \n",
       "\n",
       "                datetime       date  \n",
       "2828 2019-08-01 00:07:28 2019-08-01  \n",
       "2829 2019-08-01 00:08:00 2019-08-01  \n",
       "2830 2019-08-01 00:08:55 2019-08-01  \n",
       "2831 2019-08-01 00:08:58 2019-08-01  \n",
       "2832 2019-08-01 00:08:59 2019-08-01  "
      ]
     },
     "execution_count": 20,
     "metadata": {},
     "output_type": "execute_result"
    }
   ],
   "source": [
    "# делаем срез\n",
    "filtered_data = df.query('date > \"2019-07-31\"')\n",
    "filtered_data.head()"
   ]
  },
  {
   "cell_type": "code",
   "execution_count": 21,
   "metadata": {},
   "outputs": [
    {
     "data": {
      "text/plain": [
       "Timedelta('6 days 00:00:00')"
      ]
     },
     "execution_count": 21,
     "metadata": {},
     "output_type": "execute_result"
    }
   ],
   "source": [
    "# сколько дней в отфильтрованных данных\n",
    "filtered_data['date'].max()-filtered_data['date'].min()"
   ]
  },
  {
   "cell_type": "code",
   "execution_count": 22,
   "metadata": {},
   "outputs": [
    {
     "name": "stdout",
     "output_type": "stream",
     "text": [
      "Количество событий до фильтрации: 243713\n",
      "Количество событий после фильтрации: 240887\n",
      "Процент событий потерян: 1.16\n"
     ]
    }
   ],
   "source": [
    "# сколько потеряли событий и пользователей \n",
    "\n",
    "# сколько событий осталось после фильтрации\n",
    "print('Количество событий до фильтрации:', len(df))\n",
    "print('Количество событий после фильтрации:', len(filtered_data))\n",
    "print('Процент событий потерян:', round((len(df)-len(filtered_data))/len(df)*100, 2))"
   ]
  },
  {
   "cell_type": "code",
   "execution_count": 23,
   "metadata": {},
   "outputs": [
    {
     "name": "stdout",
     "output_type": "stream",
     "text": [
      "Количество уникальных пользователей до фильтрации: 7551\n",
      "Количество уникальных пользователей после фильтрации: 7534\n",
      "Процент пользователей потерян: 0.23\n"
     ]
    }
   ],
   "source": [
    "#Сколько пользователей осталось после фильтрации\n",
    "print('Количество уникальных пользователей до фильтрации:', df['device_id'].nunique())\n",
    "print('Количество уникальных пользователей после фильтрации:', filtered_data['device_id'].nunique())\n",
    "print('Процент пользователей потерян:', round((df['device_id'].nunique()-filtered_data['device_id'].nunique())/df['device_id'].nunique()*100, 2))"
   ]
  },
  {
   "cell_type": "code",
   "execution_count": 24,
   "metadata": {},
   "outputs": [
    {
     "name": "stdout",
     "output_type": "stream",
     "text": [
      "Количество пользователей по группам после фильтрации\n"
     ]
    },
    {
     "data": {
      "text/plain": [
       "group\n",
       "246    2484\n",
       "247    2513\n",
       "248    2537\n",
       "Name: device_id, dtype: int64"
      ]
     },
     "metadata": {},
     "output_type": "display_data"
    }
   ],
   "source": [
    "#Сколько пользователей в каждой группе\n",
    "print('Количество пользователей по группам после фильтрации')\n",
    "user_groups_filtered=filtered_data.groupby('group')['device_id'].nunique()\n",
    "display(user_groups_filtered)"
   ]
  },
  {
   "cell_type": "code",
   "execution_count": 25,
   "metadata": {},
   "outputs": [
    {
     "data": {
      "text/plain": [
       "group\n",
       "246    5\n",
       "247    7\n",
       "248    5\n",
       "Name: device_id, dtype: int64"
      ]
     },
     "execution_count": 25,
     "metadata": {},
     "output_type": "execute_result"
    }
   ],
   "source": [
    "# пользователей потеряно по группам\n",
    "user_groups - user_groups_filtered"
   ]
  },
  {
   "cell_type": "markdown",
   "metadata": {},
   "source": [
    "После фильтрации мы потеряли 1,16% событий и всего 0,23% пользователей. Это совсем незначительное количество."
   ]
  },
  {
   "cell_type": "markdown",
   "metadata": {},
   "source": [
    "## Воронка событий"
   ]
  },
  {
   "cell_type": "markdown",
   "metadata": {},
   "source": [
    "Ранее мы увидели, какие события встречаются чаще: просмотр главной страницы - самое частое событие с большим отрывом. Далее следуют просмотр страницы с предложениями, корзина и страница оплаты. Очень редко пользователи смотрят туториалы."
   ]
  },
  {
   "cell_type": "code",
   "execution_count": 26,
   "metadata": {},
   "outputs": [
    {
     "data": {
      "text/html": [
       "<div>\n",
       "<style scoped>\n",
       "    .dataframe tbody tr th:only-of-type {\n",
       "        vertical-align: middle;\n",
       "    }\n",
       "\n",
       "    .dataframe tbody tr th {\n",
       "        vertical-align: top;\n",
       "    }\n",
       "\n",
       "    .dataframe thead th {\n",
       "        text-align: right;\n",
       "    }\n",
       "</style>\n",
       "<table border=\"1\" class=\"dataframe\">\n",
       "  <thead>\n",
       "    <tr style=\"text-align: right;\">\n",
       "      <th></th>\n",
       "      <th>events_amount</th>\n",
       "    </tr>\n",
       "    <tr>\n",
       "      <th>event_name</th>\n",
       "      <th></th>\n",
       "    </tr>\n",
       "  </thead>\n",
       "  <tbody>\n",
       "    <tr>\n",
       "      <th>MainScreenAppear</th>\n",
       "      <td>119101</td>\n",
       "    </tr>\n",
       "    <tr>\n",
       "      <th>OffersScreenAppear</th>\n",
       "      <td>46808</td>\n",
       "    </tr>\n",
       "    <tr>\n",
       "      <th>CartScreenAppear</th>\n",
       "      <td>42668</td>\n",
       "    </tr>\n",
       "    <tr>\n",
       "      <th>PaymentScreenSuccessful</th>\n",
       "      <td>34118</td>\n",
       "    </tr>\n",
       "    <tr>\n",
       "      <th>Tutorial</th>\n",
       "      <td>1018</td>\n",
       "    </tr>\n",
       "  </tbody>\n",
       "</table>\n",
       "</div>"
      ],
      "text/plain": [
       "                         events_amount\n",
       "event_name                            \n",
       "MainScreenAppear                119101\n",
       "OffersScreenAppear               46808\n",
       "CartScreenAppear                 42668\n",
       "PaymentScreenSuccessful          34118\n",
       "Tutorial                          1018"
      ]
     },
     "metadata": {},
     "output_type": "display_data"
    }
   ],
   "source": [
    "events_frequency=filtered_data.groupby('event_name').agg({'device_id':'count'}).sort_values(by='device_id', ascending=False)\n",
    "events_frequency.columns=['events_amount']\n",
    "display(events)"
   ]
  },
  {
   "cell_type": "code",
   "execution_count": 27,
   "metadata": {},
   "outputs": [
    {
     "data": {
      "image/png": "[encoded data removed]",
      "text/plain": [
       "<Figure size 1300x900 with 1 Axes>"
      ]
     },
     "metadata": {},
     "output_type": "display_data"
    }
   ],
   "source": [
    "# частота событий\n",
    "plt.rcParams['figure.figsize'] = [13, 9] #корректируем размер графика\n",
    "events_frequency.plot(kind='pie', subplots=True,  wedgeprops=dict(width=0.5), autopct='%1.1f%%', colors = ['#FBC8A1', '#E69BBA', '#AB8CFA', '#74C4E3', '#C4FFD1'])\n",
    "plt.legend('')\n",
    "plt.title('Частота событий')\n",
    "plt.xlabel('')\n",
    "plt.ylabel('')\n",
    "plt.legend(bbox_to_anchor=(1.02, 0.1), loc='upper left', borderaxespad=0); #выносим легенду за пределы графика"
   ]
  },
  {
   "cell_type": "markdown",
   "metadata": {},
   "source": [
    "Посмотрим, сколько пользователей совершали каждое из этих событий."
   ]
  },
  {
   "cell_type": "code",
   "execution_count": 28,
   "metadata": {},
   "outputs": [
    {
     "data": {
      "text/html": [
       "<div>\n",
       "<style scoped>\n",
       "    .dataframe tbody tr th:only-of-type {\n",
       "        vertical-align: middle;\n",
       "    }\n",
       "\n",
       "    .dataframe tbody tr th {\n",
       "        vertical-align: top;\n",
       "    }\n",
       "\n",
       "    .dataframe thead th {\n",
       "        text-align: right;\n",
       "    }\n",
       "</style>\n",
       "<table border=\"1\" class=\"dataframe\">\n",
       "  <thead>\n",
       "    <tr style=\"text-align: right;\">\n",
       "      <th></th>\n",
       "      <th>users_amount</th>\n",
       "    </tr>\n",
       "    <tr>\n",
       "      <th>event_name</th>\n",
       "      <th></th>\n",
       "    </tr>\n",
       "  </thead>\n",
       "  <tbody>\n",
       "    <tr>\n",
       "      <th>MainScreenAppear</th>\n",
       "      <td>7419</td>\n",
       "    </tr>\n",
       "    <tr>\n",
       "      <th>OffersScreenAppear</th>\n",
       "      <td>4593</td>\n",
       "    </tr>\n",
       "    <tr>\n",
       "      <th>CartScreenAppear</th>\n",
       "      <td>3734</td>\n",
       "    </tr>\n",
       "    <tr>\n",
       "      <th>PaymentScreenSuccessful</th>\n",
       "      <td>3539</td>\n",
       "    </tr>\n",
       "    <tr>\n",
       "      <th>Tutorial</th>\n",
       "      <td>840</td>\n",
       "    </tr>\n",
       "  </tbody>\n",
       "</table>\n",
       "</div>"
      ],
      "text/plain": [
       "                         users_amount\n",
       "event_name                           \n",
       "MainScreenAppear                 7419\n",
       "OffersScreenAppear               4593\n",
       "CartScreenAppear                 3734\n",
       "PaymentScreenSuccessful          3539\n",
       "Tutorial                          840"
      ]
     },
     "metadata": {},
     "output_type": "display_data"
    }
   ],
   "source": [
    "users_per_event=filtered_data.groupby('event_name').agg({'device_id':'nunique'}).sort_values(by='device_id', ascending=False)\n",
    "users_per_event.columns=['users_amount']\n",
    "display(users_per_event)"
   ]
  },
  {
   "cell_type": "code",
   "execution_count": 29,
   "metadata": {},
   "outputs": [],
   "source": [
    "# сколько всего пользователей совершали события\n",
    "users_total=len(filtered_data['device_id'].unique())\n",
    "# добавляем столбец с процентом пользователей, совершивших событие\n",
    "users_per_event['users_share']=round(users_per_event['users_amount']/users_total*100, 2)"
   ]
  },
  {
   "cell_type": "code",
   "execution_count": 30,
   "metadata": {
    "scrolled": true
   },
   "outputs": [
    {
     "data": {
      "text/html": [
       "<div>\n",
       "<style scoped>\n",
       "    .dataframe tbody tr th:only-of-type {\n",
       "        vertical-align: middle;\n",
       "    }\n",
       "\n",
       "    .dataframe tbody tr th {\n",
       "        vertical-align: top;\n",
       "    }\n",
       "\n",
       "    .dataframe thead th {\n",
       "        text-align: right;\n",
       "    }\n",
       "</style>\n",
       "<table border=\"1\" class=\"dataframe\">\n",
       "  <thead>\n",
       "    <tr style=\"text-align: right;\">\n",
       "      <th></th>\n",
       "      <th>users_amount</th>\n",
       "      <th>users_share</th>\n",
       "    </tr>\n",
       "    <tr>\n",
       "      <th>event_name</th>\n",
       "      <th></th>\n",
       "      <th></th>\n",
       "    </tr>\n",
       "  </thead>\n",
       "  <tbody>\n",
       "    <tr>\n",
       "      <th>MainScreenAppear</th>\n",
       "      <td>7419</td>\n",
       "      <td>98.47</td>\n",
       "    </tr>\n",
       "    <tr>\n",
       "      <th>OffersScreenAppear</th>\n",
       "      <td>4593</td>\n",
       "      <td>60.96</td>\n",
       "    </tr>\n",
       "    <tr>\n",
       "      <th>CartScreenAppear</th>\n",
       "      <td>3734</td>\n",
       "      <td>49.56</td>\n",
       "    </tr>\n",
       "    <tr>\n",
       "      <th>PaymentScreenSuccessful</th>\n",
       "      <td>3539</td>\n",
       "      <td>46.97</td>\n",
       "    </tr>\n",
       "    <tr>\n",
       "      <th>Tutorial</th>\n",
       "      <td>840</td>\n",
       "      <td>11.15</td>\n",
       "    </tr>\n",
       "  </tbody>\n",
       "</table>\n",
       "</div>"
      ],
      "text/plain": [
       "                         users_amount  users_share\n",
       "event_name                                        \n",
       "MainScreenAppear                 7419        98.47\n",
       "OffersScreenAppear               4593        60.96\n",
       "CartScreenAppear                 3734        49.56\n",
       "PaymentScreenSuccessful          3539        46.97\n",
       "Tutorial                          840        11.15"
      ]
     },
     "execution_count": 30,
     "metadata": {},
     "output_type": "execute_result"
    }
   ],
   "source": [
    "users_per_event"
   ]
  },
  {
   "cell_type": "code",
   "execution_count": 31,
   "metadata": {},
   "outputs": [
    {
     "data": {
      "image/png": "[encoded data removed]",
      "text/plain": [
       "<Figure size 1300x900 with 1 Axes>"
      ]
     },
     "metadata": {},
     "output_type": "display_data"
    }
   ],
   "source": [
    "# визуализируем\n",
    "plt.rcParams['figure.figsize'] = [13, 9]\n",
    "splot=users_per_event['users_share'].sort_values(ascending=False).plot(kind='bar', color='#C2BAFA')\n",
    "\n",
    "\n",
    "#добавляем подписи(проценты) на столбцах\n",
    "for p in splot.patches:\n",
    "    splot.annotate(format(p.get_height(), '.1f'), \n",
    "                   (p.get_x() + p.get_width() / 2., p.get_height()), \n",
    "                   ha = 'center', va = 'center', \n",
    "                   xytext = (0, 9), \n",
    "                   textcoords = 'offset points')\n",
    "    \n",
    "plt.title('Процент пользователей, совершивших событие')\n",
    "plt.xlabel('Событие')\n",
    "plt.ylabel('Доля пользователей')\n",
    "plt.xticks(rotation=0);"
   ]
  },
  {
   "cell_type": "markdown",
   "metadata": {},
   "source": [
    "Главный экран видят 98,5% пользователей. Возможно, у оставшихся 1,5% возникает ошибка в приложении, и они не могут его запустить. Воронка событий выглядит так: главный экран > страница с предложениями > корзина > оплата покупки. В воронку не входит страница с туториалами, для покупки она не обязательна. Далее мы посмотрим, какая доля пользователей проходит на каждый следующий шаг воронки."
   ]
  },
  {
   "cell_type": "code",
   "execution_count": 32,
   "metadata": {},
   "outputs": [],
   "source": [
    "users_per_event=users_per_event.reset_index()\n",
    "\n",
    "# копируем таблицу и удаляем туториалы\n",
    "funnel = users_per_event\n",
    "funnel.drop([4], axis=0, inplace=True)"
   ]
  },
  {
   "cell_type": "code",
   "execution_count": 33,
   "metadata": {},
   "outputs": [
    {
     "data": {
      "text/html": [
       "<div>\n",
       "<style scoped>\n",
       "    .dataframe tbody tr th:only-of-type {\n",
       "        vertical-align: middle;\n",
       "    }\n",
       "\n",
       "    .dataframe tbody tr th {\n",
       "        vertical-align: top;\n",
       "    }\n",
       "\n",
       "    .dataframe thead th {\n",
       "        text-align: right;\n",
       "    }\n",
       "</style>\n",
       "<table border=\"1\" class=\"dataframe\">\n",
       "  <thead>\n",
       "    <tr style=\"text-align: right;\">\n",
       "      <th></th>\n",
       "      <th>event_name</th>\n",
       "      <th>users_amount</th>\n",
       "      <th>users_share</th>\n",
       "    </tr>\n",
       "  </thead>\n",
       "  <tbody>\n",
       "    <tr>\n",
       "      <th>0</th>\n",
       "      <td>MainScreenAppear</td>\n",
       "      <td>7419</td>\n",
       "      <td>98.47</td>\n",
       "    </tr>\n",
       "    <tr>\n",
       "      <th>1</th>\n",
       "      <td>OffersScreenAppear</td>\n",
       "      <td>4593</td>\n",
       "      <td>60.96</td>\n",
       "    </tr>\n",
       "    <tr>\n",
       "      <th>2</th>\n",
       "      <td>CartScreenAppear</td>\n",
       "      <td>3734</td>\n",
       "      <td>49.56</td>\n",
       "    </tr>\n",
       "    <tr>\n",
       "      <th>3</th>\n",
       "      <td>PaymentScreenSuccessful</td>\n",
       "      <td>3539</td>\n",
       "      <td>46.97</td>\n",
       "    </tr>\n",
       "  </tbody>\n",
       "</table>\n",
       "</div>"
      ],
      "text/plain": [
       "                event_name  users_amount  users_share\n",
       "0         MainScreenAppear          7419        98.47\n",
       "1       OffersScreenAppear          4593        60.96\n",
       "2         CartScreenAppear          3734        49.56\n",
       "3  PaymentScreenSuccessful          3539        46.97"
      ]
     },
     "execution_count": 33,
     "metadata": {},
     "output_type": "execute_result"
    }
   ],
   "source": [
    "funnel"
   ]
  },
  {
   "cell_type": "code",
   "execution_count": 34,
   "metadata": {},
   "outputs": [],
   "source": [
    "# считаем конверсию в шаг\n",
    "funnel['step_share'] = 100\n",
    "for i in range(1, 4):\n",
    "    funnel.loc[i, 'step_share'] = funnel.loc[i, 'users_amount'] / (funnel.loc[i-1, 'users_amount']) *100\n",
    "\n",
    "funnel['step_share']=round(funnel['step_share'], 2)"
   ]
  },
  {
   "cell_type": "code",
   "execution_count": 35,
   "metadata": {},
   "outputs": [
    {
     "data": {
      "text/html": [
       "<div>\n",
       "<style scoped>\n",
       "    .dataframe tbody tr th:only-of-type {\n",
       "        vertical-align: middle;\n",
       "    }\n",
       "\n",
       "    .dataframe tbody tr th {\n",
       "        vertical-align: top;\n",
       "    }\n",
       "\n",
       "    .dataframe thead th {\n",
       "        text-align: right;\n",
       "    }\n",
       "</style>\n",
       "<table border=\"1\" class=\"dataframe\">\n",
       "  <thead>\n",
       "    <tr style=\"text-align: right;\">\n",
       "      <th></th>\n",
       "      <th>event_name</th>\n",
       "      <th>users_amount</th>\n",
       "      <th>users_share</th>\n",
       "      <th>step_share</th>\n",
       "    </tr>\n",
       "  </thead>\n",
       "  <tbody>\n",
       "    <tr>\n",
       "      <th>0</th>\n",
       "      <td>MainScreenAppear</td>\n",
       "      <td>7419</td>\n",
       "      <td>98.47</td>\n",
       "      <td>100.00</td>\n",
       "    </tr>\n",
       "    <tr>\n",
       "      <th>1</th>\n",
       "      <td>OffersScreenAppear</td>\n",
       "      <td>4593</td>\n",
       "      <td>60.96</td>\n",
       "      <td>61.91</td>\n",
       "    </tr>\n",
       "    <tr>\n",
       "      <th>2</th>\n",
       "      <td>CartScreenAppear</td>\n",
       "      <td>3734</td>\n",
       "      <td>49.56</td>\n",
       "      <td>81.30</td>\n",
       "    </tr>\n",
       "    <tr>\n",
       "      <th>3</th>\n",
       "      <td>PaymentScreenSuccessful</td>\n",
       "      <td>3539</td>\n",
       "      <td>46.97</td>\n",
       "      <td>94.78</td>\n",
       "    </tr>\n",
       "  </tbody>\n",
       "</table>\n",
       "</div>"
      ],
      "text/plain": [
       "                event_name  users_amount  users_share  step_share\n",
       "0         MainScreenAppear          7419        98.47      100.00\n",
       "1       OffersScreenAppear          4593        60.96       61.91\n",
       "2         CartScreenAppear          3734        49.56       81.30\n",
       "3  PaymentScreenSuccessful          3539        46.97       94.78"
      ]
     },
     "execution_count": 35,
     "metadata": {},
     "output_type": "execute_result"
    }
   ],
   "source": [
    "funnel"
   ]
  },
  {
   "cell_type": "markdown",
   "metadata": {},
   "source": [
    "*users_amount* - количество пользователей, совершивших событие *event_name*  \n",
    "*users_share* - доля пользователей, совершивших событие на первом шаге  \n",
    "*step_share* -  доля пользователей к числу посетителей на предыдущем шаге  "
   ]
  },
  {
   "cell_type": "markdown",
   "metadata": {},
   "source": [
    "С главного экрана на страницу предложений переходят чуть меньше 62%. На этом шаге теряется больше всего пользователей. \n",
    "Из пользователей, побывавших на странице предложений, в корзину переходят 81%. Возможно, остальных покупателей не заинтересовал ассортимент товаров.  \n",
    "Оплату успешно завершают почти 95% добавивших товар в корзину. Мы можем предположить, что либо возникает проблема при оплате, либо пользователи не оформляют заказ, просто оставив товары в корзине. От первого события (т.е. просмотра главного экрана) до завершения оплаты доходят около 47% пользователей."
   ]
  },
  {
   "cell_type": "code",
   "execution_count": 52,
   "metadata": {},
   "outputs": [
    {
     "data": {
      "image/png": "[encoded data removed]"
     },
     "metadata": {},
     "output_type": "display_data"
    }
   ],
   "source": [
    "fig = go.Figure(go.Funnel(\n",
    "    y = funnel['event_name'],\n",
    "    x = funnel['users_amount'],\n",
    "    textposition = \"inside\",\n",
    "    textinfo = \"value+percent initial\",\n",
    "    marker = {\"color\": ['#FCA660', '#E68A63', '#FC7860', '#F25D5C']}\n",
    "))\n",
    "fig.update_layout(title='Воронка событий', title_xref=\"paper\", title_x=0.5)\n",
    "fig.show(renderer='png')"
   ]
  },
  {
   "cell_type": "markdown",
   "metadata": {},
   "source": [
    "## Результаты A/A/B эксперимента"
   ]
  },
  {
   "cell_type": "code",
   "execution_count": 37,
   "metadata": {},
   "outputs": [
    {
     "data": {
      "text/plain": [
       "group\n",
       "246    2484\n",
       "247    2513\n",
       "248    2537\n",
       "Name: device_id, dtype: int64"
      ]
     },
     "metadata": {},
     "output_type": "display_data"
    }
   ],
   "source": [
    "# сколько пользователей в каждой экспериментальной группе\n",
    "users_by_group=filtered_data.groupby('group')['device_id'].nunique()\n",
    "display(users_by_group)"
   ]
  },
  {
   "cell_type": "code",
   "execution_count": 38,
   "metadata": {},
   "outputs": [
    {
     "data": {
      "text/html": [
       "<div>\n",
       "<style scoped>\n",
       "    .dataframe tbody tr th:only-of-type {\n",
       "        vertical-align: middle;\n",
       "    }\n",
       "\n",
       "    .dataframe tbody tr th {\n",
       "        vertical-align: top;\n",
       "    }\n",
       "\n",
       "    .dataframe thead th {\n",
       "        text-align: right;\n",
       "    }\n",
       "</style>\n",
       "<table border=\"1\" class=\"dataframe\">\n",
       "  <thead>\n",
       "    <tr style=\"text-align: right;\">\n",
       "      <th>group</th>\n",
       "      <th>246</th>\n",
       "      <th>247</th>\n",
       "      <th>248</th>\n",
       "    </tr>\n",
       "    <tr>\n",
       "      <th>event_name</th>\n",
       "      <th></th>\n",
       "      <th></th>\n",
       "      <th></th>\n",
       "    </tr>\n",
       "  </thead>\n",
       "  <tbody>\n",
       "    <tr>\n",
       "      <th>PaymentScreenSuccessful</th>\n",
       "      <td>1200</td>\n",
       "      <td>1158</td>\n",
       "      <td>1181</td>\n",
       "    </tr>\n",
       "    <tr>\n",
       "      <th>OffersScreenAppear</th>\n",
       "      <td>1542</td>\n",
       "      <td>1520</td>\n",
       "      <td>1531</td>\n",
       "    </tr>\n",
       "    <tr>\n",
       "      <th>MainScreenAppear</th>\n",
       "      <td>2450</td>\n",
       "      <td>2476</td>\n",
       "      <td>2493</td>\n",
       "    </tr>\n",
       "    <tr>\n",
       "      <th>CartScreenAppear</th>\n",
       "      <td>1266</td>\n",
       "      <td>1238</td>\n",
       "      <td>1230</td>\n",
       "    </tr>\n",
       "  </tbody>\n",
       "</table>\n",
       "</div>"
      ],
      "text/plain": [
       "group                     246   247   248\n",
       "event_name                               \n",
       "PaymentScreenSuccessful  1200  1158  1181\n",
       "OffersScreenAppear       1542  1520  1531\n",
       "MainScreenAppear         2450  2476  2493\n",
       "CartScreenAppear         1266  1238  1230"
      ]
     },
     "execution_count": 38,
     "metadata": {},
     "output_type": "execute_result"
    }
   ],
   "source": [
    "# количество пользователей, совершивших событие в воронке, по группам\n",
    "group_event=filtered_data.pivot_table(index='event_name', columns='group', values='device_id', aggfunc='nunique').sort_values(by='event_name', ascending=False)\n",
    "group_event=group_event.query('event_name != \"Tutorial\" ')\n",
    "group_event"
   ]
  },
  {
   "cell_type": "code",
   "execution_count": 39,
   "metadata": {},
   "outputs": [],
   "source": [
    "# проверяем, что каждый пользователь принадлежит только одной группе\n",
    "test=filtered_data.groupby('device_id').agg({'group':'nunique'}).query('group > 1')"
   ]
  },
  {
   "cell_type": "code",
   "execution_count": 40,
   "metadata": {},
   "outputs": [
    {
     "data": {
      "text/html": [
       "<div>\n",
       "<style scoped>\n",
       "    .dataframe tbody tr th:only-of-type {\n",
       "        vertical-align: middle;\n",
       "    }\n",
       "\n",
       "    .dataframe tbody tr th {\n",
       "        vertical-align: top;\n",
       "    }\n",
       "\n",
       "    .dataframe thead th {\n",
       "        text-align: right;\n",
       "    }\n",
       "</style>\n",
       "<table border=\"1\" class=\"dataframe\">\n",
       "  <thead>\n",
       "    <tr style=\"text-align: right;\">\n",
       "      <th></th>\n",
       "      <th>group</th>\n",
       "    </tr>\n",
       "    <tr>\n",
       "      <th>device_id</th>\n",
       "      <th></th>\n",
       "    </tr>\n",
       "  </thead>\n",
       "  <tbody>\n",
       "  </tbody>\n",
       "</table>\n",
       "</div>"
      ],
      "text/plain": [
       "Empty DataFrame\n",
       "Columns: [group]\n",
       "Index: []"
      ]
     },
     "execution_count": 40,
     "metadata": {},
     "output_type": "execute_result"
    }
   ],
   "source": [
    "test"
   ]
  },
  {
   "cell_type": "markdown",
   "metadata": {},
   "source": [
    "Выходит пустая таблица - значит, пользователей, состоящих больше чем в одной группе, нет."
   ]
  },
  {
   "cell_type": "code",
   "execution_count": 41,
   "metadata": {
    "scrolled": true
   },
   "outputs": [
    {
     "data": {
      "image/png": "[encoded data removed]",
      "text/plain": [
       "<Figure size 1300x900 with 1 Axes>"
      ]
     },
     "metadata": {},
     "output_type": "display_data"
    }
   ],
   "source": [
    "# визуализируем\n",
    "plt.rcParams['figure.figsize'] = [13, 9]\n",
    "group_event.plot(kind='bar', color=['#A8EBB8', '#F5E292', '#CDAEEB'])\n",
    "plt.legend()\n",
    "plt.title('Количество пользователей, совершивших события, по группам')\n",
    "plt.xlabel('События')\n",
    "plt.ylabel('Количество пользователей')\n",
    "plt.xticks(rotation=0);"
   ]
  },
  {
   "cell_type": "markdown",
   "metadata": {},
   "source": [
    "Каждое событие в воронке совершали разное количество пользователей из контрольных и эксперементальной групп. Проверим, есть ли разница между контрольными группами  246 и 247. Мы проверяем гипотезу о равенстве долей на каждом шаге воронки.  \n",
    "Нулевая гипотеза: группы равны.  \n",
    "Альтернативная гипотеза: между группами есть значимая разница."
   ]
  },
  {
   "cell_type": "code",
   "execution_count": 42,
   "metadata": {},
   "outputs": [
    {
     "data": {
      "text/html": [
       "<div>\n",
       "<style scoped>\n",
       "    .dataframe tbody tr th:only-of-type {\n",
       "        vertical-align: middle;\n",
       "    }\n",
       "\n",
       "    .dataframe tbody tr th {\n",
       "        vertical-align: top;\n",
       "    }\n",
       "\n",
       "    .dataframe thead th {\n",
       "        text-align: right;\n",
       "    }\n",
       "</style>\n",
       "<table border=\"1\" class=\"dataframe\">\n",
       "  <thead>\n",
       "    <tr style=\"text-align: right;\">\n",
       "      <th></th>\n",
       "      <th>event_name</th>\n",
       "      <th>group</th>\n",
       "      <th>total_users</th>\n",
       "    </tr>\n",
       "  </thead>\n",
       "  <tbody>\n",
       "    <tr>\n",
       "      <th>5</th>\n",
       "      <td>MainScreenAppear</td>\n",
       "      <td>248</td>\n",
       "      <td>2493</td>\n",
       "    </tr>\n",
       "    <tr>\n",
       "      <th>8</th>\n",
       "      <td>OffersScreenAppear</td>\n",
       "      <td>248</td>\n",
       "      <td>1531</td>\n",
       "    </tr>\n",
       "    <tr>\n",
       "      <th>2</th>\n",
       "      <td>CartScreenAppear</td>\n",
       "      <td>248</td>\n",
       "      <td>1230</td>\n",
       "    </tr>\n",
       "    <tr>\n",
       "      <th>11</th>\n",
       "      <td>PaymentScreenSuccessful</td>\n",
       "      <td>248</td>\n",
       "      <td>1181</td>\n",
       "    </tr>\n",
       "    <tr>\n",
       "      <th>4</th>\n",
       "      <td>MainScreenAppear</td>\n",
       "      <td>247</td>\n",
       "      <td>2476</td>\n",
       "    </tr>\n",
       "    <tr>\n",
       "      <th>7</th>\n",
       "      <td>OffersScreenAppear</td>\n",
       "      <td>247</td>\n",
       "      <td>1520</td>\n",
       "    </tr>\n",
       "    <tr>\n",
       "      <th>1</th>\n",
       "      <td>CartScreenAppear</td>\n",
       "      <td>247</td>\n",
       "      <td>1238</td>\n",
       "    </tr>\n",
       "    <tr>\n",
       "      <th>10</th>\n",
       "      <td>PaymentScreenSuccessful</td>\n",
       "      <td>247</td>\n",
       "      <td>1158</td>\n",
       "    </tr>\n",
       "    <tr>\n",
       "      <th>3</th>\n",
       "      <td>MainScreenAppear</td>\n",
       "      <td>246</td>\n",
       "      <td>2450</td>\n",
       "    </tr>\n",
       "    <tr>\n",
       "      <th>6</th>\n",
       "      <td>OffersScreenAppear</td>\n",
       "      <td>246</td>\n",
       "      <td>1542</td>\n",
       "    </tr>\n",
       "    <tr>\n",
       "      <th>0</th>\n",
       "      <td>CartScreenAppear</td>\n",
       "      <td>246</td>\n",
       "      <td>1266</td>\n",
       "    </tr>\n",
       "    <tr>\n",
       "      <th>9</th>\n",
       "      <td>PaymentScreenSuccessful</td>\n",
       "      <td>246</td>\n",
       "      <td>1200</td>\n",
       "    </tr>\n",
       "  </tbody>\n",
       "</table>\n",
       "</div>"
      ],
      "text/plain": [
       "                 event_name  group  total_users\n",
       "5          MainScreenAppear    248         2493\n",
       "8        OffersScreenAppear    248         1531\n",
       "2          CartScreenAppear    248         1230\n",
       "11  PaymentScreenSuccessful    248         1181\n",
       "4          MainScreenAppear    247         2476\n",
       "7        OffersScreenAppear    247         1520\n",
       "1          CartScreenAppear    247         1238\n",
       "10  PaymentScreenSuccessful    247         1158\n",
       "3          MainScreenAppear    246         2450\n",
       "6        OffersScreenAppear    246         1542\n",
       "0          CartScreenAppear    246         1266\n",
       "9   PaymentScreenSuccessful    246         1200"
      ]
     },
     "execution_count": 42,
     "metadata": {},
     "output_type": "execute_result"
    }
   ],
   "source": [
    "# таблица с группами, событиями, общим количеством пользователей\n",
    "funnel_group = (filtered_data.groupby(['event_name', 'group']).agg({'device_id': 'nunique'}).reset_index().\n",
    "          rename(columns={'device_id' : 'total_users'}).\n",
    "          sort_values(by=['group','total_users'], ascending=False))\n",
    "\n",
    "funnel_group = funnel_group[funnel_group['event_name'] != 'Tutorial']\n",
    "funnel_group"
   ]
  },
  {
   "cell_type": "code",
   "execution_count": 43,
   "metadata": {},
   "outputs": [],
   "source": [
    "# задаем функцию для проверки разницы между группами\n",
    "\n",
    "def z_test(df1, df2, event, alpha):\n",
    "    # число пользователей в группе 1 и группе 2:\n",
    "    n_users = np.array([df1['device_id'].nunique(), \n",
    "                        df2['device_id'].nunique()])\n",
    "\n",
    "    # число пользователей, совершивших событие в группе 1 и группе 2\n",
    "    successes = np.array([df1[df1['event_name'] == event]['device_id'].nunique(), \n",
    "                        df2[df2['event_name'] == event]['device_id'].nunique()])\n",
    "    trials=np.array([df1['device_id'].nunique(), \n",
    "                        df2['device_id'].nunique()])\n",
    "    # пропорция успехов в первой группе:\n",
    "    p1 = successes[0]/trials[0]\n",
    "    # пропорция успехов во второй группе:\n",
    "    p2 = successes[1]/trials[1]\n",
    "    # пропорция успехов в комбинированном датасете:\n",
    "    p_combined = (successes[0] + successes[1]) / (trials[0] + trials[1])\n",
    "    # разница пропорций в датасетах\n",
    "    difference = p1 - p2 \n",
    "    # считаем статистику в ст.отклонениях стандартного нормального распределения\n",
    "    z_value = difference /  np.sqrt(p_combined * (1 - p_combined) * (1/trials[0] + 1/trials[1]))\n",
    "    # задаем стандартное нормальное распределение (среднее 0, ст.отклонение 1)\n",
    "    distr = st.norm(0, 1)  \n",
    "    p_value = (1 - distr.cdf(abs(z_value))) * 2   #тест двусторонний, удваиваем результат\n",
    "    print('Событие:', event)\n",
    "    print('p_value: ', p_value)\n",
    "    if p_value < alpha:\n",
    "        print('Отвергаем нулевую гипотезу')\n",
    "    else:\n",
    "        print('Не получилось отвергнуть нулевую гипотезу')\n",
    "    "
   ]
  },
  {
   "cell_type": "code",
   "execution_count": 44,
   "metadata": {},
   "outputs": [
    {
     "name": "stdout",
     "output_type": "stream",
     "text": [
      "Событие: MainScreenAppear\n",
      "p_value:  0.7570597232046099\n",
      "Не получилось отвергнуть нулевую гипотезу\n",
      "\n",
      "Событие: OffersScreenAppear\n",
      "p_value:  0.2480954578522181\n",
      "Не получилось отвергнуть нулевую гипотезу\n",
      "\n",
      "Событие: CartScreenAppear\n",
      "p_value:  0.22883372237997213\n",
      "Не получилось отвергнуть нулевую гипотезу\n",
      "\n",
      "Событие: PaymentScreenSuccessful\n",
      "p_value:  0.11456679313141849\n",
      "Не получилось отвергнуть нулевую гипотезу\n",
      "\n"
     ]
    }
   ],
   "source": [
    "# применяем функцию\n",
    "for event in funnel_group['event_name'].unique():\n",
    "    z_test(filtered_data[filtered_data['group'] == 246], filtered_data[filtered_data['group'] == 247], event, 0.05)\n",
    "    print()"
   ]
  },
  {
   "cell_type": "markdown",
   "metadata": {},
   "source": [
    "По результатам теста между контрольными группами нет разницы. Далее мы проверим, есть ли разница между контрольными группами с группой с изменённым шрифтом."
   ]
  },
  {
   "cell_type": "code",
   "execution_count": 45,
   "metadata": {},
   "outputs": [
    {
     "name": "stdout",
     "output_type": "stream",
     "text": [
      "Событие: MainScreenAppear\n",
      "p_value:  0.2949721933554552\n",
      "Не получилось отвергнуть нулевую гипотезу\n",
      "\n",
      "Событие: OffersScreenAppear\n",
      "p_value:  0.20836205402738917\n",
      "Не получилось отвергнуть нулевую гипотезу\n",
      "\n",
      "Событие: CartScreenAppear\n",
      "p_value:  0.07842923237520116\n",
      "Не получилось отвергнуть нулевую гипотезу\n",
      "\n",
      "Событие: PaymentScreenSuccessful\n",
      "p_value:  0.2122553275697796\n",
      "Не получилось отвергнуть нулевую гипотезу\n",
      "\n"
     ]
    }
   ],
   "source": [
    "# сравниваем экспериментальную группу 248 с контрольной 246\n",
    "for event in funnel_group['event_name'].unique():\n",
    "    z_test(filtered_data[filtered_data['group'] == 246], filtered_data[filtered_data['group'] == 248], event, 0.05)\n",
    "    print()"
   ]
  },
  {
   "cell_type": "code",
   "execution_count": 46,
   "metadata": {},
   "outputs": [
    {
     "name": "stdout",
     "output_type": "stream",
     "text": [
      "Событие: MainScreenAppear\n",
      "p_value:  0.4587053616621515\n",
      "Не получилось отвергнуть нулевую гипотезу\n",
      "\n",
      "Событие: OffersScreenAppear\n",
      "p_value:  0.9197817830592261\n",
      "Не получилось отвергнуть нулевую гипотезу\n",
      "\n",
      "Событие: CartScreenAppear\n",
      "p_value:  0.5786197879539783\n",
      "Не получилось отвергнуть нулевую гипотезу\n",
      "\n",
      "Событие: PaymentScreenSuccessful\n",
      "p_value:  0.7373415053803964\n",
      "Не получилось отвергнуть нулевую гипотезу\n",
      "\n"
     ]
    }
   ],
   "source": [
    "# сравниваем экспериментальную группу 248 с контрольной 247\n",
    "for event in funnel_group['event_name'].unique():\n",
    "    z_test(filtered_data[filtered_data['group'] == 247], filtered_data[filtered_data['group'] == 248], event, 0.05)\n",
    "    print()"
   ]
  },
  {
   "cell_type": "code",
   "execution_count": 47,
   "metadata": {},
   "outputs": [
    {
     "name": "stdout",
     "output_type": "stream",
     "text": [
      "Событие: MainScreenAppear\n",
      "p_value:  0.29424526837179577\n",
      "Не получилось отвергнуть нулевую гипотезу\n",
      "\n",
      "Событие: OffersScreenAppear\n",
      "p_value:  0.43425549655188256\n",
      "Не получилось отвергнуть нулевую гипотезу\n",
      "\n",
      "Событие: CartScreenAppear\n",
      "p_value:  0.18175875284404386\n",
      "Не получилось отвергнуть нулевую гипотезу\n",
      "\n",
      "Событие: PaymentScreenSuccessful\n",
      "p_value:  0.6004294282308704\n",
      "Не получилось отвергнуть нулевую гипотезу\n",
      "\n"
     ]
    }
   ],
   "source": [
    "# сравниваем экспериментальную группу 248 с объединённой контрольной группой\n",
    "for event in funnel_group['event_name'].unique():\n",
    "    z_test(filtered_data[filtered_data['group'] != 248], filtered_data[filtered_data['group'] == 248], event, 0.05)\n",
    "    print()"
   ]
  },
  {
   "cell_type": "markdown",
   "metadata": {},
   "source": [
    "По всем тестам между тремя группами нет разницы. Однако, так как мы проводили множественные сравнения, существует вероятность ошибки первого рода, то есть мы можем ошибочно отвергнуть нулевую гипотезу. Применим метод Шидака для уменьшения FWER."
   ]
  },
  {
   "cell_type": "code",
   "execution_count": 48,
   "metadata": {},
   "outputs": [
    {
     "name": "stdout",
     "output_type": "stream",
     "text": [
      "Событие: MainScreenAppear\n",
      "p_value:  0.7570597232046099\n",
      "Не получилось отвергнуть нулевую гипотезу\n",
      "\n",
      "Событие: OffersScreenAppear\n",
      "p_value:  0.2480954578522181\n",
      "Не получилось отвергнуть нулевую гипотезу\n",
      "\n",
      "Событие: CartScreenAppear\n",
      "p_value:  0.22883372237997213\n",
      "Не получилось отвергнуть нулевую гипотезу\n",
      "\n",
      "Событие: PaymentScreenSuccessful\n",
      "p_value:  0.11456679313141849\n",
      "Не получилось отвергнуть нулевую гипотезу\n",
      "\n"
     ]
    }
   ],
   "source": [
    "# разница между группами 246 и 247\n",
    "shidok_alpha = 1 - (1 - 0.05)**(1/16) # всего у нас 16 сравнений\n",
    "\n",
    "for event in funnel_group['event_name'].unique():\n",
    "    z_test(filtered_data[filtered_data['group'] == 246], filtered_data[filtered_data['group'] == 247], event, shidok_alpha)\n",
    "    print()"
   ]
  },
  {
   "cell_type": "code",
   "execution_count": 49,
   "metadata": {},
   "outputs": [
    {
     "name": "stdout",
     "output_type": "stream",
     "text": [
      "Событие: MainScreenAppear\n",
      "p_value:  0.2949721933554552\n",
      "Не получилось отвергнуть нулевую гипотезу\n",
      "\n",
      "Событие: OffersScreenAppear\n",
      "p_value:  0.20836205402738917\n",
      "Не получилось отвергнуть нулевую гипотезу\n",
      "\n",
      "Событие: CartScreenAppear\n",
      "p_value:  0.07842923237520116\n",
      "Не получилось отвергнуть нулевую гипотезу\n",
      "\n",
      "Событие: PaymentScreenSuccessful\n",
      "p_value:  0.2122553275697796\n",
      "Не получилось отвергнуть нулевую гипотезу\n",
      "\n"
     ]
    }
   ],
   "source": [
    "# разница между группами 246 и 248\n",
    "\n",
    "shidok_alpha = 1 - (1 - 0.05)**(1/16) \n",
    "for event in funnel_group['event_name'].unique():\n",
    "    z_test(filtered_data[filtered_data['group'] == 246], filtered_data[filtered_data['group'] == 248], event, 0.05)\n",
    "    print()"
   ]
  },
  {
   "cell_type": "code",
   "execution_count": 50,
   "metadata": {},
   "outputs": [
    {
     "name": "stdout",
     "output_type": "stream",
     "text": [
      "Событие: MainScreenAppear\n",
      "p_value:  0.4587053616621515\n",
      "Не получилось отвергнуть нулевую гипотезу\n",
      "\n",
      "Событие: OffersScreenAppear\n",
      "p_value:  0.9197817830592261\n",
      "Не получилось отвергнуть нулевую гипотезу\n",
      "\n",
      "Событие: CartScreenAppear\n",
      "p_value:  0.5786197879539783\n",
      "Не получилось отвергнуть нулевую гипотезу\n",
      "\n",
      "Событие: PaymentScreenSuccessful\n",
      "p_value:  0.7373415053803964\n",
      "Не получилось отвергнуть нулевую гипотезу\n",
      "\n"
     ]
    }
   ],
   "source": [
    "# разница между группами 247 и 248\n",
    "\n",
    "shidok_alpha = 1 - (1 - 0.05)**(1/16) \n",
    "\n",
    "for event in funnel_group['event_name'].unique():\n",
    "    z_test(filtered_data[filtered_data['group'] == 247], filtered_data[filtered_data['group'] == 248], event, 0.05)\n",
    "    print()"
   ]
  },
  {
   "cell_type": "code",
   "execution_count": 51,
   "metadata": {},
   "outputs": [
    {
     "name": "stdout",
     "output_type": "stream",
     "text": [
      "Событие: MainScreenAppear\n",
      "p_value:  0.29424526837179577\n",
      "Не получилось отвергнуть нулевую гипотезу\n",
      "\n",
      "Событие: OffersScreenAppear\n",
      "p_value:  0.43425549655188256\n",
      "Не получилось отвергнуть нулевую гипотезу\n",
      "\n",
      "Событие: CartScreenAppear\n",
      "p_value:  0.18175875284404386\n",
      "Не получилось отвергнуть нулевую гипотезу\n",
      "\n",
      "Событие: PaymentScreenSuccessful\n",
      "p_value:  0.6004294282308704\n",
      "Не получилось отвергнуть нулевую гипотезу\n",
      "\n"
     ]
    }
   ],
   "source": [
    "# разница между группами 246+247 и 248\n",
    "\n",
    "shidok_alpha = 1 - (1 - 0.05)**(1/16) \n",
    "\n",
    "for event in funnel_group['event_name'].unique():\n",
    "    z_test(filtered_data[filtered_data['group'] != 248], filtered_data[filtered_data['group'] == 248], event, 0.05)\n",
    "    print()"
   ]
  },
  {
   "cell_type": "markdown",
   "metadata": {},
   "source": [
    "После применения метода Шидока результаты не изменились, различий действительно нет."
   ]
  },
  {
   "cell_type": "markdown",
   "metadata": {},
   "source": [
    "Мы проводили все тесты с уровнем значимости 0,05. При таком уровне вероятность ошибки первого рода выше, чем при α=0.01, а ошибки второго рода - ниже. Для нашего исследования было бы критичнее неверно принять нулевую гипотезу и сказать, что изменение шрифтов повлияло на поведение пользователей, чем случайно отвергнуть Н0 и утверждать, что изменений нет, так как в случае ошибки второго рода было бы потрачено много ресурсов на изменение внешнего вида приложения, не гарантирующее большую вовлеченность. Чтобы снизить вероятность ошибки первого рода, мы применили метод Шидака, который подтвердил, что различий между группами не обнаружено, и эксперимент можно считать успешно завершенным."
   ]
  },
  {
   "cell_type": "markdown",
   "metadata": {},
   "source": [
    "## Выводы"
   ]
  },
  {
   "cell_type": "markdown",
   "metadata": {},
   "source": [
    "Мы проанализировали поведение пользователей мобильного приложения в период с 1 по 8 августа 2019. В логи вошли 7534 уникальных пользователей, которые совершили 240887 событий. Получилась следующая воронка событий: главный экран > страница с предложениями > корзина > оплата покупки. При переходе с главного экрана на следующую страницу теряется больше всего пользователей: переходят чуть меньше 62%. Далее потери уменьшаются: со страницы предложений в корзину переходят 81%, и из добавивших товар в корзину пользователей 95% совершают покупку. От первого шага (главной страницы) до последнего (покупки) всего доходят около 47% пользователей. Также мы узнали, что страница с туториалами не пользуется популярностью - ее посетили всего 11,2%  пользователей.\n",
    "\n",
    "На следующем этапе мы исследовали результаты A/A/B-эксперимента, чтобы определить, стоит ли менять шрифт в приложении. Для этого мы сначала провели A/A-тест и убедились, что между двумя контрольными группами нет статистических различий. После этого сравнили результаты экспериментальной группы с каждой из контрольных групп в отдельности по каждому событию, то есть по каждому шагу воронки. По результатам Z-теста различий между тремя группами обнаружено не было. Чтобы снизить вероятность ошибки первого рода (неверно отвергнуть нулевую гипотезу об отсутствии различий), был проведен еще один тест с методом Шидака. Результаты не изменились: различий действительно нет. Таким образом, изменение шрифта не повлияло на поведение пользователей."
   ]
  }
 ],
 "metadata": {
  "ExecuteTimeLog": [
   {
    "duration": 437,
    "start_time": "2023-07-24T11:45:02.312Z"
   },
   {
    "duration": 116,
    "start_time": "2023-07-24T11:46:10.050Z"
   },
   {
    "duration": 385,
    "start_time": "2023-07-24T11:46:27.392Z"
   },
   {
    "duration": 665,
    "start_time": "2023-07-24T11:46:45.893Z"
   },
   {
    "duration": 14,
    "start_time": "2023-07-24T11:47:01.887Z"
   },
   {
    "duration": 167,
    "start_time": "2023-07-24T11:47:18.356Z"
   },
   {
    "duration": 163,
    "start_time": "2023-07-24T11:47:27.924Z"
   },
   {
    "duration": 9,
    "start_time": "2023-07-24T11:47:29.208Z"
   },
   {
    "duration": 19,
    "start_time": "2023-07-24T11:47:51.612Z"
   },
   {
    "duration": 91,
    "start_time": "2023-07-24T11:50:54.986Z"
   },
   {
    "duration": 6,
    "start_time": "2023-07-24T11:52:20.390Z"
   },
   {
    "duration": 11,
    "start_time": "2023-07-24T11:52:27.926Z"
   },
   {
    "duration": 3,
    "start_time": "2023-07-24T11:53:38.420Z"
   },
   {
    "duration": 38,
    "start_time": "2023-07-24T11:54:08.892Z"
   },
   {
    "duration": 8,
    "start_time": "2023-07-24T11:54:15.292Z"
   },
   {
    "duration": 10,
    "start_time": "2023-07-24T11:58:15.838Z"
   },
   {
    "duration": 11,
    "start_time": "2023-07-24T11:58:24.473Z"
   },
   {
    "duration": 3,
    "start_time": "2023-07-24T11:58:43.292Z"
   },
   {
    "duration": 10,
    "start_time": "2023-07-24T11:58:46.525Z"
   },
   {
    "duration": 10,
    "start_time": "2023-07-24T12:00:15.272Z"
   },
   {
    "duration": 9,
    "start_time": "2023-07-24T12:00:31.424Z"
   },
   {
    "duration": 63,
    "start_time": "2023-07-24T12:02:00.524Z"
   },
   {
    "duration": 11,
    "start_time": "2023-07-24T12:02:02.288Z"
   },
   {
    "duration": 12,
    "start_time": "2023-07-24T12:02:28.993Z"
   },
   {
    "duration": 11,
    "start_time": "2023-07-24T12:02:29.498Z"
   },
   {
    "duration": 12,
    "start_time": "2023-07-24T12:03:15.224Z"
   },
   {
    "duration": 9,
    "start_time": "2023-07-24T12:03:15.688Z"
   },
   {
    "duration": 10,
    "start_time": "2023-07-24T12:06:14.480Z"
   },
   {
    "duration": 12,
    "start_time": "2023-07-24T12:08:58.845Z"
   },
   {
    "duration": 11,
    "start_time": "2023-07-24T12:09:01.162Z"
   },
   {
    "duration": 16,
    "start_time": "2023-07-24T12:10:08.839Z"
   },
   {
    "duration": 15,
    "start_time": "2023-07-24T12:10:09.364Z"
   },
   {
    "duration": 17,
    "start_time": "2023-07-24T12:11:28.567Z"
   },
   {
    "duration": 19,
    "start_time": "2023-07-24T12:11:30.140Z"
   },
   {
    "duration": 18,
    "start_time": "2023-07-24T12:11:39.109Z"
   },
   {
    "duration": 20,
    "start_time": "2023-07-24T12:11:39.403Z"
   },
   {
    "duration": 20,
    "start_time": "2023-07-24T12:12:38.692Z"
   },
   {
    "duration": 12,
    "start_time": "2023-07-24T12:12:39.934Z"
   },
   {
    "duration": 34,
    "start_time": "2023-07-24T12:12:43.971Z"
   },
   {
    "duration": 12,
    "start_time": "2023-07-24T12:12:44.653Z"
   },
   {
    "duration": 14,
    "start_time": "2023-07-24T12:13:21.539Z"
   },
   {
    "duration": 15,
    "start_time": "2023-07-24T12:13:22.910Z"
   },
   {
    "duration": 14,
    "start_time": "2023-07-24T12:15:41.440Z"
   },
   {
    "duration": 79,
    "start_time": "2023-07-24T12:16:31.107Z"
   },
   {
    "duration": 13,
    "start_time": "2023-07-24T12:16:32.244Z"
   },
   {
    "duration": 1475,
    "start_time": "2023-07-24T12:21:20.990Z"
   },
   {
    "duration": 0,
    "start_time": "2023-07-24T12:21:22.467Z"
   },
   {
    "duration": 10,
    "start_time": "2023-07-24T12:21:36.236Z"
   },
   {
    "duration": 1122,
    "start_time": "2023-07-24T12:23:14.011Z"
   },
   {
    "duration": 0,
    "start_time": "2023-07-24T12:23:15.135Z"
   },
   {
    "duration": 1108,
    "start_time": "2023-07-24T12:23:22.073Z"
   },
   {
    "duration": 9,
    "start_time": "2023-07-24T12:23:23.489Z"
   },
   {
    "duration": 444,
    "start_time": "2023-07-24T12:23:40.384Z"
   },
   {
    "duration": 187,
    "start_time": "2023-07-24T12:23:40.840Z"
   },
   {
    "duration": 21,
    "start_time": "2023-07-24T12:23:41.328Z"
   },
   {
    "duration": 25,
    "start_time": "2023-07-24T12:23:41.953Z"
   },
   {
    "duration": 3,
    "start_time": "2023-07-24T12:23:43.267Z"
   },
   {
    "duration": 14,
    "start_time": "2023-07-24T12:23:43.809Z"
   },
   {
    "duration": 83,
    "start_time": "2023-07-24T12:23:46.511Z"
   },
   {
    "duration": 73,
    "start_time": "2023-07-24T12:24:16.569Z"
   },
   {
    "duration": 27,
    "start_time": "2023-07-24T12:24:42.748Z"
   },
   {
    "duration": 9,
    "start_time": "2023-07-24T12:24:43.542Z"
   },
   {
    "duration": 32,
    "start_time": "2023-07-24T12:24:49.980Z"
   },
   {
    "duration": 10,
    "start_time": "2023-07-24T12:24:50.374Z"
   },
   {
    "duration": 42,
    "start_time": "2023-07-24T12:26:29.309Z"
   },
   {
    "duration": 11,
    "start_time": "2023-07-24T12:26:29.851Z"
   },
   {
    "duration": 28,
    "start_time": "2023-07-24T12:26:45.270Z"
   },
   {
    "duration": 10,
    "start_time": "2023-07-24T12:26:45.758Z"
   },
   {
    "duration": 457,
    "start_time": "2023-07-24T12:26:52.937Z"
   },
   {
    "duration": 203,
    "start_time": "2023-07-24T12:26:53.396Z"
   },
   {
    "duration": 27,
    "start_time": "2023-07-24T12:26:53.601Z"
   },
   {
    "duration": 57,
    "start_time": "2023-07-24T12:26:53.632Z"
   },
   {
    "duration": 45,
    "start_time": "2023-07-24T12:26:53.692Z"
   },
   {
    "duration": 25,
    "start_time": "2023-07-24T12:26:53.742Z"
   },
   {
    "duration": 70,
    "start_time": "2023-07-24T12:26:53.769Z"
   },
   {
    "duration": 36,
    "start_time": "2023-07-24T12:26:53.842Z"
   },
   {
    "duration": 4,
    "start_time": "2023-07-24T12:27:46.166Z"
   },
   {
    "duration": 178,
    "start_time": "2023-07-24T12:27:46.668Z"
   },
   {
    "duration": 9,
    "start_time": "2023-07-24T12:27:48.127Z"
   },
   {
    "duration": 32,
    "start_time": "2023-07-24T12:27:48.947Z"
   },
   {
    "duration": 8,
    "start_time": "2023-07-24T12:27:51.508Z"
   },
   {
    "duration": 25,
    "start_time": "2023-07-24T12:27:53.023Z"
   },
   {
    "duration": 13,
    "start_time": "2023-07-24T12:27:53.952Z"
   },
   {
    "duration": 17,
    "start_time": "2023-07-24T12:27:54.708Z"
   },
   {
    "duration": 24,
    "start_time": "2023-07-24T12:29:33.245Z"
   },
   {
    "duration": 101,
    "start_time": "2023-07-24T12:31:21.525Z"
   },
   {
    "duration": 16,
    "start_time": "2023-07-24T12:31:50.627Z"
   },
   {
    "duration": 100,
    "start_time": "2023-07-24T12:33:10.491Z"
   },
   {
    "duration": 4,
    "start_time": "2023-07-24T12:33:37.664Z"
   },
   {
    "duration": 5,
    "start_time": "2023-07-24T12:33:50.383Z"
   },
   {
    "duration": 13,
    "start_time": "2023-07-24T12:34:00.906Z"
   },
   {
    "duration": 80,
    "start_time": "2023-07-24T12:35:41.561Z"
   },
   {
    "duration": 6,
    "start_time": "2023-07-24T12:37:04.108Z"
   },
   {
    "duration": 5,
    "start_time": "2023-07-24T12:37:12.740Z"
   },
   {
    "duration": 4,
    "start_time": "2023-07-24T12:37:16.812Z"
   },
   {
    "duration": 90,
    "start_time": "2023-07-24T12:42:55.961Z"
   },
   {
    "duration": 410,
    "start_time": "2023-07-24T12:43:11.472Z"
   },
   {
    "duration": 178,
    "start_time": "2023-07-24T12:43:12.209Z"
   },
   {
    "duration": 16,
    "start_time": "2023-07-24T12:43:13.147Z"
   },
   {
    "duration": 21,
    "start_time": "2023-07-24T12:43:14.480Z"
   },
   {
    "duration": 4,
    "start_time": "2023-07-24T12:43:16.282Z"
   },
   {
    "duration": 9,
    "start_time": "2023-07-24T12:43:16.748Z"
   },
   {
    "duration": 15,
    "start_time": "2023-07-24T12:43:17.332Z"
   },
   {
    "duration": 9,
    "start_time": "2023-07-24T12:43:17.885Z"
   },
   {
    "duration": 93,
    "start_time": "2023-07-24T12:43:18.573Z"
   },
   {
    "duration": 4,
    "start_time": "2023-07-24T12:43:21.890Z"
   },
   {
    "duration": 82,
    "start_time": "2023-07-24T12:43:23.867Z"
   },
   {
    "duration": 86,
    "start_time": "2023-07-24T12:43:25.054Z"
   },
   {
    "duration": 65,
    "start_time": "2023-07-24T12:43:40.599Z"
   },
   {
    "duration": 10,
    "start_time": "2023-07-24T12:43:48.246Z"
   },
   {
    "duration": 73,
    "start_time": "2023-07-24T12:44:33.635Z"
   },
   {
    "duration": 10,
    "start_time": "2023-07-24T12:44:34.222Z"
   },
   {
    "duration": 849,
    "start_time": "2023-07-24T12:47:24.527Z"
   },
   {
    "duration": 0,
    "start_time": "2023-07-24T12:47:25.379Z"
   },
   {
    "duration": 452,
    "start_time": "2023-07-24T12:47:48.800Z"
   },
   {
    "duration": 178,
    "start_time": "2023-07-24T12:47:49.255Z"
   },
   {
    "duration": 17,
    "start_time": "2023-07-24T12:47:49.810Z"
   },
   {
    "duration": 23,
    "start_time": "2023-07-24T12:47:50.658Z"
   },
   {
    "duration": 3,
    "start_time": "2023-07-24T12:47:53.278Z"
   },
   {
    "duration": 9,
    "start_time": "2023-07-24T12:47:54.615Z"
   },
   {
    "duration": 88,
    "start_time": "2023-07-24T12:48:01.679Z"
   },
   {
    "duration": 5,
    "start_time": "2023-07-24T12:48:04.204Z"
   },
   {
    "duration": 86,
    "start_time": "2023-07-24T12:48:06.558Z"
   },
   {
    "duration": 94,
    "start_time": "2023-07-24T12:48:07.167Z"
   },
   {
    "duration": 17,
    "start_time": "2023-07-24T12:48:23.010Z"
   },
   {
    "duration": 120,
    "start_time": "2023-07-24T12:49:16.118Z"
   },
   {
    "duration": 13,
    "start_time": "2023-07-24T12:49:17.315Z"
   },
   {
    "duration": 14,
    "start_time": "2023-07-24T12:51:41.968Z"
   },
   {
    "duration": 11,
    "start_time": "2023-07-24T12:52:17.627Z"
   },
   {
    "duration": 14,
    "start_time": "2023-07-24T12:52:45.156Z"
   },
   {
    "duration": 11,
    "start_time": "2023-07-24T12:52:57.061Z"
   },
   {
    "duration": 18,
    "start_time": "2023-07-24T12:53:04.373Z"
   },
   {
    "duration": 10,
    "start_time": "2023-07-24T12:53:11.904Z"
   },
   {
    "duration": 14,
    "start_time": "2023-07-24T12:53:22.294Z"
   },
   {
    "duration": 13,
    "start_time": "2023-07-24T12:54:11.681Z"
   },
   {
    "duration": 71,
    "start_time": "2023-07-24T14:38:39.713Z"
   },
   {
    "duration": 4,
    "start_time": "2023-07-24T14:41:52.287Z"
   },
   {
    "duration": 27,
    "start_time": "2023-07-24T14:41:56.859Z"
   },
   {
    "duration": 17,
    "start_time": "2023-07-24T14:43:02.498Z"
   },
   {
    "duration": 142,
    "start_time": "2023-07-24T14:43:26.219Z"
   },
   {
    "duration": 68,
    "start_time": "2023-07-24T14:43:39.547Z"
   },
   {
    "duration": 85,
    "start_time": "2023-07-24T14:45:29.248Z"
   },
   {
    "duration": 91,
    "start_time": "2023-07-24T14:45:45.123Z"
   },
   {
    "duration": 108,
    "start_time": "2023-07-24T14:45:54.488Z"
   },
   {
    "duration": 35,
    "start_time": "2023-07-24T14:46:05.088Z"
   },
   {
    "duration": 63,
    "start_time": "2023-07-24T14:48:38.681Z"
   },
   {
    "duration": 66,
    "start_time": "2023-07-24T14:48:53.269Z"
   },
   {
    "duration": 57,
    "start_time": "2023-07-24T14:49:00.692Z"
   },
   {
    "duration": 60,
    "start_time": "2023-07-24T14:49:16.384Z"
   },
   {
    "duration": 71,
    "start_time": "2023-07-24T14:50:06.955Z"
   },
   {
    "duration": 43,
    "start_time": "2023-07-24T14:50:26.324Z"
   },
   {
    "duration": 71,
    "start_time": "2023-07-24T14:50:48.660Z"
   },
   {
    "duration": 70,
    "start_time": "2023-07-24T14:50:56.602Z"
   },
   {
    "duration": 77,
    "start_time": "2023-07-24T14:52:01.487Z"
   },
   {
    "duration": 50,
    "start_time": "2023-07-24T14:52:16.715Z"
   },
   {
    "duration": 588,
    "start_time": "2023-07-24T14:53:04.721Z"
   },
   {
    "duration": 48,
    "start_time": "2023-07-24T14:54:04.681Z"
   },
   {
    "duration": 74,
    "start_time": "2023-07-24T14:55:20.908Z"
   },
   {
    "duration": 5,
    "start_time": "2023-07-24T14:56:30.820Z"
   },
   {
    "duration": 69,
    "start_time": "2023-07-24T14:56:35.882Z"
   },
   {
    "duration": 30,
    "start_time": "2023-07-24T14:56:51.849Z"
   },
   {
    "duration": 49,
    "start_time": "2023-07-24T14:57:37.380Z"
   },
   {
    "duration": 35,
    "start_time": "2023-07-24T14:58:01.421Z"
   },
   {
    "duration": 13,
    "start_time": "2023-07-24T14:58:20.063Z"
   },
   {
    "duration": 54,
    "start_time": "2023-07-24T14:58:37.933Z"
   },
   {
    "duration": 31,
    "start_time": "2023-07-24T14:59:07.734Z"
   },
   {
    "duration": 3,
    "start_time": "2023-07-24T14:59:44.475Z"
   },
   {
    "duration": 166,
    "start_time": "2023-07-24T14:59:57.580Z"
   },
   {
    "duration": 160,
    "start_time": "2023-07-24T15:00:14.612Z"
   },
   {
    "duration": 2538,
    "start_time": "2023-07-24T15:01:09.686Z"
   },
   {
    "duration": 2298,
    "start_time": "2023-07-24T15:01:44.359Z"
   },
   {
    "duration": 242,
    "start_time": "2023-07-24T15:02:05.716Z"
   },
   {
    "duration": 306,
    "start_time": "2023-07-24T15:02:32.320Z"
   },
   {
    "duration": 209,
    "start_time": "2023-07-24T15:02:48.080Z"
   },
   {
    "duration": 217,
    "start_time": "2023-07-24T15:03:30.225Z"
   },
   {
    "duration": 225,
    "start_time": "2023-07-24T15:05:51.208Z"
   },
   {
    "duration": 235,
    "start_time": "2023-07-24T15:05:57.362Z"
   },
   {
    "duration": 192,
    "start_time": "2023-07-24T15:07:17.780Z"
   },
   {
    "duration": 178,
    "start_time": "2023-07-24T15:07:30.759Z"
   },
   {
    "duration": 193,
    "start_time": "2023-07-24T15:07:36.666Z"
   },
   {
    "duration": 208,
    "start_time": "2023-07-24T15:08:12.096Z"
   },
   {
    "duration": 174,
    "start_time": "2023-07-24T15:08:21.085Z"
   },
   {
    "duration": 100,
    "start_time": "2023-07-24T15:08:48.393Z"
   },
   {
    "duration": 211,
    "start_time": "2023-07-24T15:08:51.513Z"
   },
   {
    "duration": 296,
    "start_time": "2023-07-24T15:09:06.486Z"
   },
   {
    "duration": 196,
    "start_time": "2023-07-24T15:09:12.387Z"
   },
   {
    "duration": 185,
    "start_time": "2023-07-24T15:10:09.628Z"
   },
   {
    "duration": 499,
    "start_time": "2023-07-24T15:11:58.683Z"
   },
   {
    "duration": 31,
    "start_time": "2023-07-24T15:12:12.862Z"
   },
   {
    "duration": 188,
    "start_time": "2023-07-24T15:16:48.690Z"
   },
   {
    "duration": 239,
    "start_time": "2023-07-24T15:17:45.403Z"
   },
   {
    "duration": 229,
    "start_time": "2023-07-24T15:18:35.090Z"
   },
   {
    "duration": 174,
    "start_time": "2023-07-24T15:18:43.758Z"
   },
   {
    "duration": 18,
    "start_time": "2023-07-24T15:19:15.936Z"
   },
   {
    "duration": 251,
    "start_time": "2023-07-24T15:19:28.204Z"
   },
   {
    "duration": 207,
    "start_time": "2023-07-24T15:19:41.949Z"
   },
   {
    "duration": 179,
    "start_time": "2023-07-24T15:19:47.713Z"
   },
   {
    "duration": 228,
    "start_time": "2023-07-24T15:20:44.245Z"
   },
   {
    "duration": 264,
    "start_time": "2023-07-24T15:20:56.352Z"
   },
   {
    "duration": 356,
    "start_time": "2023-07-24T15:21:20.450Z"
   },
   {
    "duration": 279,
    "start_time": "2023-07-24T15:22:07.194Z"
   },
   {
    "duration": 253,
    "start_time": "2023-07-24T15:22:34.167Z"
   },
   {
    "duration": 189,
    "start_time": "2023-07-24T15:22:37.986Z"
   },
   {
    "duration": 190,
    "start_time": "2023-07-24T15:22:58.875Z"
   },
   {
    "duration": 210,
    "start_time": "2023-07-24T15:23:14.392Z"
   },
   {
    "duration": 208,
    "start_time": "2023-07-24T15:23:25.516Z"
   },
   {
    "duration": 203,
    "start_time": "2023-07-24T15:23:37.125Z"
   },
   {
    "duration": 207,
    "start_time": "2023-07-24T15:23:47.023Z"
   },
   {
    "duration": 209,
    "start_time": "2023-07-24T15:24:10.596Z"
   },
   {
    "duration": 230,
    "start_time": "2023-07-24T15:24:32.379Z"
   },
   {
    "duration": 242,
    "start_time": "2023-07-24T15:24:45.387Z"
   },
   {
    "duration": 316,
    "start_time": "2023-07-24T15:25:01.534Z"
   },
   {
    "duration": 218,
    "start_time": "2023-07-24T15:27:46.333Z"
   },
   {
    "duration": 212,
    "start_time": "2023-07-24T15:27:55.033Z"
   },
   {
    "duration": 31,
    "start_time": "2023-07-24T15:33:41.826Z"
   },
   {
    "duration": 38,
    "start_time": "2023-07-24T15:33:46.593Z"
   },
   {
    "duration": 17,
    "start_time": "2023-07-24T15:33:53.508Z"
   },
   {
    "duration": 41,
    "start_time": "2023-07-24T15:34:05.738Z"
   },
   {
    "duration": 11,
    "start_time": "2023-07-24T15:34:07.196Z"
   },
   {
    "duration": 59,
    "start_time": "2023-07-24T15:34:59.389Z"
   },
   {
    "duration": 13,
    "start_time": "2023-07-24T15:35:00.091Z"
   },
   {
    "duration": 88,
    "start_time": "2023-07-24T15:35:30.844Z"
   },
   {
    "duration": 110,
    "start_time": "2023-07-24T15:35:41.333Z"
   },
   {
    "duration": 26,
    "start_time": "2023-07-24T15:35:43.035Z"
   },
   {
    "duration": 30,
    "start_time": "2023-07-24T15:36:24.274Z"
   },
   {
    "duration": 15,
    "start_time": "2023-07-24T15:36:24.468Z"
   },
   {
    "duration": 4,
    "start_time": "2023-07-24T15:36:52.330Z"
   },
   {
    "duration": 6,
    "start_time": "2023-07-24T15:36:52.983Z"
   },
   {
    "duration": 31,
    "start_time": "2023-07-24T15:37:19.632Z"
   },
   {
    "duration": 10,
    "start_time": "2023-07-24T15:37:20.446Z"
   },
   {
    "duration": 787,
    "start_time": "2023-07-24T15:40:34.586Z"
   },
   {
    "duration": 0,
    "start_time": "2023-07-24T15:40:35.376Z"
   },
   {
    "duration": 835,
    "start_time": "2023-07-24T15:40:45.753Z"
   },
   {
    "duration": 239,
    "start_time": "2023-07-24T15:40:46.590Z"
   },
   {
    "duration": 21,
    "start_time": "2023-07-24T15:40:46.831Z"
   },
   {
    "duration": 40,
    "start_time": "2023-07-24T15:40:48.493Z"
   },
   {
    "duration": 4,
    "start_time": "2023-07-24T15:40:50.476Z"
   },
   {
    "duration": 12,
    "start_time": "2023-07-24T15:40:51.650Z"
   },
   {
    "duration": 102,
    "start_time": "2023-07-24T15:40:55.033Z"
   },
   {
    "duration": 6,
    "start_time": "2023-07-24T15:40:57.632Z"
   },
   {
    "duration": 116,
    "start_time": "2023-07-24T15:40:58.896Z"
   },
   {
    "duration": 92,
    "start_time": "2023-07-24T15:41:00.863Z"
   },
   {
    "duration": 12,
    "start_time": "2023-07-24T15:41:01.380Z"
   },
   {
    "duration": 50,
    "start_time": "2023-07-24T15:41:05.756Z"
   },
   {
    "duration": 34,
    "start_time": "2023-07-24T15:41:18.928Z"
   },
   {
    "duration": 263,
    "start_time": "2023-07-24T15:41:24.870Z"
   },
   {
    "duration": 101,
    "start_time": "2023-07-24T15:41:36.134Z"
   },
   {
    "duration": 44,
    "start_time": "2023-07-24T15:41:43.343Z"
   },
   {
    "duration": 153,
    "start_time": "2023-07-24T15:42:08.838Z"
   },
   {
    "duration": 54,
    "start_time": "2023-07-24T15:43:15.394Z"
   },
   {
    "duration": 17,
    "start_time": "2023-07-24T15:43:16.137Z"
   },
   {
    "duration": 45,
    "start_time": "2023-07-24T15:43:33.138Z"
   },
   {
    "duration": 32,
    "start_time": "2023-07-24T15:44:00.561Z"
   },
   {
    "duration": 44,
    "start_time": "2023-07-24T15:44:15.850Z"
   },
   {
    "duration": 14,
    "start_time": "2023-07-24T15:44:17.041Z"
   },
   {
    "duration": 43,
    "start_time": "2023-07-24T15:44:49.437Z"
   },
   {
    "duration": 51,
    "start_time": "2023-07-24T15:45:09.710Z"
   },
   {
    "duration": 36,
    "start_time": "2023-07-24T15:45:19.352Z"
   },
   {
    "duration": 14,
    "start_time": "2023-07-24T15:45:20.369Z"
   },
   {
    "duration": 23,
    "start_time": "2023-07-24T15:46:49.368Z"
   },
   {
    "duration": 9,
    "start_time": "2023-07-24T15:46:50.763Z"
   },
   {
    "duration": 20,
    "start_time": "2023-07-24T15:48:09.660Z"
   },
   {
    "duration": 8,
    "start_time": "2023-07-24T15:48:10.335Z"
   },
   {
    "duration": 66,
    "start_time": "2023-07-24T15:48:59.536Z"
   },
   {
    "duration": 5,
    "start_time": "2023-07-24T15:49:00.295Z"
   },
   {
    "duration": 64,
    "start_time": "2023-07-24T15:49:07.889Z"
   },
   {
    "duration": 47,
    "start_time": "2023-07-24T15:49:22.446Z"
   },
   {
    "duration": 40,
    "start_time": "2023-07-24T15:49:29.583Z"
   },
   {
    "duration": 34,
    "start_time": "2023-07-24T15:49:49.682Z"
   },
   {
    "duration": 29,
    "start_time": "2023-07-24T15:50:00.065Z"
   },
   {
    "duration": 28,
    "start_time": "2023-07-24T18:13:02.986Z"
   },
   {
    "duration": 8,
    "start_time": "2023-07-24T18:13:34.695Z"
   },
   {
    "duration": 529,
    "start_time": "2023-07-24T18:13:44.259Z"
   },
   {
    "duration": 532,
    "start_time": "2023-07-24T18:16:06.843Z"
   },
   {
    "duration": 489,
    "start_time": "2023-07-24T18:17:18.843Z"
   },
   {
    "duration": 489,
    "start_time": "2023-07-24T18:18:22.698Z"
   },
   {
    "duration": 487,
    "start_time": "2023-07-24T18:18:57.766Z"
   },
   {
    "duration": 519,
    "start_time": "2023-07-24T18:19:09.645Z"
   },
   {
    "duration": 519,
    "start_time": "2023-07-24T18:19:19.390Z"
   },
   {
    "duration": 709,
    "start_time": "2023-07-24T18:24:22.229Z"
   },
   {
    "duration": 529,
    "start_time": "2023-07-24T18:24:25.973Z"
   },
   {
    "duration": 13,
    "start_time": "2023-07-24T18:24:27.243Z"
   },
   {
    "duration": 23,
    "start_time": "2023-07-24T18:24:28.061Z"
   },
   {
    "duration": 3,
    "start_time": "2023-07-24T18:24:29.544Z"
   },
   {
    "duration": 8,
    "start_time": "2023-07-24T18:24:29.751Z"
   },
   {
    "duration": 105,
    "start_time": "2023-07-24T18:24:29.943Z"
   },
   {
    "duration": 4,
    "start_time": "2023-07-24T18:24:30.642Z"
   },
   {
    "duration": 86,
    "start_time": "2023-07-24T18:24:31.402Z"
   },
   {
    "duration": 79,
    "start_time": "2023-07-24T18:24:31.652Z"
   },
   {
    "duration": 10,
    "start_time": "2023-07-24T18:24:31.936Z"
   },
   {
    "duration": 34,
    "start_time": "2023-07-24T18:24:32.948Z"
   },
   {
    "duration": 31,
    "start_time": "2023-07-24T18:24:33.405Z"
   },
   {
    "duration": 187,
    "start_time": "2023-07-24T18:24:34.030Z"
   },
   {
    "duration": 42,
    "start_time": "2023-07-24T18:24:35.879Z"
   },
   {
    "duration": 144,
    "start_time": "2023-07-24T18:24:36.497Z"
   },
   {
    "duration": 40,
    "start_time": "2023-07-24T18:24:37.986Z"
   },
   {
    "duration": 28,
    "start_time": "2023-07-24T18:24:38.643Z"
   },
   {
    "duration": 660,
    "start_time": "2023-07-24T18:24:39.267Z"
   },
   {
    "duration": 728,
    "start_time": "2023-07-24T18:25:53.791Z"
   },
   {
    "duration": 171,
    "start_time": "2023-07-24T18:25:54.522Z"
   },
   {
    "duration": 16,
    "start_time": "2023-07-24T18:25:54.695Z"
   },
   {
    "duration": 26,
    "start_time": "2023-07-24T18:25:54.713Z"
   },
   {
    "duration": 3,
    "start_time": "2023-07-24T18:25:54.741Z"
   },
   {
    "duration": 17,
    "start_time": "2023-07-24T18:25:54.745Z"
   },
   {
    "duration": 112,
    "start_time": "2023-07-24T18:25:54.764Z"
   },
   {
    "duration": 3,
    "start_time": "2023-07-24T18:25:54.878Z"
   },
   {
    "duration": 106,
    "start_time": "2023-07-24T18:25:54.883Z"
   },
   {
    "duration": 88,
    "start_time": "2023-07-24T18:25:54.991Z"
   },
   {
    "duration": 11,
    "start_time": "2023-07-24T18:25:55.081Z"
   },
   {
    "duration": 42,
    "start_time": "2023-07-24T18:25:55.107Z"
   },
   {
    "duration": 32,
    "start_time": "2023-07-24T18:25:55.151Z"
   },
   {
    "duration": 221,
    "start_time": "2023-07-24T18:25:55.185Z"
   },
   {
    "duration": 51,
    "start_time": "2023-07-24T18:25:55.408Z"
   },
   {
    "duration": 172,
    "start_time": "2023-07-24T18:25:55.460Z"
   },
   {
    "duration": 48,
    "start_time": "2023-07-24T18:25:55.634Z"
   },
   {
    "duration": 40,
    "start_time": "2023-07-24T18:25:55.684Z"
   },
   {
    "duration": 582,
    "start_time": "2023-07-24T18:25:58.737Z"
   },
   {
    "duration": 777,
    "start_time": "2023-07-24T18:30:34.693Z"
   },
   {
    "duration": 570,
    "start_time": "2023-07-24T18:30:35.472Z"
   },
   {
    "duration": 18,
    "start_time": "2023-07-24T18:30:36.045Z"
   },
   {
    "duration": 52,
    "start_time": "2023-07-24T18:30:36.065Z"
   },
   {
    "duration": 3,
    "start_time": "2023-07-24T18:30:36.121Z"
   },
   {
    "duration": 23,
    "start_time": "2023-07-24T18:30:36.127Z"
   },
   {
    "duration": 140,
    "start_time": "2023-07-24T18:30:36.153Z"
   },
   {
    "duration": 4,
    "start_time": "2023-07-24T18:30:36.295Z"
   },
   {
    "duration": 97,
    "start_time": "2023-07-24T18:30:36.301Z"
   },
   {
    "duration": 93,
    "start_time": "2023-07-24T18:30:36.400Z"
   },
   {
    "duration": 25,
    "start_time": "2023-07-24T18:30:36.495Z"
   },
   {
    "duration": 42,
    "start_time": "2023-07-24T18:30:36.522Z"
   },
   {
    "duration": 32,
    "start_time": "2023-07-24T18:30:36.566Z"
   },
   {
    "duration": 212,
    "start_time": "2023-07-24T18:30:36.611Z"
   },
   {
    "duration": 48,
    "start_time": "2023-07-24T18:30:36.825Z"
   },
   {
    "duration": 170,
    "start_time": "2023-07-24T18:30:36.874Z"
   },
   {
    "duration": 47,
    "start_time": "2023-07-24T18:30:37.045Z"
   },
   {
    "duration": 27,
    "start_time": "2023-07-24T18:30:37.108Z"
   },
   {
    "duration": 4,
    "start_time": "2023-07-24T18:30:37.137Z"
   },
   {
    "duration": 4,
    "start_time": "2023-07-24T18:30:38.467Z"
   },
   {
    "duration": 613,
    "start_time": "2023-07-24T18:30:38.948Z"
   },
   {
    "duration": 599,
    "start_time": "2023-07-24T18:30:49.450Z"
   },
   {
    "duration": 748,
    "start_time": "2023-07-24T18:31:46.208Z"
   },
   {
    "duration": 177,
    "start_time": "2023-07-24T18:31:46.958Z"
   },
   {
    "duration": 12,
    "start_time": "2023-07-24T18:31:47.136Z"
   },
   {
    "duration": 24,
    "start_time": "2023-07-24T18:31:47.150Z"
   },
   {
    "duration": 3,
    "start_time": "2023-07-24T18:31:47.176Z"
   },
   {
    "duration": 45,
    "start_time": "2023-07-24T18:31:47.181Z"
   },
   {
    "duration": 103,
    "start_time": "2023-07-24T18:31:47.228Z"
   },
   {
    "duration": 5,
    "start_time": "2023-07-24T18:31:47.333Z"
   },
   {
    "duration": 94,
    "start_time": "2023-07-24T18:31:47.339Z"
   },
   {
    "duration": 83,
    "start_time": "2023-07-24T18:31:47.435Z"
   },
   {
    "duration": 10,
    "start_time": "2023-07-24T18:31:47.520Z"
   },
   {
    "duration": 35,
    "start_time": "2023-07-24T18:31:47.532Z"
   },
   {
    "duration": 53,
    "start_time": "2023-07-24T18:31:47.569Z"
   },
   {
    "duration": 203,
    "start_time": "2023-07-24T18:31:47.625Z"
   },
   {
    "duration": 49,
    "start_time": "2023-07-24T18:31:47.830Z"
   },
   {
    "duration": 173,
    "start_time": "2023-07-24T18:31:47.881Z"
   },
   {
    "duration": 77,
    "start_time": "2023-07-24T18:31:48.057Z"
   },
   {
    "duration": 29,
    "start_time": "2023-07-24T18:31:48.136Z"
   },
   {
    "duration": 3,
    "start_time": "2023-07-24T18:31:48.167Z"
   },
   {
    "duration": 583,
    "start_time": "2023-07-24T18:31:48.172Z"
   },
   {
    "duration": 43,
    "start_time": "2023-07-24T18:32:09.706Z"
   },
   {
    "duration": 625,
    "start_time": "2023-07-24T18:32:14.351Z"
   },
   {
    "duration": 497,
    "start_time": "2023-07-24T18:32:57.384Z"
   },
   {
    "duration": 517,
    "start_time": "2023-07-24T18:35:38.697Z"
   },
   {
    "duration": 516,
    "start_time": "2023-07-24T18:36:10.549Z"
   },
   {
    "duration": 507,
    "start_time": "2023-07-24T18:36:23.837Z"
   },
   {
    "duration": 529,
    "start_time": "2023-07-24T18:36:39.939Z"
   },
   {
    "duration": 530,
    "start_time": "2023-07-24T18:36:52.428Z"
   },
   {
    "duration": 528,
    "start_time": "2023-07-24T18:37:11.020Z"
   },
   {
    "duration": 533,
    "start_time": "2023-07-24T18:37:21.001Z"
   },
   {
    "duration": 617,
    "start_time": "2023-07-24T18:37:28.171Z"
   },
   {
    "duration": 520,
    "start_time": "2023-07-24T18:37:51.666Z"
   },
   {
    "duration": 658,
    "start_time": "2023-07-24T18:37:58.052Z"
   },
   {
    "duration": 522,
    "start_time": "2023-07-24T18:38:04.989Z"
   },
   {
    "duration": 538,
    "start_time": "2023-07-24T18:38:35.338Z"
   },
   {
    "duration": 562,
    "start_time": "2023-07-24T18:38:49.409Z"
   },
   {
    "duration": 513,
    "start_time": "2023-07-24T18:41:55.025Z"
   },
   {
    "duration": 438,
    "start_time": "2023-07-24T18:42:16.534Z"
   },
   {
    "duration": 541,
    "start_time": "2023-07-24T18:42:24.921Z"
   },
   {
    "duration": 503,
    "start_time": "2023-07-24T18:42:37.171Z"
   },
   {
    "duration": 531,
    "start_time": "2023-07-24T18:42:48.080Z"
   },
   {
    "duration": 531,
    "start_time": "2023-07-24T18:43:39.849Z"
   },
   {
    "duration": 563,
    "start_time": "2023-07-24T18:43:49.266Z"
   },
   {
    "duration": 693,
    "start_time": "2023-07-24T18:43:54.640Z"
   },
   {
    "duration": 663,
    "start_time": "2023-07-24T18:44:05.704Z"
   },
   {
    "duration": 555,
    "start_time": "2023-07-24T18:44:13.811Z"
   },
   {
    "duration": 551,
    "start_time": "2023-07-24T18:44:26.777Z"
   },
   {
    "duration": 585,
    "start_time": "2023-07-24T18:44:34.495Z"
   },
   {
    "duration": 564,
    "start_time": "2023-07-24T18:44:44.834Z"
   },
   {
    "duration": 591,
    "start_time": "2023-07-24T18:45:01.827Z"
   },
   {
    "duration": 59,
    "start_time": "2023-07-24T18:48:23.986Z"
   },
   {
    "duration": 754,
    "start_time": "2023-07-24T18:48:44.982Z"
   },
   {
    "duration": 432,
    "start_time": "2023-07-24T18:49:26.616Z"
   },
   {
    "duration": 27,
    "start_time": "2023-07-24T18:49:42.220Z"
   },
   {
    "duration": 21,
    "start_time": "2023-07-24T18:49:54.132Z"
   },
   {
    "duration": 40,
    "start_time": "2023-07-24T18:51:40.488Z"
   },
   {
    "duration": 23,
    "start_time": "2023-07-24T18:51:41.275Z"
   },
   {
    "duration": 16,
    "start_time": "2023-07-24T18:51:43.486Z"
   },
   {
    "duration": 11,
    "start_time": "2023-07-24T18:52:17.962Z"
   },
   {
    "duration": 14,
    "start_time": "2023-07-24T18:53:47.764Z"
   },
   {
    "duration": 98,
    "start_time": "2023-07-24T18:54:42.659Z"
   },
   {
    "duration": 27,
    "start_time": "2023-07-24T18:55:23.124Z"
   },
   {
    "duration": 127,
    "start_time": "2023-07-24T18:55:53.730Z"
   },
   {
    "duration": 11,
    "start_time": "2023-07-24T18:55:54.277Z"
   },
   {
    "duration": 6,
    "start_time": "2023-07-24T18:56:00.323Z"
   },
   {
    "duration": 7,
    "start_time": "2023-07-24T18:56:03.427Z"
   },
   {
    "duration": 3,
    "start_time": "2023-07-24T18:56:05.708Z"
   },
   {
    "duration": 339,
    "start_time": "2023-07-24T18:56:13.388Z"
   },
   {
    "duration": 25,
    "start_time": "2023-07-24T18:56:23.139Z"
   },
   {
    "duration": 8,
    "start_time": "2023-07-24T19:00:11.635Z"
   },
   {
    "duration": 1356,
    "start_time": "2023-07-26T10:29:26.927Z"
   },
   {
    "duration": 511,
    "start_time": "2023-07-26T10:29:28.285Z"
   },
   {
    "duration": 11,
    "start_time": "2023-07-26T10:29:28.797Z"
   },
   {
    "duration": 21,
    "start_time": "2023-07-26T10:29:29.978Z"
   },
   {
    "duration": 3,
    "start_time": "2023-07-26T10:29:31.076Z"
   },
   {
    "duration": 8,
    "start_time": "2023-07-26T10:29:31.606Z"
   },
   {
    "duration": 74,
    "start_time": "2023-07-26T10:29:32.420Z"
   },
   {
    "duration": 5,
    "start_time": "2023-07-26T10:29:33.150Z"
   },
   {
    "duration": 72,
    "start_time": "2023-07-26T10:29:34.952Z"
   },
   {
    "duration": 99,
    "start_time": "2023-07-26T10:29:36.505Z"
   },
   {
    "duration": 8,
    "start_time": "2023-07-26T10:29:41.571Z"
   },
   {
    "duration": 30,
    "start_time": "2023-07-26T10:29:42.884Z"
   },
   {
    "duration": 31,
    "start_time": "2023-07-26T10:29:43.422Z"
   },
   {
    "duration": 175,
    "start_time": "2023-07-26T10:29:44.317Z"
   },
   {
    "duration": 36,
    "start_time": "2023-07-26T10:29:45.944Z"
   },
   {
    "duration": 118,
    "start_time": "2023-07-26T10:29:46.712Z"
   },
   {
    "duration": 32,
    "start_time": "2023-07-26T10:29:48.853Z"
   },
   {
    "duration": 7,
    "start_time": "2023-07-26T10:29:49.893Z"
   },
   {
    "duration": 6,
    "start_time": "2023-07-26T10:29:50.622Z"
   },
   {
    "duration": 426,
    "start_time": "2023-07-26T10:29:51.224Z"
   },
   {
    "duration": 20,
    "start_time": "2023-07-26T10:29:52.985Z"
   },
   {
    "duration": 7,
    "start_time": "2023-07-26T10:29:53.554Z"
   },
   {
    "duration": 2,
    "start_time": "2023-07-26T10:29:54.098Z"
   },
   {
    "duration": 4,
    "start_time": "2023-07-26T10:31:22.427Z"
   },
   {
    "duration": 4,
    "start_time": "2023-07-26T10:34:26.593Z"
   },
   {
    "duration": 4,
    "start_time": "2023-07-26T10:34:44.913Z"
   },
   {
    "duration": 5,
    "start_time": "2023-07-26T10:35:10.932Z"
   },
   {
    "duration": 56,
    "start_time": "2023-07-26T10:37:06.961Z"
   },
   {
    "duration": 41,
    "start_time": "2023-07-26T10:37:16.398Z"
   },
   {
    "duration": 91,
    "start_time": "2023-07-26T10:38:26.257Z"
   },
   {
    "duration": 20,
    "start_time": "2023-07-26T10:38:33.802Z"
   },
   {
    "duration": 5,
    "start_time": "2023-07-26T10:39:17.926Z"
   },
   {
    "duration": 76,
    "start_time": "2023-07-26T10:40:35.525Z"
   },
   {
    "duration": 7,
    "start_time": "2023-07-26T10:40:45.542Z"
   },
   {
    "duration": 5,
    "start_time": "2023-07-26T10:41:03.540Z"
   },
   {
    "duration": 158,
    "start_time": "2023-07-26T10:47:03.440Z"
   },
   {
    "duration": 10,
    "start_time": "2023-07-26T10:50:48.429Z"
   },
   {
    "duration": 187,
    "start_time": "2023-07-26T10:51:00.365Z"
   },
   {
    "duration": 158,
    "start_time": "2023-07-26T10:51:42.758Z"
   },
   {
    "duration": 10,
    "start_time": "2023-07-26T10:52:01.038Z"
   },
   {
    "duration": 7,
    "start_time": "2023-07-26T10:52:47.925Z"
   },
   {
    "duration": 153,
    "start_time": "2023-07-26T10:52:58.855Z"
   },
   {
    "duration": 185,
    "start_time": "2023-07-26T10:55:28.442Z"
   },
   {
    "duration": 168,
    "start_time": "2023-07-26T10:55:49.120Z"
   },
   {
    "duration": 192,
    "start_time": "2023-07-26T10:56:31.326Z"
   },
   {
    "duration": 170,
    "start_time": "2023-07-26T10:59:45.387Z"
   },
   {
    "duration": 194,
    "start_time": "2023-07-26T11:00:39.260Z"
   },
   {
    "duration": 299,
    "start_time": "2023-07-26T11:00:54.551Z"
   },
   {
    "duration": 199,
    "start_time": "2023-07-26T11:01:18.451Z"
   },
   {
    "duration": 311,
    "start_time": "2023-07-26T11:02:00.543Z"
   },
   {
    "duration": 263,
    "start_time": "2023-07-26T11:02:04.704Z"
   },
   {
    "duration": 172,
    "start_time": "2023-07-26T11:02:22.744Z"
   },
   {
    "duration": 201,
    "start_time": "2023-07-26T11:03:23.586Z"
   },
   {
    "duration": 181,
    "start_time": "2023-07-26T11:04:04.357Z"
   },
   {
    "duration": 28,
    "start_time": "2023-07-26T11:06:33.751Z"
   },
   {
    "duration": 202,
    "start_time": "2023-07-26T11:06:40.489Z"
   },
   {
    "duration": 55,
    "start_time": "2023-07-26T11:21:33.029Z"
   },
   {
    "duration": 5,
    "start_time": "2023-07-26T11:25:05.496Z"
   },
   {
    "duration": 5,
    "start_time": "2023-07-26T11:26:14.139Z"
   },
   {
    "duration": 7,
    "start_time": "2023-07-26T11:26:17.921Z"
   },
   {
    "duration": 6,
    "start_time": "2023-07-26T11:28:49.947Z"
   },
   {
    "duration": 9,
    "start_time": "2023-07-26T11:29:04.146Z"
   },
   {
    "duration": 219,
    "start_time": "2023-07-26T11:29:53.998Z"
   },
   {
    "duration": 222,
    "start_time": "2023-07-26T11:30:03.110Z"
   },
   {
    "duration": 165,
    "start_time": "2023-07-26T11:30:35.059Z"
   },
   {
    "duration": 142,
    "start_time": "2023-07-26T11:32:14.248Z"
   },
   {
    "duration": 152,
    "start_time": "2023-07-26T11:32:35.667Z"
   },
   {
    "duration": 215,
    "start_time": "2023-07-26T11:32:42.166Z"
   },
   {
    "duration": 543,
    "start_time": "2023-07-26T11:35:02.057Z"
   },
   {
    "duration": 9,
    "start_time": "2023-07-26T11:35:11.606Z"
   },
   {
    "duration": 170,
    "start_time": "2023-07-26T11:35:51.820Z"
   },
   {
    "duration": 152,
    "start_time": "2023-07-26T11:35:59.247Z"
   },
   {
    "duration": 161,
    "start_time": "2023-07-26T11:36:30.054Z"
   },
   {
    "duration": 152,
    "start_time": "2023-07-26T11:38:06.957Z"
   },
   {
    "duration": 170,
    "start_time": "2023-07-26T11:41:06.422Z"
   },
   {
    "duration": 198,
    "start_time": "2023-07-26T11:41:13.160Z"
   },
   {
    "duration": 4,
    "start_time": "2023-07-26T11:41:48.644Z"
   },
   {
    "duration": 174,
    "start_time": "2023-07-26T11:41:49.353Z"
   },
   {
    "duration": 1691,
    "start_time": "2023-07-26T11:42:01.497Z"
   },
   {
    "duration": 190,
    "start_time": "2023-07-26T11:42:03.190Z"
   },
   {
    "duration": 3,
    "start_time": "2023-07-26T11:42:15.608Z"
   },
   {
    "duration": 245,
    "start_time": "2023-07-26T11:42:15.613Z"
   },
   {
    "duration": 8,
    "start_time": "2023-07-26T11:42:15.860Z"
   },
   {
    "duration": 36,
    "start_time": "2023-07-26T11:42:15.870Z"
   },
   {
    "duration": 7,
    "start_time": "2023-07-26T11:42:15.908Z"
   },
   {
    "duration": 15,
    "start_time": "2023-07-26T11:42:15.916Z"
   },
   {
    "duration": 85,
    "start_time": "2023-07-26T11:42:15.933Z"
   },
   {
    "duration": 4,
    "start_time": "2023-07-26T11:42:16.019Z"
   },
   {
    "duration": 97,
    "start_time": "2023-07-26T11:42:16.024Z"
   },
   {
    "duration": 162,
    "start_time": "2023-07-26T11:42:16.123Z"
   },
   {
    "duration": 9,
    "start_time": "2023-07-26T11:42:16.288Z"
   },
   {
    "duration": 70,
    "start_time": "2023-07-26T11:42:16.299Z"
   },
   {
    "duration": 87,
    "start_time": "2023-07-26T11:42:16.371Z"
   },
   {
    "duration": 225,
    "start_time": "2023-07-26T11:42:16.460Z"
   },
   {
    "duration": 62,
    "start_time": "2023-07-26T11:42:16.687Z"
   },
   {
    "duration": 134,
    "start_time": "2023-07-26T11:42:16.751Z"
   },
   {
    "duration": 29,
    "start_time": "2023-07-26T11:42:16.887Z"
   },
   {
    "duration": 7,
    "start_time": "2023-07-26T11:42:16.932Z"
   },
   {
    "duration": 15,
    "start_time": "2023-07-26T11:42:16.941Z"
   },
   {
    "duration": 338,
    "start_time": "2023-07-26T11:42:16.957Z"
   },
   {
    "duration": 20,
    "start_time": "2023-07-26T11:42:17.296Z"
   },
   {
    "duration": 18,
    "start_time": "2023-07-26T11:42:17.318Z"
   },
   {
    "duration": 21,
    "start_time": "2023-07-26T11:42:17.338Z"
   },
   {
    "duration": 25,
    "start_time": "2023-07-26T11:42:17.361Z"
   },
   {
    "duration": 29,
    "start_time": "2023-07-26T11:42:17.388Z"
   },
   {
    "duration": 18,
    "start_time": "2023-07-26T11:42:17.419Z"
   },
   {
    "duration": 54,
    "start_time": "2023-07-26T11:42:17.439Z"
   },
   {
    "duration": 367,
    "start_time": "2023-07-26T11:42:17.496Z"
   },
   {
    "duration": 66,
    "start_time": "2023-07-26T11:42:17.865Z"
   },
   {
    "duration": 9,
    "start_time": "2023-07-26T11:42:17.934Z"
   },
   {
    "duration": 32,
    "start_time": "2023-07-26T11:42:17.945Z"
   },
   {
    "duration": 1177,
    "start_time": "2023-07-26T11:42:17.979Z"
   },
   {
    "duration": 169,
    "start_time": "2023-07-26T11:42:19.158Z"
   },
   {
    "duration": 5,
    "start_time": "2023-07-26T11:43:04.548Z"
   },
   {
    "duration": 1518,
    "start_time": "2023-07-26T11:43:08.544Z"
   },
   {
    "duration": 3,
    "start_time": "2023-07-26T11:43:13.086Z"
   },
   {
    "duration": 210,
    "start_time": "2023-07-26T11:43:13.092Z"
   },
   {
    "duration": 9,
    "start_time": "2023-07-26T11:43:13.304Z"
   },
   {
    "duration": 53,
    "start_time": "2023-07-26T11:43:13.314Z"
   },
   {
    "duration": 4,
    "start_time": "2023-07-26T11:43:13.370Z"
   },
   {
    "duration": 16,
    "start_time": "2023-07-26T11:43:13.375Z"
   },
   {
    "duration": 107,
    "start_time": "2023-07-26T11:43:13.392Z"
   },
   {
    "duration": 4,
    "start_time": "2023-07-26T11:43:13.501Z"
   },
   {
    "duration": 91,
    "start_time": "2023-07-26T11:43:13.507Z"
   },
   {
    "duration": 145,
    "start_time": "2023-07-26T11:43:13.600Z"
   },
   {
    "duration": 13,
    "start_time": "2023-07-26T11:43:13.749Z"
   },
   {
    "duration": 47,
    "start_time": "2023-07-26T11:43:13.763Z"
   },
   {
    "duration": 45,
    "start_time": "2023-07-26T11:43:13.813Z"
   },
   {
    "duration": 205,
    "start_time": "2023-07-26T11:43:13.862Z"
   },
   {
    "duration": 38,
    "start_time": "2023-07-26T11:43:14.068Z"
   },
   {
    "duration": 158,
    "start_time": "2023-07-26T11:43:14.108Z"
   },
   {
    "duration": 29,
    "start_time": "2023-07-26T11:43:14.267Z"
   },
   {
    "duration": 5,
    "start_time": "2023-07-26T11:43:14.297Z"
   },
   {
    "duration": 33,
    "start_time": "2023-07-26T11:43:14.304Z"
   },
   {
    "duration": 372,
    "start_time": "2023-07-26T11:43:14.339Z"
   },
   {
    "duration": 40,
    "start_time": "2023-07-26T11:43:14.713Z"
   },
   {
    "duration": 47,
    "start_time": "2023-07-26T11:43:14.755Z"
   },
   {
    "duration": 22,
    "start_time": "2023-07-26T11:43:14.805Z"
   },
   {
    "duration": 103,
    "start_time": "2023-07-26T11:43:14.829Z"
   },
   {
    "duration": 47,
    "start_time": "2023-07-26T11:43:14.934Z"
   },
   {
    "duration": 6,
    "start_time": "2023-07-26T11:43:14.983Z"
   },
   {
    "duration": 131,
    "start_time": "2023-07-26T11:43:14.991Z"
   },
   {
    "duration": 282,
    "start_time": "2023-07-26T11:43:15.124Z"
   },
   {
    "duration": 69,
    "start_time": "2023-07-26T11:43:15.407Z"
   },
   {
    "duration": 6,
    "start_time": "2023-07-26T11:43:15.478Z"
   },
   {
    "duration": 17,
    "start_time": "2023-07-26T11:43:15.485Z"
   },
   {
    "duration": 1232,
    "start_time": "2023-07-26T11:43:15.503Z"
   },
   {
    "duration": 179,
    "start_time": "2023-07-26T11:43:16.737Z"
   },
   {
    "duration": 147,
    "start_time": "2023-07-26T11:44:34.244Z"
   },
   {
    "duration": 142,
    "start_time": "2023-07-26T11:44:52.881Z"
   },
   {
    "duration": 141,
    "start_time": "2023-07-26T11:45:10.293Z"
   },
   {
    "duration": 152,
    "start_time": "2023-07-26T11:46:31.705Z"
   },
   {
    "duration": 139,
    "start_time": "2023-07-26T11:46:40.149Z"
   },
   {
    "duration": 2,
    "start_time": "2023-07-26T11:47:46.469Z"
   },
   {
    "duration": 521,
    "start_time": "2023-07-26T11:49:10.193Z"
   },
   {
    "duration": 140,
    "start_time": "2023-07-26T11:49:33.836Z"
   },
   {
    "duration": 15,
    "start_time": "2023-07-26T11:49:45.036Z"
   },
   {
    "duration": 8,
    "start_time": "2023-07-26T11:50:15.604Z"
   },
   {
    "duration": 9,
    "start_time": "2023-07-26T11:50:20.367Z"
   },
   {
    "duration": 629,
    "start_time": "2023-07-26T11:51:30.902Z"
   },
   {
    "duration": 188,
    "start_time": "2023-07-26T11:51:34.401Z"
   },
   {
    "duration": 155,
    "start_time": "2023-07-26T11:51:45.850Z"
   },
   {
    "duration": 193,
    "start_time": "2023-07-26T11:52:47.000Z"
   },
   {
    "duration": 182,
    "start_time": "2023-07-26T11:55:23.667Z"
   },
   {
    "duration": 9,
    "start_time": "2023-07-26T11:57:04.183Z"
   },
   {
    "duration": 199,
    "start_time": "2023-07-26T11:58:41.256Z"
   },
   {
    "duration": 151,
    "start_time": "2023-07-26T11:58:52.765Z"
   },
   {
    "duration": 11,
    "start_time": "2023-07-26T11:59:24.825Z"
   },
   {
    "duration": 9,
    "start_time": "2023-07-26T11:59:32.113Z"
   },
   {
    "duration": 142,
    "start_time": "2023-07-26T11:59:39.169Z"
   },
   {
    "duration": 4,
    "start_time": "2023-07-26T12:07:32.101Z"
   },
   {
    "duration": 412,
    "start_time": "2023-07-26T12:08:31.206Z"
   },
   {
    "duration": 261,
    "start_time": "2023-07-26T12:08:41.522Z"
   },
   {
    "duration": 160,
    "start_time": "2023-07-26T12:08:54.048Z"
   },
   {
    "duration": 151,
    "start_time": "2023-07-26T12:10:24.993Z"
   },
   {
    "duration": 278,
    "start_time": "2023-07-26T12:13:34.128Z"
   },
   {
    "duration": 149,
    "start_time": "2023-07-26T12:14:27.311Z"
   },
   {
    "duration": 137,
    "start_time": "2023-07-26T12:14:42.511Z"
   },
   {
    "duration": 146,
    "start_time": "2023-07-26T12:16:03.120Z"
   },
   {
    "duration": 155,
    "start_time": "2023-07-26T12:17:01.759Z"
   },
   {
    "duration": 145,
    "start_time": "2023-07-26T12:17:26.789Z"
   },
   {
    "duration": 153,
    "start_time": "2023-07-26T12:18:42.506Z"
   },
   {
    "duration": 155,
    "start_time": "2023-07-26T12:22:11.330Z"
   },
   {
    "duration": 160,
    "start_time": "2023-07-26T12:22:18.846Z"
   },
   {
    "duration": 201,
    "start_time": "2023-07-26T12:23:49.894Z"
   },
   {
    "duration": 156,
    "start_time": "2023-07-26T12:24:07.105Z"
   },
   {
    "duration": 8,
    "start_time": "2023-07-26T14:19:46.410Z"
   },
   {
    "duration": 2404,
    "start_time": "2023-07-26T21:53:01.893Z"
   },
   {
    "duration": 598,
    "start_time": "2023-07-26T21:53:04.299Z"
   },
   {
    "duration": 13,
    "start_time": "2023-07-26T21:53:04.899Z"
   },
   {
    "duration": 34,
    "start_time": "2023-07-26T21:53:07.373Z"
   },
   {
    "duration": 3,
    "start_time": "2023-07-26T21:53:08.358Z"
   },
   {
    "duration": 8,
    "start_time": "2023-07-26T21:53:08.798Z"
   },
   {
    "duration": 85,
    "start_time": "2023-07-26T21:53:09.333Z"
   },
   {
    "duration": 4,
    "start_time": "2023-07-26T21:53:10.050Z"
   },
   {
    "duration": 76,
    "start_time": "2023-07-26T21:53:13.490Z"
   },
   {
    "duration": 151,
    "start_time": "2023-07-26T21:53:16.199Z"
   },
   {
    "duration": 12,
    "start_time": "2023-07-26T21:53:16.589Z"
   },
   {
    "duration": 46,
    "start_time": "2023-07-26T21:53:18.753Z"
   },
   {
    "duration": 30,
    "start_time": "2023-07-26T21:53:19.612Z"
   },
   {
    "duration": 204,
    "start_time": "2023-07-26T21:53:29.687Z"
   },
   {
    "duration": 39,
    "start_time": "2023-07-26T21:53:33.526Z"
   },
   {
    "duration": 154,
    "start_time": "2023-07-26T21:53:35.738Z"
   },
   {
    "duration": 45,
    "start_time": "2023-07-26T21:53:40.255Z"
   },
   {
    "duration": 7,
    "start_time": "2023-07-26T21:53:41.186Z"
   },
   {
    "duration": 7,
    "start_time": "2023-07-26T21:53:41.701Z"
   },
   {
    "duration": 438,
    "start_time": "2023-07-26T21:53:42.626Z"
   },
   {
    "duration": 25,
    "start_time": "2023-07-26T21:53:45.794Z"
   },
   {
    "duration": 7,
    "start_time": "2023-07-26T21:53:48.997Z"
   },
   {
    "duration": 5,
    "start_time": "2023-07-26T21:53:49.548Z"
   },
   {
    "duration": 36,
    "start_time": "2023-07-26T21:54:01.763Z"
   },
   {
    "duration": 58,
    "start_time": "2023-07-26T21:54:04.568Z"
   },
   {
    "duration": 6,
    "start_time": "2023-07-26T21:54:05.215Z"
   },
   {
    "duration": 28,
    "start_time": "2023-07-26T21:54:15.695Z"
   },
   {
    "duration": 230,
    "start_time": "2023-07-26T21:54:33.765Z"
   },
   {
    "duration": 68,
    "start_time": "2023-07-26T21:54:48.530Z"
   },
   {
    "duration": 8,
    "start_time": "2023-07-26T21:54:57.487Z"
   },
   {
    "duration": 8,
    "start_time": "2023-07-26T21:54:58.656Z"
   },
   {
    "duration": 220,
    "start_time": "2023-07-26T21:55:13.269Z"
   },
   {
    "duration": 10,
    "start_time": "2023-07-26T21:55:21.976Z"
   },
   {
    "duration": 2875,
    "start_time": "2023-07-26T22:08:41.365Z"
   },
   {
    "duration": 3,
    "start_time": "2023-07-26T22:09:03.314Z"
   },
   {
    "duration": 8,
    "start_time": "2023-07-26T22:09:08.816Z"
   },
   {
    "duration": 11,
    "start_time": "2023-07-26T22:11:52.234Z"
   },
   {
    "duration": 8,
    "start_time": "2023-07-26T22:15:35.932Z"
   },
   {
    "duration": 10,
    "start_time": "2023-07-26T22:15:49.542Z"
   },
   {
    "duration": 10,
    "start_time": "2023-07-26T22:16:03.580Z"
   },
   {
    "duration": 12,
    "start_time": "2023-07-26T22:16:18.620Z"
   },
   {
    "duration": 9,
    "start_time": "2023-07-26T22:16:30.486Z"
   },
   {
    "duration": 10,
    "start_time": "2023-07-26T22:16:36.684Z"
   },
   {
    "duration": 684,
    "start_time": "2023-07-26T22:17:15.901Z"
   },
   {
    "duration": 56,
    "start_time": "2023-07-26T22:17:39.264Z"
   },
   {
    "duration": 10,
    "start_time": "2023-07-26T22:17:50.928Z"
   },
   {
    "duration": 23,
    "start_time": "2023-07-26T22:17:57.543Z"
   },
   {
    "duration": 6,
    "start_time": "2023-07-26T22:18:51.618Z"
   },
   {
    "duration": 8,
    "start_time": "2023-07-26T22:18:52.722Z"
   },
   {
    "duration": 166,
    "start_time": "2023-07-26T22:18:59.868Z"
   },
   {
    "duration": 7,
    "start_time": "2023-07-26T22:19:03.963Z"
   },
   {
    "duration": 13,
    "start_time": "2023-07-26T22:21:38.952Z"
   },
   {
    "duration": 9,
    "start_time": "2023-07-26T22:23:24.566Z"
   },
   {
    "duration": 4,
    "start_time": "2023-07-26T22:24:24.543Z"
   },
   {
    "duration": 3,
    "start_time": "2023-07-26T22:24:28.171Z"
   },
   {
    "duration": 13,
    "start_time": "2023-07-26T22:24:37.135Z"
   },
   {
    "duration": 7,
    "start_time": "2023-07-26T22:24:46.443Z"
   },
   {
    "duration": 12,
    "start_time": "2023-07-26T22:24:59.487Z"
   },
   {
    "duration": 3,
    "start_time": "2023-07-26T22:25:04.051Z"
   },
   {
    "duration": 1165,
    "start_time": "2023-07-26T22:25:25.708Z"
   },
   {
    "duration": 163,
    "start_time": "2023-07-26T22:25:26.874Z"
   },
   {
    "duration": 10,
    "start_time": "2023-07-26T22:25:27.039Z"
   },
   {
    "duration": 29,
    "start_time": "2023-07-26T22:25:27.051Z"
   },
   {
    "duration": 3,
    "start_time": "2023-07-26T22:25:27.081Z"
   },
   {
    "duration": 13,
    "start_time": "2023-07-26T22:25:27.085Z"
   },
   {
    "duration": 83,
    "start_time": "2023-07-26T22:25:27.100Z"
   },
   {
    "duration": 3,
    "start_time": "2023-07-26T22:25:27.185Z"
   },
   {
    "duration": 75,
    "start_time": "2023-07-26T22:25:27.190Z"
   },
   {
    "duration": 112,
    "start_time": "2023-07-26T22:25:27.270Z"
   },
   {
    "duration": 9,
    "start_time": "2023-07-26T22:25:27.384Z"
   },
   {
    "duration": 47,
    "start_time": "2023-07-26T22:25:27.394Z"
   },
   {
    "duration": 45,
    "start_time": "2023-07-26T22:25:27.442Z"
   },
   {
    "duration": 178,
    "start_time": "2023-07-26T22:25:27.489Z"
   },
   {
    "duration": 42,
    "start_time": "2023-07-26T22:25:27.668Z"
   },
   {
    "duration": 142,
    "start_time": "2023-07-26T22:25:27.711Z"
   },
   {
    "duration": 41,
    "start_time": "2023-07-26T22:25:27.854Z"
   },
   {
    "duration": 5,
    "start_time": "2023-07-26T22:25:27.897Z"
   },
   {
    "duration": 12,
    "start_time": "2023-07-26T22:25:27.903Z"
   },
   {
    "duration": 382,
    "start_time": "2023-07-26T22:25:27.917Z"
   },
   {
    "duration": 21,
    "start_time": "2023-07-26T22:25:28.301Z"
   },
   {
    "duration": 15,
    "start_time": "2023-07-26T22:25:28.323Z"
   },
   {
    "duration": 36,
    "start_time": "2023-07-26T22:25:28.340Z"
   },
   {
    "duration": 55,
    "start_time": "2023-07-26T22:25:28.377Z"
   },
   {
    "duration": 30,
    "start_time": "2023-07-26T22:25:28.434Z"
   },
   {
    "duration": 4,
    "start_time": "2023-07-26T22:25:28.466Z"
   },
   {
    "duration": 29,
    "start_time": "2023-07-26T22:25:28.471Z"
   },
   {
    "duration": 193,
    "start_time": "2023-07-26T22:25:28.503Z"
   },
   {
    "duration": 51,
    "start_time": "2023-07-26T22:25:28.698Z"
   },
   {
    "duration": 20,
    "start_time": "2023-07-26T22:25:28.751Z"
   },
   {
    "duration": 9,
    "start_time": "2023-07-26T22:25:28.772Z"
   },
   {
    "duration": 190,
    "start_time": "2023-07-26T22:25:28.782Z"
   },
   {
    "duration": 7,
    "start_time": "2023-07-26T22:25:28.974Z"
   },
   {
    "duration": 9,
    "start_time": "2023-07-26T22:25:28.983Z"
   },
   {
    "duration": 5,
    "start_time": "2023-07-26T22:25:28.993Z"
   },
   {
    "duration": 3,
    "start_time": "2023-07-26T22:25:45.572Z"
   },
   {
    "duration": 2,
    "start_time": "2023-07-26T22:25:59.576Z"
   },
   {
    "duration": 9,
    "start_time": "2023-07-26T22:26:00.076Z"
   },
   {
    "duration": 109,
    "start_time": "2023-07-26T22:26:54.904Z"
   },
   {
    "duration": 8,
    "start_time": "2023-07-26T22:27:02.034Z"
   },
   {
    "duration": 6,
    "start_time": "2023-07-26T22:31:08.642Z"
   },
   {
    "duration": 8,
    "start_time": "2023-07-26T22:31:09.258Z"
   },
   {
    "duration": 6,
    "start_time": "2023-07-26T22:31:19.097Z"
   },
   {
    "duration": 9,
    "start_time": "2023-07-26T22:31:20.082Z"
   },
   {
    "duration": 2649,
    "start_time": "2023-07-26T22:32:25.193Z"
   },
   {
    "duration": 0,
    "start_time": "2023-07-26T22:32:27.843Z"
   },
   {
    "duration": 6,
    "start_time": "2023-07-26T22:32:29.159Z"
   },
   {
    "duration": 4,
    "start_time": "2023-07-26T22:32:33.692Z"
   },
   {
    "duration": 9,
    "start_time": "2023-07-26T22:32:34.467Z"
   },
   {
    "duration": 7,
    "start_time": "2023-07-26T22:33:05.070Z"
   },
   {
    "duration": 4,
    "start_time": "2023-07-26T22:33:05.631Z"
   },
   {
    "duration": 12,
    "start_time": "2023-07-26T22:33:06.407Z"
   },
   {
    "duration": 5,
    "start_time": "2023-07-26T23:10:33.682Z"
   },
   {
    "duration": 10,
    "start_time": "2023-07-26T23:10:40.786Z"
   },
   {
    "duration": 1092,
    "start_time": "2023-07-26T23:13:28.106Z"
   },
   {
    "duration": 175,
    "start_time": "2023-07-26T23:13:29.200Z"
   },
   {
    "duration": 10,
    "start_time": "2023-07-26T23:13:29.377Z"
   },
   {
    "duration": 27,
    "start_time": "2023-07-26T23:13:29.389Z"
   },
   {
    "duration": 2,
    "start_time": "2023-07-26T23:13:29.419Z"
   },
   {
    "duration": 24,
    "start_time": "2023-07-26T23:13:29.423Z"
   },
   {
    "duration": 85,
    "start_time": "2023-07-26T23:13:29.449Z"
   },
   {
    "duration": 4,
    "start_time": "2023-07-26T23:13:29.536Z"
   },
   {
    "duration": 91,
    "start_time": "2023-07-26T23:13:29.542Z"
   },
   {
    "duration": 119,
    "start_time": "2023-07-26T23:13:29.635Z"
   },
   {
    "duration": 15,
    "start_time": "2023-07-26T23:13:29.756Z"
   },
   {
    "duration": 42,
    "start_time": "2023-07-26T23:13:29.774Z"
   },
   {
    "duration": 31,
    "start_time": "2023-07-26T23:13:29.818Z"
   },
   {
    "duration": 189,
    "start_time": "2023-07-26T23:13:29.853Z"
   },
   {
    "duration": 54,
    "start_time": "2023-07-26T23:13:30.044Z"
   },
   {
    "duration": 137,
    "start_time": "2023-07-26T23:13:30.099Z"
   },
   {
    "duration": 44,
    "start_time": "2023-07-26T23:13:30.237Z"
   },
   {
    "duration": 6,
    "start_time": "2023-07-26T23:13:30.283Z"
   },
   {
    "duration": 44,
    "start_time": "2023-07-26T23:13:30.290Z"
   },
   {
    "duration": 431,
    "start_time": "2023-07-26T23:13:30.336Z"
   },
   {
    "duration": 22,
    "start_time": "2023-07-26T23:13:30.768Z"
   },
   {
    "duration": 19,
    "start_time": "2023-07-26T23:13:30.792Z"
   },
   {
    "duration": 38,
    "start_time": "2023-07-26T23:13:30.813Z"
   },
   {
    "duration": 64,
    "start_time": "2023-07-26T23:13:30.853Z"
   },
   {
    "duration": 42,
    "start_time": "2023-07-26T23:13:30.919Z"
   },
   {
    "duration": 5,
    "start_time": "2023-07-26T23:13:30.962Z"
   },
   {
    "duration": 53,
    "start_time": "2023-07-26T23:13:30.969Z"
   },
   {
    "duration": 225,
    "start_time": "2023-07-26T23:13:31.024Z"
   },
   {
    "duration": 65,
    "start_time": "2023-07-26T23:13:31.250Z"
   },
   {
    "duration": 6,
    "start_time": "2023-07-26T23:13:31.317Z"
   },
   {
    "duration": 17,
    "start_time": "2023-07-26T23:13:31.325Z"
   },
   {
    "duration": 187,
    "start_time": "2023-07-26T23:13:31.344Z"
   },
   {
    "duration": 8,
    "start_time": "2023-07-26T23:13:31.533Z"
   },
   {
    "duration": 33,
    "start_time": "2023-07-26T23:13:31.542Z"
   },
   {
    "duration": 25,
    "start_time": "2023-07-26T23:13:31.576Z"
   },
   {
    "duration": 46,
    "start_time": "2023-07-26T23:13:31.602Z"
   },
   {
    "duration": 19,
    "start_time": "2023-07-26T23:13:31.649Z"
   },
   {
    "duration": 28,
    "start_time": "2023-07-26T23:13:31.670Z"
   },
   {
    "duration": 6,
    "start_time": "2023-07-26T23:15:35.684Z"
   },
   {
    "duration": 9,
    "start_time": "2023-07-26T23:15:39.303Z"
   },
   {
    "duration": 3998,
    "start_time": "2023-07-26T23:16:11.788Z"
   },
   {
    "duration": 0,
    "start_time": "2023-07-26T23:16:15.788Z"
   },
   {
    "duration": 5,
    "start_time": "2023-07-26T23:16:24.118Z"
   },
   {
    "duration": 9,
    "start_time": "2023-07-26T23:16:25.646Z"
   },
   {
    "duration": 4,
    "start_time": "2023-07-26T23:17:05.900Z"
   },
   {
    "duration": 8,
    "start_time": "2023-07-26T23:17:06.429Z"
   },
   {
    "duration": 1142,
    "start_time": "2023-07-26T23:19:46.718Z"
   },
   {
    "duration": 161,
    "start_time": "2023-07-26T23:19:47.862Z"
   },
   {
    "duration": 10,
    "start_time": "2023-07-26T23:19:48.025Z"
   },
   {
    "duration": 24,
    "start_time": "2023-07-26T23:19:48.037Z"
   },
   {
    "duration": 8,
    "start_time": "2023-07-26T23:19:48.063Z"
   },
   {
    "duration": 19,
    "start_time": "2023-07-26T23:19:48.072Z"
   },
   {
    "duration": 81,
    "start_time": "2023-07-26T23:19:48.093Z"
   },
   {
    "duration": 4,
    "start_time": "2023-07-26T23:19:48.175Z"
   },
   {
    "duration": 83,
    "start_time": "2023-07-26T23:19:48.181Z"
   },
   {
    "duration": 112,
    "start_time": "2023-07-26T23:19:48.266Z"
   },
   {
    "duration": 9,
    "start_time": "2023-07-26T23:19:48.379Z"
   },
   {
    "duration": 34,
    "start_time": "2023-07-26T23:19:48.389Z"
   },
   {
    "duration": 29,
    "start_time": "2023-07-26T23:19:48.424Z"
   },
   {
    "duration": 179,
    "start_time": "2023-07-26T23:19:48.472Z"
   },
   {
    "duration": 50,
    "start_time": "2023-07-26T23:19:48.653Z"
   },
   {
    "duration": 165,
    "start_time": "2023-07-26T23:19:48.705Z"
   },
   {
    "duration": 40,
    "start_time": "2023-07-26T23:19:48.872Z"
   },
   {
    "duration": 7,
    "start_time": "2023-07-26T23:19:48.914Z"
   },
   {
    "duration": 16,
    "start_time": "2023-07-26T23:19:48.923Z"
   },
   {
    "duration": 402,
    "start_time": "2023-07-26T23:19:48.941Z"
   },
   {
    "duration": 27,
    "start_time": "2023-07-26T23:19:49.345Z"
   },
   {
    "duration": 5,
    "start_time": "2023-07-26T23:19:49.374Z"
   },
   {
    "duration": 5,
    "start_time": "2023-07-26T23:19:49.381Z"
   },
   {
    "duration": 25,
    "start_time": "2023-07-26T23:19:49.387Z"
   },
   {
    "duration": 30,
    "start_time": "2023-07-26T23:19:49.414Z"
   },
   {
    "duration": 26,
    "start_time": "2023-07-26T23:19:49.446Z"
   },
   {
    "duration": 25,
    "start_time": "2023-07-26T23:19:49.474Z"
   },
   {
    "duration": 213,
    "start_time": "2023-07-26T23:19:49.500Z"
   },
   {
    "duration": 63,
    "start_time": "2023-07-26T23:19:49.715Z"
   },
   {
    "duration": 6,
    "start_time": "2023-07-26T23:19:49.779Z"
   },
   {
    "duration": 30,
    "start_time": "2023-07-26T23:19:49.787Z"
   },
   {
    "duration": 166,
    "start_time": "2023-07-26T23:19:49.819Z"
   },
   {
    "duration": 7,
    "start_time": "2023-07-26T23:19:49.987Z"
   },
   {
    "duration": 22,
    "start_time": "2023-07-26T23:19:49.995Z"
   },
   {
    "duration": 11,
    "start_time": "2023-07-26T23:19:50.019Z"
   },
   {
    "duration": 8,
    "start_time": "2023-07-26T23:19:50.032Z"
   },
   {
    "duration": 6,
    "start_time": "2023-07-26T23:19:50.042Z"
   },
   {
    "duration": 11,
    "start_time": "2023-07-26T23:19:50.049Z"
   },
   {
    "duration": 543,
    "start_time": "2023-07-26T23:21:25.160Z"
   },
   {
    "duration": 33,
    "start_time": "2023-07-26T23:21:49.834Z"
   },
   {
    "duration": 5,
    "start_time": "2023-07-26T23:23:11.239Z"
   },
   {
    "duration": 9,
    "start_time": "2023-07-26T23:23:14.258Z"
   },
   {
    "duration": 6,
    "start_time": "2023-07-26T23:23:31.939Z"
   },
   {
    "duration": 9,
    "start_time": "2023-07-26T23:23:33.332Z"
   },
   {
    "duration": 5,
    "start_time": "2023-07-26T23:23:41.728Z"
   },
   {
    "duration": 8,
    "start_time": "2023-07-26T23:23:43.122Z"
   },
   {
    "duration": 33,
    "start_time": "2023-07-26T23:24:20.685Z"
   },
   {
    "duration": 6,
    "start_time": "2023-07-26T23:25:56.275Z"
   },
   {
    "duration": 8,
    "start_time": "2023-07-26T23:25:56.520Z"
   },
   {
    "duration": 5,
    "start_time": "2023-07-26T23:27:08.706Z"
   },
   {
    "duration": 9,
    "start_time": "2023-07-26T23:27:09.237Z"
   },
   {
    "duration": 1065,
    "start_time": "2023-07-26T23:28:14.519Z"
   },
   {
    "duration": 166,
    "start_time": "2023-07-26T23:28:15.586Z"
   },
   {
    "duration": 10,
    "start_time": "2023-07-26T23:28:15.754Z"
   },
   {
    "duration": 47,
    "start_time": "2023-07-26T23:28:15.766Z"
   },
   {
    "duration": 3,
    "start_time": "2023-07-26T23:28:15.815Z"
   },
   {
    "duration": 41,
    "start_time": "2023-07-26T23:28:15.819Z"
   },
   {
    "duration": 83,
    "start_time": "2023-07-26T23:28:15.861Z"
   },
   {
    "duration": 3,
    "start_time": "2023-07-26T23:28:15.946Z"
   },
   {
    "duration": 109,
    "start_time": "2023-07-26T23:28:15.951Z"
   },
   {
    "duration": 105,
    "start_time": "2023-07-26T23:28:16.062Z"
   },
   {
    "duration": 10,
    "start_time": "2023-07-26T23:28:16.169Z"
   },
   {
    "duration": 55,
    "start_time": "2023-07-26T23:28:16.181Z"
   },
   {
    "duration": 44,
    "start_time": "2023-07-26T23:28:16.238Z"
   },
   {
    "duration": 201,
    "start_time": "2023-07-26T23:28:16.284Z"
   },
   {
    "duration": 36,
    "start_time": "2023-07-26T23:28:16.487Z"
   },
   {
    "duration": 141,
    "start_time": "2023-07-26T23:28:16.525Z"
   },
   {
    "duration": 33,
    "start_time": "2023-07-26T23:28:16.671Z"
   },
   {
    "duration": 5,
    "start_time": "2023-07-26T23:28:16.706Z"
   },
   {
    "duration": 13,
    "start_time": "2023-07-26T23:28:16.712Z"
   },
   {
    "duration": 413,
    "start_time": "2023-07-26T23:28:16.727Z"
   },
   {
    "duration": 29,
    "start_time": "2023-07-26T23:28:17.142Z"
   },
   {
    "duration": 5,
    "start_time": "2023-07-26T23:28:17.172Z"
   },
   {
    "duration": 7,
    "start_time": "2023-07-26T23:28:17.179Z"
   },
   {
    "duration": 34,
    "start_time": "2023-07-26T23:28:17.187Z"
   },
   {
    "duration": 48,
    "start_time": "2023-07-26T23:28:17.223Z"
   },
   {
    "duration": 6,
    "start_time": "2023-07-26T23:28:17.272Z"
   },
   {
    "duration": 37,
    "start_time": "2023-07-26T23:28:17.279Z"
   },
   {
    "duration": 203,
    "start_time": "2023-07-26T23:28:17.319Z"
   },
   {
    "duration": 60,
    "start_time": "2023-07-26T23:28:17.524Z"
   },
   {
    "duration": 7,
    "start_time": "2023-07-26T23:28:17.585Z"
   },
   {
    "duration": 17,
    "start_time": "2023-07-26T23:28:17.593Z"
   },
   {
    "duration": 176,
    "start_time": "2023-07-26T23:28:17.612Z"
   },
   {
    "duration": 8,
    "start_time": "2023-07-26T23:28:17.790Z"
   },
   {
    "duration": 16,
    "start_time": "2023-07-26T23:28:17.799Z"
   },
   {
    "duration": 10,
    "start_time": "2023-07-26T23:28:17.817Z"
   },
   {
    "duration": 12,
    "start_time": "2023-07-26T23:28:17.829Z"
   },
   {
    "duration": 72,
    "start_time": "2023-07-26T23:28:17.843Z"
   },
   {
    "duration": 40,
    "start_time": "2023-07-26T23:28:17.917Z"
   },
   {
    "duration": 269,
    "start_time": "2023-07-26T23:53:01.405Z"
   },
   {
    "duration": 1303,
    "start_time": "2023-07-28T22:29:09.036Z"
   },
   {
    "duration": 520,
    "start_time": "2023-07-28T22:29:10.341Z"
   },
   {
    "duration": 10,
    "start_time": "2023-07-28T22:29:10.863Z"
   },
   {
    "duration": 22,
    "start_time": "2023-07-28T22:29:10.874Z"
   },
   {
    "duration": 6,
    "start_time": "2023-07-28T22:29:10.898Z"
   },
   {
    "duration": 20,
    "start_time": "2023-07-28T22:29:10.906Z"
   },
   {
    "duration": 70,
    "start_time": "2023-07-28T22:29:10.927Z"
   },
   {
    "duration": 4,
    "start_time": "2023-07-28T22:29:10.999Z"
   },
   {
    "duration": 91,
    "start_time": "2023-07-28T22:29:11.005Z"
   },
   {
    "duration": 104,
    "start_time": "2023-07-28T22:29:11.097Z"
   },
   {
    "duration": 14,
    "start_time": "2023-07-28T22:29:11.203Z"
   },
   {
    "duration": 30,
    "start_time": "2023-07-28T22:29:11.219Z"
   },
   {
    "duration": 28,
    "start_time": "2023-07-28T22:29:11.250Z"
   },
   {
    "duration": 186,
    "start_time": "2023-07-28T22:29:11.281Z"
   },
   {
    "duration": 48,
    "start_time": "2023-07-28T22:29:11.469Z"
   },
   {
    "duration": 138,
    "start_time": "2023-07-28T22:29:11.518Z"
   },
   {
    "duration": 28,
    "start_time": "2023-07-28T22:29:11.658Z"
   },
   {
    "duration": 17,
    "start_time": "2023-07-28T22:29:11.687Z"
   },
   {
    "duration": 9,
    "start_time": "2023-07-28T22:29:11.709Z"
   },
   {
    "duration": 382,
    "start_time": "2023-07-28T22:29:11.719Z"
   },
   {
    "duration": 23,
    "start_time": "2023-07-28T22:29:12.103Z"
   },
   {
    "duration": 4,
    "start_time": "2023-07-28T22:29:12.128Z"
   },
   {
    "duration": 12,
    "start_time": "2023-07-28T22:29:12.134Z"
   },
   {
    "duration": 23,
    "start_time": "2023-07-28T22:29:12.148Z"
   },
   {
    "duration": 43,
    "start_time": "2023-07-28T22:29:12.172Z"
   },
   {
    "duration": 4,
    "start_time": "2023-07-28T22:29:12.217Z"
   },
   {
    "duration": 33,
    "start_time": "2023-07-28T22:29:12.222Z"
   },
   {
    "duration": 204,
    "start_time": "2023-07-28T22:29:12.256Z"
   },
   {
    "duration": 57,
    "start_time": "2023-07-28T22:29:12.461Z"
   },
   {
    "duration": 7,
    "start_time": "2023-07-28T22:29:12.520Z"
   },
   {
    "duration": 8,
    "start_time": "2023-07-28T22:29:12.529Z"
   },
   {
    "duration": 188,
    "start_time": "2023-07-28T22:29:12.538Z"
   },
   {
    "duration": 6,
    "start_time": "2023-07-28T22:29:12.728Z"
   },
   {
    "duration": 20,
    "start_time": "2023-07-28T22:29:12.736Z"
   },
   {
    "duration": 8,
    "start_time": "2023-07-28T22:29:12.757Z"
   },
   {
    "duration": 6,
    "start_time": "2023-07-28T22:29:12.767Z"
   },
   {
    "duration": 19,
    "start_time": "2023-07-28T22:29:12.775Z"
   },
   {
    "duration": 26,
    "start_time": "2023-07-28T22:29:12.795Z"
   },
   {
    "duration": 31,
    "start_time": "2023-07-28T22:30:51.920Z"
   },
   {
    "duration": 1259,
    "start_time": "2023-07-29T09:16:39.706Z"
   },
   {
    "duration": 717,
    "start_time": "2023-07-29T09:16:40.967Z"
   },
   {
    "duration": 10,
    "start_time": "2023-07-29T09:16:41.686Z"
   },
   {
    "duration": 25,
    "start_time": "2023-07-29T09:16:41.698Z"
   },
   {
    "duration": 3,
    "start_time": "2023-07-29T09:16:41.724Z"
   },
   {
    "duration": 12,
    "start_time": "2023-07-29T09:16:41.729Z"
   },
   {
    "duration": 77,
    "start_time": "2023-07-29T09:16:41.743Z"
   },
   {
    "duration": 5,
    "start_time": "2023-07-29T09:16:41.822Z"
   },
   {
    "duration": 84,
    "start_time": "2023-07-29T09:16:41.829Z"
   },
   {
    "duration": 108,
    "start_time": "2023-07-29T09:16:41.916Z"
   },
   {
    "duration": 9,
    "start_time": "2023-07-29T09:16:42.026Z"
   },
   {
    "duration": 42,
    "start_time": "2023-07-29T09:16:42.036Z"
   },
   {
    "duration": 27,
    "start_time": "2023-07-29T09:16:42.079Z"
   },
   {
    "duration": 186,
    "start_time": "2023-07-29T09:16:42.109Z"
   },
   {
    "duration": 37,
    "start_time": "2023-07-29T09:16:42.296Z"
   },
   {
    "duration": 136,
    "start_time": "2023-07-29T09:16:42.335Z"
   },
   {
    "duration": 31,
    "start_time": "2023-07-29T09:16:42.473Z"
   },
   {
    "duration": 6,
    "start_time": "2023-07-29T09:16:42.506Z"
   },
   {
    "duration": 6,
    "start_time": "2023-07-29T09:16:42.513Z"
   },
   {
    "duration": 402,
    "start_time": "2023-07-29T09:16:42.521Z"
   },
   {
    "duration": 20,
    "start_time": "2023-07-29T09:16:42.924Z"
   },
   {
    "duration": 6,
    "start_time": "2023-07-29T09:16:42.955Z"
   },
   {
    "duration": 8,
    "start_time": "2023-07-29T09:16:42.962Z"
   },
   {
    "duration": 24,
    "start_time": "2023-07-29T09:16:42.971Z"
   },
   {
    "duration": 32,
    "start_time": "2023-07-29T09:16:42.996Z"
   },
   {
    "duration": 5,
    "start_time": "2023-07-29T09:16:43.056Z"
   },
   {
    "duration": 30,
    "start_time": "2023-07-29T09:16:43.063Z"
   },
   {
    "duration": 194,
    "start_time": "2023-07-29T09:16:43.096Z"
   },
   {
    "duration": 52,
    "start_time": "2023-07-29T09:16:43.291Z"
   },
   {
    "duration": 14,
    "start_time": "2023-07-29T09:16:43.344Z"
   },
   {
    "duration": 10,
    "start_time": "2023-07-29T09:16:43.359Z"
   },
   {
    "duration": 171,
    "start_time": "2023-07-29T09:16:43.370Z"
   },
   {
    "duration": 13,
    "start_time": "2023-07-29T09:16:43.543Z"
   },
   {
    "duration": 4,
    "start_time": "2023-07-29T09:16:43.557Z"
   },
   {
    "duration": 13,
    "start_time": "2023-07-29T09:16:43.563Z"
   },
   {
    "duration": 8,
    "start_time": "2023-07-29T09:16:43.577Z"
   },
   {
    "duration": 8,
    "start_time": "2023-07-29T09:16:43.586Z"
   },
   {
    "duration": 13,
    "start_time": "2023-07-29T09:16:43.595Z"
   },
   {
    "duration": 5,
    "start_time": "2023-07-29T09:16:43.610Z"
   },
   {
    "duration": 47,
    "start_time": "2023-07-29T09:16:43.617Z"
   },
   {
    "duration": 3,
    "start_time": "2023-07-29T09:16:43.665Z"
   },
   {
    "duration": 3,
    "start_time": "2023-07-29T09:17:01.838Z"
   },
   {
    "duration": 13,
    "start_time": "2023-07-29T09:18:25.733Z"
   },
   {
    "duration": 101,
    "start_time": "2023-07-29T09:19:17.361Z"
   },
   {
    "duration": 14,
    "start_time": "2023-07-29T09:19:23.811Z"
   },
   {
    "duration": 12,
    "start_time": "2023-07-29T09:19:39.569Z"
   },
   {
    "duration": 49,
    "start_time": "2023-07-29T09:21:58.579Z"
   },
   {
    "duration": 51,
    "start_time": "2023-07-29T09:22:22.582Z"
   },
   {
    "duration": 55,
    "start_time": "2023-07-29T09:22:27.239Z"
   },
   {
    "duration": 76,
    "start_time": "2023-07-29T09:22:49.775Z"
   },
   {
    "duration": 77,
    "start_time": "2023-07-29T09:23:22.982Z"
   },
   {
    "duration": 73,
    "start_time": "2023-07-29T09:23:32.589Z"
   },
   {
    "duration": 76,
    "start_time": "2023-07-29T09:23:45.694Z"
   },
   {
    "duration": 89,
    "start_time": "2023-07-29T09:23:59.193Z"
   },
   {
    "duration": 83,
    "start_time": "2023-07-29T09:25:02.297Z"
   },
   {
    "duration": 90,
    "start_time": "2023-07-29T09:26:48.879Z"
   },
   {
    "duration": 180,
    "start_time": "2023-07-29T09:27:10.079Z"
   },
   {
    "duration": 198,
    "start_time": "2023-07-29T09:27:17.946Z"
   },
   {
    "duration": 262,
    "start_time": "2023-07-29T09:56:30.074Z"
   },
   {
    "duration": 189,
    "start_time": "2023-07-29T09:56:42.475Z"
   },
   {
    "duration": 165,
    "start_time": "2023-07-29T09:57:40.442Z"
   },
   {
    "duration": 174,
    "start_time": "2023-07-29T09:58:06.229Z"
   },
   {
    "duration": 169,
    "start_time": "2023-07-29T09:58:33.548Z"
   },
   {
    "duration": 159,
    "start_time": "2023-07-29T09:59:02.823Z"
   },
   {
    "duration": 150,
    "start_time": "2023-07-29T09:59:47.862Z"
   },
   {
    "duration": 174,
    "start_time": "2023-07-29T10:00:06.709Z"
   },
   {
    "duration": 1860,
    "start_time": "2023-07-29T10:00:54.654Z"
   },
   {
    "duration": 165,
    "start_time": "2023-07-29T10:01:04.101Z"
   },
   {
    "duration": 135,
    "start_time": "2023-07-29T10:01:24.601Z"
   },
   {
    "duration": 215,
    "start_time": "2023-07-29T10:02:08.635Z"
   },
   {
    "duration": 12,
    "start_time": "2023-07-29T10:05:10.352Z"
   },
   {
    "duration": 11,
    "start_time": "2023-07-29T10:05:42.276Z"
   },
   {
    "duration": 189,
    "start_time": "2023-07-29T10:05:49.947Z"
   },
   {
    "duration": 305,
    "start_time": "2023-07-29T10:05:56.626Z"
   },
   {
    "duration": 16,
    "start_time": "2023-07-29T10:06:16.838Z"
   },
   {
    "duration": 188,
    "start_time": "2023-07-29T10:06:33.859Z"
   },
   {
    "duration": 136,
    "start_time": "2023-07-29T10:06:40.577Z"
   },
   {
    "duration": 138,
    "start_time": "2023-07-29T10:11:14.494Z"
   },
   {
    "duration": 192,
    "start_time": "2023-07-29T10:11:23.223Z"
   },
   {
    "duration": 192,
    "start_time": "2023-07-29T10:11:48.217Z"
   },
   {
    "duration": 188,
    "start_time": "2023-07-29T10:12:25.716Z"
   },
   {
    "duration": 193,
    "start_time": "2023-07-29T10:12:32.427Z"
   },
   {
    "duration": 192,
    "start_time": "2023-07-29T10:12:51.815Z"
   },
   {
    "duration": 208,
    "start_time": "2023-07-29T10:13:04.243Z"
   },
   {
    "duration": 65,
    "start_time": "2023-07-29T10:20:34.130Z"
   },
   {
    "duration": 4,
    "start_time": "2023-07-29T10:27:10.851Z"
   },
   {
    "duration": 2,
    "start_time": "2023-07-29T10:27:11.293Z"
   },
   {
    "duration": 8,
    "start_time": "2023-07-29T10:28:32.296Z"
   },
   {
    "duration": 3,
    "start_time": "2023-07-29T10:31:01.768Z"
   },
   {
    "duration": 7,
    "start_time": "2023-07-29T10:42:29.599Z"
   },
   {
    "duration": 8,
    "start_time": "2023-07-29T10:44:33.976Z"
   },
   {
    "duration": 107,
    "start_time": "2023-07-29T10:46:34.282Z"
   },
   {
    "duration": 15,
    "start_time": "2023-07-29T10:46:47.644Z"
   },
   {
    "duration": 1512,
    "start_time": "2023-07-29T10:47:10.670Z"
   },
   {
    "duration": 1301,
    "start_time": "2023-07-29T10:48:00.410Z"
   },
   {
    "duration": 7,
    "start_time": "2023-07-29T10:50:13.101Z"
   },
   {
    "duration": 95,
    "start_time": "2023-07-29T10:51:53.856Z"
   },
   {
    "duration": 73,
    "start_time": "2023-07-29T10:52:02.832Z"
   },
   {
    "duration": 104,
    "start_time": "2023-07-29T10:52:24.106Z"
   },
   {
    "duration": 89,
    "start_time": "2023-07-29T10:53:01.604Z"
   },
   {
    "duration": 219,
    "start_time": "2023-07-29T10:53:03.754Z"
   },
   {
    "duration": 78,
    "start_time": "2023-07-29T10:53:15.257Z"
   },
   {
    "duration": 79,
    "start_time": "2023-07-29T10:53:21.071Z"
   },
   {
    "duration": 306,
    "start_time": "2023-07-29T10:53:22.586Z"
   },
   {
    "duration": 91,
    "start_time": "2023-07-29T10:54:26.747Z"
   },
   {
    "duration": 218,
    "start_time": "2023-07-29T10:54:28.628Z"
   },
   {
    "duration": 8,
    "start_time": "2023-07-29T10:55:59.234Z"
   },
   {
    "duration": 8,
    "start_time": "2023-07-29T10:56:25.347Z"
   },
   {
    "duration": 88,
    "start_time": "2023-07-29T10:57:58.699Z"
   },
   {
    "duration": 195,
    "start_time": "2023-07-29T10:57:59.361Z"
   },
   {
    "duration": 7,
    "start_time": "2023-07-29T12:40:02.454Z"
   },
   {
    "duration": 5,
    "start_time": "2023-07-29T12:42:45.662Z"
   },
   {
    "duration": 4,
    "start_time": "2023-07-29T12:44:10.639Z"
   },
   {
    "duration": 9,
    "start_time": "2023-07-29T12:44:14.485Z"
   },
   {
    "duration": 5,
    "start_time": "2023-07-29T12:47:17.028Z"
   },
   {
    "duration": 5,
    "start_time": "2023-07-29T12:48:17.449Z"
   },
   {
    "duration": 1826,
    "start_time": "2023-07-29T12:48:17.986Z"
   },
   {
    "duration": 5,
    "start_time": "2023-07-29T12:56:30.191Z"
   },
   {
    "duration": 1918,
    "start_time": "2023-07-29T12:56:34.820Z"
   },
   {
    "duration": 9,
    "start_time": "2023-07-29T12:56:58.164Z"
   },
   {
    "duration": 1677,
    "start_time": "2023-07-29T12:57:43.171Z"
   },
   {
    "duration": 1764,
    "start_time": "2023-07-29T12:59:01.692Z"
   },
   {
    "duration": 11,
    "start_time": "2023-07-29T12:59:21.637Z"
   },
   {
    "duration": 82,
    "start_time": "2023-07-29T13:01:27.071Z"
   },
   {
    "duration": 78,
    "start_time": "2023-07-29T13:01:39.628Z"
   },
   {
    "duration": 83,
    "start_time": "2023-07-29T13:01:52.034Z"
   },
   {
    "duration": 91,
    "start_time": "2023-07-29T13:02:57.773Z"
   },
   {
    "duration": 79,
    "start_time": "2023-07-29T13:03:03.460Z"
   },
   {
    "duration": 7,
    "start_time": "2023-07-29T13:04:19.046Z"
   },
   {
    "duration": 1710,
    "start_time": "2023-07-29T13:04:19.494Z"
   },
   {
    "duration": 82,
    "start_time": "2023-07-29T13:05:28.591Z"
   },
   {
    "duration": 14,
    "start_time": "2023-07-29T13:16:03.695Z"
   },
   {
    "duration": 5,
    "start_time": "2023-07-29T13:16:25.453Z"
   },
   {
    "duration": 7,
    "start_time": "2023-07-29T13:16:26.132Z"
   },
   {
    "duration": 30,
    "start_time": "2023-07-29T13:17:02.693Z"
   },
   {
    "duration": 5,
    "start_time": "2023-07-29T13:17:07.457Z"
   },
   {
    "duration": 15,
    "start_time": "2023-07-29T13:17:25.725Z"
   },
   {
    "duration": 8,
    "start_time": "2023-07-29T13:17:44.492Z"
   },
   {
    "duration": 8,
    "start_time": "2023-07-29T13:17:55.130Z"
   },
   {
    "duration": 13,
    "start_time": "2023-07-29T13:18:22.952Z"
   },
   {
    "duration": 15,
    "start_time": "2023-07-29T13:18:35.332Z"
   },
   {
    "duration": 9,
    "start_time": "2023-07-29T13:19:06.092Z"
   },
   {
    "duration": 4,
    "start_time": "2023-07-29T13:19:40.720Z"
   },
   {
    "duration": 6,
    "start_time": "2023-07-29T13:19:45.153Z"
   },
   {
    "duration": 7,
    "start_time": "2023-07-29T13:19:57.757Z"
   },
   {
    "duration": 7,
    "start_time": "2023-07-29T13:20:05.695Z"
   },
   {
    "duration": 6,
    "start_time": "2023-07-29T13:20:10.009Z"
   },
   {
    "duration": 35,
    "start_time": "2023-07-29T13:20:50.270Z"
   },
   {
    "duration": 10,
    "start_time": "2023-07-29T13:20:52.546Z"
   },
   {
    "duration": 12,
    "start_time": "2023-07-29T13:21:24.502Z"
   },
   {
    "duration": 13,
    "start_time": "2023-07-29T13:21:39.105Z"
   },
   {
    "duration": 2,
    "start_time": "2023-07-29T13:22:36.068Z"
   },
   {
    "duration": 76,
    "start_time": "2023-07-29T13:22:53.369Z"
   },
   {
    "duration": 7,
    "start_time": "2023-07-29T13:24:38.392Z"
   },
   {
    "duration": 7,
    "start_time": "2023-07-29T13:24:42.246Z"
   },
   {
    "duration": 7,
    "start_time": "2023-07-29T13:48:26.650Z"
   },
   {
    "duration": 80,
    "start_time": "2023-07-29T13:48:31.430Z"
   },
   {
    "duration": 3,
    "start_time": "2023-07-29T13:48:32.538Z"
   },
   {
    "duration": 8,
    "start_time": "2023-07-29T13:48:33.309Z"
   },
   {
    "duration": 35,
    "start_time": "2023-07-29T13:48:34.258Z"
   },
   {
    "duration": 5,
    "start_time": "2023-07-29T13:48:35.368Z"
   },
   {
    "duration": 7,
    "start_time": "2023-07-29T13:48:35.933Z"
   },
   {
    "duration": 76,
    "start_time": "2023-07-29T14:06:02.672Z"
   },
   {
    "duration": 7,
    "start_time": "2023-07-29T14:06:16.531Z"
   },
   {
    "duration": 14,
    "start_time": "2023-07-29T14:06:54.033Z"
   },
   {
    "duration": 9,
    "start_time": "2023-07-29T14:08:38.339Z"
   },
   {
    "duration": 9,
    "start_time": "2023-07-29T14:10:49.524Z"
   },
   {
    "duration": 6,
    "start_time": "2023-07-29T14:11:17.937Z"
   },
   {
    "duration": 1858,
    "start_time": "2023-07-29T14:11:37.199Z"
   },
   {
    "duration": 13,
    "start_time": "2023-07-29T14:11:53.380Z"
   },
   {
    "duration": 13,
    "start_time": "2023-07-29T14:13:05.118Z"
   },
   {
    "duration": 6,
    "start_time": "2023-07-29T14:14:25.180Z"
   },
   {
    "duration": 11,
    "start_time": "2023-07-29T14:14:31.270Z"
   },
   {
    "duration": 5,
    "start_time": "2023-07-29T14:14:39.273Z"
   },
   {
    "duration": 2551,
    "start_time": "2023-07-29T14:15:13.624Z"
   },
   {
    "duration": 7,
    "start_time": "2023-07-29T14:15:35.772Z"
   },
   {
    "duration": 13,
    "start_time": "2023-07-29T14:15:36.365Z"
   },
   {
    "duration": 36,
    "start_time": "2023-07-29T14:20:28.873Z"
   },
   {
    "duration": 100,
    "start_time": "2023-07-29T14:20:29.230Z"
   },
   {
    "duration": 208,
    "start_time": "2023-07-29T14:20:30.244Z"
   },
   {
    "duration": 4,
    "start_time": "2023-07-29T14:20:33.912Z"
   },
   {
    "duration": 10,
    "start_time": "2023-07-29T14:20:36.264Z"
   },
   {
    "duration": 9,
    "start_time": "2023-07-29T14:20:37.368Z"
   },
   {
    "duration": 13,
    "start_time": "2023-07-29T14:20:38.402Z"
   },
   {
    "duration": 7,
    "start_time": "2023-07-29T14:20:39.252Z"
   },
   {
    "duration": 86,
    "start_time": "2023-07-29T14:25:12.475Z"
   },
   {
    "duration": 130,
    "start_time": "2023-07-29T14:25:59.290Z"
   },
   {
    "duration": 446,
    "start_time": "2023-07-29T14:27:34.202Z"
   },
   {
    "duration": 4,
    "start_time": "2023-07-29T14:27:54.257Z"
   },
   {
    "duration": 5,
    "start_time": "2023-07-29T14:28:29.157Z"
   },
   {
    "duration": 10,
    "start_time": "2023-07-29T14:28:29.910Z"
   },
   {
    "duration": 9,
    "start_time": "2023-07-29T14:29:25.349Z"
   },
   {
    "duration": 100,
    "start_time": "2023-07-29T14:32:27.001Z"
   },
   {
    "duration": 88,
    "start_time": "2023-07-29T14:32:35.512Z"
   },
   {
    "duration": 103,
    "start_time": "2023-07-29T14:32:42.965Z"
   },
   {
    "duration": 6,
    "start_time": "2023-07-29T14:33:00.333Z"
   },
   {
    "duration": 1432,
    "start_time": "2023-07-29T14:33:37.159Z"
   },
   {
    "duration": 2102,
    "start_time": "2023-07-29T15:13:10.270Z"
   },
   {
    "duration": 78,
    "start_time": "2023-07-29T15:13:21.477Z"
   },
   {
    "duration": 11,
    "start_time": "2023-07-29T15:13:40.151Z"
   },
   {
    "duration": 1940,
    "start_time": "2023-07-29T15:13:48.723Z"
   },
   {
    "duration": 12,
    "start_time": "2023-07-29T15:14:03.798Z"
   },
   {
    "duration": 1867,
    "start_time": "2023-07-29T15:14:21.939Z"
   },
   {
    "duration": 10,
    "start_time": "2023-07-29T15:14:54.670Z"
   },
   {
    "duration": 140,
    "start_time": "2023-07-29T15:14:55.456Z"
   },
   {
    "duration": 2,
    "start_time": "2023-07-29T15:15:46.573Z"
   },
   {
    "duration": 8,
    "start_time": "2023-07-29T15:21:15.197Z"
   },
   {
    "duration": 10,
    "start_time": "2023-07-29T15:22:12.125Z"
   },
   {
    "duration": 12,
    "start_time": "2023-07-29T15:22:22.951Z"
   },
   {
    "duration": 7,
    "start_time": "2023-07-29T15:24:33.680Z"
   },
   {
    "duration": 125,
    "start_time": "2023-07-29T15:24:50.282Z"
   },
   {
    "duration": 8,
    "start_time": "2023-07-29T15:30:10.769Z"
   },
   {
    "duration": 36,
    "start_time": "2023-07-29T15:30:11.505Z"
   },
   {
    "duration": 154,
    "start_time": "2023-07-29T15:30:21.632Z"
   },
   {
    "duration": 44,
    "start_time": "2023-07-29T15:34:04.550Z"
   },
   {
    "duration": 96,
    "start_time": "2023-07-29T15:35:03.154Z"
   },
   {
    "duration": 189,
    "start_time": "2023-07-29T15:35:05.032Z"
   },
   {
    "duration": 6,
    "start_time": "2023-07-29T15:36:38.570Z"
   },
   {
    "duration": 120,
    "start_time": "2023-07-29T15:36:41.804Z"
   },
   {
    "duration": 181,
    "start_time": "2023-07-29T15:40:03.553Z"
   },
   {
    "duration": 149,
    "start_time": "2023-07-29T15:40:20.422Z"
   },
   {
    "duration": 133,
    "start_time": "2023-07-29T15:40:47.577Z"
   },
   {
    "duration": 132,
    "start_time": "2023-07-29T15:41:40.490Z"
   },
   {
    "duration": 10,
    "start_time": "2023-07-29T18:00:15.254Z"
   },
   {
    "duration": 14,
    "start_time": "2023-07-29T18:01:32.661Z"
   },
   {
    "duration": 207,
    "start_time": "2023-07-29T18:11:15.682Z"
   },
   {
    "duration": 164,
    "start_time": "2023-07-29T18:11:33.740Z"
   },
   {
    "duration": 166,
    "start_time": "2023-07-29T18:11:50.225Z"
   },
   {
    "duration": 13,
    "start_time": "2023-07-29T18:13:29.136Z"
   },
   {
    "duration": 1905,
    "start_time": "2023-07-29T18:14:00.605Z"
   },
   {
    "duration": 158,
    "start_time": "2023-07-29T18:14:25.683Z"
   },
   {
    "duration": 83,
    "start_time": "2023-07-29T18:17:50.852Z"
   },
   {
    "duration": 4,
    "start_time": "2023-07-29T18:18:42.988Z"
   },
   {
    "duration": 4,
    "start_time": "2023-07-29T18:19:09.814Z"
   },
   {
    "duration": 7,
    "start_time": "2023-07-29T18:19:12.914Z"
   },
   {
    "duration": 8,
    "start_time": "2023-07-29T18:21:39.424Z"
   },
   {
    "duration": 12,
    "start_time": "2023-07-29T18:22:21.712Z"
   },
   {
    "duration": 30,
    "start_time": "2023-07-29T18:23:09.899Z"
   },
   {
    "duration": 2,
    "start_time": "2023-07-29T18:24:21.212Z"
   },
   {
    "duration": 4,
    "start_time": "2023-07-29T18:25:11.106Z"
   },
   {
    "duration": 2,
    "start_time": "2023-07-29T18:25:19.872Z"
   },
   {
    "duration": 4,
    "start_time": "2023-07-29T18:25:20.233Z"
   },
   {
    "duration": 4,
    "start_time": "2023-07-29T18:26:13.395Z"
   },
   {
    "duration": 4,
    "start_time": "2023-07-29T18:26:18.202Z"
   },
   {
    "duration": 1682,
    "start_time": "2023-07-29T18:26:38.397Z"
   },
   {
    "duration": 0,
    "start_time": "2023-07-29T18:26:40.081Z"
   },
   {
    "duration": 3,
    "start_time": "2023-07-29T18:27:04.441Z"
   },
   {
    "duration": 5,
    "start_time": "2023-07-29T18:27:05.582Z"
   },
   {
    "duration": 6,
    "start_time": "2023-07-29T18:27:46.805Z"
   },
   {
    "duration": 16,
    "start_time": "2023-07-29T18:27:47.287Z"
   },
   {
    "duration": 3,
    "start_time": "2023-07-29T18:30:40.045Z"
   },
   {
    "duration": 5,
    "start_time": "2023-07-29T18:30:45.694Z"
   },
   {
    "duration": 4,
    "start_time": "2023-07-29T18:31:34.653Z"
   },
   {
    "duration": 5,
    "start_time": "2023-07-29T18:31:40.693Z"
   },
   {
    "duration": 28,
    "start_time": "2023-07-29T18:33:04.032Z"
   },
   {
    "duration": 1184,
    "start_time": "2023-07-29T18:33:40.241Z"
   },
   {
    "duration": 148,
    "start_time": "2023-07-29T18:33:41.427Z"
   },
   {
    "duration": 10,
    "start_time": "2023-07-29T18:33:41.577Z"
   },
   {
    "duration": 39,
    "start_time": "2023-07-29T18:33:41.589Z"
   },
   {
    "duration": 4,
    "start_time": "2023-07-29T18:33:41.630Z"
   },
   {
    "duration": 18,
    "start_time": "2023-07-29T18:33:41.635Z"
   },
   {
    "duration": 70,
    "start_time": "2023-07-29T18:33:41.655Z"
   },
   {
    "duration": 3,
    "start_time": "2023-07-29T18:33:41.727Z"
   },
   {
    "duration": 78,
    "start_time": "2023-07-29T18:33:41.732Z"
   },
   {
    "duration": 110,
    "start_time": "2023-07-29T18:33:41.813Z"
   },
   {
    "duration": 9,
    "start_time": "2023-07-29T18:33:41.924Z"
   },
   {
    "duration": 37,
    "start_time": "2023-07-29T18:33:41.935Z"
   },
   {
    "duration": 26,
    "start_time": "2023-07-29T18:33:41.973Z"
   },
   {
    "duration": 178,
    "start_time": "2023-07-29T18:33:42.001Z"
   },
   {
    "duration": 37,
    "start_time": "2023-07-29T18:33:42.181Z"
   },
   {
    "duration": 141,
    "start_time": "2023-07-29T18:33:42.219Z"
   },
   {
    "duration": 32,
    "start_time": "2023-07-29T18:33:42.362Z"
   },
   {
    "duration": 6,
    "start_time": "2023-07-29T18:33:42.395Z"
   },
   {
    "duration": 17,
    "start_time": "2023-07-29T18:33:42.403Z"
   },
   {
    "duration": 370,
    "start_time": "2023-07-29T18:33:42.422Z"
   },
   {
    "duration": 20,
    "start_time": "2023-07-29T18:33:42.794Z"
   },
   {
    "duration": 11,
    "start_time": "2023-07-29T18:33:42.815Z"
   },
   {
    "duration": 5,
    "start_time": "2023-07-29T18:33:42.828Z"
   },
   {
    "duration": 48,
    "start_time": "2023-07-29T18:33:42.834Z"
   },
   {
    "duration": 30,
    "start_time": "2023-07-29T18:33:42.884Z"
   },
   {
    "duration": 9,
    "start_time": "2023-07-29T18:33:42.916Z"
   },
   {
    "duration": 64,
    "start_time": "2023-07-29T18:33:42.927Z"
   },
   {
    "duration": 180,
    "start_time": "2023-07-29T18:33:42.994Z"
   },
   {
    "duration": 57,
    "start_time": "2023-07-29T18:33:43.175Z"
   },
   {
    "duration": 25,
    "start_time": "2023-07-29T18:33:43.234Z"
   },
   {
    "duration": 8,
    "start_time": "2023-07-29T18:33:43.261Z"
   },
   {
    "duration": 28,
    "start_time": "2023-07-29T18:33:43.271Z"
   },
   {
    "duration": 27,
    "start_time": "2023-07-29T18:33:43.301Z"
   },
   {
    "duration": 14,
    "start_time": "2023-07-29T18:33:43.330Z"
   },
   {
    "duration": 7,
    "start_time": "2023-07-29T18:33:43.345Z"
   },
   {
    "duration": 19,
    "start_time": "2023-07-29T18:33:43.353Z"
   },
   {
    "duration": 16,
    "start_time": "2023-07-29T18:33:43.373Z"
   },
   {
    "duration": 10,
    "start_time": "2023-07-29T18:33:43.391Z"
   },
   {
    "duration": 44,
    "start_time": "2023-07-29T18:33:43.403Z"
   },
   {
    "duration": 165,
    "start_time": "2023-07-29T18:33:43.449Z"
   },
   {
    "duration": 0,
    "start_time": "2023-07-29T18:33:43.616Z"
   },
   {
    "duration": 0,
    "start_time": "2023-07-29T18:33:43.617Z"
   },
   {
    "duration": 0,
    "start_time": "2023-07-29T18:33:43.618Z"
   },
   {
    "duration": 0,
    "start_time": "2023-07-29T18:33:43.619Z"
   },
   {
    "duration": 0,
    "start_time": "2023-07-29T18:33:43.620Z"
   },
   {
    "duration": 0,
    "start_time": "2023-07-29T18:33:43.621Z"
   },
   {
    "duration": 0,
    "start_time": "2023-07-29T18:33:43.622Z"
   },
   {
    "duration": 81,
    "start_time": "2023-07-29T18:34:04.282Z"
   },
   {
    "duration": 179,
    "start_time": "2023-07-29T18:34:05.671Z"
   },
   {
    "duration": 72,
    "start_time": "2023-07-29T18:34:08.039Z"
   },
   {
    "duration": 6,
    "start_time": "2023-07-29T18:34:09.682Z"
   },
   {
    "duration": 42,
    "start_time": "2023-07-29T18:34:10.383Z"
   },
   {
    "duration": 9,
    "start_time": "2023-07-29T18:35:27.398Z"
   },
   {
    "duration": 1868,
    "start_time": "2023-07-29T18:35:28.298Z"
   },
   {
    "duration": 7,
    "start_time": "2023-07-29T18:35:42.881Z"
   },
   {
    "duration": 126,
    "start_time": "2023-07-29T18:35:43.820Z"
   },
   {
    "duration": 120,
    "start_time": "2023-07-29T18:35:47.741Z"
   },
   {
    "duration": 108,
    "start_time": "2023-07-29T18:35:50.044Z"
   },
   {
    "duration": 155,
    "start_time": "2023-07-29T18:35:52.486Z"
   },
   {
    "duration": 18,
    "start_time": "2023-07-29T18:43:10.740Z"
   },
   {
    "duration": 3,
    "start_time": "2023-07-29T18:43:34.337Z"
   },
   {
    "duration": 3,
    "start_time": "2023-07-29T18:48:39.358Z"
   },
   {
    "duration": 3,
    "start_time": "2023-07-29T18:48:39.992Z"
   },
   {
    "duration": 9,
    "start_time": "2023-07-29T18:48:40.682Z"
   },
   {
    "duration": 9,
    "start_time": "2023-07-29T18:49:11.055Z"
   },
   {
    "duration": 14,
    "start_time": "2023-07-29T18:49:26.043Z"
   },
   {
    "duration": 9,
    "start_time": "2023-07-29T18:50:18.248Z"
   },
   {
    "duration": 7,
    "start_time": "2023-07-29T18:51:11.508Z"
   },
   {
    "duration": 8,
    "start_time": "2023-07-29T18:51:14.899Z"
   },
   {
    "duration": 6,
    "start_time": "2023-07-29T18:51:23.161Z"
   },
   {
    "duration": 110,
    "start_time": "2023-07-29T18:51:25.583Z"
   },
   {
    "duration": 3,
    "start_time": "2023-07-29T20:17:21.935Z"
   },
   {
    "duration": 159,
    "start_time": "2023-07-29T20:17:21.940Z"
   },
   {
    "duration": 8,
    "start_time": "2023-07-29T20:17:22.101Z"
   },
   {
    "duration": 26,
    "start_time": "2023-07-29T20:17:22.110Z"
   },
   {
    "duration": 20,
    "start_time": "2023-07-29T20:17:22.138Z"
   },
   {
    "duration": 19,
    "start_time": "2023-07-29T20:17:22.160Z"
   },
   {
    "duration": 71,
    "start_time": "2023-07-29T20:17:22.180Z"
   },
   {
    "duration": 4,
    "start_time": "2023-07-29T20:17:22.253Z"
   },
   {
    "duration": 81,
    "start_time": "2023-07-29T20:17:22.259Z"
   },
   {
    "duration": 99,
    "start_time": "2023-07-29T20:17:22.342Z"
   },
   {
    "duration": 15,
    "start_time": "2023-07-29T20:17:22.442Z"
   },
   {
    "duration": 41,
    "start_time": "2023-07-29T20:17:22.459Z"
   },
   {
    "duration": 28,
    "start_time": "2023-07-29T20:17:22.502Z"
   },
   {
    "duration": 158,
    "start_time": "2023-07-29T20:17:22.531Z"
   },
   {
    "duration": 34,
    "start_time": "2023-07-29T20:17:22.691Z"
   },
   {
    "duration": 142,
    "start_time": "2023-07-29T20:17:22.727Z"
   },
   {
    "duration": 26,
    "start_time": "2023-07-29T20:17:22.871Z"
   },
   {
    "duration": 5,
    "start_time": "2023-07-29T20:17:22.899Z"
   },
   {
    "duration": 11,
    "start_time": "2023-07-29T20:17:22.905Z"
   },
   {
    "duration": 426,
    "start_time": "2023-07-29T20:17:22.917Z"
   },
   {
    "duration": 28,
    "start_time": "2023-07-29T20:17:23.344Z"
   },
   {
    "duration": 6,
    "start_time": "2023-07-29T20:17:23.373Z"
   },
   {
    "duration": 19,
    "start_time": "2023-07-29T20:17:23.380Z"
   },
   {
    "duration": 39,
    "start_time": "2023-07-29T20:17:23.402Z"
   },
   {
    "duration": 31,
    "start_time": "2023-07-29T20:17:23.443Z"
   },
   {
    "duration": 5,
    "start_time": "2023-07-29T20:17:23.476Z"
   },
   {
    "duration": 52,
    "start_time": "2023-07-29T20:17:23.483Z"
   },
   {
    "duration": 182,
    "start_time": "2023-07-29T20:17:23.537Z"
   },
   {
    "duration": 63,
    "start_time": "2023-07-29T20:17:23.721Z"
   },
   {
    "duration": 6,
    "start_time": "2023-07-29T20:17:23.786Z"
   },
   {
    "duration": 16,
    "start_time": "2023-07-29T20:17:23.793Z"
   },
   {
    "duration": 27,
    "start_time": "2023-07-29T20:17:23.811Z"
   },
   {
    "duration": 21,
    "start_time": "2023-07-29T20:17:23.840Z"
   },
   {
    "duration": 30,
    "start_time": "2023-07-29T20:17:23.863Z"
   },
   {
    "duration": 29,
    "start_time": "2023-07-29T20:17:23.895Z"
   },
   {
    "duration": 35,
    "start_time": "2023-07-29T20:17:23.925Z"
   },
   {
    "duration": 13,
    "start_time": "2023-07-29T20:17:23.962Z"
   },
   {
    "duration": 17,
    "start_time": "2023-07-29T20:17:23.977Z"
   },
   {
    "duration": 37,
    "start_time": "2023-07-29T20:17:23.995Z"
   },
   {
    "duration": 82,
    "start_time": "2023-07-29T20:17:24.034Z"
   },
   {
    "duration": 202,
    "start_time": "2023-07-29T20:17:24.118Z"
   },
   {
    "duration": 79,
    "start_time": "2023-07-29T20:17:24.322Z"
   },
   {
    "duration": 7,
    "start_time": "2023-07-29T20:17:24.403Z"
   },
   {
    "duration": 124,
    "start_time": "2023-07-29T20:17:24.412Z"
   },
   {
    "duration": 123,
    "start_time": "2023-07-29T20:17:24.537Z"
   },
   {
    "duration": 122,
    "start_time": "2023-07-29T20:17:24.662Z"
   },
   {
    "duration": 175,
    "start_time": "2023-07-29T20:17:24.785Z"
   },
   {
    "duration": 3,
    "start_time": "2023-07-29T20:17:24.962Z"
   },
   {
    "duration": 28,
    "start_time": "2023-07-29T20:17:24.966Z"
   },
   {
    "duration": 22,
    "start_time": "2023-07-29T20:17:24.996Z"
   },
   {
    "duration": 3,
    "start_time": "2023-07-29T20:27:03.078Z"
   },
   {
    "duration": 190,
    "start_time": "2023-07-29T20:27:03.084Z"
   },
   {
    "duration": 7,
    "start_time": "2023-07-29T20:27:03.276Z"
   },
   {
    "duration": 31,
    "start_time": "2023-07-29T20:27:03.284Z"
   },
   {
    "duration": 3,
    "start_time": "2023-07-29T20:27:03.318Z"
   },
   {
    "duration": 15,
    "start_time": "2023-07-29T20:27:03.322Z"
   },
   {
    "duration": 75,
    "start_time": "2023-07-29T20:27:03.338Z"
   },
   {
    "duration": 4,
    "start_time": "2023-07-29T20:27:03.415Z"
   },
   {
    "duration": 72,
    "start_time": "2023-07-29T20:27:03.420Z"
   },
   {
    "duration": 105,
    "start_time": "2023-07-29T20:27:03.493Z"
   },
   {
    "duration": 9,
    "start_time": "2023-07-29T20:27:03.600Z"
   },
   {
    "duration": 33,
    "start_time": "2023-07-29T20:27:03.611Z"
   },
   {
    "duration": 39,
    "start_time": "2023-07-29T20:27:03.645Z"
   },
   {
    "duration": 166,
    "start_time": "2023-07-29T20:27:03.685Z"
   },
   {
    "duration": 39,
    "start_time": "2023-07-29T20:27:03.852Z"
   },
   {
    "duration": 141,
    "start_time": "2023-07-29T20:27:03.893Z"
   },
   {
    "duration": 41,
    "start_time": "2023-07-29T20:27:04.036Z"
   },
   {
    "duration": 6,
    "start_time": "2023-07-29T20:27:04.079Z"
   },
   {
    "duration": 10,
    "start_time": "2023-07-29T20:27:04.086Z"
   },
   {
    "duration": 310,
    "start_time": "2023-07-29T20:27:04.098Z"
   },
   {
    "duration": 20,
    "start_time": "2023-07-29T20:27:04.410Z"
   },
   {
    "duration": 5,
    "start_time": "2023-07-29T20:27:04.432Z"
   },
   {
    "duration": 21,
    "start_time": "2023-07-29T20:27:04.439Z"
   },
   {
    "duration": 28,
    "start_time": "2023-07-29T20:27:04.462Z"
   },
   {
    "duration": 32,
    "start_time": "2023-07-29T20:27:04.492Z"
   },
   {
    "duration": 5,
    "start_time": "2023-07-29T20:27:04.526Z"
   },
   {
    "duration": 47,
    "start_time": "2023-07-29T20:27:04.532Z"
   },
   {
    "duration": 215,
    "start_time": "2023-07-29T20:27:04.580Z"
   },
   {
    "duration": 68,
    "start_time": "2023-07-29T20:27:04.799Z"
   },
   {
    "duration": 6,
    "start_time": "2023-07-29T20:27:04.869Z"
   },
   {
    "duration": 9,
    "start_time": "2023-07-29T20:27:04.876Z"
   },
   {
    "duration": 8,
    "start_time": "2023-07-29T20:27:04.887Z"
   },
   {
    "duration": 9,
    "start_time": "2023-07-29T20:27:04.896Z"
   },
   {
    "duration": 10,
    "start_time": "2023-07-29T20:27:04.907Z"
   },
   {
    "duration": 6,
    "start_time": "2023-07-29T20:27:04.919Z"
   },
   {
    "duration": 4,
    "start_time": "2023-07-29T20:27:04.927Z"
   },
   {
    "duration": 26,
    "start_time": "2023-07-29T20:27:04.933Z"
   },
   {
    "duration": 10,
    "start_time": "2023-07-29T20:27:04.960Z"
   },
   {
    "duration": 35,
    "start_time": "2023-07-29T20:27:04.972Z"
   },
   {
    "duration": 80,
    "start_time": "2023-07-29T20:27:05.009Z"
   },
   {
    "duration": 216,
    "start_time": "2023-07-29T20:27:05.091Z"
   },
   {
    "duration": 76,
    "start_time": "2023-07-29T20:27:05.308Z"
   },
   {
    "duration": 6,
    "start_time": "2023-07-29T20:27:05.385Z"
   },
   {
    "duration": 119,
    "start_time": "2023-07-29T20:27:05.392Z"
   },
   {
    "duration": 113,
    "start_time": "2023-07-29T20:27:05.512Z"
   },
   {
    "duration": 112,
    "start_time": "2023-07-29T20:27:05.627Z"
   },
   {
    "duration": 168,
    "start_time": "2023-07-29T20:27:05.741Z"
   },
   {
    "duration": 106,
    "start_time": "2023-07-29T20:27:05.911Z"
   },
   {
    "duration": 2,
    "start_time": "2023-07-29T20:27:21.541Z"
   },
   {
    "duration": 128,
    "start_time": "2023-07-29T20:27:54.489Z"
   },
   {
    "duration": 129,
    "start_time": "2023-07-29T20:29:20.334Z"
   },
   {
    "duration": 138,
    "start_time": "2023-07-29T20:30:33.704Z"
   },
   {
    "duration": 112,
    "start_time": "2023-07-29T20:31:10.798Z"
   },
   {
    "duration": 165,
    "start_time": "2023-07-29T20:31:50.704Z"
   },
   {
    "duration": 165,
    "start_time": "2023-07-29T21:47:18.877Z"
   },
   {
    "duration": 1898,
    "start_time": "2023-07-29T21:49:00.694Z"
   },
   {
    "duration": 1866,
    "start_time": "2023-07-29T21:49:16.029Z"
   },
   {
    "duration": 10,
    "start_time": "2023-07-29T21:49:26.497Z"
   },
   {
    "duration": 4,
    "start_time": "2023-07-29T21:50:27.538Z"
   },
   {
    "duration": 26,
    "start_time": "2023-07-29T21:51:02.626Z"
   },
   {
    "duration": 27,
    "start_time": "2023-07-29T21:51:35.675Z"
   },
   {
    "duration": 55,
    "start_time": "2023-07-29T21:52:47.703Z"
   },
   {
    "duration": 6,
    "start_time": "2023-07-29T21:52:52.199Z"
   },
   {
    "duration": 7,
    "start_time": "2023-07-29T21:52:52.933Z"
   },
   {
    "duration": 148,
    "start_time": "2023-07-29T21:52:55.977Z"
   },
   {
    "duration": 270,
    "start_time": "2023-07-29T21:53:11.628Z"
   },
   {
    "duration": 8,
    "start_time": "2023-07-29T21:54:27.838Z"
   },
   {
    "duration": 14,
    "start_time": "2023-07-29T21:54:30.516Z"
   },
   {
    "duration": 3,
    "start_time": "2023-07-29T21:54:48.168Z"
   },
   {
    "duration": 4,
    "start_time": "2023-07-29T21:54:51.004Z"
   },
   {
    "duration": 8,
    "start_time": "2023-07-29T21:54:53.542Z"
   },
   {
    "duration": 6,
    "start_time": "2023-07-29T21:55:10.846Z"
   },
   {
    "duration": 3,
    "start_time": "2023-07-29T21:55:11.414Z"
   },
   {
    "duration": 8,
    "start_time": "2023-07-29T21:55:11.944Z"
   },
   {
    "duration": 30,
    "start_time": "2023-07-29T21:56:03.524Z"
   },
   {
    "duration": 74,
    "start_time": "2023-07-29T21:56:05.906Z"
   },
   {
    "duration": 1050,
    "start_time": "2023-07-29T22:26:17.706Z"
   },
   {
    "duration": 176,
    "start_time": "2023-07-29T22:26:18.758Z"
   },
   {
    "duration": 10,
    "start_time": "2023-07-29T22:26:20.441Z"
   },
   {
    "duration": 19,
    "start_time": "2023-07-29T22:26:21.887Z"
   },
   {
    "duration": 2,
    "start_time": "2023-07-29T22:26:26.358Z"
   },
   {
    "duration": 7,
    "start_time": "2023-07-29T22:26:27.360Z"
   },
   {
    "duration": 88,
    "start_time": "2023-07-29T22:26:28.563Z"
   },
   {
    "duration": 71,
    "start_time": "2023-07-29T22:27:01.841Z"
   },
   {
    "duration": 69,
    "start_time": "2023-07-29T22:27:08.203Z"
   },
   {
    "duration": 4,
    "start_time": "2023-07-29T22:27:08.274Z"
   },
   {
    "duration": 3,
    "start_time": "2023-07-29T22:27:13.397Z"
   },
   {
    "duration": 4,
    "start_time": "2023-07-29T22:27:30.810Z"
   },
   {
    "duration": 68,
    "start_time": "2023-07-29T22:27:39.273Z"
   },
   {
    "duration": 96,
    "start_time": "2023-07-29T22:27:40.185Z"
   },
   {
    "duration": 9,
    "start_time": "2023-07-29T22:27:41.660Z"
   },
   {
    "duration": 25,
    "start_time": "2023-07-29T22:27:44.599Z"
   },
   {
    "duration": 30,
    "start_time": "2023-07-29T22:27:45.753Z"
   },
   {
    "duration": 159,
    "start_time": "2023-07-29T22:27:49.406Z"
   },
   {
    "duration": 36,
    "start_time": "2023-07-29T22:27:54.844Z"
   },
   {
    "duration": 126,
    "start_time": "2023-07-29T22:27:56.962Z"
   },
   {
    "duration": 32,
    "start_time": "2023-07-29T22:28:02.055Z"
   },
   {
    "duration": 6,
    "start_time": "2023-07-29T22:28:03.009Z"
   },
   {
    "duration": 5,
    "start_time": "2023-07-29T22:28:04.162Z"
   },
   {
    "duration": 355,
    "start_time": "2023-07-29T22:28:06.990Z"
   },
   {
    "duration": 23,
    "start_time": "2023-07-29T22:29:01.928Z"
   },
   {
    "duration": 7,
    "start_time": "2023-07-29T22:29:04.652Z"
   },
   {
    "duration": 4,
    "start_time": "2023-07-29T22:29:05.932Z"
   },
   {
    "duration": 24,
    "start_time": "2023-07-29T22:29:07.511Z"
   },
   {
    "duration": 32,
    "start_time": "2023-07-29T22:29:09.186Z"
   },
   {
    "duration": 5,
    "start_time": "2023-07-29T22:29:12.766Z"
   },
   {
    "duration": 23,
    "start_time": "2023-07-29T22:29:25.086Z"
   },
   {
    "duration": 189,
    "start_time": "2023-07-29T22:29:27.498Z"
   },
   {
    "duration": 52,
    "start_time": "2023-07-29T22:29:33.122Z"
   },
   {
    "duration": 7,
    "start_time": "2023-07-29T22:29:40.790Z"
   },
   {
    "duration": 7,
    "start_time": "2023-07-29T22:29:41.732Z"
   },
   {
    "duration": 176,
    "start_time": "2023-07-29T22:29:45.155Z"
   },
   {
    "duration": 5,
    "start_time": "2023-07-29T22:29:48.166Z"
   },
   {
    "duration": 8,
    "start_time": "2023-07-29T22:29:49.825Z"
   },
   {
    "duration": 5,
    "start_time": "2023-07-29T22:29:51.338Z"
   },
   {
    "duration": 4,
    "start_time": "2023-07-29T22:29:52.153Z"
   },
   {
    "duration": 8,
    "start_time": "2023-07-29T22:29:53.388Z"
   },
   {
    "duration": 5,
    "start_time": "2023-07-29T22:30:09.444Z"
   },
   {
    "duration": 8,
    "start_time": "2023-07-29T22:30:09.963Z"
   },
   {
    "duration": 33,
    "start_time": "2023-07-29T22:30:23.379Z"
   },
   {
    "duration": 75,
    "start_time": "2023-07-29T22:30:25.224Z"
   },
   {
    "duration": 38,
    "start_time": "2023-07-29T22:30:28.812Z"
   },
   {
    "duration": 75,
    "start_time": "2023-07-29T22:30:29.940Z"
   },
   {
    "duration": 185,
    "start_time": "2023-07-29T22:30:30.966Z"
   },
   {
    "duration": 67,
    "start_time": "2023-07-29T22:30:35.516Z"
   },
   {
    "duration": 5,
    "start_time": "2023-07-29T22:30:37.432Z"
   },
   {
    "duration": 128,
    "start_time": "2023-07-29T22:30:39.218Z"
   },
   {
    "duration": 132,
    "start_time": "2023-07-29T22:30:40.676Z"
   },
   {
    "duration": 128,
    "start_time": "2023-07-29T22:30:41.452Z"
   },
   {
    "duration": 172,
    "start_time": "2023-07-29T22:30:42.166Z"
   },
   {
    "duration": 126,
    "start_time": "2023-07-29T22:30:43.784Z"
   },
   {
    "duration": 136,
    "start_time": "2023-07-29T22:30:44.858Z"
   },
   {
    "duration": 124,
    "start_time": "2023-07-29T22:30:46.178Z"
   },
   {
    "duration": 185,
    "start_time": "2023-07-29T22:30:47.085Z"
   },
   {
    "duration": 54,
    "start_time": "2023-07-29T22:31:43.562Z"
   },
   {
    "duration": 7,
    "start_time": "2023-07-29T22:31:45.683Z"
   },
   {
    "duration": 7,
    "start_time": "2023-07-29T22:31:47.814Z"
   },
   {
    "duration": 162,
    "start_time": "2023-07-29T22:31:50.922Z"
   },
   {
    "duration": 1413,
    "start_time": "2023-07-30T04:47:06.888Z"
   },
   {
    "duration": 493,
    "start_time": "2023-07-30T04:47:08.302Z"
   },
   {
    "duration": 10,
    "start_time": "2023-07-30T04:47:08.796Z"
   },
   {
    "duration": 18,
    "start_time": "2023-07-30T04:47:08.808Z"
   },
   {
    "duration": 3,
    "start_time": "2023-07-30T04:47:08.827Z"
   },
   {
    "duration": 8,
    "start_time": "2023-07-30T04:47:08.831Z"
   },
   {
    "duration": 90,
    "start_time": "2023-07-30T04:47:08.840Z"
   },
   {
    "duration": 3,
    "start_time": "2023-07-30T04:47:08.932Z"
   },
   {
    "duration": 73,
    "start_time": "2023-07-30T04:47:08.936Z"
   },
   {
    "duration": 100,
    "start_time": "2023-07-30T04:47:09.012Z"
   },
   {
    "duration": 7,
    "start_time": "2023-07-30T04:47:09.113Z"
   },
   {
    "duration": 33,
    "start_time": "2023-07-30T04:47:09.122Z"
   },
   {
    "duration": 29,
    "start_time": "2023-07-30T04:47:09.156Z"
   },
   {
    "duration": 167,
    "start_time": "2023-07-30T04:47:09.200Z"
   },
   {
    "duration": 40,
    "start_time": "2023-07-30T04:47:09.369Z"
   },
   {
    "duration": 130,
    "start_time": "2023-07-30T04:47:09.410Z"
   },
   {
    "duration": 27,
    "start_time": "2023-07-30T04:47:09.541Z"
   },
   {
    "duration": 4,
    "start_time": "2023-07-30T04:47:09.570Z"
   },
   {
    "duration": 24,
    "start_time": "2023-07-30T04:47:09.576Z"
   },
   {
    "duration": 341,
    "start_time": "2023-07-30T04:47:09.601Z"
   },
   {
    "duration": 19,
    "start_time": "2023-07-30T04:47:09.944Z"
   },
   {
    "duration": 5,
    "start_time": "2023-07-30T04:47:09.964Z"
   },
   {
    "duration": 6,
    "start_time": "2023-07-30T04:47:09.971Z"
   },
   {
    "duration": 38,
    "start_time": "2023-07-30T04:47:09.978Z"
   },
   {
    "duration": 31,
    "start_time": "2023-07-30T04:47:10.018Z"
   },
   {
    "duration": 4,
    "start_time": "2023-07-30T04:47:10.050Z"
   },
   {
    "duration": 48,
    "start_time": "2023-07-30T04:47:10.056Z"
   },
   {
    "duration": 173,
    "start_time": "2023-07-30T04:47:10.107Z"
   },
   {
    "duration": 56,
    "start_time": "2023-07-30T04:47:10.282Z"
   },
   {
    "duration": 5,
    "start_time": "2023-07-30T04:47:10.340Z"
   },
   {
    "duration": 8,
    "start_time": "2023-07-30T04:47:10.347Z"
   },
   {
    "duration": 187,
    "start_time": "2023-07-30T04:47:10.356Z"
   },
   {
    "duration": 4,
    "start_time": "2023-07-30T04:47:10.544Z"
   },
   {
    "duration": 8,
    "start_time": "2023-07-30T04:47:10.550Z"
   },
   {
    "duration": 9,
    "start_time": "2023-07-30T04:47:10.559Z"
   },
   {
    "duration": 12,
    "start_time": "2023-07-30T04:47:10.569Z"
   },
   {
    "duration": 45,
    "start_time": "2023-07-30T04:47:10.582Z"
   },
   {
    "duration": 82,
    "start_time": "2023-07-30T04:47:10.629Z"
   },
   {
    "duration": 183,
    "start_time": "2023-07-30T04:47:10.713Z"
   },
   {
    "duration": 63,
    "start_time": "2023-07-30T04:47:10.899Z"
   },
   {
    "duration": 6,
    "start_time": "2023-07-30T04:47:10.963Z"
   },
   {
    "duration": 139,
    "start_time": "2023-07-30T04:47:10.970Z"
   },
   {
    "duration": 130,
    "start_time": "2023-07-30T04:47:11.110Z"
   },
   {
    "duration": 136,
    "start_time": "2023-07-30T04:47:11.242Z"
   },
   {
    "duration": 177,
    "start_time": "2023-07-30T04:47:11.379Z"
   },
   {
    "duration": 129,
    "start_time": "2023-07-30T04:47:11.557Z"
   },
   {
    "duration": 137,
    "start_time": "2023-07-30T04:47:11.687Z"
   },
   {
    "duration": 131,
    "start_time": "2023-07-30T04:47:11.825Z"
   },
   {
    "duration": 184,
    "start_time": "2023-07-30T04:47:11.957Z"
   },
   {
    "duration": 1132,
    "start_time": "2023-07-30T04:49:44.286Z"
   },
   {
    "duration": 164,
    "start_time": "2023-07-30T04:49:45.420Z"
   },
   {
    "duration": 10,
    "start_time": "2023-07-30T04:49:45.586Z"
   },
   {
    "duration": 22,
    "start_time": "2023-07-30T04:49:45.599Z"
   },
   {
    "duration": 3,
    "start_time": "2023-07-30T04:49:45.623Z"
   },
   {
    "duration": 8,
    "start_time": "2023-07-30T04:49:45.628Z"
   },
   {
    "duration": 94,
    "start_time": "2023-07-30T04:49:45.638Z"
   },
   {
    "duration": 4,
    "start_time": "2023-07-30T04:49:45.734Z"
   },
   {
    "duration": 82,
    "start_time": "2023-07-30T04:49:45.739Z"
   },
   {
    "duration": 107,
    "start_time": "2023-07-30T04:49:45.823Z"
   },
   {
    "duration": 10,
    "start_time": "2023-07-30T04:49:45.932Z"
   },
   {
    "duration": 49,
    "start_time": "2023-07-30T04:49:45.944Z"
   },
   {
    "duration": 37,
    "start_time": "2023-07-30T04:49:46.000Z"
   },
   {
    "duration": 219,
    "start_time": "2023-07-30T04:49:46.040Z"
   },
   {
    "duration": 45,
    "start_time": "2023-07-30T04:49:46.261Z"
   },
   {
    "duration": 137,
    "start_time": "2023-07-30T04:49:46.307Z"
   },
   {
    "duration": 29,
    "start_time": "2023-07-30T04:49:46.446Z"
   },
   {
    "duration": 6,
    "start_time": "2023-07-30T04:49:46.477Z"
   },
   {
    "duration": 371,
    "start_time": "2023-07-30T04:49:46.500Z"
   },
   {
    "duration": 28,
    "start_time": "2023-07-30T04:49:46.872Z"
   },
   {
    "duration": 5,
    "start_time": "2023-07-30T04:49:46.902Z"
   },
   {
    "duration": 7,
    "start_time": "2023-07-30T04:49:46.908Z"
   },
   {
    "duration": 25,
    "start_time": "2023-07-30T04:49:46.916Z"
   },
   {
    "duration": 33,
    "start_time": "2023-07-30T04:49:46.943Z"
   },
   {
    "duration": 23,
    "start_time": "2023-07-30T04:49:46.977Z"
   },
   {
    "duration": 26,
    "start_time": "2023-07-30T04:49:47.002Z"
   },
   {
    "duration": 213,
    "start_time": "2023-07-30T04:49:47.030Z"
   },
   {
    "duration": 66,
    "start_time": "2023-07-30T04:49:47.246Z"
   },
   {
    "duration": 5,
    "start_time": "2023-07-30T04:49:47.314Z"
   },
   {
    "duration": 9,
    "start_time": "2023-07-30T04:49:47.321Z"
   },
   {
    "duration": 196,
    "start_time": "2023-07-30T04:49:47.331Z"
   },
   {
    "duration": 6,
    "start_time": "2023-07-30T04:49:47.529Z"
   },
   {
    "duration": 15,
    "start_time": "2023-07-30T04:49:47.536Z"
   },
   {
    "duration": 10,
    "start_time": "2023-07-30T04:49:47.553Z"
   },
   {
    "duration": 10,
    "start_time": "2023-07-30T04:49:47.564Z"
   },
   {
    "duration": 44,
    "start_time": "2023-07-30T04:49:47.576Z"
   },
   {
    "duration": 82,
    "start_time": "2023-07-30T04:49:47.622Z"
   },
   {
    "duration": 195,
    "start_time": "2023-07-30T04:49:47.706Z"
   },
   {
    "duration": 68,
    "start_time": "2023-07-30T04:49:47.902Z"
   },
   {
    "duration": 6,
    "start_time": "2023-07-30T04:49:47.972Z"
   },
   {
    "duration": 147,
    "start_time": "2023-07-30T04:49:47.979Z"
   },
   {
    "duration": 142,
    "start_time": "2023-07-30T04:49:48.128Z"
   },
   {
    "duration": 149,
    "start_time": "2023-07-30T04:49:48.271Z"
   },
   {
    "duration": 199,
    "start_time": "2023-07-30T04:49:48.422Z"
   },
   {
    "duration": 138,
    "start_time": "2023-07-30T04:49:48.623Z"
   },
   {
    "duration": 148,
    "start_time": "2023-07-30T04:49:48.762Z"
   },
   {
    "duration": 133,
    "start_time": "2023-07-30T04:49:48.911Z"
   },
   {
    "duration": 190,
    "start_time": "2023-07-30T04:49:49.046Z"
   },
   {
    "duration": 1311,
    "start_time": "2023-07-30T08:50:39.066Z"
   },
   {
    "duration": 710,
    "start_time": "2023-07-30T08:50:40.378Z"
   },
   {
    "duration": 11,
    "start_time": "2023-07-30T08:50:41.090Z"
   },
   {
    "duration": 20,
    "start_time": "2023-07-30T08:50:41.103Z"
   },
   {
    "duration": 3,
    "start_time": "2023-07-30T08:50:42.533Z"
   },
   {
    "duration": 9,
    "start_time": "2023-07-30T08:50:43.174Z"
   },
   {
    "duration": 90,
    "start_time": "2023-07-30T08:50:44.167Z"
   },
   {
    "duration": 66,
    "start_time": "2023-07-30T08:50:54.774Z"
   },
   {
    "duration": 4,
    "start_time": "2023-07-30T09:19:23.489Z"
   },
   {
    "duration": 158,
    "start_time": "2023-07-30T09:19:23.496Z"
   },
   {
    "duration": 9,
    "start_time": "2023-07-30T09:19:23.656Z"
   },
   {
    "duration": 21,
    "start_time": "2023-07-30T09:19:23.666Z"
   },
   {
    "duration": 3,
    "start_time": "2023-07-30T09:19:23.689Z"
   },
   {
    "duration": 10,
    "start_time": "2023-07-30T09:19:23.694Z"
   },
   {
    "duration": 92,
    "start_time": "2023-07-30T09:19:23.706Z"
   },
   {
    "duration": 67,
    "start_time": "2023-07-30T09:19:23.800Z"
   },
   {
    "duration": 68,
    "start_time": "2023-07-30T09:19:23.869Z"
   },
   {
    "duration": 133,
    "start_time": "2023-07-30T09:19:23.939Z"
   },
   {
    "duration": 11,
    "start_time": "2023-07-30T09:19:24.074Z"
   },
   {
    "duration": 36,
    "start_time": "2023-07-30T09:19:24.087Z"
   },
   {
    "duration": 40,
    "start_time": "2023-07-30T09:19:24.125Z"
   },
   {
    "duration": 225,
    "start_time": "2023-07-30T09:19:24.168Z"
   },
   {
    "duration": 38,
    "start_time": "2023-07-30T09:19:24.395Z"
   },
   {
    "duration": 151,
    "start_time": "2023-07-30T09:19:24.434Z"
   },
   {
    "duration": 31,
    "start_time": "2023-07-30T09:19:24.587Z"
   },
   {
    "duration": 7,
    "start_time": "2023-07-30T09:19:24.620Z"
   },
   {
    "duration": 393,
    "start_time": "2023-07-30T09:19:24.629Z"
   },
   {
    "duration": 33,
    "start_time": "2023-07-30T09:19:25.024Z"
   },
   {
    "duration": 7,
    "start_time": "2023-07-30T09:19:25.059Z"
   },
   {
    "duration": 16,
    "start_time": "2023-07-30T09:19:25.068Z"
   },
   {
    "duration": 40,
    "start_time": "2023-07-30T09:19:25.086Z"
   },
   {
    "duration": 39,
    "start_time": "2023-07-30T09:19:25.127Z"
   },
   {
    "duration": 5,
    "start_time": "2023-07-30T09:19:25.168Z"
   },
   {
    "duration": 31,
    "start_time": "2023-07-30T09:19:25.174Z"
   },
   {
    "duration": 225,
    "start_time": "2023-07-30T09:19:25.207Z"
   },
   {
    "duration": 58,
    "start_time": "2023-07-30T09:19:25.433Z"
   },
   {
    "duration": 46,
    "start_time": "2023-07-30T09:19:25.493Z"
   },
   {
    "duration": 70,
    "start_time": "2023-07-30T09:19:25.541Z"
   },
   {
    "duration": 322,
    "start_time": "2023-07-30T09:19:25.613Z"
   },
   {
    "duration": 6,
    "start_time": "2023-07-30T09:19:25.937Z"
   },
   {
    "duration": 28,
    "start_time": "2023-07-30T09:19:25.945Z"
   },
   {
    "duration": 40,
    "start_time": "2023-07-30T09:19:25.975Z"
   },
   {
    "duration": 35,
    "start_time": "2023-07-30T09:19:26.018Z"
   },
   {
    "duration": 169,
    "start_time": "2023-07-30T09:22:00.235Z"
   },
   {
    "duration": 11,
    "start_time": "2023-07-30T09:22:50.164Z"
   },
   {
    "duration": 103,
    "start_time": "2023-07-30T09:25:05.319Z"
   },
   {
    "duration": 145,
    "start_time": "2023-07-30T09:27:05.782Z"
   },
   {
    "duration": 21,
    "start_time": "2023-07-30T09:27:10.265Z"
   },
   {
    "duration": 18,
    "start_time": "2023-07-30T09:28:54.902Z"
   },
   {
    "duration": 15,
    "start_time": "2023-07-30T09:29:11.236Z"
   },
   {
    "duration": 13,
    "start_time": "2023-07-30T09:31:02.220Z"
   },
   {
    "duration": 96,
    "start_time": "2023-07-30T09:32:04.465Z"
   },
   {
    "duration": 11,
    "start_time": "2023-07-30T09:33:26.226Z"
   },
   {
    "duration": 10,
    "start_time": "2023-07-30T09:33:30.181Z"
   },
   {
    "duration": 12,
    "start_time": "2023-07-30T09:34:50.965Z"
   },
   {
    "duration": 11,
    "start_time": "2023-07-30T09:35:23.165Z"
   },
   {
    "duration": 16,
    "start_time": "2023-07-30T09:35:27.569Z"
   },
   {
    "duration": 17,
    "start_time": "2023-07-30T09:36:44.773Z"
   },
   {
    "duration": 20,
    "start_time": "2023-07-30T09:37:09.838Z"
   },
   {
    "duration": 12,
    "start_time": "2023-07-30T09:37:39.986Z"
   },
   {
    "duration": 11,
    "start_time": "2023-07-30T09:38:13.512Z"
   },
   {
    "duration": 10,
    "start_time": "2023-07-30T09:38:40.176Z"
   },
   {
    "duration": 4,
    "start_time": "2023-07-30T09:40:42.169Z"
   },
   {
    "duration": 20,
    "start_time": "2023-07-30T09:40:50.209Z"
   },
   {
    "duration": 12,
    "start_time": "2023-07-30T09:43:47.872Z"
   },
   {
    "duration": 12,
    "start_time": "2023-07-30T09:44:23.694Z"
   },
   {
    "duration": 11,
    "start_time": "2023-07-30T09:47:47.776Z"
   },
   {
    "duration": 11,
    "start_time": "2023-07-30T09:48:30.619Z"
   },
   {
    "duration": 19,
    "start_time": "2023-07-30T09:49:48.683Z"
   },
   {
    "duration": 10,
    "start_time": "2023-07-30T09:50:52.981Z"
   },
   {
    "duration": 41,
    "start_time": "2023-07-30T09:55:34.273Z"
   },
   {
    "duration": 10,
    "start_time": "2023-07-30T09:55:35.210Z"
   },
   {
    "duration": 37,
    "start_time": "2023-07-30T09:55:51.529Z"
   },
   {
    "duration": 6,
    "start_time": "2023-07-30T09:55:52.209Z"
   },
   {
    "duration": 4,
    "start_time": "2023-07-30T09:57:37.265Z"
   },
   {
    "duration": 171,
    "start_time": "2023-07-30T09:57:37.271Z"
   },
   {
    "duration": 20,
    "start_time": "2023-07-30T09:57:37.444Z"
   },
   {
    "duration": 25,
    "start_time": "2023-07-30T09:57:37.466Z"
   },
   {
    "duration": 3,
    "start_time": "2023-07-30T09:57:37.494Z"
   },
   {
    "duration": 10,
    "start_time": "2023-07-30T09:57:37.498Z"
   },
   {
    "duration": 102,
    "start_time": "2023-07-30T09:57:37.510Z"
   },
   {
    "duration": 75,
    "start_time": "2023-07-30T09:57:37.614Z"
   },
   {
    "duration": 82,
    "start_time": "2023-07-30T09:57:37.691Z"
   },
   {
    "duration": 112,
    "start_time": "2023-07-30T09:57:37.774Z"
   },
   {
    "duration": 9,
    "start_time": "2023-07-30T09:57:37.888Z"
   },
   {
    "duration": 38,
    "start_time": "2023-07-30T09:57:37.899Z"
   },
   {
    "duration": 38,
    "start_time": "2023-07-30T09:57:37.939Z"
   },
   {
    "duration": 182,
    "start_time": "2023-07-30T09:57:37.980Z"
   },
   {
    "duration": 44,
    "start_time": "2023-07-30T09:57:38.164Z"
   },
   {
    "duration": 151,
    "start_time": "2023-07-30T09:57:38.210Z"
   },
   {
    "duration": 33,
    "start_time": "2023-07-30T09:57:38.363Z"
   },
   {
    "duration": 7,
    "start_time": "2023-07-30T09:57:38.398Z"
   },
   {
    "duration": 339,
    "start_time": "2023-07-30T09:57:38.408Z"
   },
   {
    "duration": 27,
    "start_time": "2023-07-30T09:57:38.748Z"
   },
   {
    "duration": 6,
    "start_time": "2023-07-30T09:57:38.776Z"
   },
   {
    "duration": 4,
    "start_time": "2023-07-30T09:57:38.784Z"
   },
   {
    "duration": 23,
    "start_time": "2023-07-30T09:57:38.790Z"
   },
   {
    "duration": 72,
    "start_time": "2023-07-30T09:57:38.815Z"
   },
   {
    "duration": 7,
    "start_time": "2023-07-30T09:57:38.890Z"
   },
   {
    "duration": 58,
    "start_time": "2023-07-30T09:57:38.900Z"
   },
   {
    "duration": 239,
    "start_time": "2023-07-30T09:57:38.961Z"
   },
   {
    "duration": 66,
    "start_time": "2023-07-30T09:57:39.202Z"
   },
   {
    "duration": 6,
    "start_time": "2023-07-30T09:57:39.270Z"
   },
   {
    "duration": 9,
    "start_time": "2023-07-30T09:57:39.278Z"
   },
   {
    "duration": 186,
    "start_time": "2023-07-30T09:57:39.289Z"
   },
   {
    "duration": 5,
    "start_time": "2023-07-30T09:57:39.477Z"
   },
   {
    "duration": 11,
    "start_time": "2023-07-30T09:57:39.484Z"
   },
   {
    "duration": 13,
    "start_time": "2023-07-30T09:57:39.496Z"
   },
   {
    "duration": 9,
    "start_time": "2023-07-30T09:57:39.510Z"
   },
   {
    "duration": 12,
    "start_time": "2023-07-30T09:57:39.520Z"
   },
   {
    "duration": 50,
    "start_time": "2023-07-30T09:57:39.533Z"
   },
   {
    "duration": 98,
    "start_time": "2023-07-30T09:57:39.584Z"
   },
   {
    "duration": 40,
    "start_time": "2023-07-30T09:57:39.683Z"
   },
   {
    "duration": 5,
    "start_time": "2023-07-30T09:57:39.725Z"
   },
   {
    "duration": 222,
    "start_time": "2023-07-30T09:57:39.734Z"
   },
   {
    "duration": 69,
    "start_time": "2023-07-30T09:57:39.958Z"
   },
   {
    "duration": 6,
    "start_time": "2023-07-30T09:57:40.029Z"
   },
   {
    "duration": 146,
    "start_time": "2023-07-30T09:57:40.036Z"
   },
   {
    "duration": 143,
    "start_time": "2023-07-30T09:57:40.183Z"
   },
   {
    "duration": 142,
    "start_time": "2023-07-30T09:57:40.327Z"
   },
   {
    "duration": 197,
    "start_time": "2023-07-30T09:57:40.471Z"
   },
   {
    "duration": 125,
    "start_time": "2023-07-30T09:57:54.570Z"
   },
   {
    "duration": 148,
    "start_time": "2023-07-30T09:58:01.593Z"
   },
   {
    "duration": 145,
    "start_time": "2023-07-30T09:58:07.359Z"
   },
   {
    "duration": 190,
    "start_time": "2023-07-30T09:58:13.069Z"
   },
   {
    "duration": 96,
    "start_time": "2023-07-30T09:59:54.332Z"
   },
   {
    "duration": 1265,
    "start_time": "2023-07-30T10:00:20.601Z"
   },
   {
    "duration": 155,
    "start_time": "2023-07-30T10:00:21.868Z"
   },
   {
    "duration": 13,
    "start_time": "2023-07-30T10:00:22.026Z"
   },
   {
    "duration": 25,
    "start_time": "2023-07-30T10:00:22.898Z"
   },
   {
    "duration": 4,
    "start_time": "2023-07-30T10:00:24.013Z"
   },
   {
    "duration": 8,
    "start_time": "2023-07-30T10:00:24.431Z"
   },
   {
    "duration": 111,
    "start_time": "2023-07-30T10:00:24.992Z"
   },
   {
    "duration": 119,
    "start_time": "2023-07-30T10:00:26.093Z"
   },
   {
    "duration": 96,
    "start_time": "2023-07-30T10:00:40.419Z"
   },
   {
    "duration": 114,
    "start_time": "2023-07-30T10:00:40.959Z"
   },
   {
    "duration": 10,
    "start_time": "2023-07-30T10:00:41.768Z"
   },
   {
    "duration": 46,
    "start_time": "2023-07-30T10:00:47.004Z"
   },
   {
    "duration": 41,
    "start_time": "2023-07-30T10:00:47.611Z"
   },
   {
    "duration": 294,
    "start_time": "2023-07-30T10:00:48.194Z"
   },
   {
    "duration": 72,
    "start_time": "2023-07-30T10:00:49.782Z"
   },
   {
    "duration": 159,
    "start_time": "2023-07-30T10:00:50.406Z"
   },
   {
    "duration": 34,
    "start_time": "2023-07-30T10:00:51.599Z"
   },
   {
    "duration": 7,
    "start_time": "2023-07-30T10:00:52.032Z"
   },
   {
    "duration": 415,
    "start_time": "2023-07-30T10:00:52.592Z"
   },
   {
    "duration": 31,
    "start_time": "2023-07-30T10:00:54.076Z"
   },
   {
    "duration": 10,
    "start_time": "2023-07-30T10:00:54.581Z"
   },
   {
    "duration": 6,
    "start_time": "2023-07-30T10:00:55.172Z"
   },
   {
    "duration": 28,
    "start_time": "2023-07-30T10:00:55.763Z"
   },
   {
    "duration": 40,
    "start_time": "2023-07-30T10:00:56.329Z"
   },
   {
    "duration": 7,
    "start_time": "2023-07-30T10:00:56.903Z"
   },
   {
    "duration": 28,
    "start_time": "2023-07-30T10:01:00.163Z"
   },
   {
    "duration": 193,
    "start_time": "2023-07-30T10:01:00.888Z"
   },
   {
    "duration": 60,
    "start_time": "2023-07-30T10:01:03.864Z"
   },
   {
    "duration": 9,
    "start_time": "2023-07-30T10:01:04.567Z"
   },
   {
    "duration": 9,
    "start_time": "2023-07-30T10:01:05.117Z"
   },
   {
    "duration": 177,
    "start_time": "2023-07-30T10:01:05.829Z"
   },
   {
    "duration": 5,
    "start_time": "2023-07-30T10:01:07.027Z"
   },
   {
    "duration": 9,
    "start_time": "2023-07-30T10:01:07.487Z"
   },
   {
    "duration": 10,
    "start_time": "2023-07-30T10:01:08.073Z"
   },
   {
    "duration": 13,
    "start_time": "2023-07-30T10:01:08.826Z"
   },
   {
    "duration": 174,
    "start_time": "2023-07-30T10:01:16.371Z"
   },
   {
    "duration": 37,
    "start_time": "2023-07-30T10:01:34.891Z"
   },
   {
    "duration": 88,
    "start_time": "2023-07-30T10:01:35.926Z"
   },
   {
    "duration": 46,
    "start_time": "2023-07-30T10:01:38.481Z"
   },
   {
    "duration": 7,
    "start_time": "2023-07-30T10:01:39.263Z"
   },
   {
    "duration": 298,
    "start_time": "2023-07-30T10:01:44.209Z"
   },
   {
    "duration": 94,
    "start_time": "2023-07-30T10:01:47.086Z"
   },
   {
    "duration": 6,
    "start_time": "2023-07-30T10:01:48.073Z"
   },
   {
    "duration": 130,
    "start_time": "2023-07-30T10:01:48.768Z"
   },
   {
    "duration": 127,
    "start_time": "2023-07-30T10:01:51.717Z"
   },
   {
    "duration": 114,
    "start_time": "2023-07-30T10:01:53.237Z"
   },
   {
    "duration": 161,
    "start_time": "2023-07-30T10:01:54.632Z"
   },
   {
    "duration": 119,
    "start_time": "2023-07-30T10:01:57.106Z"
   },
   {
    "duration": 120,
    "start_time": "2023-07-30T10:01:58.515Z"
   },
   {
    "duration": 119,
    "start_time": "2023-07-30T10:02:00.190Z"
   },
   {
    "duration": 173,
    "start_time": "2023-07-30T10:02:01.871Z"
   },
   {
    "duration": 1509,
    "start_time": "2023-08-01T17:08:24.910Z"
   },
   {
    "duration": 865,
    "start_time": "2023-08-01T17:08:26.422Z"
   },
   {
    "duration": 12,
    "start_time": "2023-08-01T17:08:27.290Z"
   },
   {
    "duration": 20,
    "start_time": "2023-08-01T17:08:27.304Z"
   },
   {
    "duration": 5,
    "start_time": "2023-08-01T17:08:27.326Z"
   },
   {
    "duration": 20,
    "start_time": "2023-08-01T17:08:27.332Z"
   },
   {
    "duration": 99,
    "start_time": "2023-08-01T17:08:27.354Z"
   },
   {
    "duration": 87,
    "start_time": "2023-08-01T17:08:27.455Z"
   },
   {
    "duration": 86,
    "start_time": "2023-08-01T17:08:27.543Z"
   },
   {
    "duration": 118,
    "start_time": "2023-08-01T17:08:27.632Z"
   },
   {
    "duration": 20,
    "start_time": "2023-08-01T17:08:27.751Z"
   },
   {
    "duration": 31,
    "start_time": "2023-08-01T17:08:27.775Z"
   },
   {
    "duration": 57,
    "start_time": "2023-08-01T17:08:27.808Z"
   },
   {
    "duration": 202,
    "start_time": "2023-08-01T17:08:27.872Z"
   },
   {
    "duration": 46,
    "start_time": "2023-08-01T17:08:28.079Z"
   },
   {
    "duration": 288,
    "start_time": "2023-08-01T17:08:28.126Z"
   },
   {
    "duration": 34,
    "start_time": "2023-08-01T17:08:28.416Z"
   },
   {
    "duration": 8,
    "start_time": "2023-08-01T17:08:28.456Z"
   },
   {
    "duration": 464,
    "start_time": "2023-08-01T17:08:28.466Z"
   },
   {
    "duration": 50,
    "start_time": "2023-08-01T17:08:28.934Z"
   },
   {
    "duration": 11,
    "start_time": "2023-08-01T17:08:28.986Z"
   },
   {
    "duration": 5,
    "start_time": "2023-08-01T17:08:28.999Z"
   },
   {
    "duration": 33,
    "start_time": "2023-08-01T17:08:29.006Z"
   },
   {
    "duration": 53,
    "start_time": "2023-08-01T17:08:29.041Z"
   },
   {
    "duration": 7,
    "start_time": "2023-08-01T17:08:29.096Z"
   },
   {
    "duration": 29,
    "start_time": "2023-08-01T17:08:29.106Z"
   },
   {
    "duration": 279,
    "start_time": "2023-08-01T17:08:29.137Z"
   },
   {
    "duration": 74,
    "start_time": "2023-08-01T17:08:29.419Z"
   },
   {
    "duration": 7,
    "start_time": "2023-08-01T17:08:29.494Z"
   },
   {
    "duration": 16,
    "start_time": "2023-08-01T17:08:29.502Z"
   },
   {
    "duration": 217,
    "start_time": "2023-08-01T17:08:29.519Z"
   },
   {
    "duration": 6,
    "start_time": "2023-08-01T17:08:29.738Z"
   },
   {
    "duration": 26,
    "start_time": "2023-08-01T17:08:29.745Z"
   },
   {
    "duration": 9,
    "start_time": "2023-08-01T17:08:29.778Z"
   },
   {
    "duration": 9,
    "start_time": "2023-08-01T17:08:29.789Z"
   },
   {
    "duration": 205,
    "start_time": "2023-08-01T17:08:29.800Z"
   },
   {
    "duration": 65,
    "start_time": "2023-08-01T17:08:30.007Z"
   },
   {
    "duration": 160,
    "start_time": "2023-08-01T17:08:30.074Z"
   },
   {
    "duration": 62,
    "start_time": "2023-08-01T17:08:30.236Z"
   },
   {
    "duration": 6,
    "start_time": "2023-08-01T17:08:30.299Z"
   },
   {
    "duration": 371,
    "start_time": "2023-08-01T17:08:30.307Z"
   },
   {
    "duration": 93,
    "start_time": "2023-08-01T17:08:30.681Z"
   },
   {
    "duration": 7,
    "start_time": "2023-08-01T17:08:30.778Z"
   },
   {
    "duration": 166,
    "start_time": "2023-08-01T17:08:30.787Z"
   },
   {
    "duration": 134,
    "start_time": "2023-08-01T17:08:30.955Z"
   },
   {
    "duration": 143,
    "start_time": "2023-08-01T17:08:31.091Z"
   },
   {
    "duration": 207,
    "start_time": "2023-08-01T17:08:31.236Z"
   },
   {
    "duration": 162,
    "start_time": "2023-08-01T17:08:31.445Z"
   },
   {
    "duration": 148,
    "start_time": "2023-08-01T17:08:31.609Z"
   },
   {
    "duration": 146,
    "start_time": "2023-08-01T17:08:31.759Z"
   },
   {
    "duration": 194,
    "start_time": "2023-08-01T17:08:31.908Z"
   },
   {
    "duration": 1286,
    "start_time": "2023-09-24T12:23:24.176Z"
   },
   {
    "duration": 705,
    "start_time": "2023-09-24T12:23:25.467Z"
   },
   {
    "duration": 14,
    "start_time": "2023-09-24T12:23:26.177Z"
   },
   {
    "duration": 45,
    "start_time": "2023-09-24T12:23:26.193Z"
   },
   {
    "duration": 3,
    "start_time": "2023-09-24T12:23:26.240Z"
   },
   {
    "duration": 24,
    "start_time": "2023-09-24T12:23:26.245Z"
   },
   {
    "duration": 106,
    "start_time": "2023-09-24T12:23:26.275Z"
   },
   {
    "duration": 65,
    "start_time": "2023-09-24T12:23:26.388Z"
   },
   {
    "duration": 81,
    "start_time": "2023-09-24T12:23:26.455Z"
   },
   {
    "duration": 153,
    "start_time": "2023-09-24T12:23:26.539Z"
   },
   {
    "duration": 8,
    "start_time": "2023-09-24T12:23:26.694Z"
   },
   {
    "duration": 37,
    "start_time": "2023-09-24T12:23:26.704Z"
   },
   {
    "duration": 42,
    "start_time": "2023-09-24T12:23:26.751Z"
   },
   {
    "duration": 191,
    "start_time": "2023-09-24T12:23:26.794Z"
   },
   {
    "duration": 35,
    "start_time": "2023-09-24T12:23:26.987Z"
   },
   {
    "duration": 143,
    "start_time": "2023-09-24T12:23:27.024Z"
   },
   {
    "duration": 39,
    "start_time": "2023-09-24T12:23:27.169Z"
   },
   {
    "duration": 5,
    "start_time": "2023-09-24T12:23:27.209Z"
   },
   {
    "duration": 446,
    "start_time": "2023-09-24T12:23:27.216Z"
   },
   {
    "duration": 32,
    "start_time": "2023-09-24T12:23:27.665Z"
   },
   {
    "duration": 9,
    "start_time": "2023-09-24T12:23:27.702Z"
   },
   {
    "duration": 13,
    "start_time": "2023-09-24T12:23:27.713Z"
   },
   {
    "duration": 49,
    "start_time": "2023-09-24T12:23:27.727Z"
   },
   {
    "duration": 44,
    "start_time": "2023-09-24T12:23:27.778Z"
   },
   {
    "duration": 4,
    "start_time": "2023-09-24T12:23:27.824Z"
   },
   {
    "duration": 49,
    "start_time": "2023-09-24T12:23:27.829Z"
   },
   {
    "duration": 206,
    "start_time": "2023-09-24T12:23:27.881Z"
   },
   {
    "duration": 53,
    "start_time": "2023-09-24T12:23:28.091Z"
   },
   {
    "duration": 13,
    "start_time": "2023-09-24T12:23:28.151Z"
   },
   {
    "duration": 21,
    "start_time": "2023-09-24T12:23:28.165Z"
   },
   {
    "duration": 190,
    "start_time": "2023-09-24T12:23:28.189Z"
   },
   {
    "duration": 4,
    "start_time": "2023-09-24T12:23:28.384Z"
   },
   {
    "duration": 11,
    "start_time": "2023-09-24T12:23:28.390Z"
   },
   {
    "duration": 11,
    "start_time": "2023-09-24T12:23:28.402Z"
   },
   {
    "duration": 39,
    "start_time": "2023-09-24T12:23:28.415Z"
   },
   {
    "duration": 229,
    "start_time": "2023-09-24T12:23:28.458Z"
   },
   {
    "duration": 79,
    "start_time": "2023-09-24T12:23:28.689Z"
   },
   {
    "duration": 150,
    "start_time": "2023-09-24T12:23:28.771Z"
   },
   {
    "duration": 75,
    "start_time": "2023-09-24T12:23:28.923Z"
   },
   {
    "duration": 6,
    "start_time": "2023-09-24T12:23:29.000Z"
   },
   {
    "duration": 317,
    "start_time": "2023-09-24T12:23:29.008Z"
   },
   {
    "duration": 89,
    "start_time": "2023-09-24T12:23:29.326Z"
   },
   {
    "duration": 7,
    "start_time": "2023-09-24T12:23:29.417Z"
   },
   {
    "duration": 174,
    "start_time": "2023-09-24T12:23:29.426Z"
   },
   {
    "duration": 147,
    "start_time": "2023-09-24T12:23:29.602Z"
   },
   {
    "duration": 135,
    "start_time": "2023-09-24T12:23:29.751Z"
   },
   {
    "duration": 178,
    "start_time": "2023-09-24T12:23:29.891Z"
   },
   {
    "duration": 280,
    "start_time": "2023-09-24T12:23:30.075Z"
   },
   {
    "duration": 325,
    "start_time": "2023-09-24T12:23:30.361Z"
   },
   {
    "duration": 465,
    "start_time": "2023-09-24T12:23:30.693Z"
   },
   {
    "duration": 498,
    "start_time": "2023-09-24T12:23:31.165Z"
   }
  ],
  "kernelspec": {
   "display_name": "Python 3 (ipykernel)",
   "language": "python",
   "name": "python3"
  },
  "language_info": {
   "codemirror_mode": {
    "name": "ipython",
    "version": 3
   },
   "file_extension": ".py",
   "mimetype": "text/x-python",
   "name": "python",
   "nbconvert_exporter": "python",
   "pygments_lexer": "ipython3",
   "version": "3.11.3"
  },
  "toc": {
   "base_numbering": 1,
   "nav_menu": {},
   "number_sections": true,
   "sideBar": true,
   "skip_h1_title": true,
   "title_cell": "Table of Contents",
   "title_sidebar": "Contents",
   "toc_cell": false,
   "toc_position": {
    "height": "calc(100% - 180px)",
    "left": "10px",
    "top": "150px",
    "width": "195.075px"
   },
   "toc_section_display": true,
   "toc_window_display": true
  }
 },
 "nbformat": 4,
 "nbformat_minor": 2
}
