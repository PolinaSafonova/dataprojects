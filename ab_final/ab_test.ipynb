{
 "cells": [
  {
   "cell_type": "markdown",
   "metadata": {},
   "source": [
    "# Проект: оценка результатов A/B-теста"
   ]
  },
  {
   "cell_type": "markdown",
   "metadata": {},
   "source": [
    "Цель проекта: провести оценку результатов A/B-теста recommender_system_test.\n",
    "\n",
    "Задачи:\n",
    "- оценить корректность проведения теста;\n",
    "- изучить пользовательскую активность, построить продуктовую воронку;\n",
    "- вычислить статистическую разницу в конверсии между группами."
   ]
  },
  {
   "cell_type": "markdown",
   "metadata": {},
   "source": [
    "## Описание данных"
   ]
  },
  {
   "cell_type": "markdown",
   "metadata": {},
   "source": [
    "1. ab_project_marketing_events — календарь маркетинговых событий на 2020 год\n",
    "- name — название маркетингового события;\n",
    "- regions — регионы, в которых будет проводиться рекламная кампания;\n",
    "- start_dt — дата начала кампании;\n",
    "- finish_dt — дата завершения кампании.\n",
    "2. final_ab_new_users.csv — все пользователи, зарегистрировавшиеся в интернет-магазине в период с 7 по 21 декабря 2020 года\n",
    "- user_id — идентификатор пользователя;\n",
    "- first_date — дата регистрации;\n",
    "- region — регион пользователя;\n",
    "- device — устройство, с которого происходила регистрация.\n",
    "3. final_ab_events.csv — все события новых пользователей в период с 7 декабря 2020 по 4 января 2021 года\n",
    "- user_id — идентификатор пользователя;\n",
    "- event_dt — дата и время события;\n",
    "- event_name — тип события;\n",
    "- details — дополнительные данные о событии. \n",
    "4. final_ab_participants — таблица участников тестов.\n",
    "- user_id — идентификатор пользователя;\n",
    "- ab_test — название теста;\n",
    "- group — группа пользователя.\n",
    "\n",
    "ТЗ:\n",
    "- Название теста: recommender_system_test ;\n",
    "- Группы: А (контрольная), B (новая платёжная воронка);\n",
    "- Дата запуска: 2020-12-07;\n",
    "- Дата остановки набора новых пользователей: 2020-12-21;\n",
    "- Дата остановки: 2021-01-04;\n",
    "- Ожидаемое количество участников теста: 15% новых пользователей из региона EU;\n",
    "- Ожидаемый эффект: за 14 дней с момента регистрации в системе пользователи покажут улучшение каждой метрики (просмотра товаров, просмотра корзины, покупок) не менее, чем на 5%"
   ]
  },
  {
   "cell_type": "markdown",
   "metadata": {},
   "source": [
    "## Загрузка данных"
   ]
  },
  {
   "cell_type": "code",
   "execution_count": 6,
   "metadata": {},
   "outputs": [],
   "source": [
    "#загружаем нужные библиотеки\n",
    "import pandas as pd\n",
    "import plotly.express as px\n",
    "import numpy as np\n",
    "from datetime import datetime, timedelta\n",
    "from plotly import graph_objects as go\n",
    "from scipy import stats as st"
   ]
  },
  {
   "cell_type": "code",
   "execution_count": 7,
   "metadata": {},
   "outputs": [],
   "source": [
    "#загружаем данные\n",
    "try:\n",
    "    marketing_events = pd.read_csv('/datasets/ab_project_marketing_events.csv')\n",
    "    users = pd.read_csv('/datasets/final_ab_new_users.csv')\n",
    "    events = pd.read_csv('/datasets/final_ab_events.csv')\n",
    "    participants = pd.read_csv('/datasets/final_ab_participants.csv')\n",
    "\n",
    "except:\n",
    "    marketing_events = pd.read_csv('ab_project_marketing_events.csv')\n",
    "    users = pd.read_csv('final_ab_new_users.csv')\n",
    "    events = pd.read_csv('final_ab_events.csv')\n",
    "    participants = pd.read_csv('final_ab_participants.csv')   "
   ]
  },
  {
   "cell_type": "code",
   "execution_count": 8,
   "metadata": {},
   "outputs": [
    {
     "data": {
      "text/html": [
       "<div>\n",
       "<style scoped>\n",
       "    .dataframe tbody tr th:only-of-type {\n",
       "        vertical-align: middle;\n",
       "    }\n",
       "\n",
       "    .dataframe tbody tr th {\n",
       "        vertical-align: top;\n",
       "    }\n",
       "\n",
       "    .dataframe thead th {\n",
       "        text-align: right;\n",
       "    }\n",
       "</style>\n",
       "<table border=\"1\" class=\"dataframe\">\n",
       "  <thead>\n",
       "    <tr style=\"text-align: right;\">\n",
       "      <th></th>\n",
       "      <th>name</th>\n",
       "      <th>regions</th>\n",
       "      <th>start_dt</th>\n",
       "      <th>finish_dt</th>\n",
       "    </tr>\n",
       "  </thead>\n",
       "  <tbody>\n",
       "    <tr>\n",
       "      <th>0</th>\n",
       "      <td>Christmas&amp;New Year Promo</td>\n",
       "      <td>EU, N.America</td>\n",
       "      <td>2020-12-25</td>\n",
       "      <td>2021-01-03</td>\n",
       "    </tr>\n",
       "    <tr>\n",
       "      <th>1</th>\n",
       "      <td>St. Valentine's Day Giveaway</td>\n",
       "      <td>EU, CIS, APAC, N.America</td>\n",
       "      <td>2020-02-14</td>\n",
       "      <td>2020-02-16</td>\n",
       "    </tr>\n",
       "    <tr>\n",
       "      <th>2</th>\n",
       "      <td>St. Patric's Day Promo</td>\n",
       "      <td>EU, N.America</td>\n",
       "      <td>2020-03-17</td>\n",
       "      <td>2020-03-19</td>\n",
       "    </tr>\n",
       "    <tr>\n",
       "      <th>3</th>\n",
       "      <td>Easter Promo</td>\n",
       "      <td>EU, CIS, APAC, N.America</td>\n",
       "      <td>2020-04-12</td>\n",
       "      <td>2020-04-19</td>\n",
       "    </tr>\n",
       "    <tr>\n",
       "      <th>4</th>\n",
       "      <td>4th of July Promo</td>\n",
       "      <td>N.America</td>\n",
       "      <td>2020-07-04</td>\n",
       "      <td>2020-07-11</td>\n",
       "    </tr>\n",
       "    <tr>\n",
       "      <th>5</th>\n",
       "      <td>Black Friday Ads Campaign</td>\n",
       "      <td>EU, CIS, APAC, N.America</td>\n",
       "      <td>2020-11-26</td>\n",
       "      <td>2020-12-01</td>\n",
       "    </tr>\n",
       "    <tr>\n",
       "      <th>6</th>\n",
       "      <td>Chinese New Year Promo</td>\n",
       "      <td>APAC</td>\n",
       "      <td>2020-01-25</td>\n",
       "      <td>2020-02-07</td>\n",
       "    </tr>\n",
       "    <tr>\n",
       "      <th>7</th>\n",
       "      <td>Labor day (May 1st) Ads Campaign</td>\n",
       "      <td>EU, CIS, APAC</td>\n",
       "      <td>2020-05-01</td>\n",
       "      <td>2020-05-03</td>\n",
       "    </tr>\n",
       "    <tr>\n",
       "      <th>8</th>\n",
       "      <td>International Women's Day Promo</td>\n",
       "      <td>EU, CIS, APAC</td>\n",
       "      <td>2020-03-08</td>\n",
       "      <td>2020-03-10</td>\n",
       "    </tr>\n",
       "    <tr>\n",
       "      <th>9</th>\n",
       "      <td>Victory Day CIS (May 9th) Event</td>\n",
       "      <td>CIS</td>\n",
       "      <td>2020-05-09</td>\n",
       "      <td>2020-05-11</td>\n",
       "    </tr>\n",
       "    <tr>\n",
       "      <th>10</th>\n",
       "      <td>CIS New Year Gift Lottery</td>\n",
       "      <td>CIS</td>\n",
       "      <td>2020-12-30</td>\n",
       "      <td>2021-01-07</td>\n",
       "    </tr>\n",
       "    <tr>\n",
       "      <th>11</th>\n",
       "      <td>Dragon Boat Festival Giveaway</td>\n",
       "      <td>APAC</td>\n",
       "      <td>2020-06-25</td>\n",
       "      <td>2020-07-01</td>\n",
       "    </tr>\n",
       "    <tr>\n",
       "      <th>12</th>\n",
       "      <td>Single's Day Gift Promo</td>\n",
       "      <td>APAC</td>\n",
       "      <td>2020-11-11</td>\n",
       "      <td>2020-11-12</td>\n",
       "    </tr>\n",
       "    <tr>\n",
       "      <th>13</th>\n",
       "      <td>Chinese Moon Festival</td>\n",
       "      <td>APAC</td>\n",
       "      <td>2020-10-01</td>\n",
       "      <td>2020-10-07</td>\n",
       "    </tr>\n",
       "  </tbody>\n",
       "</table>\n",
       "</div>"
      ],
      "text/plain": [
       "                                name                   regions    start_dt  \\\n",
       "0           Christmas&New Year Promo             EU, N.America  2020-12-25   \n",
       "1       St. Valentine's Day Giveaway  EU, CIS, APAC, N.America  2020-02-14   \n",
       "2             St. Patric's Day Promo             EU, N.America  2020-03-17   \n",
       "3                       Easter Promo  EU, CIS, APAC, N.America  2020-04-12   \n",
       "4                  4th of July Promo                 N.America  2020-07-04   \n",
       "5          Black Friday Ads Campaign  EU, CIS, APAC, N.America  2020-11-26   \n",
       "6             Chinese New Year Promo                      APAC  2020-01-25   \n",
       "7   Labor day (May 1st) Ads Campaign             EU, CIS, APAC  2020-05-01   \n",
       "8    International Women's Day Promo             EU, CIS, APAC  2020-03-08   \n",
       "9    Victory Day CIS (May 9th) Event                       CIS  2020-05-09   \n",
       "10         CIS New Year Gift Lottery                       CIS  2020-12-30   \n",
       "11     Dragon Boat Festival Giveaway                      APAC  2020-06-25   \n",
       "12           Single's Day Gift Promo                      APAC  2020-11-11   \n",
       "13             Chinese Moon Festival                      APAC  2020-10-01   \n",
       "\n",
       "     finish_dt  \n",
       "0   2021-01-03  \n",
       "1   2020-02-16  \n",
       "2   2020-03-19  \n",
       "3   2020-04-19  \n",
       "4   2020-07-11  \n",
       "5   2020-12-01  \n",
       "6   2020-02-07  \n",
       "7   2020-05-03  \n",
       "8   2020-03-10  \n",
       "9   2020-05-11  \n",
       "10  2021-01-07  \n",
       "11  2020-07-01  \n",
       "12  2020-11-12  \n",
       "13  2020-10-07  "
      ]
     },
     "execution_count": 8,
     "metadata": {},
     "output_type": "execute_result"
    }
   ],
   "source": [
    "# смотрим на датасеты\n",
    "marketing_events"
   ]
  },
  {
   "cell_type": "code",
   "execution_count": 9,
   "metadata": {},
   "outputs": [
    {
     "name": "stdout",
     "output_type": "stream",
     "text": [
      "<class 'pandas.core.frame.DataFrame'>\n",
      "RangeIndex: 14 entries, 0 to 13\n",
      "Data columns (total 4 columns):\n",
      " #   Column     Non-Null Count  Dtype \n",
      "---  ------     --------------  ----- \n",
      " 0   name       14 non-null     object\n",
      " 1   regions    14 non-null     object\n",
      " 2   start_dt   14 non-null     object\n",
      " 3   finish_dt  14 non-null     object\n",
      "dtypes: object(4)\n",
      "memory usage: 580.0+ bytes\n"
     ]
    }
   ],
   "source": [
    "marketing_events.info()"
   ]
  },
  {
   "cell_type": "code",
   "execution_count": 10,
   "metadata": {},
   "outputs": [
    {
     "name": "stdout",
     "output_type": "stream",
     "text": [
      "            user_id  first_date     region   device\n",
      "0  D72A72121175D8BE  2020-12-07         EU       PC\n",
      "1  F1C668619DFE6E65  2020-12-07  N.America  Android\n",
      "2  2E1BF1D4C37EA01F  2020-12-07         EU       PC\n",
      "3  50734A22C0C63768  2020-12-07         EU   iPhone\n",
      "4  E1BDDCE0DAFA2679  2020-12-07  N.America   iPhone\n",
      "<class 'pandas.core.frame.DataFrame'>\n",
      "RangeIndex: 61733 entries, 0 to 61732\n",
      "Data columns (total 4 columns):\n",
      " #   Column      Non-Null Count  Dtype \n",
      "---  ------      --------------  ----- \n",
      " 0   user_id     61733 non-null  object\n",
      " 1   first_date  61733 non-null  object\n",
      " 2   region      61733 non-null  object\n",
      " 3   device      61733 non-null  object\n",
      "dtypes: object(4)\n",
      "memory usage: 1.9+ MB\n",
      "None\n"
     ]
    }
   ],
   "source": [
    "# смотрим на датасеты\n",
    "print(users.head())\n",
    "print(users.info())"
   ]
  },
  {
   "cell_type": "code",
   "execution_count": 11,
   "metadata": {},
   "outputs": [
    {
     "name": "stdout",
     "output_type": "stream",
     "text": [
      "            user_id             event_dt event_name  details\n",
      "0  E1BDDCE0DAFA2679  2020-12-07 20:22:03   purchase    99.99\n",
      "1  7B6452F081F49504  2020-12-07 09:22:53   purchase     9.99\n",
      "2  9CD9F34546DF254C  2020-12-07 12:59:29   purchase     4.99\n",
      "3  96F27A054B191457  2020-12-07 04:02:40   purchase     4.99\n",
      "4  1FD7660FDF94CA1F  2020-12-07 10:15:09   purchase     4.99\n",
      "<class 'pandas.core.frame.DataFrame'>\n",
      "RangeIndex: 440317 entries, 0 to 440316\n",
      "Data columns (total 4 columns):\n",
      " #   Column      Non-Null Count   Dtype  \n",
      "---  ------      --------------   -----  \n",
      " 0   user_id     440317 non-null  object \n",
      " 1   event_dt    440317 non-null  object \n",
      " 2   event_name  440317 non-null  object \n",
      " 3   details     62740 non-null   float64\n",
      "dtypes: float64(1), object(3)\n",
      "memory usage: 13.4+ MB\n",
      "None\n"
     ]
    }
   ],
   "source": [
    "# смотрим на датасеты\n",
    "print(events.head())\n",
    "print(events.info())"
   ]
  },
  {
   "cell_type": "code",
   "execution_count": 12,
   "metadata": {},
   "outputs": [
    {
     "name": "stdout",
     "output_type": "stream",
     "text": [
      "            user_id group                  ab_test\n",
      "0  D1ABA3E2887B6A73     A  recommender_system_test\n",
      "1  A7A3664BD6242119     A  recommender_system_test\n",
      "2  DABC14FDDFADD29E     A  recommender_system_test\n",
      "3  04988C5DF189632E     A  recommender_system_test\n",
      "4  482F14783456D21B     B  recommender_system_test\n",
      "<class 'pandas.core.frame.DataFrame'>\n",
      "RangeIndex: 18268 entries, 0 to 18267\n",
      "Data columns (total 3 columns):\n",
      " #   Column   Non-Null Count  Dtype \n",
      "---  ------   --------------  ----- \n",
      " 0   user_id  18268 non-null  object\n",
      " 1   group    18268 non-null  object\n",
      " 2   ab_test  18268 non-null  object\n",
      "dtypes: object(3)\n",
      "memory usage: 428.3+ KB\n",
      "None\n"
     ]
    }
   ],
   "source": [
    "# смотрим на датасеты\n",
    "print(participants.head())\n",
    "print(participants.info())"
   ]
  },
  {
   "cell_type": "markdown",
   "metadata": {},
   "source": [
    "## Предобработка данных"
   ]
  },
  {
   "cell_type": "code",
   "execution_count": 13,
   "metadata": {},
   "outputs": [
    {
     "name": "stdout",
     "output_type": "stream",
     "text": [
      "user_id       0\n",
      "first_date    0\n",
      "region        0\n",
      "device        0\n",
      "dtype: int64\n",
      "0\n",
      "0\n"
     ]
    }
   ],
   "source": [
    "# проверяем на пропуски датасет users\n",
    "print(users.isna().sum())\n",
    "\n",
    "# проверяем на дубликаты\n",
    "print(users.duplicated().sum())\n",
    "\n",
    "# проверяем на неявные дубликаты\n",
    "print(users['user_id'].duplicated().sum())"
   ]
  },
  {
   "cell_type": "code",
   "execution_count": 14,
   "metadata": {},
   "outputs": [
    {
     "name": "stdout",
     "output_type": "stream",
     "text": [
      "user_id            0\n",
      "event_dt           0\n",
      "event_name         0\n",
      "details       377577\n",
      "dtype: int64\n"
     ]
    }
   ],
   "source": [
    "# проверяем на пропуски датасет events\n",
    "print(events.isna().sum())"
   ]
  },
  {
   "cell_type": "markdown",
   "metadata": {},
   "source": [
    "Все пропуски в этом датасете находятся в столбце 'details' (дополнительные данные о событии). Это вспомогательная информация, такие пропуски обрабатывать не нужно."
   ]
  },
  {
   "cell_type": "code",
   "execution_count": 15,
   "metadata": {},
   "outputs": [
    {
     "data": {
      "text/plain": [
       "array([ 99.99,   9.99,   4.99, 499.99,    nan])"
      ]
     },
     "execution_count": 15,
     "metadata": {},
     "output_type": "execute_result"
    }
   ],
   "source": [
    "# посмотрим на уникальные значения в details\n",
    "events['details'].unique()"
   ]
  },
  {
   "cell_type": "code",
   "execution_count": 16,
   "metadata": {},
   "outputs": [
    {
     "data": {
      "text/html": [
       "<div>\n",
       "<style scoped>\n",
       "    .dataframe tbody tr th:only-of-type {\n",
       "        vertical-align: middle;\n",
       "    }\n",
       "\n",
       "    .dataframe tbody tr th {\n",
       "        vertical-align: top;\n",
       "    }\n",
       "\n",
       "    .dataframe thead th {\n",
       "        text-align: right;\n",
       "    }\n",
       "</style>\n",
       "<table border=\"1\" class=\"dataframe\">\n",
       "  <thead>\n",
       "    <tr style=\"text-align: right;\">\n",
       "      <th></th>\n",
       "      <th>user_id</th>\n",
       "      <th>event_dt</th>\n",
       "      <th>event_name</th>\n",
       "      <th>details</th>\n",
       "    </tr>\n",
       "  </thead>\n",
       "  <tbody>\n",
       "    <tr>\n",
       "      <th>0</th>\n",
       "      <td>E1BDDCE0DAFA2679</td>\n",
       "      <td>2020-12-07 20:22:03</td>\n",
       "      <td>purchase</td>\n",
       "      <td>99.99</td>\n",
       "    </tr>\n",
       "    <tr>\n",
       "      <th>1</th>\n",
       "      <td>7B6452F081F49504</td>\n",
       "      <td>2020-12-07 09:22:53</td>\n",
       "      <td>purchase</td>\n",
       "      <td>9.99</td>\n",
       "    </tr>\n",
       "    <tr>\n",
       "      <th>2</th>\n",
       "      <td>9CD9F34546DF254C</td>\n",
       "      <td>2020-12-07 12:59:29</td>\n",
       "      <td>purchase</td>\n",
       "      <td>4.99</td>\n",
       "    </tr>\n",
       "    <tr>\n",
       "      <th>3</th>\n",
       "      <td>96F27A054B191457</td>\n",
       "      <td>2020-12-07 04:02:40</td>\n",
       "      <td>purchase</td>\n",
       "      <td>4.99</td>\n",
       "    </tr>\n",
       "    <tr>\n",
       "      <th>4</th>\n",
       "      <td>1FD7660FDF94CA1F</td>\n",
       "      <td>2020-12-07 10:15:09</td>\n",
       "      <td>purchase</td>\n",
       "      <td>4.99</td>\n",
       "    </tr>\n",
       "  </tbody>\n",
       "</table>\n",
       "</div>"
      ],
      "text/plain": [
       "            user_id             event_dt event_name  details\n",
       "0  E1BDDCE0DAFA2679  2020-12-07 20:22:03   purchase    99.99\n",
       "1  7B6452F081F49504  2020-12-07 09:22:53   purchase     9.99\n",
       "2  9CD9F34546DF254C  2020-12-07 12:59:29   purchase     4.99\n",
       "3  96F27A054B191457  2020-12-07 04:02:40   purchase     4.99\n",
       "4  1FD7660FDF94CA1F  2020-12-07 10:15:09   purchase     4.99"
      ]
     },
     "execution_count": 16,
     "metadata": {},
     "output_type": "execute_result"
    }
   ],
   "source": [
    "# выберем строки без пропусков в details\n",
    "have_details = events[~events['details'].isna()]\n",
    "have_details.head()"
   ]
  },
  {
   "cell_type": "code",
   "execution_count": 17,
   "metadata": {
    "scrolled": true
   },
   "outputs": [
    {
     "data": {
      "text/html": [
       "<div>\n",
       "<style scoped>\n",
       "    .dataframe tbody tr th:only-of-type {\n",
       "        vertical-align: middle;\n",
       "    }\n",
       "\n",
       "    .dataframe tbody tr th {\n",
       "        vertical-align: top;\n",
       "    }\n",
       "\n",
       "    .dataframe thead th {\n",
       "        text-align: right;\n",
       "    }\n",
       "</style>\n",
       "<table border=\"1\" class=\"dataframe\">\n",
       "  <thead>\n",
       "    <tr style=\"text-align: right;\">\n",
       "      <th></th>\n",
       "      <th>user_id</th>\n",
       "    </tr>\n",
       "    <tr>\n",
       "      <th>event_name</th>\n",
       "      <th></th>\n",
       "    </tr>\n",
       "  </thead>\n",
       "  <tbody>\n",
       "    <tr>\n",
       "      <th>purchase</th>\n",
       "      <td>19569</td>\n",
       "    </tr>\n",
       "  </tbody>\n",
       "</table>\n",
       "</div>"
      ],
      "text/plain": [
       "            user_id\n",
       "event_name         \n",
       "purchase      19569"
      ]
     },
     "execution_count": 17,
     "metadata": {},
     "output_type": "execute_result"
    }
   ],
   "source": [
    "have_details.groupby('event_name').agg({'user_id':'nunique'})"
   ]
  },
  {
   "cell_type": "markdown",
   "metadata": {},
   "source": [
    "Похоже, что столбец details содержит данные о сумме покупки. Соответственно, пропуски есть у пользователей, которые не совершали покупок."
   ]
  },
  {
   "cell_type": "code",
   "execution_count": 18,
   "metadata": {},
   "outputs": [
    {
     "name": "stdout",
     "output_type": "stream",
     "text": [
      "0\n",
      "381614\n"
     ]
    }
   ],
   "source": [
    "# проверяем на дубликаты\n",
    "print(events.duplicated().sum())\n",
    "\n",
    "# проверяем на неявные дубликаты\n",
    "print(events['user_id'].duplicated().sum())"
   ]
  },
  {
   "cell_type": "markdown",
   "metadata": {},
   "source": [
    "Пользователи могут участвовать в нескольких событиях, отсюда и дубликаты в 'user_id'."
   ]
  },
  {
   "cell_type": "code",
   "execution_count": 19,
   "metadata": {},
   "outputs": [
    {
     "data": {
      "text/plain": [
       "user_id    0\n",
       "group      0\n",
       "ab_test    0\n",
       "dtype: int64"
      ]
     },
     "execution_count": 19,
     "metadata": {},
     "output_type": "execute_result"
    }
   ],
   "source": [
    "# проверяем на пропуски датасет participants\n",
    "participants.isna().sum()"
   ]
  },
  {
   "cell_type": "code",
   "execution_count": 20,
   "metadata": {},
   "outputs": [
    {
     "name": "stdout",
     "output_type": "stream",
     "text": [
      "0\n",
      "1602\n"
     ]
    }
   ],
   "source": [
    "# проверяем на дубликаты\n",
    "print(participants.duplicated().sum())\n",
    "\n",
    "# проверяем на неявные дубликаты\n",
    "print(participants['user_id'].duplicated().sum())"
   ]
  },
  {
   "cell_type": "markdown",
   "metadata": {},
   "source": [
    "Обнаружились дубликаты в user_id, значит, в датасете есть пользователи, попавшие в обе группы теста."
   ]
  },
  {
   "cell_type": "code",
   "execution_count": 21,
   "metadata": {},
   "outputs": [
    {
     "data": {
      "text/plain": [
       "group    776\n",
       "dtype: int64"
      ]
     },
     "execution_count": 21,
     "metadata": {},
     "output_type": "execute_result"
    }
   ],
   "source": [
    "# сколько пользователей попали в обе группы\n",
    "doubles=participants.groupby('user_id').agg({'group':'nunique'}).query('group > 1').count()\n",
    "doubles"
   ]
  },
  {
   "cell_type": "markdown",
   "metadata": {},
   "source": [
    "Есть 776 пользователей, попавших в обе группы. Пока ничего делать не будем, посмотрим, будут ли пользователи, попавшие в обе группы теста, после фильтрации по региону."
   ]
  },
  {
   "cell_type": "code",
   "execution_count": 22,
   "metadata": {},
   "outputs": [],
   "source": [
    "# приводим данные к нужному типу\n",
    "marketing_events['start_dt']=pd.to_datetime(marketing_events['start_dt'])\n",
    "marketing_events['finish_dt']=pd.to_datetime(marketing_events['finish_dt'])\n",
    "users['first_date']=pd.to_datetime(users['first_date'])\n",
    "events['event_dt']=pd.to_datetime(events['event_dt'])"
   ]
  },
  {
   "cell_type": "markdown",
   "metadata": {},
   "source": [
    "### Оценка корректности проведения теста"
   ]
  },
  {
   "cell_type": "code",
   "execution_count": 23,
   "metadata": {},
   "outputs": [
    {
     "name": "stdout",
     "output_type": "stream",
     "text": [
      "Дата начала регистрации пользователей: 2020-12-07 00:00:00\n",
      "Дата окончания регистрации пользователей: 2020-12-23 00:00:00\n"
     ]
    }
   ],
   "source": [
    "# проверяем даты регистрации пользователей\n",
    "print('Дата начала регистрации пользователей:', users['first_date'].min())\n",
    "print('Дата окончания регистрации пользователей:',users['first_date'].max())"
   ]
  },
  {
   "cell_type": "markdown",
   "metadata": {},
   "source": [
    "По заданию дата остановки набора новых пользователей: 2020-12-21, поэтому сразу уберем пользователей, зарегистрировавшихся после этой даты."
   ]
  },
  {
   "cell_type": "code",
   "execution_count": 24,
   "metadata": {},
   "outputs": [
    {
     "name": "stdout",
     "output_type": "stream",
     "text": [
      "Дата окончания регистрации пользователей: 2020-12-21 00:00:00\n"
     ]
    }
   ],
   "source": [
    "users = users.query('first_date <= \"2020-12-21\" ')\n",
    "print('Дата окончания регистрации пользователей:',users['first_date'].max())"
   ]
  },
  {
   "cell_type": "code",
   "execution_count": 25,
   "metadata": {},
   "outputs": [
    {
     "name": "stdout",
     "output_type": "stream",
     "text": [
      "Начало теста 2020-12-07 00:00:33\n",
      "Окончание теста 2020-12-30 23:36:33\n"
     ]
    }
   ],
   "source": [
    "# проверяем, за какой период у нас события (даты теста)\n",
    "print('Начало теста', events['event_dt'].min())\n",
    "print('Окончание теста', events['event_dt'].max())"
   ]
  },
  {
   "cell_type": "markdown",
   "metadata": {},
   "source": [
    "Заявленная дата остановки: 2021-01-04, в датасете не хватает данных за несколько дней (31 декабря-4 января). Возможно, мы имеем дело с проблемой подглядывания: ожидаемое количество данных набралось раньше даты окончания теста, и тест был завершен досрочно. Это увеличивает p-value, и мы сталкиваемся с вероятностю, что при оценке результатов теста критерий покажет значимую разницу, когда ее нет."
   ]
  },
  {
   "cell_type": "code",
   "execution_count": 26,
   "metadata": {},
   "outputs": [
    {
     "data": {
      "text/html": [
       "<div>\n",
       "<style scoped>\n",
       "    .dataframe tbody tr th:only-of-type {\n",
       "        vertical-align: middle;\n",
       "    }\n",
       "\n",
       "    .dataframe tbody tr th {\n",
       "        vertical-align: top;\n",
       "    }\n",
       "\n",
       "    .dataframe thead th {\n",
       "        text-align: right;\n",
       "    }\n",
       "</style>\n",
       "<table border=\"1\" class=\"dataframe\">\n",
       "  <thead>\n",
       "    <tr style=\"text-align: right;\">\n",
       "      <th></th>\n",
       "      <th>user_id</th>\n",
       "    </tr>\n",
       "    <tr>\n",
       "      <th>region</th>\n",
       "      <th></th>\n",
       "    </tr>\n",
       "  </thead>\n",
       "  <tbody>\n",
       "    <tr>\n",
       "      <th>APAC</th>\n",
       "      <td>2883</td>\n",
       "    </tr>\n",
       "    <tr>\n",
       "      <th>CIS</th>\n",
       "      <td>2900</td>\n",
       "    </tr>\n",
       "    <tr>\n",
       "      <th>EU</th>\n",
       "      <td>42340</td>\n",
       "    </tr>\n",
       "    <tr>\n",
       "      <th>N.America</th>\n",
       "      <td>8347</td>\n",
       "    </tr>\n",
       "  </tbody>\n",
       "</table>\n",
       "</div>"
      ],
      "text/plain": [
       "           user_id\n",
       "region            \n",
       "APAC          2883\n",
       "CIS           2900\n",
       "EU           42340\n",
       "N.America     8347"
      ]
     },
     "execution_count": 26,
     "metadata": {},
     "output_type": "execute_result"
    }
   ],
   "source": [
    "# проверяем регион регистрации пользователей\n",
    "users.groupby('region').agg({'user_id':'nunique'})"
   ]
  },
  {
   "cell_type": "code",
   "execution_count": 27,
   "metadata": {},
   "outputs": [
    {
     "data": {
      "text/html": [
       "<div>\n",
       "<style scoped>\n",
       "    .dataframe tbody tr th:only-of-type {\n",
       "        vertical-align: middle;\n",
       "    }\n",
       "\n",
       "    .dataframe tbody tr th {\n",
       "        vertical-align: top;\n",
       "    }\n",
       "\n",
       "    .dataframe thead th {\n",
       "        text-align: right;\n",
       "    }\n",
       "</style>\n",
       "<table border=\"1\" class=\"dataframe\">\n",
       "  <thead>\n",
       "    <tr style=\"text-align: right;\">\n",
       "      <th></th>\n",
       "      <th>user_id</th>\n",
       "      <th>first_date</th>\n",
       "      <th>region</th>\n",
       "      <th>device</th>\n",
       "      <th>group</th>\n",
       "      <th>ab_test</th>\n",
       "    </tr>\n",
       "  </thead>\n",
       "  <tbody>\n",
       "    <tr>\n",
       "      <th>0</th>\n",
       "      <td>D72A72121175D8BE</td>\n",
       "      <td>2020-12-07</td>\n",
       "      <td>EU</td>\n",
       "      <td>PC</td>\n",
       "      <td>A</td>\n",
       "      <td>recommender_system_test</td>\n",
       "    </tr>\n",
       "    <tr>\n",
       "      <th>1</th>\n",
       "      <td>2E1BF1D4C37EA01F</td>\n",
       "      <td>2020-12-07</td>\n",
       "      <td>EU</td>\n",
       "      <td>PC</td>\n",
       "      <td>A</td>\n",
       "      <td>interface_eu_test</td>\n",
       "    </tr>\n",
       "    <tr>\n",
       "      <th>2</th>\n",
       "      <td>50734A22C0C63768</td>\n",
       "      <td>2020-12-07</td>\n",
       "      <td>EU</td>\n",
       "      <td>iPhone</td>\n",
       "      <td>B</td>\n",
       "      <td>interface_eu_test</td>\n",
       "    </tr>\n",
       "    <tr>\n",
       "      <th>3</th>\n",
       "      <td>E6DE857AFBDC6102</td>\n",
       "      <td>2020-12-07</td>\n",
       "      <td>EU</td>\n",
       "      <td>PC</td>\n",
       "      <td>B</td>\n",
       "      <td>recommender_system_test</td>\n",
       "    </tr>\n",
       "    <tr>\n",
       "      <th>4</th>\n",
       "      <td>E6DE857AFBDC6102</td>\n",
       "      <td>2020-12-07</td>\n",
       "      <td>EU</td>\n",
       "      <td>PC</td>\n",
       "      <td>B</td>\n",
       "      <td>interface_eu_test</td>\n",
       "    </tr>\n",
       "  </tbody>\n",
       "</table>\n",
       "</div>"
      ],
      "text/plain": [
       "            user_id first_date region  device group                  ab_test\n",
       "0  D72A72121175D8BE 2020-12-07     EU      PC     A  recommender_system_test\n",
       "1  2E1BF1D4C37EA01F 2020-12-07     EU      PC     A        interface_eu_test\n",
       "2  50734A22C0C63768 2020-12-07     EU  iPhone     B        interface_eu_test\n",
       "3  E6DE857AFBDC6102 2020-12-07     EU      PC     B  recommender_system_test\n",
       "4  E6DE857AFBDC6102 2020-12-07     EU      PC     B        interface_eu_test"
      ]
     },
     "execution_count": 27,
     "metadata": {},
     "output_type": "execute_result"
    }
   ],
   "source": [
    "# объединяем таблицы с пользователями и участниками теста\n",
    "test_users = pd.merge(users, participants, left_on='user_id', right_on='user_id', how='inner')\n",
    "test_users.head()"
   ]
  },
  {
   "cell_type": "markdown",
   "metadata": {},
   "source": [
    "В таблице есть пользователи из двух тестов, изучим из подробнее."
   ]
  },
  {
   "cell_type": "code",
   "execution_count": 28,
   "metadata": {},
   "outputs": [
    {
     "data": {
      "text/html": [
       "<div>\n",
       "<style scoped>\n",
       "    .dataframe tbody tr th:only-of-type {\n",
       "        vertical-align: middle;\n",
       "    }\n",
       "\n",
       "    .dataframe tbody tr th {\n",
       "        vertical-align: top;\n",
       "    }\n",
       "\n",
       "    .dataframe thead th {\n",
       "        text-align: right;\n",
       "    }\n",
       "</style>\n",
       "<table border=\"1\" class=\"dataframe\">\n",
       "  <thead>\n",
       "    <tr style=\"text-align: right;\">\n",
       "      <th></th>\n",
       "      <th>user_id</th>\n",
       "      <th>group_x</th>\n",
       "      <th>first_date</th>\n",
       "      <th>region</th>\n",
       "      <th>device</th>\n",
       "      <th>group_y</th>\n",
       "      <th>ab_test</th>\n",
       "    </tr>\n",
       "  </thead>\n",
       "  <tbody>\n",
       "    <tr>\n",
       "      <th>0</th>\n",
       "      <td>0082295A41A867B5</td>\n",
       "      <td>2</td>\n",
       "      <td>2020-12-16</td>\n",
       "      <td>EU</td>\n",
       "      <td>iPhone</td>\n",
       "      <td>A</td>\n",
       "      <td>recommender_system_test</td>\n",
       "    </tr>\n",
       "    <tr>\n",
       "      <th>1</th>\n",
       "      <td>0082295A41A867B5</td>\n",
       "      <td>2</td>\n",
       "      <td>2020-12-16</td>\n",
       "      <td>EU</td>\n",
       "      <td>iPhone</td>\n",
       "      <td>B</td>\n",
       "      <td>interface_eu_test</td>\n",
       "    </tr>\n",
       "    <tr>\n",
       "      <th>2</th>\n",
       "      <td>00E68F103C66C1F7</td>\n",
       "      <td>2</td>\n",
       "      <td>2020-12-18</td>\n",
       "      <td>EU</td>\n",
       "      <td>PC</td>\n",
       "      <td>A</td>\n",
       "      <td>recommender_system_test</td>\n",
       "    </tr>\n",
       "    <tr>\n",
       "      <th>3</th>\n",
       "      <td>00E68F103C66C1F7</td>\n",
       "      <td>2</td>\n",
       "      <td>2020-12-18</td>\n",
       "      <td>EU</td>\n",
       "      <td>PC</td>\n",
       "      <td>B</td>\n",
       "      <td>interface_eu_test</td>\n",
       "    </tr>\n",
       "    <tr>\n",
       "      <th>4</th>\n",
       "      <td>02313B9E82255F47</td>\n",
       "      <td>2</td>\n",
       "      <td>2020-12-14</td>\n",
       "      <td>EU</td>\n",
       "      <td>Mac</td>\n",
       "      <td>A</td>\n",
       "      <td>recommender_system_test</td>\n",
       "    </tr>\n",
       "  </tbody>\n",
       "</table>\n",
       "</div>"
      ],
      "text/plain": [
       "            user_id  group_x first_date region  device group_y  \\\n",
       "0  0082295A41A867B5        2 2020-12-16     EU  iPhone       A   \n",
       "1  0082295A41A867B5        2 2020-12-16     EU  iPhone       B   \n",
       "2  00E68F103C66C1F7        2 2020-12-18     EU      PC       A   \n",
       "3  00E68F103C66C1F7        2 2020-12-18     EU      PC       B   \n",
       "4  02313B9E82255F47        2 2020-12-14     EU     Mac       A   \n",
       "\n",
       "                   ab_test  \n",
       "0  recommender_system_test  \n",
       "1        interface_eu_test  \n",
       "2  recommender_system_test  \n",
       "3        interface_eu_test  \n",
       "4  recommender_system_test  "
      ]
     },
     "execution_count": 28,
     "metadata": {},
     "output_type": "execute_result"
    }
   ],
   "source": [
    "# делаем таблицу с пользователями, попавшими в оба теста\n",
    "double_users = test_users.groupby('user_id').agg({'group':'nunique'}).query('group > 1').reset_index()\n",
    "double_users_table = pd.merge(double_users, test_users, left_on='user_id', right_on='user_id', how='inner')\n",
    "double_users_table.head()"
   ]
  },
  {
   "cell_type": "code",
   "execution_count": 29,
   "metadata": {},
   "outputs": [
    {
     "name": "stdout",
     "output_type": "stream",
     "text": [
      "Количество пользователей, попавших в оба теста: 1552\n",
      "Процент пользователей нашего теста, задействованных в конкурирующем: 23.16\n"
     ]
    }
   ],
   "source": [
    "#сколько % пользователей нашего теста задействованы в конкурирующем\n",
    "recommender_test_users = test_users.query('ab_test==\"recommender_system_test\"')\n",
    "print('Количество пользователей, попавших в оба теста:', len(double_users_table))\n",
    "print('Процент пользователей нашего теста, задействованных в конкурирующем:', round(len(double_users_table)/len(recommender_test_users)*100,2))"
   ]
  },
  {
   "cell_type": "markdown",
   "metadata": {},
   "source": [
    "Если мы удалим всех этих пользователей, потеряем 23% участников нашего теста. Посмотрим, в каких группах тестов участвовали \"двойники\"."
   ]
  },
  {
   "cell_type": "code",
   "execution_count": 30,
   "metadata": {},
   "outputs": [
    {
     "data": {
      "text/html": [
       "<div>\n",
       "<style scoped>\n",
       "    .dataframe tbody tr th:only-of-type {\n",
       "        vertical-align: middle;\n",
       "    }\n",
       "\n",
       "    .dataframe tbody tr th {\n",
       "        vertical-align: top;\n",
       "    }\n",
       "\n",
       "    .dataframe thead th {\n",
       "        text-align: right;\n",
       "    }\n",
       "</style>\n",
       "<table border=\"1\" class=\"dataframe\">\n",
       "  <thead>\n",
       "    <tr style=\"text-align: right;\">\n",
       "      <th></th>\n",
       "      <th></th>\n",
       "      <th>user_id</th>\n",
       "    </tr>\n",
       "    <tr>\n",
       "      <th>ab_test</th>\n",
       "      <th>group_y</th>\n",
       "      <th></th>\n",
       "    </tr>\n",
       "  </thead>\n",
       "  <tbody>\n",
       "    <tr>\n",
       "      <th rowspan=\"2\" valign=\"top\">interface_eu_test</th>\n",
       "      <th>A</th>\n",
       "      <td>337</td>\n",
       "    </tr>\n",
       "    <tr>\n",
       "      <th>B</th>\n",
       "      <td>439</td>\n",
       "    </tr>\n",
       "    <tr>\n",
       "      <th rowspan=\"2\" valign=\"top\">recommender_system_test</th>\n",
       "      <th>A</th>\n",
       "      <td>439</td>\n",
       "    </tr>\n",
       "    <tr>\n",
       "      <th>B</th>\n",
       "      <td>337</td>\n",
       "    </tr>\n",
       "  </tbody>\n",
       "</table>\n",
       "</div>"
      ],
      "text/plain": [
       "                                 user_id\n",
       "ab_test                 group_y         \n",
       "interface_eu_test       A            337\n",
       "                        B            439\n",
       "recommender_system_test A            439\n",
       "                        B            337"
      ]
     },
     "execution_count": 30,
     "metadata": {},
     "output_type": "execute_result"
    }
   ],
   "source": [
    "double_users_table.groupby(['ab_test', 'group_y']).agg({'user_id':'count'})"
   ]
  },
  {
   "cell_type": "markdown",
   "metadata": {},
   "source": [
    "Пользователи, участвовавшие в конкурирующем тесте в группе А, в нашем тесте попали в группу В, и наоборот. Значит, на группу В в тесте recommender_system_test не повлияло участие в тесте interface_eu_test. Исключать пользователей, участвовавших в двух тестах, не нужно."
   ]
  },
  {
   "cell_type": "code",
   "execution_count": 31,
   "metadata": {},
   "outputs": [
    {
     "name": "stdout",
     "output_type": "stream",
     "text": [
      "Процент пользователей теста из Европы 15.0\n"
     ]
    }
   ],
   "source": [
    "# попавшие в тест пользователи из Европы\n",
    "eu_users = test_users.query('region==\"EU\" and ab_test==\"recommender_system_test\"')\n",
    "# все пользователи из Европы, зарегистрированные в период набора пользователей в тест\n",
    "all_eu_users = users.query('region==\"EU\"')\n",
    "print('Процент пользователей теста из Европы', len(eu_users)/len(all_eu_users)*100)"
   ]
  },
  {
   "cell_type": "markdown",
   "metadata": {},
   "source": [
    "В тест попали ровно требуемых 15% пользователей из Европы."
   ]
  },
  {
   "cell_type": "code",
   "execution_count": 32,
   "metadata": {},
   "outputs": [
    {
     "data": {
      "text/html": [
       "<div>\n",
       "<style scoped>\n",
       "    .dataframe tbody tr th:only-of-type {\n",
       "        vertical-align: middle;\n",
       "    }\n",
       "\n",
       "    .dataframe tbody tr th {\n",
       "        vertical-align: top;\n",
       "    }\n",
       "\n",
       "    .dataframe thead th {\n",
       "        text-align: right;\n",
       "    }\n",
       "</style>\n",
       "<table border=\"1\" class=\"dataframe\">\n",
       "  <thead>\n",
       "    <tr style=\"text-align: right;\">\n",
       "      <th></th>\n",
       "      <th>group</th>\n",
       "      <th>user_id</th>\n",
       "    </tr>\n",
       "  </thead>\n",
       "  <tbody>\n",
       "    <tr>\n",
       "      <th>0</th>\n",
       "      <td>A</td>\n",
       "      <td>3634</td>\n",
       "    </tr>\n",
       "    <tr>\n",
       "      <th>1</th>\n",
       "      <td>B</td>\n",
       "      <td>2717</td>\n",
       "    </tr>\n",
       "  </tbody>\n",
       "</table>\n",
       "</div>"
      ],
      "text/plain": [
       "  group  user_id\n",
       "0     A     3634\n",
       "1     B     2717"
      ]
     },
     "execution_count": 32,
     "metadata": {},
     "output_type": "execute_result"
    }
   ],
   "source": [
    "# оставляем только участников теста из Европы\n",
    "test_users = test_users.query('region==\"EU\"')\n",
    "recommender_test_users = test_users.query('ab_test==\"recommender_system_test\"')\n",
    "# как делятся пользователи на группы внутри теста recommender\n",
    "recommender_test_users_groups = recommender_test_users.groupby(['group']).agg({'user_id':'nunique'}).reset_index()\n",
    "recommender_test_users_groups"
   ]
  },
  {
   "cell_type": "code",
   "execution_count": 33,
   "metadata": {},
   "outputs": [
    {
     "name": "stdout",
     "output_type": "stream",
     "text": [
      "Количество пользователей в тесте: 6351\n"
     ]
    }
   ],
   "source": [
    "print('Количество пользователей в тесте:', len(recommender_test_users))"
   ]
  },
  {
   "cell_type": "code",
   "execution_count": 34,
   "metadata": {},
   "outputs": [
    {
     "data": {
      "text/plain": [
       "group    0\n",
       "dtype: int64"
      ]
     },
     "execution_count": 34,
     "metadata": {},
     "output_type": "execute_result"
    }
   ],
   "source": [
    "# есть ли пользователи, попавшие в обе группы теста recommender\n",
    "recommender_test_users.groupby('user_id').agg({'group':'nunique'}).query('group > 1').count()"
   ]
  },
  {
   "cell_type": "markdown",
   "metadata": {},
   "source": [
    "Пользователей, попавших в обе группы теста recommender_system_test, нет."
   ]
  },
  {
   "cell_type": "markdown",
   "metadata": {},
   "source": [
    "#### Динамика набора пользователей в группы"
   ]
  },
  {
   "cell_type": "code",
   "execution_count": 65,
   "metadata": {},
   "outputs": [
    {
     "data": {
      "image/png": "[encoded data removed]"
     },
     "metadata": {},
     "output_type": "display_data"
    }
   ],
   "source": [
    "dates_dynamics = recommender_test_users.groupby(['first_date', 'group']).agg({'user_id':'nunique'}).reset_index()\n",
    "\n",
    "fig = px.line(dates_dynamics, x='first_date', y='user_id', color='group', markers=True,\n",
    "              title='Динамика набора пользователей в группы по дням')\n",
    "fig.update_layout(xaxis_title='Дата', yaxis_title='Количество пользователей')\n",
    "fig.update_layout(legend=dict(title='Группа')) #меняем заголовок легенды\n",
    "fig.update_layout(title_xref=\"paper\", title_x=0.5) #положение заголовка\n",
    "fig.update_xaxes(dtick= 86400000.0) # регулируем шаг отметок на оси х\n",
    "fig.show(renderer='png')"
   ]
  },
  {
   "cell_type": "markdown",
   "metadata": {},
   "source": [
    "Пользователи набирались равномерно. Был один всплеск набора пользователей в группу В по сравнению с группой А (10 декабря). Также для обеих групп наблюдается всплеск набора 14 и 21 декабря."
   ]
  },
  {
   "cell_type": "code",
   "execution_count": 36,
   "metadata": {},
   "outputs": [
    {
     "name": "stdout",
     "output_type": "stream",
     "text": [
      "Процент пользователей в группе А 57.22\n",
      "Процент пользователей в группе В 42.78\n"
     ]
    }
   ],
   "source": [
    "# проверяем равномерность распределения пользователей по группам теста\n",
    "print('Процент пользователей в группе А', round(len(recommender_test_users.query('group==\"A\"'))/len(recommender_test_users)*100, 2))\n",
    "print('Процент пользователей в группе В', round(len(recommender_test_users.query('group==\"B\"'))/len(recommender_test_users)*100, 2))"
   ]
  },
  {
   "cell_type": "markdown",
   "metadata": {},
   "source": [
    "Пользователи по группам распределены не равномерно, причем разница очень большая. Это может исказить результаты теста."
   ]
  },
  {
   "cell_type": "markdown",
   "metadata": {},
   "source": [
    "#### Данные о пользовательской активности"
   ]
  },
  {
   "cell_type": "code",
   "execution_count": 37,
   "metadata": {},
   "outputs": [
    {
     "data": {
      "text/html": [
       "<div>\n",
       "<style scoped>\n",
       "    .dataframe tbody tr th:only-of-type {\n",
       "        vertical-align: middle;\n",
       "    }\n",
       "\n",
       "    .dataframe tbody tr th {\n",
       "        vertical-align: top;\n",
       "    }\n",
       "\n",
       "    .dataframe thead th {\n",
       "        text-align: right;\n",
       "    }\n",
       "</style>\n",
       "<table border=\"1\" class=\"dataframe\">\n",
       "  <thead>\n",
       "    <tr style=\"text-align: right;\">\n",
       "      <th></th>\n",
       "      <th>user_id</th>\n",
       "    </tr>\n",
       "    <tr>\n",
       "      <th>group</th>\n",
       "      <th></th>\n",
       "    </tr>\n",
       "  </thead>\n",
       "  <tbody>\n",
       "    <tr>\n",
       "      <th>A</th>\n",
       "      <td>1030</td>\n",
       "    </tr>\n",
       "    <tr>\n",
       "      <th>B</th>\n",
       "      <td>1840</td>\n",
       "    </tr>\n",
       "  </tbody>\n",
       "</table>\n",
       "</div>"
      ],
      "text/plain": [
       "       user_id\n",
       "group         \n",
       "A         1030\n",
       "B         1840"
      ]
     },
     "execution_count": 37,
     "metadata": {},
     "output_type": "execute_result"
    }
   ],
   "source": [
    "# присоединяем таблицу events\n",
    "test_table = pd.merge(recommender_test_users, events, left_on='user_id', right_on='user_id', how='left')\n",
    "# сколько пользователей не совершали никаких действий\n",
    "no_activity = test_table[test_table['event_name'].isna()]\n",
    "# как эти пользователи распределены по группам теста\n",
    "no_activity.groupby('group').agg({'user_id':'nunique'})"
   ]
  },
  {
   "cell_type": "code",
   "execution_count": 38,
   "metadata": {},
   "outputs": [
    {
     "name": "stdout",
     "output_type": "stream",
     "text": [
      "Количество неактивных пользователей: 2870\n",
      "Общее количество пользователей теста: 6351\n",
      "Процент неактивных пользователей: 45.19\n"
     ]
    }
   ],
   "source": [
    "print('Количество неактивных пользователей:', len(no_activity))\n",
    "print('Общее количество пользователей теста:', len(recommender_test_users))\n",
    "print('Процент неактивных пользователей:', round(len(no_activity)/len(recommender_test_users)*100, 2))"
   ]
  },
  {
   "cell_type": "markdown",
   "metadata": {},
   "source": [
    "Очень много пользователей остались неактивными, причем большинство из них - в группе В. Посмотрим, как распределяются по группам активные пользователи."
   ]
  },
  {
   "cell_type": "code",
   "execution_count": 39,
   "metadata": {},
   "outputs": [
    {
     "data": {
      "text/html": [
       "<div>\n",
       "<style scoped>\n",
       "    .dataframe tbody tr th:only-of-type {\n",
       "        vertical-align: middle;\n",
       "    }\n",
       "\n",
       "    .dataframe tbody tr th {\n",
       "        vertical-align: top;\n",
       "    }\n",
       "\n",
       "    .dataframe thead th {\n",
       "        text-align: right;\n",
       "    }\n",
       "</style>\n",
       "<table border=\"1\" class=\"dataframe\">\n",
       "  <thead>\n",
       "    <tr style=\"text-align: right;\">\n",
       "      <th></th>\n",
       "      <th>group</th>\n",
       "      <th>user_id</th>\n",
       "    </tr>\n",
       "  </thead>\n",
       "  <tbody>\n",
       "    <tr>\n",
       "      <th>0</th>\n",
       "      <td>A</td>\n",
       "      <td>2604</td>\n",
       "    </tr>\n",
       "    <tr>\n",
       "      <th>1</th>\n",
       "      <td>B</td>\n",
       "      <td>877</td>\n",
       "    </tr>\n",
       "  </tbody>\n",
       "</table>\n",
       "</div>"
      ],
      "text/plain": [
       "  group  user_id\n",
       "0     A     2604\n",
       "1     B      877"
      ]
     },
     "execution_count": 39,
     "metadata": {},
     "output_type": "execute_result"
    }
   ],
   "source": [
    "# только пользователи, которые совершали события\n",
    "test_table_active = pd.merge(recommender_test_users, events, left_on='user_id', right_on='user_id', how='inner')\n",
    "act = test_table_active.groupby('group').agg({'user_id':'nunique'}).reset_index()\n",
    "act"
   ]
  },
  {
   "cell_type": "code",
   "execution_count": 40,
   "metadata": {},
   "outputs": [
    {
     "data": {
      "text/html": [
       "<div>\n",
       "<style scoped>\n",
       "    .dataframe tbody tr th:only-of-type {\n",
       "        vertical-align: middle;\n",
       "    }\n",
       "\n",
       "    .dataframe tbody tr th {\n",
       "        vertical-align: top;\n",
       "    }\n",
       "\n",
       "    .dataframe thead th {\n",
       "        text-align: right;\n",
       "    }\n",
       "</style>\n",
       "<table border=\"1\" class=\"dataframe\">\n",
       "  <thead>\n",
       "    <tr style=\"text-align: right;\">\n",
       "      <th></th>\n",
       "      <th>group</th>\n",
       "      <th>user_id_x</th>\n",
       "      <th>user_id_y</th>\n",
       "      <th>active</th>\n",
       "    </tr>\n",
       "  </thead>\n",
       "  <tbody>\n",
       "    <tr>\n",
       "      <th>0</th>\n",
       "      <td>A</td>\n",
       "      <td>3634</td>\n",
       "      <td>2604</td>\n",
       "      <td>72.0</td>\n",
       "    </tr>\n",
       "    <tr>\n",
       "      <th>1</th>\n",
       "      <td>B</td>\n",
       "      <td>2717</td>\n",
       "      <td>877</td>\n",
       "      <td>32.0</td>\n",
       "    </tr>\n",
       "  </tbody>\n",
       "</table>\n",
       "</div>"
      ],
      "text/plain": [
       "  group  user_id_x  user_id_y  active\n",
       "0     A       3634       2604    72.0\n",
       "1     B       2717        877    32.0"
      ]
     },
     "execution_count": 40,
     "metadata": {},
     "output_type": "execute_result"
    }
   ],
   "source": [
    "# процент активных пользователей по группам\n",
    "act_share = pd.merge(recommender_test_users_groups, act, left_on='group', right_on='group', how='inner')\n",
    "act_share['active']=round(act_share['user_id_y']/act_share['user_id_x']*100)\n",
    "act_share"
   ]
  },
  {
   "cell_type": "markdown",
   "metadata": {},
   "source": [
    "Активных участников теста в группе А почти в 3 раза больше, чем в группе В (2604 против 877). Причем активных пользователей в группе В всего 32%, а в группе А - 72%. Мы не можем корректно оценить результаты A/B-теста при таком неравномерном распределении участников. На этом этапе мы оставим неактивных пользователей, но при анализе продуктовой воронки и результатов теста их придется исключить."
   ]
  },
  {
   "cell_type": "code",
   "execution_count": 41,
   "metadata": {},
   "outputs": [
    {
     "data": {
      "text/html": [
       "<div>\n",
       "<style scoped>\n",
       "    .dataframe tbody tr th:only-of-type {\n",
       "        vertical-align: middle;\n",
       "    }\n",
       "\n",
       "    .dataframe tbody tr th {\n",
       "        vertical-align: top;\n",
       "    }\n",
       "\n",
       "    .dataframe thead th {\n",
       "        text-align: right;\n",
       "    }\n",
       "</style>\n",
       "<table border=\"1\" class=\"dataframe\">\n",
       "  <thead>\n",
       "    <tr style=\"text-align: right;\">\n",
       "      <th></th>\n",
       "      <th>user_id</th>\n",
       "      <th>registration_date</th>\n",
       "      <th>region</th>\n",
       "      <th>device</th>\n",
       "      <th>group</th>\n",
       "      <th>ab_test</th>\n",
       "      <th>event_date</th>\n",
       "      <th>event_name</th>\n",
       "      <th>details</th>\n",
       "    </tr>\n",
       "  </thead>\n",
       "  <tbody>\n",
       "    <tr>\n",
       "      <th>0</th>\n",
       "      <td>D72A72121175D8BE</td>\n",
       "      <td>2020-12-07</td>\n",
       "      <td>EU</td>\n",
       "      <td>PC</td>\n",
       "      <td>A</td>\n",
       "      <td>recommender_system_test</td>\n",
       "      <td>2020-12-07 21:52:10</td>\n",
       "      <td>product_page</td>\n",
       "      <td>NaN</td>\n",
       "    </tr>\n",
       "    <tr>\n",
       "      <th>1</th>\n",
       "      <td>D72A72121175D8BE</td>\n",
       "      <td>2020-12-07</td>\n",
       "      <td>EU</td>\n",
       "      <td>PC</td>\n",
       "      <td>A</td>\n",
       "      <td>recommender_system_test</td>\n",
       "      <td>2020-12-07 21:52:07</td>\n",
       "      <td>login</td>\n",
       "      <td>NaN</td>\n",
       "    </tr>\n",
       "    <tr>\n",
       "      <th>2</th>\n",
       "      <td>E6DE857AFBDC6102</td>\n",
       "      <td>2020-12-07</td>\n",
       "      <td>EU</td>\n",
       "      <td>PC</td>\n",
       "      <td>B</td>\n",
       "      <td>recommender_system_test</td>\n",
       "      <td>NaT</td>\n",
       "      <td>NaN</td>\n",
       "      <td>NaN</td>\n",
       "    </tr>\n",
       "    <tr>\n",
       "      <th>3</th>\n",
       "      <td>DD4352CDCF8C3D57</td>\n",
       "      <td>2020-12-07</td>\n",
       "      <td>EU</td>\n",
       "      <td>Android</td>\n",
       "      <td>B</td>\n",
       "      <td>recommender_system_test</td>\n",
       "      <td>2020-12-07 15:32:54</td>\n",
       "      <td>product_page</td>\n",
       "      <td>NaN</td>\n",
       "    </tr>\n",
       "    <tr>\n",
       "      <th>4</th>\n",
       "      <td>DD4352CDCF8C3D57</td>\n",
       "      <td>2020-12-07</td>\n",
       "      <td>EU</td>\n",
       "      <td>Android</td>\n",
       "      <td>B</td>\n",
       "      <td>recommender_system_test</td>\n",
       "      <td>2020-12-08 08:29:31</td>\n",
       "      <td>product_page</td>\n",
       "      <td>NaN</td>\n",
       "    </tr>\n",
       "  </tbody>\n",
       "</table>\n",
       "</div>"
      ],
      "text/plain": [
       "            user_id registration_date region   device group  \\\n",
       "0  D72A72121175D8BE        2020-12-07     EU       PC     A   \n",
       "1  D72A72121175D8BE        2020-12-07     EU       PC     A   \n",
       "2  E6DE857AFBDC6102        2020-12-07     EU       PC     B   \n",
       "3  DD4352CDCF8C3D57        2020-12-07     EU  Android     B   \n",
       "4  DD4352CDCF8C3D57        2020-12-07     EU  Android     B   \n",
       "\n",
       "                   ab_test          event_date    event_name  details  \n",
       "0  recommender_system_test 2020-12-07 21:52:10  product_page      NaN  \n",
       "1  recommender_system_test 2020-12-07 21:52:07         login      NaN  \n",
       "2  recommender_system_test                 NaT           NaN      NaN  \n",
       "3  recommender_system_test 2020-12-07 15:32:54  product_page      NaN  \n",
       "4  recommender_system_test 2020-12-08 08:29:31  product_page      NaN  "
      ]
     },
     "execution_count": 41,
     "metadata": {},
     "output_type": "execute_result"
    }
   ],
   "source": [
    "# переименовываем столбцы\n",
    "test_table = test_table.rename(columns={'first_date': 'registration_date', 'event_dt': 'event_date'})\n",
    "test_table.head()"
   ]
  },
  {
   "cell_type": "code",
   "execution_count": 42,
   "metadata": {},
   "outputs": [],
   "source": [
    "#уберем метки времени из даты событий\n",
    "test_table['event_date'] = test_table['event_date'].dt.date\n",
    "test_table['event_date']=pd.to_datetime(test_table['event_date'])"
   ]
  },
  {
   "cell_type": "code",
   "execution_count": 43,
   "metadata": {
    "scrolled": true
   },
   "outputs": [
    {
     "data": {
      "text/html": [
       "<div>\n",
       "<style scoped>\n",
       "    .dataframe tbody tr th:only-of-type {\n",
       "        vertical-align: middle;\n",
       "    }\n",
       "\n",
       "    .dataframe tbody tr th {\n",
       "        vertical-align: top;\n",
       "    }\n",
       "\n",
       "    .dataframe thead th {\n",
       "        text-align: right;\n",
       "    }\n",
       "</style>\n",
       "<table border=\"1\" class=\"dataframe\">\n",
       "  <thead>\n",
       "    <tr style=\"text-align: right;\">\n",
       "      <th></th>\n",
       "      <th>user_id</th>\n",
       "      <th>registration_date</th>\n",
       "      <th>region</th>\n",
       "      <th>device</th>\n",
       "      <th>group</th>\n",
       "      <th>ab_test</th>\n",
       "      <th>event_date</th>\n",
       "      <th>event_name</th>\n",
       "      <th>details</th>\n",
       "      <th>event_age</th>\n",
       "    </tr>\n",
       "  </thead>\n",
       "  <tbody>\n",
       "    <tr>\n",
       "      <th>0</th>\n",
       "      <td>D72A72121175D8BE</td>\n",
       "      <td>2020-12-07</td>\n",
       "      <td>EU</td>\n",
       "      <td>PC</td>\n",
       "      <td>A</td>\n",
       "      <td>recommender_system_test</td>\n",
       "      <td>2020-12-07</td>\n",
       "      <td>product_page</td>\n",
       "      <td>NaN</td>\n",
       "      <td>0.0</td>\n",
       "    </tr>\n",
       "    <tr>\n",
       "      <th>1</th>\n",
       "      <td>D72A72121175D8BE</td>\n",
       "      <td>2020-12-07</td>\n",
       "      <td>EU</td>\n",
       "      <td>PC</td>\n",
       "      <td>A</td>\n",
       "      <td>recommender_system_test</td>\n",
       "      <td>2020-12-07</td>\n",
       "      <td>login</td>\n",
       "      <td>NaN</td>\n",
       "      <td>0.0</td>\n",
       "    </tr>\n",
       "    <tr>\n",
       "      <th>2</th>\n",
       "      <td>E6DE857AFBDC6102</td>\n",
       "      <td>2020-12-07</td>\n",
       "      <td>EU</td>\n",
       "      <td>PC</td>\n",
       "      <td>B</td>\n",
       "      <td>recommender_system_test</td>\n",
       "      <td>NaT</td>\n",
       "      <td>NaN</td>\n",
       "      <td>NaN</td>\n",
       "      <td>NaN</td>\n",
       "    </tr>\n",
       "    <tr>\n",
       "      <th>3</th>\n",
       "      <td>DD4352CDCF8C3D57</td>\n",
       "      <td>2020-12-07</td>\n",
       "      <td>EU</td>\n",
       "      <td>Android</td>\n",
       "      <td>B</td>\n",
       "      <td>recommender_system_test</td>\n",
       "      <td>2020-12-07</td>\n",
       "      <td>product_page</td>\n",
       "      <td>NaN</td>\n",
       "      <td>0.0</td>\n",
       "    </tr>\n",
       "    <tr>\n",
       "      <th>4</th>\n",
       "      <td>DD4352CDCF8C3D57</td>\n",
       "      <td>2020-12-07</td>\n",
       "      <td>EU</td>\n",
       "      <td>Android</td>\n",
       "      <td>B</td>\n",
       "      <td>recommender_system_test</td>\n",
       "      <td>2020-12-08</td>\n",
       "      <td>product_page</td>\n",
       "      <td>NaN</td>\n",
       "      <td>1.0</td>\n",
       "    </tr>\n",
       "  </tbody>\n",
       "</table>\n",
       "</div>"
      ],
      "text/plain": [
       "            user_id registration_date region   device group  \\\n",
       "0  D72A72121175D8BE        2020-12-07     EU       PC     A   \n",
       "1  D72A72121175D8BE        2020-12-07     EU       PC     A   \n",
       "2  E6DE857AFBDC6102        2020-12-07     EU       PC     B   \n",
       "3  DD4352CDCF8C3D57        2020-12-07     EU  Android     B   \n",
       "4  DD4352CDCF8C3D57        2020-12-07     EU  Android     B   \n",
       "\n",
       "                   ab_test event_date    event_name  details  event_age  \n",
       "0  recommender_system_test 2020-12-07  product_page      NaN        0.0  \n",
       "1  recommender_system_test 2020-12-07         login      NaN        0.0  \n",
       "2  recommender_system_test        NaT           NaN      NaN        NaN  \n",
       "3  recommender_system_test 2020-12-07  product_page      NaN        0.0  \n",
       "4  recommender_system_test 2020-12-08  product_page      NaN        1.0  "
      ]
     },
     "execution_count": 43,
     "metadata": {},
     "output_type": "execute_result"
    }
   ],
   "source": [
    "# рассчитаем, на какой день лайфтайма пользователей совершаются события\n",
    "test_table['event_age'] = (test_table['event_date'] - test_table['registration_date'])/ np.timedelta64(1, 'D') #приводим кол-во дней к типу float\n",
    "test_table.head()"
   ]
  },
  {
   "cell_type": "code",
   "execution_count": 66,
   "metadata": {},
   "outputs": [
    {
     "data": {
      "image/png": "[encoded data removed]"
     },
     "metadata": {},
     "output_type": "display_data"
    }
   ],
   "source": [
    "# собираем таблицу для графика\n",
    "event_age = test_table.groupby(['event_age', 'event_name']).agg({'user_id':'count'}).reset_index() \n",
    "\n",
    "# визуализируем\n",
    "fig = px.histogram(event_age, x='event_age', y='user_id', color='event_name',\n",
    "                   barmode='overlay', \n",
    "                   histnorm='percent', #отображаем процентное соотношение, а не абсолютные значения\n",
    "                   title='Распределение совершений событий по дням').update_xaxes(categoryorder='trace')\n",
    "\n",
    "fig.update_layout(xaxis_title='Возраст события', yaxis_title='Процент пользователей')\n",
    "fig.update_layout(title_xref=\"paper\", title_x=0.5) #положение заголовка\n",
    "fig.update_xaxes(type='category') # регулируем отметки на оси х\n",
    "fig.update_layout(legend=dict(title='Событие')) #меняем заголовок легенды\n",
    "fig.update_xaxes(type='category') # регулируем отметки на оси х\n",
    "fig.show(renderer='png')"
   ]
  },
  {
   "cell_type": "markdown",
   "metadata": {},
   "source": [
    "Все события показывают похожий паттерн: большая часть событий происходит в первый день, а уже на второй день число каждого события сокращается вполовину. Со 2 дня количество событий плавно снижается. Уже на шестой день количество пользователей, совершивших событие, составляет 5% или менее от общего количества пользователей этого события. \n",
    "Как мы выяснили ранее, заявленная дата остановки теста 2021-01-04, но в датасете представлены данные только до 2020-12-30, поэтому некоторые пользователи могли не успеть \"прожить\" 14 дней до 30 декабря. Так как обычно большая часть пользователей совершают события в первую неделю после регистрации, нет необходимости убирать тех, кто не успел \"прожить\" все 14 дней (в датасет уже вошли пользователи, зарегистрированные не позднее 2020-12-21).\n",
    "Сами же события нужно отфильтровать: нас интересуют только те события, которые произошли в первые 14 дней после регистрации пользователя."
   ]
  },
  {
   "cell_type": "code",
   "execution_count": 45,
   "metadata": {},
   "outputs": [],
   "source": [
    "# фильтруем события \n",
    "test_table=test_table.query('event_age <= 13 | event_age.isnull()') #включаем пропуски у неактивных пользователей"
   ]
  },
  {
   "cell_type": "markdown",
   "metadata": {},
   "source": [
    "Посмотрим на возможность получения достоверных результатов АБ-теста, исходя из базового показателя конверсии в 50%, для этого мы воспользуемся онлайн-калькулятором.    \n",
    "\n",
    "Мы получили следующий результат:  \n",
    "\"Вариант А и В значимо не различаются — конверсия отличается из-за случайных факторов, а не из-за отличий вариантов. Или размер выборки недостаточен для получения статистически значимых результатов\". "
   ]
  },
  {
   "cell_type": "markdown",
   "metadata": {},
   "source": [
    "Вывод: тест не соответствует требованиям технического задания. \n",
    "1. Регистрация пользователей должна заканчиваться 2020-12-21, но в тесте дата окончания регистрации 2020-12-23.\n",
    "2. Дата остановки теста 2021-01-04, но данные есть только до 2020-12-30. За период 31 декабря-4 января данных нет.\n",
    "3. 23% участников нашего теста также задействованы в конкурирующем.\n",
    "4. Участники теста распределены по группам неравномерно: 57.22% в группе А, 42.78% в группе В.\n",
    "5. Из 6351 пользователей 2870 человек не совершали никаких событий после регистрации, они составляют 45% участников теста.\n",
    "6. Размер выборки недостаточен для получения достоверных результатов теста (из-за недостаточного количества участников группы В).\n",
    "\n",
    "Только три требования были выполнены:\n",
    "1. Есть 15% пользователей из Европы.\n",
    "2. Участники теста не пересекаются внутри групп А и В.\n",
    "3. Пользователи в группах набирались равномерно."
   ]
  },
  {
   "cell_type": "markdown",
   "metadata": {},
   "source": [
    "## Исследовательский анализ данных"
   ]
  },
  {
   "cell_type": "markdown",
   "metadata": {},
   "source": [
    "###  Распределение количества событий на пользователя по группам теста"
   ]
  },
  {
   "cell_type": "code",
   "execution_count": 46,
   "metadata": {
    "scrolled": true
   },
   "outputs": [
    {
     "data": {
      "text/html": [
       "<div>\n",
       "<style scoped>\n",
       "    .dataframe tbody tr th:only-of-type {\n",
       "        vertical-align: middle;\n",
       "    }\n",
       "\n",
       "    .dataframe tbody tr th {\n",
       "        vertical-align: top;\n",
       "    }\n",
       "\n",
       "    .dataframe thead th {\n",
       "        text-align: right;\n",
       "    }\n",
       "</style>\n",
       "<table border=\"1\" class=\"dataframe\">\n",
       "  <thead>\n",
       "    <tr style=\"text-align: right;\">\n",
       "      <th></th>\n",
       "      <th>group</th>\n",
       "      <th>event_amt</th>\n",
       "      <th>user_amt</th>\n",
       "      <th>mean_amt</th>\n",
       "    </tr>\n",
       "  </thead>\n",
       "  <tbody>\n",
       "    <tr>\n",
       "      <th>0</th>\n",
       "      <td>A</td>\n",
       "      <td>18865</td>\n",
       "      <td>3634</td>\n",
       "      <td>5.0</td>\n",
       "    </tr>\n",
       "    <tr>\n",
       "      <th>1</th>\n",
       "      <td>B</td>\n",
       "      <td>6625</td>\n",
       "      <td>2717</td>\n",
       "      <td>2.0</td>\n",
       "    </tr>\n",
       "  </tbody>\n",
       "</table>\n",
       "</div>"
      ],
      "text/plain": [
       "  group  event_amt  user_amt  mean_amt\n",
       "0     A      18865      3634       5.0\n",
       "1     B       6625      2717       2.0"
      ]
     },
     "execution_count": 46,
     "metadata": {},
     "output_type": "execute_result"
    }
   ],
   "source": [
    "# сколько событий на пользователя в среднем\n",
    "events_amt = test_table.groupby('group').agg({'user_id':['count', 'nunique']}).reset_index() \n",
    "events_amt.columns=['group', 'event_amt', 'user_amt']\n",
    "events_amt['mean_amt'] = round(events_amt['event_amt']/events_amt['user_amt'])\n",
    "events_amt"
   ]
  },
  {
   "cell_type": "code",
   "execution_count": 47,
   "metadata": {},
   "outputs": [
    {
     "data": {
      "text/html": [
       "<div>\n",
       "<style scoped>\n",
       "    .dataframe tbody tr th:only-of-type {\n",
       "        vertical-align: middle;\n",
       "    }\n",
       "\n",
       "    .dataframe tbody tr th {\n",
       "        vertical-align: top;\n",
       "    }\n",
       "\n",
       "    .dataframe thead th {\n",
       "        text-align: right;\n",
       "    }\n",
       "</style>\n",
       "<table border=\"1\" class=\"dataframe\">\n",
       "  <thead>\n",
       "    <tr style=\"text-align: right;\">\n",
       "      <th></th>\n",
       "      <th>group</th>\n",
       "      <th>event_amt</th>\n",
       "      <th>user_amt</th>\n",
       "      <th>mean_amt</th>\n",
       "    </tr>\n",
       "  </thead>\n",
       "  <tbody>\n",
       "    <tr>\n",
       "      <th>0</th>\n",
       "      <td>A</td>\n",
       "      <td>17835</td>\n",
       "      <td>2604</td>\n",
       "      <td>7.0</td>\n",
       "    </tr>\n",
       "    <tr>\n",
       "      <th>1</th>\n",
       "      <td>B</td>\n",
       "      <td>4785</td>\n",
       "      <td>877</td>\n",
       "      <td>5.0</td>\n",
       "    </tr>\n",
       "  </tbody>\n",
       "</table>\n",
       "</div>"
      ],
      "text/plain": [
       "  group  event_amt  user_amt  mean_amt\n",
       "0     A      17835      2604       7.0\n",
       "1     B       4785       877       5.0"
      ]
     },
     "execution_count": 47,
     "metadata": {},
     "output_type": "execute_result"
    }
   ],
   "source": [
    "# сколько событий на пользователя в среднем среди активных пользователей\n",
    "events_amt_active = test_table.query('event_age>=0').groupby('group').agg({'user_id':['count', 'nunique']}).reset_index() \n",
    "events_amt_active.columns=['group', 'event_amt', 'user_amt']\n",
    "events_amt_active['mean_amt'] = round(events_amt_active['event_amt']/events_amt_active['user_amt'])\n",
    "events_amt_active"
   ]
  },
  {
   "cell_type": "markdown",
   "metadata": {},
   "source": [
    "В среднем на пользователя в группе А приходится 5 событий, в группе В - 2 события. Среди активных пользователей: 7 в группе А и 5 в группе В."
   ]
  },
  {
   "cell_type": "code",
   "execution_count": 67,
   "metadata": {},
   "outputs": [
    {
     "data": {
      "image/png": "[encoded data removed]"
     },
     "metadata": {},
     "output_type": "display_data"
    }
   ],
   "source": [
    "# распределение по количеству событий\n",
    "events_per_user = test_table.groupby(['group', 'user_id']).agg({'event_name':'count'}).reset_index() \n",
    "events_per_user=events_per_user.sort_values(by='event_name', ascending=True)\n",
    "\n",
    "# визуализируем\n",
    "fig = px.histogram(events_per_user, x='event_name',  color='group',\n",
    "                   barmode='overlay', \n",
    "                   histnorm='percent', #отображаем процентное соотношение, а не абсолютные значения\n",
    "                   #histnorm='percent', #отображаем процентное соотношение, а не абсолютные значения\n",
    "                   title='Распределение количества событий по группам').update_xaxes(categoryorder='trace')\n",
    "\n",
    "fig.update_layout(xaxis_title='Количество событий', yaxis_title='Процент пользователей')\n",
    "fig.update_layout(title_xref=\"paper\", title_x=0.5) #положение заголовка\n",
    "fig.update_xaxes(type='category') # регулируем отметки на оси х\n",
    "fig.update_layout(legend=dict(title='Группа')) #меняем заголовок легенды\n",
    "fig.update_xaxes(type='category') # регулируем отметки на оси х\n",
    "fig.show(renderer='png')"
   ]
  },
  {
   "cell_type": "markdown",
   "metadata": {},
   "source": [
    "28% пользователей в группе А и 67,7% в группе В не совершали никаких событий. Пользователи в группе А заметно активнее: почти 16% совершили 6 событий, 12% - 4 события. Для группы В эти показатели составляют 6,5% и 6,7% соответственно."
   ]
  },
  {
   "cell_type": "markdown",
   "metadata": {},
   "source": [
    "Посмотрим, как выглядит распределение по количеству событий среди активных пользователей."
   ]
  },
  {
   "cell_type": "code",
   "execution_count": 49,
   "metadata": {},
   "outputs": [
    {
     "data": {
      "text/html": [
       "<div>\n",
       "<style scoped>\n",
       "    .dataframe tbody tr th:only-of-type {\n",
       "        vertical-align: middle;\n",
       "    }\n",
       "\n",
       "    .dataframe tbody tr th {\n",
       "        vertical-align: top;\n",
       "    }\n",
       "\n",
       "    .dataframe thead th {\n",
       "        text-align: right;\n",
       "    }\n",
       "</style>\n",
       "<table border=\"1\" class=\"dataframe\">\n",
       "  <thead>\n",
       "    <tr style=\"text-align: right;\">\n",
       "      <th></th>\n",
       "      <th>group</th>\n",
       "      <th>user_id</th>\n",
       "      <th>event_name</th>\n",
       "    </tr>\n",
       "  </thead>\n",
       "  <tbody>\n",
       "    <tr>\n",
       "      <th>1</th>\n",
       "      <td>A</td>\n",
       "      <td>0010A1C096941592</td>\n",
       "      <td>12</td>\n",
       "    </tr>\n",
       "    <tr>\n",
       "      <th>3</th>\n",
       "      <td>A</td>\n",
       "      <td>00341D8401F0F665</td>\n",
       "      <td>2</td>\n",
       "    </tr>\n",
       "    <tr>\n",
       "      <th>5</th>\n",
       "      <td>A</td>\n",
       "      <td>003DF44D7589BBD4</td>\n",
       "      <td>15</td>\n",
       "    </tr>\n",
       "    <tr>\n",
       "      <th>6</th>\n",
       "      <td>A</td>\n",
       "      <td>00505E15A9D81546</td>\n",
       "      <td>5</td>\n",
       "    </tr>\n",
       "    <tr>\n",
       "      <th>7</th>\n",
       "      <td>A</td>\n",
       "      <td>006E3E4E232CE760</td>\n",
       "      <td>6</td>\n",
       "    </tr>\n",
       "    <tr>\n",
       "      <th>...</th>\n",
       "      <td>...</td>\n",
       "      <td>...</td>\n",
       "      <td>...</td>\n",
       "    </tr>\n",
       "    <tr>\n",
       "      <th>6333</th>\n",
       "      <td>B</td>\n",
       "      <td>FE76759FE6BF8C68</td>\n",
       "      <td>16</td>\n",
       "    </tr>\n",
       "    <tr>\n",
       "      <th>6335</th>\n",
       "      <td>B</td>\n",
       "      <td>FE8F9858BBE502D9</td>\n",
       "      <td>2</td>\n",
       "    </tr>\n",
       "    <tr>\n",
       "      <th>6336</th>\n",
       "      <td>B</td>\n",
       "      <td>FEA0C585A53E7027</td>\n",
       "      <td>3</td>\n",
       "    </tr>\n",
       "    <tr>\n",
       "      <th>6344</th>\n",
       "      <td>B</td>\n",
       "      <td>FF8CF7057415EB29</td>\n",
       "      <td>4</td>\n",
       "    </tr>\n",
       "    <tr>\n",
       "      <th>6350</th>\n",
       "      <td>B</td>\n",
       "      <td>FFF28D02B1EACBE1</td>\n",
       "      <td>9</td>\n",
       "    </tr>\n",
       "  </tbody>\n",
       "</table>\n",
       "<p>3481 rows × 3 columns</p>\n",
       "</div>"
      ],
      "text/plain": [
       "     group           user_id  event_name\n",
       "1        A  0010A1C096941592          12\n",
       "3        A  00341D8401F0F665           2\n",
       "5        A  003DF44D7589BBD4          15\n",
       "6        A  00505E15A9D81546           5\n",
       "7        A  006E3E4E232CE760           6\n",
       "...    ...               ...         ...\n",
       "6333     B  FE76759FE6BF8C68          16\n",
       "6335     B  FE8F9858BBE502D9           2\n",
       "6336     B  FEA0C585A53E7027           3\n",
       "6344     B  FF8CF7057415EB29           4\n",
       "6350     B  FFF28D02B1EACBE1           9\n",
       "\n",
       "[3481 rows x 3 columns]"
      ]
     },
     "execution_count": 49,
     "metadata": {},
     "output_type": "execute_result"
    }
   ],
   "source": [
    "events_per_user_active = test_table.groupby(['group', 'user_id']).agg({'event_name':'count'}).reset_index() \n",
    "events_per_user_active=events_per_user_active.query('event_name>0')\n",
    "events_per_user_active"
   ]
  },
  {
   "cell_type": "code",
   "execution_count": 68,
   "metadata": {},
   "outputs": [
    {
     "data": {
      "image/png": "[encoded data removed]"
     },
     "metadata": {},
     "output_type": "display_data"
    }
   ],
   "source": [
    "# распределение по количеству событий\n",
    "events_per_user_active = test_table.groupby(['group', 'user_id']).agg({'event_name':'count'}).reset_index() \n",
    "events_per_user_active=events_per_user_active.query('event_name>0')\n",
    "events_per_user_active=events_per_user_active.sort_values(by='event_name', ascending=True)\n",
    "\n",
    "# визуализируем\n",
    "fig = px.histogram(events_per_user_active, x='event_name',  color='group',\n",
    "                   barmode='overlay', \n",
    "                   histnorm='percent', #отображаем процентное соотношение, а не абсолютные значения\n",
    "                   #histnorm='percent', #отображаем процентное соотношение, а не абсолютные значения\n",
    "                   title='Распределение количества событий по группам среди активных пользователей').update_xaxes(categoryorder='trace')\n",
    "\n",
    "fig.update_layout(xaxis_title='Количество событий', yaxis_title='Количество пользователей')\n",
    "fig.update_layout(title_xref=\"paper\", title_x=0.5) #положение заголовка\n",
    "fig.update_xaxes(type='category') # регулируем отметки на оси х\n",
    "fig.update_layout(legend=dict(title='Группа')) #меняем заголовок легенды\n",
    "fig.update_xaxes(type='category') # регулируем отметки на оси х\n",
    "fig.show(renderer='png')"
   ]
  },
  {
   "cell_type": "markdown",
   "metadata": {},
   "source": [
    "Около 22% активных пользователей в группе А совершили 6 событий, почти 17% - 4 события. Среди группы В примерно по 20% совершили 4 или 6 событий, 2 или 3 события - около 14% каждое."
   ]
  },
  {
   "cell_type": "code",
   "execution_count": 51,
   "metadata": {
    "scrolled": true
   },
   "outputs": [
    {
     "data": {
      "text/html": [
       "<div>\n",
       "<style scoped>\n",
       "    .dataframe tbody tr th:only-of-type {\n",
       "        vertical-align: middle;\n",
       "    }\n",
       "\n",
       "    .dataframe tbody tr th {\n",
       "        vertical-align: top;\n",
       "    }\n",
       "\n",
       "    .dataframe thead th {\n",
       "        text-align: right;\n",
       "    }\n",
       "</style>\n",
       "<table border=\"1\" class=\"dataframe\">\n",
       "  <thead>\n",
       "    <tr style=\"text-align: right;\">\n",
       "      <th></th>\n",
       "      <th>group</th>\n",
       "      <th>event_name</th>\n",
       "      <th>event_amt</th>\n",
       "      <th>user_amt</th>\n",
       "      <th>mean_amt</th>\n",
       "    </tr>\n",
       "  </thead>\n",
       "  <tbody>\n",
       "    <tr>\n",
       "      <th>0</th>\n",
       "      <td>A</td>\n",
       "      <td>login</td>\n",
       "      <td>7907</td>\n",
       "      <td>2604</td>\n",
       "      <td>3.036482</td>\n",
       "    </tr>\n",
       "    <tr>\n",
       "      <th>1</th>\n",
       "      <td>A</td>\n",
       "      <td>product_cart</td>\n",
       "      <td>2361</td>\n",
       "      <td>782</td>\n",
       "      <td>3.019182</td>\n",
       "    </tr>\n",
       "    <tr>\n",
       "      <th>2</th>\n",
       "      <td>A</td>\n",
       "      <td>product_page</td>\n",
       "      <td>5082</td>\n",
       "      <td>1685</td>\n",
       "      <td>3.016024</td>\n",
       "    </tr>\n",
       "    <tr>\n",
       "      <th>3</th>\n",
       "      <td>A</td>\n",
       "      <td>purchase</td>\n",
       "      <td>2485</td>\n",
       "      <td>833</td>\n",
       "      <td>2.983193</td>\n",
       "    </tr>\n",
       "    <tr>\n",
       "      <th>4</th>\n",
       "      <td>B</td>\n",
       "      <td>login</td>\n",
       "      <td>2310</td>\n",
       "      <td>876</td>\n",
       "      <td>2.636986</td>\n",
       "    </tr>\n",
       "    <tr>\n",
       "      <th>5</th>\n",
       "      <td>B</td>\n",
       "      <td>product_cart</td>\n",
       "      <td>617</td>\n",
       "      <td>244</td>\n",
       "      <td>2.528689</td>\n",
       "    </tr>\n",
       "    <tr>\n",
       "      <th>6</th>\n",
       "      <td>B</td>\n",
       "      <td>product_page</td>\n",
       "      <td>1240</td>\n",
       "      <td>493</td>\n",
       "      <td>2.515213</td>\n",
       "    </tr>\n",
       "    <tr>\n",
       "      <th>7</th>\n",
       "      <td>B</td>\n",
       "      <td>purchase</td>\n",
       "      <td>618</td>\n",
       "      <td>249</td>\n",
       "      <td>2.481928</td>\n",
       "    </tr>\n",
       "  </tbody>\n",
       "</table>\n",
       "</div>"
      ],
      "text/plain": [
       "  group    event_name  event_amt  user_amt  mean_amt\n",
       "0     A         login       7907      2604  3.036482\n",
       "1     A  product_cart       2361       782  3.019182\n",
       "2     A  product_page       5082      1685  3.016024\n",
       "3     A      purchase       2485       833  2.983193\n",
       "4     B         login       2310       876  2.636986\n",
       "5     B  product_cart        617       244  2.528689\n",
       "6     B  product_page       1240       493  2.515213\n",
       "7     B      purchase        618       249  2.481928"
      ]
     },
     "execution_count": 51,
     "metadata": {},
     "output_type": "execute_result"
    }
   ],
   "source": [
    "# типы событий\n",
    "events_amt_per_user = test_table.groupby(['group', 'event_name']).agg({'user_id':['count', 'nunique']}).reset_index() \n",
    "events_amt_per_user.columns=['group', 'event_name', 'event_amt', 'user_amt']\n",
    "events_amt_per_user['mean_amt'] = events_amt_per_user['event_amt']/events_amt_per_user['user_amt']\n",
    "events_amt_per_user"
   ]
  },
  {
   "cell_type": "code",
   "execution_count": 69,
   "metadata": {
    "scrolled": false
   },
   "outputs": [
    {
     "data": {
      "image/png": "[encoded data removed]"
     },
     "metadata": {},
     "output_type": "display_data"
    }
   ],
   "source": [
    "# визуализируем\n",
    "fig = px.histogram(events_amt_per_user, x='event_name', y='event_amt', color='group',\n",
    "                   barmode='group', \n",
    "                   #histnorm='percent', #отображаем процентное соотношение, а не абсолютные значения\n",
    "                   title='Количество событий по типам по группам').update_xaxes(categoryorder='trace')\n",
    "\n",
    "fig.update_layout(xaxis_title='Событие', yaxis_title='Процент пользователей')\n",
    "fig.update_layout(title_xref=\"paper\", title_x=0.5) #положение заголовка\n",
    "fig.update_xaxes(type='category') # регулируем отметки на оси х\n",
    "fig.update_layout(legend=dict(title='Группа')) #меняем заголовок легенды\n",
    "fig.update_xaxes(type='category') # регулируем отметки на оси х\n",
    "fig.show(renderer='png')"
   ]
  },
  {
   "cell_type": "markdown",
   "metadata": {},
   "source": [
    "Самое непопулярное событие в обеих группах - это просмотр корзины. Это связано с тем, что на сайте реализована функция быстрой покупки со страницы товара, и этот шаг проходят не все пользователи. Далее (на этапе воронки) мы посмотрим, какой процент пользователей совершает каждое событие в каждой группе."
   ]
  },
  {
   "cell_type": "markdown",
   "metadata": {},
   "source": [
    "### Динамика количества событий в группах теста по дням"
   ]
  },
  {
   "cell_type": "code",
   "execution_count": 70,
   "metadata": {
    "scrolled": true
   },
   "outputs": [
    {
     "data": {
      "image/png": "[encoded data removed]"
     },
     "metadata": {},
     "output_type": "display_data"
    }
   ],
   "source": [
    "# собираем таблицу для графика\n",
    "event_day = test_table.groupby(['group','event_age']).agg({'user_id':'count'}).reset_index() \n",
    "\n",
    "# визуализируем\n",
    "fig = px.histogram(event_day, x='event_age', y='user_id', color='group',\n",
    "                   barmode='overlay', \n",
    "                   histnorm='percent', #отображаем процентное соотношение, а не абсолютные значения\n",
    "                   title='Распределение количества событий по дням по группам').update_xaxes(categoryorder='trace')\n",
    "\n",
    "fig.update_layout(xaxis_title='Возраст события', yaxis_title='Количество пользователей')\n",
    "fig.update_layout(title_xref=\"paper\", title_x=0.5) #положение заголовка\n",
    "fig.update_xaxes(type='category') # регулируем отметки на оси х\n",
    "fig.update_layout(legend=dict(title='Группа')) #меняем заголовок легенды\n",
    "fig.update_xaxes(type='category') # регулируем отметки на оси х\n",
    "fig.show(renderer='png')"
   ]
  },
  {
   "cell_type": "markdown",
   "metadata": {},
   "source": [
    "В обеих группах большая часть событий происходит в день регистрации. В группе А в день регистрации происходит 33% событий, на следующий - 15,8% событий, далее плавно снижается до 1% на 14 день. В группе В в день регистрации происходит 38% событий, а на следующий день - 15,5%. Есть небольшое колебание по дням: на 6 день лайфтайма совершают события 3,8% пользователей, а на 7 - 4,2%."
   ]
  },
  {
   "cell_type": "markdown",
   "metadata": {},
   "source": [
    "Вывод: распределение количества событий между группами различается. В среднем на пользователя в группе А приходится 5 событий, в группе В - 2 события. Среди активных пользователей: 7 в группе А и 5 в группе В. По типам событий также есть небольшая разница: залогинивается в группе В больше пользователей, чем в группе А (47% против 44%), но покупок совершает больше пользователей из группы А (14% против 13%). Динамика по дням практически одинакова в обеих группах: большая часть событий приходится на первый день (33% в группе А и 38% в группе В), резко сокращается на следующий (в обеих группах - примерно до 15%), далее плавно снижается."
   ]
  },
  {
   "cell_type": "markdown",
   "metadata": {},
   "source": [
    "### Воздействие маркетинговых событий"
   ]
  },
  {
   "cell_type": "code",
   "execution_count": 54,
   "metadata": {},
   "outputs": [
    {
     "data": {
      "text/html": [
       "<div>\n",
       "<style scoped>\n",
       "    .dataframe tbody tr th:only-of-type {\n",
       "        vertical-align: middle;\n",
       "    }\n",
       "\n",
       "    .dataframe tbody tr th {\n",
       "        vertical-align: top;\n",
       "    }\n",
       "\n",
       "    .dataframe thead th {\n",
       "        text-align: right;\n",
       "    }\n",
       "</style>\n",
       "<table border=\"1\" class=\"dataframe\">\n",
       "  <thead>\n",
       "    <tr style=\"text-align: right;\">\n",
       "      <th></th>\n",
       "      <th>name</th>\n",
       "      <th>regions</th>\n",
       "      <th>start_dt</th>\n",
       "      <th>finish_dt</th>\n",
       "    </tr>\n",
       "  </thead>\n",
       "  <tbody>\n",
       "    <tr>\n",
       "      <th>0</th>\n",
       "      <td>Christmas&amp;New Year Promo</td>\n",
       "      <td>EU, N.America</td>\n",
       "      <td>2020-12-25</td>\n",
       "      <td>2021-01-03</td>\n",
       "    </tr>\n",
       "    <tr>\n",
       "      <th>10</th>\n",
       "      <td>CIS New Year Gift Lottery</td>\n",
       "      <td>CIS</td>\n",
       "      <td>2020-12-30</td>\n",
       "      <td>2021-01-07</td>\n",
       "    </tr>\n",
       "  </tbody>\n",
       "</table>\n",
       "</div>"
      ],
      "text/plain": [
       "                         name        regions   start_dt  finish_dt\n",
       "0    Christmas&New Year Promo  EU, N.America 2020-12-25 2021-01-03\n",
       "10  CIS New Year Gift Lottery            CIS 2020-12-30 2021-01-07"
      ]
     },
     "execution_count": 54,
     "metadata": {},
     "output_type": "execute_result"
    }
   ],
   "source": [
    "# какие маркетинговые события проходили во время проведения теста\n",
    "start_day = test_table['event_date'].min()\n",
    "end_day = test_table['event_date'].max()\n",
    "m_events = marketing_events.query(' @start_day <= finish_dt or start_dt >= @end_day')\n",
    "m_events"
   ]
  },
  {
   "cell_type": "markdown",
   "metadata": {},
   "source": [
    "Во время проведения теста проходило 2 маркетинговых события: Christmas&New Year Promo и CIS New Year Gift Lottery. Лотерея проходила в другом регионе и участников нашего теста не затронуло. Посмотрим, повлияла ли праздничная промо-акция."
   ]
  },
  {
   "cell_type": "code",
   "execution_count": 71,
   "metadata": {},
   "outputs": [
    {
     "data": {
      "image/png": "[encoded data removed]"
     },
     "metadata": {},
     "output_type": "display_data"
    }
   ],
   "source": [
    "#строим распределение количества событий по дням\n",
    "test_table['event_day']=test_table['event_date'].dt.date #создаем столбец с датой без метки времени\n",
    "events_amount = test_table.groupby(['group','event_day']).agg({'event_name':'count'}).reset_index() \n",
    "\n",
    "# визуализируем\n",
    "fig = px.histogram(events_amount, x='event_day', y='event_name', color='group',\n",
    "                   barmode='overlay', \n",
    "                   histnorm='percent', #отображаем процентное соотношение, а не абсолютные значения\n",
    "                   title='Распределение событий по датам').update_xaxes(categoryorder='trace')\n",
    "\n",
    "fig.update_layout(xaxis_title='Дата', yaxis_title='Процент событий')\n",
    "fig.update_layout(title_xref=\"paper\", title_x=0.5) #положение заголовка\n",
    "fig.update_xaxes(type='category') # регулируем отметки на оси х\n",
    "fig.update_layout(legend=dict(title='Группа')) #меняем заголовок легенды\n",
    "fig.update_xaxes(type='category') # регулируем отметки на оси х\n",
    "fig.update_xaxes(tickangle=90)\n",
    "date='2020-12-25'\n",
    "fig.add_vline(x=date, line_dash=\"dash\", line_color=\"green\") #отмечаем линией дату старта акции\n",
    "fig.show(renderer='png')"
   ]
  },
  {
   "cell_type": "markdown",
   "metadata": {},
   "source": [
    "Промо-акция не повлияла на количество совершаемых событий: ни в одной из групп не отмечается всплесков активности после начала акции. В группе А наблюдается резкое увеличение событий, начиная с 14 декабря. Возможно, это связано с наплывом новых пользователей. По графику динамики набора пользователей в группы 14 декабря приходится пик набора пользователей в группе А, и, как мы выяснили, большая часть событий происходит в день регистрации и несколько последующих дней."
   ]
  },
  {
   "cell_type": "markdown",
   "metadata": {},
   "source": [
    "### Продуктовая воронка"
   ]
  },
  {
   "cell_type": "code",
   "execution_count": 56,
   "metadata": {},
   "outputs": [],
   "source": [
    "# данные для воронки\n",
    "group_a = events_amt_per_user.query('group == \"A\"')\n",
    "group_b = events_amt_per_user.query('group == \"B\"')"
   ]
  },
  {
   "cell_type": "code",
   "execution_count": 57,
   "metadata": {
    "scrolled": true
   },
   "outputs": [
    {
     "data": {
      "text/html": [
       "<div>\n",
       "<style scoped>\n",
       "    .dataframe tbody tr th:only-of-type {\n",
       "        vertical-align: middle;\n",
       "    }\n",
       "\n",
       "    .dataframe tbody tr th {\n",
       "        vertical-align: top;\n",
       "    }\n",
       "\n",
       "    .dataframe thead th {\n",
       "        text-align: right;\n",
       "    }\n",
       "</style>\n",
       "<table border=\"1\" class=\"dataframe\">\n",
       "  <thead>\n",
       "    <tr style=\"text-align: right;\">\n",
       "      <th></th>\n",
       "      <th>group</th>\n",
       "      <th>event_name</th>\n",
       "      <th>event_amt</th>\n",
       "      <th>user_amt</th>\n",
       "      <th>mean_amt</th>\n",
       "    </tr>\n",
       "  </thead>\n",
       "  <tbody>\n",
       "    <tr>\n",
       "      <th>0</th>\n",
       "      <td>A</td>\n",
       "      <td>login</td>\n",
       "      <td>7907</td>\n",
       "      <td>2604</td>\n",
       "      <td>3.036482</td>\n",
       "    </tr>\n",
       "    <tr>\n",
       "      <th>2</th>\n",
       "      <td>A</td>\n",
       "      <td>product_page</td>\n",
       "      <td>5082</td>\n",
       "      <td>1685</td>\n",
       "      <td>3.016024</td>\n",
       "    </tr>\n",
       "    <tr>\n",
       "      <th>1</th>\n",
       "      <td>A</td>\n",
       "      <td>product_cart</td>\n",
       "      <td>2361</td>\n",
       "      <td>782</td>\n",
       "      <td>3.019182</td>\n",
       "    </tr>\n",
       "    <tr>\n",
       "      <th>3</th>\n",
       "      <td>A</td>\n",
       "      <td>purchase</td>\n",
       "      <td>2485</td>\n",
       "      <td>833</td>\n",
       "      <td>2.983193</td>\n",
       "    </tr>\n",
       "  </tbody>\n",
       "</table>\n",
       "</div>"
      ],
      "text/plain": [
       "  group    event_name  event_amt  user_amt  mean_amt\n",
       "0     A         login       7907      2604  3.036482\n",
       "2     A  product_page       5082      1685  3.016024\n",
       "1     A  product_cart       2361       782  3.019182\n",
       "3     A      purchase       2485       833  2.983193"
      ]
     },
     "execution_count": 57,
     "metadata": {},
     "output_type": "execute_result"
    }
   ],
   "source": [
    "# задаем порядок воронки для группы А\n",
    "group_a = group_a.reindex([0,2,1,3])\n",
    "group_a"
   ]
  },
  {
   "cell_type": "code",
   "execution_count": 58,
   "metadata": {},
   "outputs": [
    {
     "data": {
      "text/html": [
       "<div>\n",
       "<style scoped>\n",
       "    .dataframe tbody tr th:only-of-type {\n",
       "        vertical-align: middle;\n",
       "    }\n",
       "\n",
       "    .dataframe tbody tr th {\n",
       "        vertical-align: top;\n",
       "    }\n",
       "\n",
       "    .dataframe thead th {\n",
       "        text-align: right;\n",
       "    }\n",
       "</style>\n",
       "<table border=\"1\" class=\"dataframe\">\n",
       "  <thead>\n",
       "    <tr style=\"text-align: right;\">\n",
       "      <th></th>\n",
       "      <th>group</th>\n",
       "      <th>event_name</th>\n",
       "      <th>event_amt</th>\n",
       "      <th>user_amt</th>\n",
       "      <th>mean_amt</th>\n",
       "    </tr>\n",
       "  </thead>\n",
       "  <tbody>\n",
       "    <tr>\n",
       "      <th>4</th>\n",
       "      <td>B</td>\n",
       "      <td>login</td>\n",
       "      <td>2310</td>\n",
       "      <td>876</td>\n",
       "      <td>2.636986</td>\n",
       "    </tr>\n",
       "    <tr>\n",
       "      <th>6</th>\n",
       "      <td>B</td>\n",
       "      <td>product_page</td>\n",
       "      <td>1240</td>\n",
       "      <td>493</td>\n",
       "      <td>2.515213</td>\n",
       "    </tr>\n",
       "    <tr>\n",
       "      <th>5</th>\n",
       "      <td>B</td>\n",
       "      <td>product_cart</td>\n",
       "      <td>617</td>\n",
       "      <td>244</td>\n",
       "      <td>2.528689</td>\n",
       "    </tr>\n",
       "    <tr>\n",
       "      <th>7</th>\n",
       "      <td>B</td>\n",
       "      <td>purchase</td>\n",
       "      <td>618</td>\n",
       "      <td>249</td>\n",
       "      <td>2.481928</td>\n",
       "    </tr>\n",
       "  </tbody>\n",
       "</table>\n",
       "</div>"
      ],
      "text/plain": [
       "  group    event_name  event_amt  user_amt  mean_amt\n",
       "4     B         login       2310       876  2.636986\n",
       "6     B  product_page       1240       493  2.515213\n",
       "5     B  product_cart        617       244  2.528689\n",
       "7     B      purchase        618       249  2.481928"
      ]
     },
     "execution_count": 58,
     "metadata": {},
     "output_type": "execute_result"
    }
   ],
   "source": [
    "# задаем порядок воронки для группы В\n",
    "group_b = events_amt_per_user.reindex([4,6,5,7])\n",
    "group_b"
   ]
  },
  {
   "cell_type": "code",
   "execution_count": 72,
   "metadata": {},
   "outputs": [
    {
     "data": {
      "image/png": "[encoded data removed]"
     },
     "metadata": {},
     "output_type": "display_data"
    }
   ],
   "source": [
    "# строим воронку\n",
    "fig = go.Figure()\n",
    "\n",
    "fig.add_trace(go.Funnel(\n",
    "    name = 'A',\n",
    "    y = group_a['event_name'],\n",
    "    x = group_a['user_amt'],\n",
    "    textinfo = \"value+percent initial\"))\n",
    "\n",
    "fig.add_trace(go.Funnel(\n",
    "    name = 'B',\n",
    "    y = group_b['event_name'],\n",
    "    x = group_b['user_amt'],\n",
    "    textinfo = \"value+percent initial\"))\n",
    "fig.update_layout(title='Воронка событий', title_xref=\"paper\", title_x=0.5) #положение заголовка\n",
    "fig.update_layout(legend=dict(title='Группа')) #меняем заголовок легенды\n",
    "fig.show(renderer='png')"
   ]
  },
  {
   "cell_type": "markdown",
   "metadata": {},
   "source": [
    "Воронка показывает количество пользователей и процент от изначальных (залогиненных) пользователей на каждом шаге. \n",
    "- В группе А залогинилось 2604 пользователя, в группе В - всего 876.\n",
    "- На страницу продукта перешли 65% пользователей в группе А и 56% в группе В.\n",
    "- В корзину зашли 30% в группе А и 28% в группе В (необязательный шаг).\n",
    "- Покупку совершили 32%  пользователей в группе А и 28% в группе В."
   ]
  },
  {
   "cell_type": "code",
   "execution_count": 60,
   "metadata": {},
   "outputs": [
    {
     "data": {
      "text/html": [
       "<div>\n",
       "<style scoped>\n",
       "    .dataframe tbody tr th:only-of-type {\n",
       "        vertical-align: middle;\n",
       "    }\n",
       "\n",
       "    .dataframe tbody tr th {\n",
       "        vertical-align: top;\n",
       "    }\n",
       "\n",
       "    .dataframe thead th {\n",
       "        text-align: right;\n",
       "    }\n",
       "</style>\n",
       "<table border=\"1\" class=\"dataframe\">\n",
       "  <thead>\n",
       "    <tr style=\"text-align: right;\">\n",
       "      <th>group</th>\n",
       "      <th>event_name</th>\n",
       "      <th>A</th>\n",
       "      <th>B</th>\n",
       "      <th>share_A</th>\n",
       "      <th>share_B</th>\n",
       "      <th>difference</th>\n",
       "    </tr>\n",
       "  </thead>\n",
       "  <tbody>\n",
       "    <tr>\n",
       "      <th>0</th>\n",
       "      <td>login</td>\n",
       "      <td>2604</td>\n",
       "      <td>876</td>\n",
       "      <td>100.000000</td>\n",
       "      <td>100.000000</td>\n",
       "      <td>0.0</td>\n",
       "    </tr>\n",
       "    <tr>\n",
       "      <th>1</th>\n",
       "      <td>product_cart</td>\n",
       "      <td>782</td>\n",
       "      <td>244</td>\n",
       "      <td>30.030722</td>\n",
       "      <td>27.853881</td>\n",
       "      <td>-2.0</td>\n",
       "    </tr>\n",
       "    <tr>\n",
       "      <th>2</th>\n",
       "      <td>product_page</td>\n",
       "      <td>1685</td>\n",
       "      <td>493</td>\n",
       "      <td>64.708141</td>\n",
       "      <td>56.278539</td>\n",
       "      <td>-8.0</td>\n",
       "    </tr>\n",
       "    <tr>\n",
       "      <th>3</th>\n",
       "      <td>purchase</td>\n",
       "      <td>833</td>\n",
       "      <td>249</td>\n",
       "      <td>31.989247</td>\n",
       "      <td>28.424658</td>\n",
       "      <td>-4.0</td>\n",
       "    </tr>\n",
       "  </tbody>\n",
       "</table>\n",
       "</div>"
      ],
      "text/plain": [
       "group    event_name     A    B     share_A     share_B  difference\n",
       "0             login  2604  876  100.000000  100.000000         0.0\n",
       "1      product_cart   782  244   30.030722   27.853881        -2.0\n",
       "2      product_page  1685  493   64.708141   56.278539        -8.0\n",
       "3          purchase   833  249   31.989247   28.424658        -4.0"
      ]
     },
     "execution_count": 60,
     "metadata": {},
     "output_type": "execute_result"
    }
   ],
   "source": [
    "# разница в конверсии между группами\n",
    "diff = test_table.pivot_table(index='event_name', columns='group', values='user_id', aggfunc='nunique').reset_index()\n",
    "diff['share_A']=diff['A']/2604*100\n",
    "diff['share_B']=(diff['B']/876)*100\n",
    "diff['difference']=round(diff['share_B']-diff['share_A'])\n",
    "diff"
   ]
  },
  {
   "cell_type": "markdown",
   "metadata": {},
   "source": [
    "Как мы видим из воронки и таблицы, конверсия в группе В стабильно ниже на каждом шаге, чем в группе А. Ожидаемого эффекта\n",
    "увеличения конверсии в группе В на 10 процентных пунктов относительно конверсии в группе А не наблюдается."
   ]
  },
  {
   "cell_type": "markdown",
   "metadata": {},
   "source": [
    "Вывод: группа В менее активна, чем группа А. 28% пользователей в группе А и 67,7% в группе В не совершали никаких событий. Среди активных пользователей в среднем совершается 7 событий в группе А и 5 в группе В. Конверсия в группе В ниже на 2% на шаге корзины, на 8% на шаге просмотра страницы продукта, на 4% на шаге покупки."
   ]
  },
  {
   "cell_type": "markdown",
   "metadata": {},
   "source": [
    "## Оценка результатов A/B-тестирования"
   ]
  },
  {
   "cell_type": "markdown",
   "metadata": {},
   "source": [
    "Для оценки результатов теста мы проверим статистическую разницу долей z-критерием.  \n",
    "Нулевая гипотеза: группы равны.  \n",
    "Альтернативная гипотеза: между группами есть значимая разница."
   ]
  },
  {
   "cell_type": "code",
   "execution_count": 61,
   "metadata": {},
   "outputs": [
    {
     "data": {
      "text/html": [
       "<div>\n",
       "<style scoped>\n",
       "    .dataframe tbody tr th:only-of-type {\n",
       "        vertical-align: middle;\n",
       "    }\n",
       "\n",
       "    .dataframe tbody tr th {\n",
       "        vertical-align: top;\n",
       "    }\n",
       "\n",
       "    .dataframe thead th {\n",
       "        text-align: right;\n",
       "    }\n",
       "</style>\n",
       "<table border=\"1\" class=\"dataframe\">\n",
       "  <thead>\n",
       "    <tr style=\"text-align: right;\">\n",
       "      <th></th>\n",
       "      <th>user_id</th>\n",
       "      <th>registration_date</th>\n",
       "      <th>region</th>\n",
       "      <th>device</th>\n",
       "      <th>group</th>\n",
       "      <th>ab_test</th>\n",
       "      <th>event_date</th>\n",
       "      <th>event_name</th>\n",
       "      <th>details</th>\n",
       "      <th>event_age</th>\n",
       "      <th>event_day</th>\n",
       "    </tr>\n",
       "  </thead>\n",
       "  <tbody>\n",
       "    <tr>\n",
       "      <th>0</th>\n",
       "      <td>D72A72121175D8BE</td>\n",
       "      <td>2020-12-07</td>\n",
       "      <td>EU</td>\n",
       "      <td>PC</td>\n",
       "      <td>A</td>\n",
       "      <td>recommender_system_test</td>\n",
       "      <td>2020-12-07</td>\n",
       "      <td>product_page</td>\n",
       "      <td>NaN</td>\n",
       "      <td>0.0</td>\n",
       "      <td>2020-12-07</td>\n",
       "    </tr>\n",
       "    <tr>\n",
       "      <th>1</th>\n",
       "      <td>D72A72121175D8BE</td>\n",
       "      <td>2020-12-07</td>\n",
       "      <td>EU</td>\n",
       "      <td>PC</td>\n",
       "      <td>A</td>\n",
       "      <td>recommender_system_test</td>\n",
       "      <td>2020-12-07</td>\n",
       "      <td>login</td>\n",
       "      <td>NaN</td>\n",
       "      <td>0.0</td>\n",
       "      <td>2020-12-07</td>\n",
       "    </tr>\n",
       "    <tr>\n",
       "      <th>3</th>\n",
       "      <td>DD4352CDCF8C3D57</td>\n",
       "      <td>2020-12-07</td>\n",
       "      <td>EU</td>\n",
       "      <td>Android</td>\n",
       "      <td>B</td>\n",
       "      <td>recommender_system_test</td>\n",
       "      <td>2020-12-07</td>\n",
       "      <td>product_page</td>\n",
       "      <td>NaN</td>\n",
       "      <td>0.0</td>\n",
       "      <td>2020-12-07</td>\n",
       "    </tr>\n",
       "    <tr>\n",
       "      <th>4</th>\n",
       "      <td>DD4352CDCF8C3D57</td>\n",
       "      <td>2020-12-07</td>\n",
       "      <td>EU</td>\n",
       "      <td>Android</td>\n",
       "      <td>B</td>\n",
       "      <td>recommender_system_test</td>\n",
       "      <td>2020-12-08</td>\n",
       "      <td>product_page</td>\n",
       "      <td>NaN</td>\n",
       "      <td>1.0</td>\n",
       "      <td>2020-12-08</td>\n",
       "    </tr>\n",
       "    <tr>\n",
       "      <th>5</th>\n",
       "      <td>DD4352CDCF8C3D57</td>\n",
       "      <td>2020-12-07</td>\n",
       "      <td>EU</td>\n",
       "      <td>Android</td>\n",
       "      <td>B</td>\n",
       "      <td>recommender_system_test</td>\n",
       "      <td>2020-12-10</td>\n",
       "      <td>product_page</td>\n",
       "      <td>NaN</td>\n",
       "      <td>3.0</td>\n",
       "      <td>2020-12-10</td>\n",
       "    </tr>\n",
       "  </tbody>\n",
       "</table>\n",
       "</div>"
      ],
      "text/plain": [
       "            user_id registration_date region   device group  \\\n",
       "0  D72A72121175D8BE        2020-12-07     EU       PC     A   \n",
       "1  D72A72121175D8BE        2020-12-07     EU       PC     A   \n",
       "3  DD4352CDCF8C3D57        2020-12-07     EU  Android     B   \n",
       "4  DD4352CDCF8C3D57        2020-12-07     EU  Android     B   \n",
       "5  DD4352CDCF8C3D57        2020-12-07     EU  Android     B   \n",
       "\n",
       "                   ab_test event_date    event_name  details  event_age  \\\n",
       "0  recommender_system_test 2020-12-07  product_page      NaN        0.0   \n",
       "1  recommender_system_test 2020-12-07         login      NaN        0.0   \n",
       "3  recommender_system_test 2020-12-07  product_page      NaN        0.0   \n",
       "4  recommender_system_test 2020-12-08  product_page      NaN        1.0   \n",
       "5  recommender_system_test 2020-12-10  product_page      NaN        3.0   \n",
       "\n",
       "    event_day  \n",
       "0  2020-12-07  \n",
       "1  2020-12-07  \n",
       "3  2020-12-07  \n",
       "4  2020-12-08  \n",
       "5  2020-12-10  "
      ]
     },
     "execution_count": 61,
     "metadata": {},
     "output_type": "execute_result"
    }
   ],
   "source": [
    "#исключаем неактивных пользователей\n",
    "test_table=test_table.query('event_age>=0')\n",
    "test_table.head()"
   ]
  },
  {
   "cell_type": "code",
   "execution_count": 62,
   "metadata": {},
   "outputs": [
    {
     "data": {
      "text/html": [
       "<div>\n",
       "<style scoped>\n",
       "    .dataframe tbody tr th:only-of-type {\n",
       "        vertical-align: middle;\n",
       "    }\n",
       "\n",
       "    .dataframe tbody tr th {\n",
       "        vertical-align: top;\n",
       "    }\n",
       "\n",
       "    .dataframe thead th {\n",
       "        text-align: right;\n",
       "    }\n",
       "</style>\n",
       "<table border=\"1\" class=\"dataframe\">\n",
       "  <thead>\n",
       "    <tr style=\"text-align: right;\">\n",
       "      <th></th>\n",
       "      <th>event_name</th>\n",
       "      <th>group</th>\n",
       "      <th>total_users</th>\n",
       "    </tr>\n",
       "  </thead>\n",
       "  <tbody>\n",
       "    <tr>\n",
       "      <th>5</th>\n",
       "      <td>product_page</td>\n",
       "      <td>B</td>\n",
       "      <td>493</td>\n",
       "    </tr>\n",
       "    <tr>\n",
       "      <th>7</th>\n",
       "      <td>purchase</td>\n",
       "      <td>B</td>\n",
       "      <td>249</td>\n",
       "    </tr>\n",
       "    <tr>\n",
       "      <th>3</th>\n",
       "      <td>product_cart</td>\n",
       "      <td>B</td>\n",
       "      <td>244</td>\n",
       "    </tr>\n",
       "    <tr>\n",
       "      <th>4</th>\n",
       "      <td>product_page</td>\n",
       "      <td>A</td>\n",
       "      <td>1685</td>\n",
       "    </tr>\n",
       "    <tr>\n",
       "      <th>6</th>\n",
       "      <td>purchase</td>\n",
       "      <td>A</td>\n",
       "      <td>833</td>\n",
       "    </tr>\n",
       "    <tr>\n",
       "      <th>2</th>\n",
       "      <td>product_cart</td>\n",
       "      <td>A</td>\n",
       "      <td>782</td>\n",
       "    </tr>\n",
       "  </tbody>\n",
       "</table>\n",
       "</div>"
      ],
      "text/plain": [
       "     event_name group  total_users\n",
       "5  product_page     B          493\n",
       "7      purchase     B          249\n",
       "3  product_cart     B          244\n",
       "4  product_page     A         1685\n",
       "6      purchase     A          833\n",
       "2  product_cart     A          782"
      ]
     },
     "execution_count": 62,
     "metadata": {},
     "output_type": "execute_result"
    }
   ],
   "source": [
    "# таблица с группами, событиями, общим количеством пользователей\n",
    "funnel_group = (test_table.groupby(['event_name', 'group']).agg({'user_id': 'nunique'}).reset_index().\n",
    "          rename(columns={'user_id' : 'total_users'}).\n",
    "          sort_values(by=['group','total_users'], ascending=False))\n",
    "funnel_group = funnel_group[funnel_group['event_name'] != 'login']\n",
    "funnel_group"
   ]
  },
  {
   "cell_type": "code",
   "execution_count": 63,
   "metadata": {},
   "outputs": [],
   "source": [
    "# задаем функцию для проверки разницы между группами\n",
    "\n",
    "def z_test(df1, df2, event, alpha):\n",
    "    # число пользователей в группе 1 и группе 2:\n",
    "    n_users = np.array([df1['user_id'].nunique(), \n",
    "                        df2['user_id'].nunique()])\n",
    "\n",
    "    # число пользователей, совершивших событие в группе 1 и группе 2\n",
    "    successes = np.array([df1[df1['event_name'] == event]['user_id'].nunique(), \n",
    "                        df2[df2['event_name'] == event]['user_id'].nunique()])\n",
    "    trials=np.array([df1['user_id'].nunique(), \n",
    "                        df2['user_id'].nunique()])\n",
    "    # пропорция успехов в первой группе:\n",
    "    p1 = successes[0]/trials[0]\n",
    "    # пропорция успехов во второй группе:\n",
    "    p2 = successes[1]/trials[1]\n",
    "    # пропорция успехов в комбинированном датасете:\n",
    "    p_combined = (successes[0] + successes[1]) / (trials[0] + trials[1])\n",
    "    # разница пропорций в датасетах\n",
    "    difference = p1 - p2 \n",
    "    # считаем статистику в ст.отклонениях стандартного нормального распределения\n",
    "    z_value = difference /  np.sqrt(p_combined * (1 - p_combined) * (1/trials[0] + 1/trials[1]))\n",
    "    # задаем стандартное нормальное распределение (среднее 0, ст.отклонение 1)\n",
    "    distr = st.norm(0, 1)  \n",
    "    p_value = (1 - distr.cdf(abs(z_value))) * 2   #тест двусторонний, удваиваем результат\n",
    "    print('Событие:', event)\n",
    "    print('p_value: ', p_value)\n",
    "    if p_value < alpha:\n",
    "        print('Отвергаем нулевую гипотезу')\n",
    "    else:\n",
    "        print('Не получилось отвергнуть нулевую гипотезу')\n",
    "    "
   ]
  },
  {
   "cell_type": "markdown",
   "metadata": {},
   "source": [
    "Так как мы проводим множественные сравнения, существует вероятность ошибки первого рода, то есть мы можем ошибочно отвергнуть нулевую гипотезу. Применим метод Шидака для уменьшения FWER."
   ]
  },
  {
   "cell_type": "code",
   "execution_count": 64,
   "metadata": {
    "scrolled": false
   },
   "outputs": [
    {
     "name": "stdout",
     "output_type": "stream",
     "text": [
      "Событие: product_page\n",
      "p_value:  6.942739359416805e-06\n",
      "Отвергаем нулевую гипотезу\n",
      "\n",
      "Событие: purchase\n",
      "p_value:  0.04652482738393027\n",
      "Не получилось отвергнуть нулевую гипотезу\n",
      "\n",
      "Событие: product_cart\n",
      "p_value:  0.21469192029582396\n",
      "Не получилось отвергнуть нулевую гипотезу\n",
      "\n"
     ]
    }
   ],
   "source": [
    "# применяем функцию\n",
    "shidok_alpha = 1 - (1 - 0.05)**(1/3) # всего у нас 3 сравнения\n",
    "\n",
    "for event in funnel_group['event_name'].unique():\n",
    "    z_test(test_table[test_table['group'] == \"A\"], test_table[test_table['group'] == \"B\"], event, shidok_alpha)\n",
    "    print()"
   ]
  },
  {
   "cell_type": "markdown",
   "metadata": {},
   "source": [
    "По результатам теста группы равны на шагах purchase и product_cart, то есть между группами теста нет статистически значимой разницы. Для события product_page нулевая гипотеза была отвергнута, то есть разница между группами есть. Тем не менее, стоит учитывать, что группы для A/B теста различаются по размеру почти в три раза, поэтому результаты теста нельзя считать абсолютно достоверными."
   ]
  },
  {
   "cell_type": "markdown",
   "metadata": {},
   "source": [
    "## Выводы"
   ]
  },
  {
   "cell_type": "markdown",
   "metadata": {},
   "source": [
    "Тестирование было проведено некорректно.   \n",
    "- Участники теста были распределены по группам неравномерно: 57.22% в группе А, 42.78% в группе В. При этом 45% участников теста неактивны - они не совершили ни одного события после регистрации. По группам разница еще нагляднее: среди участников группы В всего 32% активных пользователей, а среди А - 72%. Размер выборки группы В слишком мал для получения достоверных результатов теста. Также 23% участников нашего теста задействованы в конкурирующем, хотя и в других группах. \n",
    "- Данные для теста предоставлены не полностью: нет данных за период 31 декабря-4 января.  \n",
    "\n",
    "Следующие требования были выполнены: \n",
    "- Есть 15% пользователей из Европы.\n",
    "- Участники теста не пересекаются внутри групп А и В.\n",
    "- Пользователи в группах набирались равномерно.\n",
    "\n",
    "Исследовательский анализ показал, что распределение количества событий между группами различается. Среди активных пользователей в среднем совершается 7 событий в группе А и 5 в группе В. Динамика по дням практически одинакова в обеих группах: большая часть событий приходится на первый день (33% в группе А и 38% в группе В), резко сокращается на следующий (в обеих группах - примерно до 15%), далее плавно снижается. Во время проведения теста проходила промо-акция, но она не оказала сильного влияния на участников: ни в одной из групп не отмечается всплесков активности после начала акции. \n",
    "\n",
    "Продуктовая воронка по группам выглядит следующим образом:\n",
    "- В группе А залогинилось 2604 пользователя, в группе В - всего 876.\n",
    "- На страницу продукта перешли 65% пользователей в группе А и 56% в группе В.\n",
    "- В корзину зашли 30% в группе А и 28% в группе В (необязательный шаг).\n",
    "- Покупку совершили 32% пользователей в группе А и 28% в группе В.\n",
    "Конверсия в группе В ниже на 2% на шаге корзины, на 8% на шаге просмотра страницы продукта, на 4% на шаге покупки. Ожидаемого эффекта увеличения конверсии в группе В на 10% относительно конверсии в группе А нет.\n",
    "\n",
    "Мы проверили статистическую разницу долей z-критерием. По результатам различий в конверсии между группами на всех шагах, кроме product_page, нет. Однако, учитывая нарушения порядка проведения тестирования, результаты достоверными считать нельзя. Таким образом, мы не можем дать заключение об эффективности внедрения новой рекомендательной системы. Рекомендуется повторить тест, устранив нарушения."
   ]
  }
 ],
 "metadata": {
  "ExecuteTimeLog": [
   {
    "duration": 1417,
    "start_time": "2023-09-22T20:34:46.781Z"
   },
   {
    "duration": 1423,
    "start_time": "2023-09-22T20:38:05.177Z"
   },
   {
    "duration": 3,
    "start_time": "2023-09-22T20:38:07.260Z"
   },
   {
    "duration": 745,
    "start_time": "2023-09-22T20:38:07.935Z"
   },
   {
    "duration": 21,
    "start_time": "2023-09-22T20:38:50.232Z"
   },
   {
    "duration": 20,
    "start_time": "2023-09-22T20:39:00.420Z"
   },
   {
    "duration": 16,
    "start_time": "2023-09-22T20:39:25.855Z"
   },
   {
    "duration": 9,
    "start_time": "2023-09-22T20:39:30.335Z"
   },
   {
    "duration": 34,
    "start_time": "2023-09-22T20:40:00.934Z"
   },
   {
    "duration": 82,
    "start_time": "2023-09-22T20:40:23.734Z"
   },
   {
    "duration": 20,
    "start_time": "2023-09-22T20:40:41.723Z"
   },
   {
    "duration": 50,
    "start_time": "2023-09-22T20:43:15.332Z"
   },
   {
    "duration": 65,
    "start_time": "2023-09-22T20:43:28.834Z"
   },
   {
    "duration": 326,
    "start_time": "2023-09-22T20:44:19.263Z"
   },
   {
    "duration": 14,
    "start_time": "2023-09-22T20:44:47.831Z"
   },
   {
    "duration": 10,
    "start_time": "2023-09-22T20:44:56.059Z"
   },
   {
    "duration": 34,
    "start_time": "2023-09-22T20:45:12.164Z"
   },
   {
    "duration": 173,
    "start_time": "2023-09-22T20:45:26.178Z"
   },
   {
    "duration": 15,
    "start_time": "2023-09-22T20:46:03.026Z"
   },
   {
    "duration": 11,
    "start_time": "2023-09-22T20:46:21.478Z"
   },
   {
    "duration": 7,
    "start_time": "2023-09-22T20:46:31.088Z"
   },
   {
    "duration": 30,
    "start_time": "2023-09-22T20:46:47.938Z"
   },
   {
    "duration": 39,
    "start_time": "2023-09-22T20:46:55.928Z"
   },
   {
    "duration": 41,
    "start_time": "2023-09-22T20:47:15.069Z"
   },
   {
    "duration": 12,
    "start_time": "2023-09-22T20:47:25.616Z"
   },
   {
    "duration": 9,
    "start_time": "2023-09-22T20:47:30.562Z"
   },
   {
    "duration": 11,
    "start_time": "2023-09-22T20:47:59.335Z"
   },
   {
    "duration": 14,
    "start_time": "2023-09-22T20:48:15.351Z"
   },
   {
    "duration": 18,
    "start_time": "2023-09-22T20:48:36.131Z"
   },
   {
    "duration": 17,
    "start_time": "2023-09-22T20:48:43.493Z"
   },
   {
    "duration": 459,
    "start_time": "2023-09-22T20:49:20.627Z"
   },
   {
    "duration": 717,
    "start_time": "2023-09-22T20:49:39.961Z"
   },
   {
    "duration": 670,
    "start_time": "2023-09-22T20:49:40.680Z"
   },
   {
    "duration": 15,
    "start_time": "2023-09-22T20:49:41.351Z"
   },
   {
    "duration": 19,
    "start_time": "2023-09-22T20:49:41.368Z"
   },
   {
    "duration": 52,
    "start_time": "2023-09-22T20:49:41.390Z"
   },
   {
    "duration": 68,
    "start_time": "2023-09-22T20:49:41.443Z"
   },
   {
    "duration": 18,
    "start_time": "2023-09-22T20:49:41.514Z"
   },
   {
    "duration": 54,
    "start_time": "2023-09-22T20:49:41.538Z"
   },
   {
    "duration": 79,
    "start_time": "2023-09-22T20:49:41.601Z"
   },
   {
    "duration": 378,
    "start_time": "2023-09-22T20:49:41.682Z"
   },
   {
    "duration": 8,
    "start_time": "2023-09-22T20:49:42.062Z"
   },
   {
    "duration": 21,
    "start_time": "2023-09-22T20:49:42.071Z"
   },
   {
    "duration": 49,
    "start_time": "2023-09-22T20:49:42.094Z"
   },
   {
    "duration": 169,
    "start_time": "2023-09-22T20:49:42.147Z"
   },
   {
    "duration": 11,
    "start_time": "2023-09-22T20:49:42.318Z"
   },
   {
    "duration": 28,
    "start_time": "2023-09-22T20:49:42.330Z"
   },
   {
    "duration": 16,
    "start_time": "2023-09-22T20:49:42.360Z"
   },
   {
    "duration": 47,
    "start_time": "2023-09-22T20:49:42.378Z"
   },
   {
    "duration": 39,
    "start_time": "2023-09-22T20:49:42.431Z"
   },
   {
    "duration": 46,
    "start_time": "2023-09-22T20:49:42.472Z"
   },
   {
    "duration": 14,
    "start_time": "2023-09-22T20:49:42.520Z"
   },
   {
    "duration": 15,
    "start_time": "2023-09-22T20:49:42.537Z"
   },
   {
    "duration": 18,
    "start_time": "2023-09-22T20:49:42.554Z"
   },
   {
    "duration": 35,
    "start_time": "2023-09-22T20:49:42.573Z"
   },
   {
    "duration": 24,
    "start_time": "2023-09-22T20:49:42.609Z"
   },
   {
    "duration": 450,
    "start_time": "2023-09-22T20:49:42.636Z"
   },
   {
    "duration": 11,
    "start_time": "2023-09-22T20:50:04.442Z"
   },
   {
    "duration": 205,
    "start_time": "2023-09-22T20:50:30.813Z"
   },
   {
    "duration": 22,
    "start_time": "2023-09-22T20:50:51.088Z"
   },
   {
    "duration": 14,
    "start_time": "2023-09-22T20:50:58.379Z"
   },
   {
    "duration": 14,
    "start_time": "2023-09-22T20:51:05.573Z"
   },
   {
    "duration": 83,
    "start_time": "2023-09-22T20:51:13.397Z"
   },
   {
    "duration": 181,
    "start_time": "2023-09-23T11:06:40.402Z"
   },
   {
    "duration": 19,
    "start_time": "2023-09-23T11:08:16.836Z"
   },
   {
    "duration": 12,
    "start_time": "2023-09-23T11:08:53.902Z"
   },
   {
    "duration": 16,
    "start_time": "2023-09-23T11:11:03.820Z"
   },
   {
    "duration": 170,
    "start_time": "2023-09-23T11:13:36.378Z"
   },
   {
    "duration": 3,
    "start_time": "2023-09-23T11:15:06.987Z"
   },
   {
    "duration": 4,
    "start_time": "2023-09-23T11:15:21.992Z"
   },
   {
    "duration": 183,
    "start_time": "2023-09-23T11:18:31.670Z"
   },
   {
    "duration": 174,
    "start_time": "2023-09-23T11:23:33.708Z"
   },
   {
    "duration": 17,
    "start_time": "2023-09-23T11:23:56.521Z"
   },
   {
    "duration": 15,
    "start_time": "2023-09-23T11:24:06.154Z"
   },
   {
    "duration": 15,
    "start_time": "2023-09-23T11:24:06.671Z"
   },
   {
    "duration": 74,
    "start_time": "2023-09-23T11:24:07.335Z"
   },
   {
    "duration": 810,
    "start_time": "2023-09-23T11:25:06.682Z"
   },
   {
    "duration": 672,
    "start_time": "2023-09-23T11:25:07.495Z"
   },
   {
    "duration": 18,
    "start_time": "2023-09-23T11:25:08.169Z"
   },
   {
    "duration": 17,
    "start_time": "2023-09-23T11:25:08.190Z"
   },
   {
    "duration": 31,
    "start_time": "2023-09-23T11:25:08.209Z"
   },
   {
    "duration": 81,
    "start_time": "2023-09-23T11:25:08.242Z"
   },
   {
    "duration": 14,
    "start_time": "2023-09-23T11:25:08.325Z"
   },
   {
    "duration": 76,
    "start_time": "2023-09-23T11:25:08.342Z"
   },
   {
    "duration": 62,
    "start_time": "2023-09-23T11:25:08.420Z"
   },
   {
    "duration": 402,
    "start_time": "2023-09-23T11:25:08.485Z"
   },
   {
    "duration": 16,
    "start_time": "2023-09-23T11:25:08.889Z"
   },
   {
    "duration": 25,
    "start_time": "2023-09-23T11:25:08.907Z"
   },
   {
    "duration": 42,
    "start_time": "2023-09-23T11:25:08.934Z"
   },
   {
    "duration": 159,
    "start_time": "2023-09-23T11:25:08.978Z"
   },
   {
    "duration": 6,
    "start_time": "2023-09-23T11:25:09.139Z"
   },
   {
    "duration": 25,
    "start_time": "2023-09-23T11:25:09.147Z"
   },
   {
    "duration": 12,
    "start_time": "2023-09-23T11:25:09.174Z"
   },
   {
    "duration": 35,
    "start_time": "2023-09-23T11:25:09.188Z"
   },
   {
    "duration": 39,
    "start_time": "2023-09-23T11:25:09.225Z"
   },
   {
    "duration": 70,
    "start_time": "2023-09-23T11:25:09.266Z"
   },
   {
    "duration": 10,
    "start_time": "2023-09-23T11:25:09.338Z"
   },
   {
    "duration": 25,
    "start_time": "2023-09-23T11:25:09.350Z"
   },
   {
    "duration": 32,
    "start_time": "2023-09-23T11:25:09.377Z"
   },
   {
    "duration": 20,
    "start_time": "2023-09-23T11:25:09.411Z"
   },
   {
    "duration": 4,
    "start_time": "2023-09-23T11:25:09.433Z"
   },
   {
    "duration": 25,
    "start_time": "2023-09-23T11:25:09.439Z"
   },
   {
    "duration": 444,
    "start_time": "2023-09-23T11:25:09.466Z"
   },
   {
    "duration": 11,
    "start_time": "2023-09-23T11:25:09.913Z"
   },
   {
    "duration": 297,
    "start_time": "2023-09-23T11:25:09.926Z"
   },
   {
    "duration": 196,
    "start_time": "2023-09-23T11:25:10.224Z"
   },
   {
    "duration": 17,
    "start_time": "2023-09-23T11:25:10.422Z"
   },
   {
    "duration": 58,
    "start_time": "2023-09-23T11:25:10.441Z"
   },
   {
    "duration": 49,
    "start_time": "2023-09-23T11:25:10.501Z"
   },
   {
    "duration": 134,
    "start_time": "2023-09-23T11:25:10.552Z"
   },
   {
    "duration": 8,
    "start_time": "2023-09-23T12:35:45.554Z"
   },
   {
    "duration": 175,
    "start_time": "2023-09-23T12:38:50.900Z"
   },
   {
    "duration": 14,
    "start_time": "2023-09-23T12:39:22.128Z"
   },
   {
    "duration": 17,
    "start_time": "2023-09-23T14:09:56.894Z"
   },
   {
    "duration": 5,
    "start_time": "2023-09-23T14:21:21.973Z"
   },
   {
    "duration": 5,
    "start_time": "2023-09-23T14:22:17.072Z"
   },
   {
    "duration": 5,
    "start_time": "2023-09-23T14:22:54.999Z"
   },
   {
    "duration": 4,
    "start_time": "2023-09-23T14:23:12.685Z"
   },
   {
    "duration": 5,
    "start_time": "2023-09-23T14:23:25.645Z"
   },
   {
    "duration": 11,
    "start_time": "2023-09-23T14:33:39.850Z"
   },
   {
    "duration": 21,
    "start_time": "2023-09-23T14:35:27.393Z"
   },
   {
    "duration": 12,
    "start_time": "2023-09-23T14:38:53.765Z"
   },
   {
    "duration": 14,
    "start_time": "2023-09-23T14:42:38.659Z"
   },
   {
    "duration": 14,
    "start_time": "2023-09-23T14:42:55.258Z"
   },
   {
    "duration": 138,
    "start_time": "2023-09-23T14:43:09.221Z"
   },
   {
    "duration": 4,
    "start_time": "2023-09-23T14:43:39.646Z"
   },
   {
    "duration": 18,
    "start_time": "2023-09-23T14:43:44.491Z"
   },
   {
    "duration": 12,
    "start_time": "2023-09-23T14:45:51.005Z"
   },
   {
    "duration": 20,
    "start_time": "2023-09-23T14:46:05.786Z"
   },
   {
    "duration": 57,
    "start_time": "2023-09-23T14:46:21.334Z"
   },
   {
    "duration": 124,
    "start_time": "2023-09-23T14:46:43.428Z"
   },
   {
    "duration": 56,
    "start_time": "2023-09-23T14:47:36.506Z"
   },
   {
    "duration": 16,
    "start_time": "2023-09-23T14:48:14.514Z"
   },
   {
    "duration": 29,
    "start_time": "2023-09-23T14:49:48.838Z"
   },
   {
    "duration": 18,
    "start_time": "2023-09-23T14:49:57.824Z"
   },
   {
    "duration": 22,
    "start_time": "2023-09-23T14:51:05.788Z"
   },
   {
    "duration": 92,
    "start_time": "2023-09-23T14:53:32.930Z"
   },
   {
    "duration": 120,
    "start_time": "2023-09-23T14:55:00.280Z"
   },
   {
    "duration": 53,
    "start_time": "2023-09-23T14:55:30.590Z"
   },
   {
    "duration": 55,
    "start_time": "2023-09-23T14:55:50.915Z"
   },
   {
    "duration": 24,
    "start_time": "2023-09-23T14:58:39.932Z"
   },
   {
    "duration": 25,
    "start_time": "2023-09-23T15:00:37.370Z"
   },
   {
    "duration": 63,
    "start_time": "2023-09-23T15:01:10.246Z"
   },
   {
    "duration": 15,
    "start_time": "2023-09-23T15:01:59.584Z"
   },
   {
    "duration": 20,
    "start_time": "2023-09-23T15:02:04.371Z"
   },
   {
    "duration": 18,
    "start_time": "2023-09-23T15:02:19.741Z"
   },
   {
    "duration": 24,
    "start_time": "2023-09-23T15:03:11.491Z"
   },
   {
    "duration": 18,
    "start_time": "2023-09-23T15:03:32.206Z"
   },
   {
    "duration": 73,
    "start_time": "2023-09-23T15:03:44.109Z"
   },
   {
    "duration": 6,
    "start_time": "2023-09-23T15:05:12.859Z"
   },
   {
    "duration": 13,
    "start_time": "2023-09-23T15:05:17.443Z"
   },
   {
    "duration": 16,
    "start_time": "2023-09-23T15:05:23.307Z"
   },
   {
    "duration": 18,
    "start_time": "2023-09-23T15:20:23.062Z"
   },
   {
    "duration": 22,
    "start_time": "2023-09-23T15:20:35.713Z"
   },
   {
    "duration": 1469,
    "start_time": "2023-09-23T15:21:14.688Z"
   },
   {
    "duration": 802,
    "start_time": "2023-09-23T15:21:34.718Z"
   },
   {
    "duration": 725,
    "start_time": "2023-09-23T15:21:35.523Z"
   },
   {
    "duration": 16,
    "start_time": "2023-09-23T15:21:36.250Z"
   },
   {
    "duration": 13,
    "start_time": "2023-09-23T15:21:36.268Z"
   },
   {
    "duration": 73,
    "start_time": "2023-09-23T15:21:36.284Z"
   },
   {
    "duration": 83,
    "start_time": "2023-09-23T15:21:36.359Z"
   },
   {
    "duration": 19,
    "start_time": "2023-09-23T15:21:36.444Z"
   },
   {
    "duration": 65,
    "start_time": "2023-09-23T15:21:36.465Z"
   },
   {
    "duration": 83,
    "start_time": "2023-09-23T15:21:36.531Z"
   },
   {
    "duration": 420,
    "start_time": "2023-09-23T15:21:36.616Z"
   },
   {
    "duration": 9,
    "start_time": "2023-09-23T15:21:37.037Z"
   },
   {
    "duration": 21,
    "start_time": "2023-09-23T15:21:37.048Z"
   },
   {
    "duration": 53,
    "start_time": "2023-09-23T15:21:37.070Z"
   },
   {
    "duration": 161,
    "start_time": "2023-09-23T15:21:37.128Z"
   },
   {
    "duration": 10,
    "start_time": "2023-09-23T15:21:37.291Z"
   },
   {
    "duration": 20,
    "start_time": "2023-09-23T15:21:37.304Z"
   },
   {
    "duration": 30,
    "start_time": "2023-09-23T15:21:37.326Z"
   },
   {
    "duration": 50,
    "start_time": "2023-09-23T15:21:37.358Z"
   },
   {
    "duration": 41,
    "start_time": "2023-09-23T15:21:37.410Z"
   },
   {
    "duration": 73,
    "start_time": "2023-09-23T15:21:37.453Z"
   },
   {
    "duration": 10,
    "start_time": "2023-09-23T15:21:37.528Z"
   },
   {
    "duration": 32,
    "start_time": "2023-09-23T15:21:37.540Z"
   },
   {
    "duration": 19,
    "start_time": "2023-09-23T15:21:37.574Z"
   },
   {
    "duration": 31,
    "start_time": "2023-09-23T15:21:37.594Z"
   },
   {
    "duration": 4,
    "start_time": "2023-09-23T15:21:37.627Z"
   },
   {
    "duration": 39,
    "start_time": "2023-09-23T15:21:37.632Z"
   },
   {
    "duration": 462,
    "start_time": "2023-09-23T15:21:37.673Z"
   },
   {
    "duration": 11,
    "start_time": "2023-09-23T15:21:38.137Z"
   },
   {
    "duration": 344,
    "start_time": "2023-09-23T15:21:38.150Z"
   },
   {
    "duration": 11,
    "start_time": "2023-09-23T15:21:38.496Z"
   },
   {
    "duration": 260,
    "start_time": "2023-09-23T15:21:38.511Z"
   },
   {
    "duration": 18,
    "start_time": "2023-09-23T15:21:38.773Z"
   },
   {
    "duration": 24,
    "start_time": "2023-09-23T15:21:38.801Z"
   },
   {
    "duration": 18,
    "start_time": "2023-09-23T15:21:38.827Z"
   },
   {
    "duration": 120,
    "start_time": "2023-09-23T15:21:38.847Z"
   },
   {
    "duration": 7,
    "start_time": "2023-09-23T15:21:38.969Z"
   },
   {
    "duration": 36,
    "start_time": "2023-09-23T15:21:38.978Z"
   },
   {
    "duration": 8,
    "start_time": "2023-09-23T15:21:39.016Z"
   },
   {
    "duration": 18,
    "start_time": "2023-09-23T15:21:39.026Z"
   },
   {
    "duration": 34,
    "start_time": "2023-09-23T15:21:39.046Z"
   },
   {
    "duration": 166,
    "start_time": "2023-09-23T15:21:39.084Z"
   },
   {
    "duration": 5,
    "start_time": "2023-09-23T15:22:05.419Z"
   },
   {
    "duration": 10,
    "start_time": "2023-09-23T15:22:06.864Z"
   },
   {
    "duration": 17,
    "start_time": "2023-09-23T15:22:40.042Z"
   },
   {
    "duration": 7,
    "start_time": "2023-09-23T15:23:03.381Z"
   },
   {
    "duration": 20,
    "start_time": "2023-09-23T15:23:05.308Z"
   },
   {
    "duration": 10,
    "start_time": "2023-09-23T15:23:38.831Z"
   },
   {
    "duration": 3,
    "start_time": "2023-09-23T15:26:31.925Z"
   },
   {
    "duration": 38,
    "start_time": "2023-09-23T15:26:47.561Z"
   },
   {
    "duration": 749,
    "start_time": "2023-09-23T15:28:27.370Z"
   },
   {
    "duration": 713,
    "start_time": "2023-09-23T15:28:28.121Z"
   },
   {
    "duration": 15,
    "start_time": "2023-09-23T15:28:28.835Z"
   },
   {
    "duration": 11,
    "start_time": "2023-09-23T15:28:28.853Z"
   },
   {
    "duration": 32,
    "start_time": "2023-09-23T15:28:28.866Z"
   },
   {
    "duration": 72,
    "start_time": "2023-09-23T15:28:28.900Z"
   },
   {
    "duration": 33,
    "start_time": "2023-09-23T15:28:28.974Z"
   },
   {
    "duration": 63,
    "start_time": "2023-09-23T15:28:29.012Z"
   },
   {
    "duration": 70,
    "start_time": "2023-09-23T15:28:29.077Z"
   },
   {
    "duration": 496,
    "start_time": "2023-09-23T15:28:29.151Z"
   },
   {
    "duration": 7,
    "start_time": "2023-09-23T15:28:29.649Z"
   },
   {
    "duration": 153,
    "start_time": "2023-09-23T15:28:29.658Z"
   },
   {
    "duration": 255,
    "start_time": "2023-09-23T15:28:29.814Z"
   },
   {
    "duration": 166,
    "start_time": "2023-09-23T15:28:30.071Z"
   },
   {
    "duration": 6,
    "start_time": "2023-09-23T15:28:30.239Z"
   },
   {
    "duration": 35,
    "start_time": "2023-09-23T15:28:30.247Z"
   },
   {
    "duration": 30,
    "start_time": "2023-09-23T15:28:30.284Z"
   },
   {
    "duration": 49,
    "start_time": "2023-09-23T15:28:30.316Z"
   },
   {
    "duration": 39,
    "start_time": "2023-09-23T15:28:30.367Z"
   },
   {
    "duration": 46,
    "start_time": "2023-09-23T15:28:30.408Z"
   },
   {
    "duration": 9,
    "start_time": "2023-09-23T15:28:30.455Z"
   },
   {
    "duration": 55,
    "start_time": "2023-09-23T15:28:30.465Z"
   },
   {
    "duration": 26,
    "start_time": "2023-09-23T15:28:30.523Z"
   },
   {
    "duration": 58,
    "start_time": "2023-09-23T15:28:30.551Z"
   },
   {
    "duration": 28,
    "start_time": "2023-09-23T15:28:30.615Z"
   },
   {
    "duration": 61,
    "start_time": "2023-09-23T15:28:30.645Z"
   },
   {
    "duration": 462,
    "start_time": "2023-09-23T15:28:30.708Z"
   },
   {
    "duration": 35,
    "start_time": "2023-09-23T15:28:31.174Z"
   },
   {
    "duration": 303,
    "start_time": "2023-09-23T15:28:31.212Z"
   },
   {
    "duration": 6,
    "start_time": "2023-09-23T15:28:31.517Z"
   },
   {
    "duration": 507,
    "start_time": "2023-09-23T15:28:31.524Z"
   },
   {
    "duration": 17,
    "start_time": "2023-09-23T15:28:32.033Z"
   },
   {
    "duration": 56,
    "start_time": "2023-09-23T15:28:32.053Z"
   },
   {
    "duration": 361,
    "start_time": "2023-09-23T15:28:32.112Z"
   },
   {
    "duration": 205,
    "start_time": "2023-09-23T15:28:32.476Z"
   },
   {
    "duration": 20,
    "start_time": "2023-09-23T15:28:42.019Z"
   },
   {
    "duration": 139,
    "start_time": "2023-09-23T15:29:27.834Z"
   },
   {
    "duration": 15,
    "start_time": "2023-09-23T15:30:08.352Z"
   },
   {
    "duration": 19,
    "start_time": "2023-09-23T15:30:16.749Z"
   },
   {
    "duration": 15,
    "start_time": "2023-09-23T15:32:04.920Z"
   },
   {
    "duration": 22,
    "start_time": "2023-09-23T15:33:11.515Z"
   },
   {
    "duration": 15,
    "start_time": "2023-09-23T15:36:28.200Z"
   },
   {
    "duration": 30,
    "start_time": "2023-09-23T15:37:01.333Z"
   },
   {
    "duration": 8,
    "start_time": "2023-09-23T15:37:09.856Z"
   },
   {
    "duration": 82,
    "start_time": "2023-09-23T15:37:11.501Z"
   },
   {
    "duration": 147,
    "start_time": "2023-09-23T15:37:30.900Z"
   },
   {
    "duration": 10,
    "start_time": "2023-09-23T15:37:36.294Z"
   },
   {
    "duration": 19,
    "start_time": "2023-09-23T15:37:38.349Z"
   },
   {
    "duration": 14,
    "start_time": "2023-09-23T15:37:42.451Z"
   },
   {
    "duration": 9,
    "start_time": "2023-09-23T15:38:15.148Z"
   },
   {
    "duration": 773,
    "start_time": "2023-09-23T15:38:29.479Z"
   },
   {
    "duration": 694,
    "start_time": "2023-09-23T15:38:30.255Z"
   },
   {
    "duration": 17,
    "start_time": "2023-09-23T15:38:30.951Z"
   },
   {
    "duration": 146,
    "start_time": "2023-09-23T15:38:30.970Z"
   },
   {
    "duration": 117,
    "start_time": "2023-09-23T15:38:31.118Z"
   },
   {
    "duration": 152,
    "start_time": "2023-09-23T15:38:31.237Z"
   },
   {
    "duration": 204,
    "start_time": "2023-09-23T15:38:31.391Z"
   },
   {
    "duration": 102,
    "start_time": "2023-09-23T15:38:31.597Z"
   },
   {
    "duration": 100,
    "start_time": "2023-09-23T15:38:31.701Z"
   },
   {
    "duration": 474,
    "start_time": "2023-09-23T15:38:31.805Z"
   },
   {
    "duration": 9,
    "start_time": "2023-09-23T15:38:32.281Z"
   },
   {
    "duration": 118,
    "start_time": "2023-09-23T15:38:32.302Z"
   },
   {
    "duration": 94,
    "start_time": "2023-09-23T15:38:32.422Z"
   },
   {
    "duration": 259,
    "start_time": "2023-09-23T15:38:32.518Z"
   },
   {
    "duration": 245,
    "start_time": "2023-09-23T15:38:32.779Z"
   },
   {
    "duration": 25,
    "start_time": "2023-09-23T15:38:33.026Z"
   },
   {
    "duration": 40,
    "start_time": "2023-09-23T15:38:33.053Z"
   },
   {
    "duration": 46,
    "start_time": "2023-09-23T15:38:33.095Z"
   },
   {
    "duration": 66,
    "start_time": "2023-09-23T15:38:33.143Z"
   },
   {
    "duration": 54,
    "start_time": "2023-09-23T15:38:33.211Z"
   },
   {
    "duration": 10,
    "start_time": "2023-09-23T15:38:33.267Z"
   },
   {
    "duration": 39,
    "start_time": "2023-09-23T15:38:33.279Z"
   },
   {
    "duration": 42,
    "start_time": "2023-09-23T15:38:33.321Z"
   },
   {
    "duration": 26,
    "start_time": "2023-09-23T15:38:33.365Z"
   },
   {
    "duration": 4,
    "start_time": "2023-09-23T15:38:33.393Z"
   },
   {
    "duration": 20,
    "start_time": "2023-09-23T15:38:33.398Z"
   },
   {
    "duration": 411,
    "start_time": "2023-09-23T15:38:33.421Z"
   },
   {
    "duration": 11,
    "start_time": "2023-09-23T15:38:33.836Z"
   },
   {
    "duration": 293,
    "start_time": "2023-09-23T15:38:33.849Z"
   },
   {
    "duration": 5,
    "start_time": "2023-09-23T15:38:34.144Z"
   },
   {
    "duration": 279,
    "start_time": "2023-09-23T15:38:34.151Z"
   },
   {
    "duration": 77,
    "start_time": "2023-09-23T15:38:34.432Z"
   },
   {
    "duration": 419,
    "start_time": "2023-09-23T15:38:34.510Z"
   },
   {
    "duration": 69,
    "start_time": "2023-09-23T15:38:34.931Z"
   },
   {
    "duration": 95,
    "start_time": "2023-09-23T15:38:35.002Z"
   },
   {
    "duration": 26,
    "start_time": "2023-09-23T15:38:35.099Z"
   },
   {
    "duration": 71,
    "start_time": "2023-09-23T15:38:35.127Z"
   },
   {
    "duration": 60,
    "start_time": "2023-09-23T15:38:35.200Z"
   },
   {
    "duration": 58,
    "start_time": "2023-09-23T15:38:35.261Z"
   },
   {
    "duration": 55,
    "start_time": "2023-09-23T15:38:35.321Z"
   },
   {
    "duration": 287,
    "start_time": "2023-09-23T15:38:35.378Z"
   },
   {
    "duration": 65,
    "start_time": "2023-09-23T15:39:01.668Z"
   },
   {
    "duration": 131,
    "start_time": "2023-09-23T15:39:39.335Z"
   },
   {
    "duration": 74,
    "start_time": "2023-09-23T15:53:51.338Z"
   },
   {
    "duration": 18,
    "start_time": "2023-09-23T16:47:48.761Z"
   },
   {
    "duration": 112,
    "start_time": "2023-09-23T16:48:18.466Z"
   },
   {
    "duration": 26,
    "start_time": "2023-09-23T16:48:33.802Z"
   },
   {
    "duration": 112,
    "start_time": "2023-09-23T16:52:16.969Z"
   },
   {
    "duration": 109,
    "start_time": "2023-09-23T16:52:59.586Z"
   },
   {
    "duration": 14,
    "start_time": "2023-09-23T16:54:09.423Z"
   },
   {
    "duration": 24,
    "start_time": "2023-09-23T16:55:33.143Z"
   },
   {
    "duration": 83,
    "start_time": "2023-09-23T16:55:53.163Z"
   },
   {
    "duration": 78,
    "start_time": "2023-09-23T16:57:05.390Z"
   },
   {
    "duration": 86,
    "start_time": "2023-09-23T16:57:14.367Z"
   },
   {
    "duration": 25,
    "start_time": "2023-09-23T16:58:08.116Z"
   },
   {
    "duration": 87,
    "start_time": "2023-09-23T16:58:08.679Z"
   },
   {
    "duration": 73,
    "start_time": "2023-09-23T16:58:21.837Z"
   },
   {
    "duration": 94,
    "start_time": "2023-09-23T17:02:40.213Z"
   },
   {
    "duration": 92,
    "start_time": "2023-09-23T17:03:11.163Z"
   },
   {
    "duration": 169,
    "start_time": "2023-09-23T17:03:23.578Z"
   },
   {
    "duration": 27,
    "start_time": "2023-09-23T17:08:24.874Z"
   },
   {
    "duration": 29,
    "start_time": "2023-09-23T17:08:32.355Z"
   },
   {
    "duration": 108,
    "start_time": "2023-09-23T17:08:44.120Z"
   },
   {
    "duration": 29,
    "start_time": "2023-09-23T17:12:51.556Z"
   },
   {
    "duration": 19,
    "start_time": "2023-09-23T17:13:08.607Z"
   },
   {
    "duration": 16,
    "start_time": "2023-09-23T17:14:20.623Z"
   },
   {
    "duration": 16,
    "start_time": "2023-09-23T17:18:04.934Z"
   },
   {
    "duration": 23,
    "start_time": "2023-09-23T17:19:03.105Z"
   },
   {
    "duration": 86,
    "start_time": "2023-09-23T17:20:28.404Z"
   },
   {
    "duration": 84,
    "start_time": "2023-09-23T17:21:47.021Z"
   },
   {
    "duration": 89,
    "start_time": "2023-09-23T17:22:05.643Z"
   },
   {
    "duration": 18,
    "start_time": "2023-09-23T21:05:40.806Z"
   },
   {
    "duration": 18,
    "start_time": "2023-09-23T21:05:50.068Z"
   },
   {
    "duration": 64,
    "start_time": "2023-09-23T21:06:12.459Z"
   },
   {
    "duration": 79,
    "start_time": "2023-09-23T21:06:46.859Z"
   },
   {
    "duration": 84,
    "start_time": "2023-09-23T21:06:57.303Z"
   },
   {
    "duration": 93,
    "start_time": "2023-09-23T21:07:07.911Z"
   },
   {
    "duration": 56,
    "start_time": "2023-09-23T21:07:42.151Z"
   },
   {
    "duration": 94,
    "start_time": "2023-09-23T21:07:51.619Z"
   },
   {
    "duration": 33,
    "start_time": "2023-09-23T21:08:10.985Z"
   },
   {
    "duration": 63,
    "start_time": "2023-09-23T21:08:11.409Z"
   },
   {
    "duration": 55,
    "start_time": "2023-09-23T21:12:30.422Z"
   },
   {
    "duration": 61,
    "start_time": "2023-09-23T21:13:02.599Z"
   },
   {
    "duration": 54,
    "start_time": "2023-09-23T21:13:17.372Z"
   },
   {
    "duration": 54,
    "start_time": "2023-09-23T21:13:39.906Z"
   },
   {
    "duration": 32,
    "start_time": "2023-09-23T21:17:54.141Z"
   },
   {
    "duration": 58,
    "start_time": "2023-09-23T21:18:07.151Z"
   },
   {
    "duration": 53,
    "start_time": "2023-09-23T21:18:46.951Z"
   },
   {
    "duration": 58,
    "start_time": "2023-09-23T21:19:22.341Z"
   },
   {
    "duration": 56,
    "start_time": "2023-09-23T21:20:13.843Z"
   },
   {
    "duration": 53,
    "start_time": "2023-09-23T21:21:06.994Z"
   },
   {
    "duration": 55,
    "start_time": "2023-09-23T21:21:57.968Z"
   },
   {
    "duration": 8,
    "start_time": "2023-09-23T21:34:28.711Z"
   },
   {
    "duration": 16,
    "start_time": "2023-09-23T21:35:55.190Z"
   },
   {
    "duration": 4,
    "start_time": "2023-09-23T21:36:40.529Z"
   },
   {
    "duration": 4,
    "start_time": "2023-09-23T21:36:41.284Z"
   },
   {
    "duration": 4,
    "start_time": "2023-09-23T21:36:41.731Z"
   },
   {
    "duration": 12,
    "start_time": "2023-09-23T21:38:05.667Z"
   },
   {
    "duration": 13,
    "start_time": "2023-09-23T21:38:13.841Z"
   },
   {
    "duration": 16,
    "start_time": "2023-09-23T21:43:54.346Z"
   },
   {
    "duration": 10,
    "start_time": "2023-09-23T21:44:38.443Z"
   },
   {
    "duration": 60,
    "start_time": "2023-09-23T21:44:39.019Z"
   },
   {
    "duration": 62,
    "start_time": "2023-09-23T21:45:10.592Z"
   },
   {
    "duration": 124,
    "start_time": "2023-09-23T21:45:15.757Z"
   },
   {
    "duration": 18,
    "start_time": "2023-09-23T21:47:21.764Z"
   },
   {
    "duration": 57,
    "start_time": "2023-09-23T21:47:24.923Z"
   },
   {
    "duration": 98,
    "start_time": "2023-09-23T21:48:14.603Z"
   },
   {
    "duration": 71,
    "start_time": "2023-09-23T21:50:15.926Z"
   },
   {
    "duration": 73,
    "start_time": "2023-09-23T21:51:00.724Z"
   },
   {
    "duration": 83,
    "start_time": "2023-09-23T21:52:38.862Z"
   },
   {
    "duration": 77,
    "start_time": "2023-09-23T21:54:33.242Z"
   },
   {
    "duration": 85,
    "start_time": "2023-09-23T21:54:59.757Z"
   },
   {
    "duration": 64,
    "start_time": "2023-09-23T21:55:16.631Z"
   },
   {
    "duration": 85,
    "start_time": "2023-09-23T21:55:43.031Z"
   },
   {
    "duration": 85,
    "start_time": "2023-09-23T21:55:57.151Z"
   },
   {
    "duration": 501,
    "start_time": "2023-09-24T12:16:10.583Z"
   },
   {
    "duration": 1332,
    "start_time": "2023-09-24T12:16:11.086Z"
   },
   {
    "duration": 15,
    "start_time": "2023-09-24T12:16:12.419Z"
   },
   {
    "duration": 16,
    "start_time": "2023-09-24T12:16:12.436Z"
   },
   {
    "duration": 53,
    "start_time": "2023-09-24T12:16:12.454Z"
   },
   {
    "duration": 87,
    "start_time": "2023-09-24T12:16:12.509Z"
   },
   {
    "duration": 12,
    "start_time": "2023-09-24T12:16:12.598Z"
   },
   {
    "duration": 80,
    "start_time": "2023-09-24T12:16:12.612Z"
   },
   {
    "duration": 73,
    "start_time": "2023-09-24T12:16:12.693Z"
   },
   {
    "duration": 331,
    "start_time": "2023-09-24T12:16:12.778Z"
   },
   {
    "duration": 8,
    "start_time": "2023-09-24T12:16:13.111Z"
   },
   {
    "duration": 20,
    "start_time": "2023-09-24T12:16:13.120Z"
   },
   {
    "duration": 55,
    "start_time": "2023-09-24T12:16:13.142Z"
   },
   {
    "duration": 129,
    "start_time": "2023-09-24T12:16:13.199Z"
   },
   {
    "duration": 5,
    "start_time": "2023-09-24T12:16:13.329Z"
   },
   {
    "duration": 22,
    "start_time": "2023-09-24T12:16:13.335Z"
   },
   {
    "duration": 17,
    "start_time": "2023-09-24T12:16:13.359Z"
   },
   {
    "duration": 24,
    "start_time": "2023-09-24T12:16:13.380Z"
   },
   {
    "duration": 33,
    "start_time": "2023-09-24T12:16:13.405Z"
   },
   {
    "duration": 61,
    "start_time": "2023-09-24T12:16:13.439Z"
   },
   {
    "duration": 7,
    "start_time": "2023-09-24T12:16:13.502Z"
   },
   {
    "duration": 15,
    "start_time": "2023-09-24T12:16:13.511Z"
   },
   {
    "duration": 36,
    "start_time": "2023-09-24T12:16:13.527Z"
   },
   {
    "duration": 21,
    "start_time": "2023-09-24T12:16:13.564Z"
   },
   {
    "duration": 8,
    "start_time": "2023-09-24T12:16:13.587Z"
   },
   {
    "duration": 35,
    "start_time": "2023-09-24T12:16:13.596Z"
   },
   {
    "duration": 398,
    "start_time": "2023-09-24T12:16:13.633Z"
   },
   {
    "duration": 13,
    "start_time": "2023-09-24T12:16:14.036Z"
   },
   {
    "duration": 253,
    "start_time": "2023-09-24T12:16:14.051Z"
   },
   {
    "duration": 4,
    "start_time": "2023-09-24T12:16:14.306Z"
   },
   {
    "duration": 134,
    "start_time": "2023-09-24T12:16:14.311Z"
   },
   {
    "duration": 20,
    "start_time": "2023-09-24T12:16:14.451Z"
   },
   {
    "duration": 22,
    "start_time": "2023-09-24T12:16:14.474Z"
   },
   {
    "duration": 15,
    "start_time": "2023-09-24T12:16:14.497Z"
   },
   {
    "duration": 125,
    "start_time": "2023-09-24T12:16:14.513Z"
   },
   {
    "duration": 13,
    "start_time": "2023-09-24T12:16:14.640Z"
   },
   {
    "duration": 39,
    "start_time": "2023-09-24T12:16:14.655Z"
   },
   {
    "duration": 19,
    "start_time": "2023-09-24T12:16:14.700Z"
   },
   {
    "duration": 25,
    "start_time": "2023-09-24T12:16:14.721Z"
   },
   {
    "duration": 145,
    "start_time": "2023-09-24T12:16:14.748Z"
   },
   {
    "duration": 103,
    "start_time": "2023-09-24T12:16:14.895Z"
   },
   {
    "duration": 22,
    "start_time": "2023-09-24T12:16:15.000Z"
   },
   {
    "duration": 81,
    "start_time": "2023-09-24T12:16:15.024Z"
   },
   {
    "duration": 114,
    "start_time": "2023-09-24T12:16:15.107Z"
   },
   {
    "duration": 11,
    "start_time": "2023-09-24T12:16:15.222Z"
   },
   {
    "duration": 98,
    "start_time": "2023-09-24T12:16:15.235Z"
   },
   {
    "duration": 11,
    "start_time": "2023-09-24T12:18:28.159Z"
   },
   {
    "duration": 3,
    "start_time": "2023-09-24T12:19:23.204Z"
   },
   {
    "duration": 12,
    "start_time": "2023-09-24T12:19:45.617Z"
   },
   {
    "duration": 135,
    "start_time": "2023-09-24T12:20:58.070Z"
   },
   {
    "duration": 17,
    "start_time": "2023-09-24T12:21:15.480Z"
   },
   {
    "duration": 13,
    "start_time": "2023-09-24T12:21:40.330Z"
   },
   {
    "duration": 12,
    "start_time": "2023-09-24T12:21:55.496Z"
   },
   {
    "duration": 7,
    "start_time": "2023-09-24T12:25:16.321Z"
   },
   {
    "duration": 16,
    "start_time": "2023-09-24T12:26:06.773Z"
   },
   {
    "duration": 10,
    "start_time": "2023-09-24T12:26:47.300Z"
   },
   {
    "duration": 3,
    "start_time": "2023-09-24T12:27:06.437Z"
   },
   {
    "duration": 11,
    "start_time": "2023-09-24T12:28:47.510Z"
   },
   {
    "duration": 13,
    "start_time": "2023-09-24T12:29:43.619Z"
   },
   {
    "duration": 39,
    "start_time": "2023-09-24T12:37:13.723Z"
   },
   {
    "duration": 20,
    "start_time": "2023-09-24T12:38:35.210Z"
   },
   {
    "duration": 19,
    "start_time": "2023-09-24T12:38:45.624Z"
   },
   {
    "duration": 10,
    "start_time": "2023-09-24T12:40:19.270Z"
   },
   {
    "duration": 16,
    "start_time": "2023-09-24T12:40:23.281Z"
   },
   {
    "duration": 11,
    "start_time": "2023-09-24T12:40:54.924Z"
   },
   {
    "duration": 13,
    "start_time": "2023-09-24T12:40:55.845Z"
   },
   {
    "duration": 14,
    "start_time": "2023-09-24T12:40:56.607Z"
   },
   {
    "duration": 18,
    "start_time": "2023-09-24T12:41:12.483Z"
   },
   {
    "duration": 15,
    "start_time": "2023-09-24T12:41:26.506Z"
   },
   {
    "duration": 554,
    "start_time": "2023-09-24T12:41:51.417Z"
   },
   {
    "duration": 751,
    "start_time": "2023-09-24T12:41:51.973Z"
   },
   {
    "duration": 17,
    "start_time": "2023-09-24T12:41:52.726Z"
   },
   {
    "duration": 27,
    "start_time": "2023-09-24T12:41:52.746Z"
   },
   {
    "duration": 39,
    "start_time": "2023-09-24T12:41:52.775Z"
   },
   {
    "duration": 107,
    "start_time": "2023-09-24T12:41:52.816Z"
   },
   {
    "duration": 17,
    "start_time": "2023-09-24T12:41:52.925Z"
   },
   {
    "duration": 98,
    "start_time": "2023-09-24T12:41:52.944Z"
   },
   {
    "duration": 101,
    "start_time": "2023-09-24T12:41:53.045Z"
   },
   {
    "duration": 393,
    "start_time": "2023-09-24T12:41:53.150Z"
   },
   {
    "duration": 21,
    "start_time": "2023-09-24T12:41:53.545Z"
   },
   {
    "duration": 14,
    "start_time": "2023-09-24T12:41:53.573Z"
   },
   {
    "duration": 31,
    "start_time": "2023-09-24T12:41:53.592Z"
   },
   {
    "duration": 146,
    "start_time": "2023-09-24T12:41:53.624Z"
   },
   {
    "duration": 13,
    "start_time": "2023-09-24T12:41:53.778Z"
   },
   {
    "duration": 23,
    "start_time": "2023-09-24T12:41:53.796Z"
   },
   {
    "duration": 38,
    "start_time": "2023-09-24T12:41:53.821Z"
   },
   {
    "duration": 55,
    "start_time": "2023-09-24T12:41:53.864Z"
   },
   {
    "duration": 38,
    "start_time": "2023-09-24T12:41:53.921Z"
   },
   {
    "duration": 56,
    "start_time": "2023-09-24T12:41:53.960Z"
   },
   {
    "duration": 9,
    "start_time": "2023-09-24T12:41:54.018Z"
   },
   {
    "duration": 32,
    "start_time": "2023-09-24T12:41:54.029Z"
   },
   {
    "duration": 36,
    "start_time": "2023-09-24T12:41:54.063Z"
   },
   {
    "duration": 25,
    "start_time": "2023-09-24T12:41:54.102Z"
   },
   {
    "duration": 3,
    "start_time": "2023-09-24T12:41:54.129Z"
   },
   {
    "duration": 43,
    "start_time": "2023-09-24T12:41:54.134Z"
   },
   {
    "duration": 518,
    "start_time": "2023-09-24T12:41:54.178Z"
   },
   {
    "duration": 9,
    "start_time": "2023-09-24T12:41:54.703Z"
   },
   {
    "duration": 248,
    "start_time": "2023-09-24T12:41:54.714Z"
   },
   {
    "duration": 7,
    "start_time": "2023-09-24T12:41:54.964Z"
   },
   {
    "duration": 157,
    "start_time": "2023-09-24T12:41:54.973Z"
   },
   {
    "duration": 36,
    "start_time": "2023-09-24T12:41:55.132Z"
   },
   {
    "duration": 31,
    "start_time": "2023-09-24T12:41:55.174Z"
   },
   {
    "duration": 15,
    "start_time": "2023-09-24T12:41:55.207Z"
   },
   {
    "duration": 92,
    "start_time": "2023-09-24T12:41:55.224Z"
   },
   {
    "duration": 10,
    "start_time": "2023-09-24T12:41:55.318Z"
   },
   {
    "duration": 38,
    "start_time": "2023-09-24T12:41:55.330Z"
   },
   {
    "duration": 28,
    "start_time": "2023-09-24T12:41:55.371Z"
   },
   {
    "duration": 29,
    "start_time": "2023-09-24T12:41:55.401Z"
   },
   {
    "duration": 140,
    "start_time": "2023-09-24T12:41:55.432Z"
   },
   {
    "duration": 103,
    "start_time": "2023-09-24T12:41:55.574Z"
   },
   {
    "duration": 30,
    "start_time": "2023-09-24T12:41:55.679Z"
   },
   {
    "duration": 91,
    "start_time": "2023-09-24T12:41:55.711Z"
   },
   {
    "duration": 152,
    "start_time": "2023-09-24T12:41:55.804Z"
   },
   {
    "duration": 22,
    "start_time": "2023-09-24T12:41:55.961Z"
   },
   {
    "duration": 122,
    "start_time": "2023-09-24T12:41:55.995Z"
   },
   {
    "duration": 13,
    "start_time": "2023-09-24T12:42:02.476Z"
   },
   {
    "duration": 13,
    "start_time": "2023-09-24T12:42:49.773Z"
   },
   {
    "duration": 11,
    "start_time": "2023-09-24T12:42:50.288Z"
   },
   {
    "duration": 11,
    "start_time": "2023-09-24T12:42:58.739Z"
   },
   {
    "duration": 17,
    "start_time": "2023-09-24T12:43:21.884Z"
   },
   {
    "duration": 17,
    "start_time": "2023-09-24T12:43:31.712Z"
   },
   {
    "duration": 15,
    "start_time": "2023-09-24T12:43:53.598Z"
   },
   {
    "duration": 16,
    "start_time": "2023-09-24T12:50:51.547Z"
   },
   {
    "duration": 7,
    "start_time": "2023-09-24T12:52:01.909Z"
   },
   {
    "duration": 17,
    "start_time": "2023-09-24T12:53:35.117Z"
   },
   {
    "duration": 8,
    "start_time": "2023-09-24T12:53:38.439Z"
   },
   {
    "duration": 180,
    "start_time": "2023-09-24T12:53:53.422Z"
   },
   {
    "duration": 8,
    "start_time": "2023-09-24T12:53:53.910Z"
   },
   {
    "duration": 34,
    "start_time": "2023-09-24T12:54:05.074Z"
   },
   {
    "duration": 7,
    "start_time": "2023-09-24T12:54:05.603Z"
   },
   {
    "duration": 11,
    "start_time": "2023-09-24T12:55:17.545Z"
   },
   {
    "duration": 9,
    "start_time": "2023-09-24T12:55:46.939Z"
   },
   {
    "duration": 10,
    "start_time": "2023-09-24T12:57:23.836Z"
   },
   {
    "duration": 11,
    "start_time": "2023-09-24T12:57:55.214Z"
   },
   {
    "duration": 13,
    "start_time": "2023-09-24T12:58:20.079Z"
   },
   {
    "duration": 15,
    "start_time": "2023-09-24T12:58:27.089Z"
   },
   {
    "duration": 12,
    "start_time": "2023-09-24T12:58:47.724Z"
   },
   {
    "duration": 515,
    "start_time": "2023-09-24T12:58:57.707Z"
   },
   {
    "duration": 772,
    "start_time": "2023-09-24T12:58:58.224Z"
   },
   {
    "duration": 15,
    "start_time": "2023-09-24T12:58:58.998Z"
   },
   {
    "duration": 56,
    "start_time": "2023-09-24T12:58:59.016Z"
   },
   {
    "duration": 34,
    "start_time": "2023-09-24T12:58:59.074Z"
   },
   {
    "duration": 120,
    "start_time": "2023-09-24T12:58:59.110Z"
   },
   {
    "duration": 30,
    "start_time": "2023-09-24T12:58:59.236Z"
   },
   {
    "duration": 120,
    "start_time": "2023-09-24T12:58:59.268Z"
   },
   {
    "duration": 113,
    "start_time": "2023-09-24T12:58:59.390Z"
   },
   {
    "duration": 408,
    "start_time": "2023-09-24T12:58:59.512Z"
   },
   {
    "duration": 11,
    "start_time": "2023-09-24T12:58:59.922Z"
   },
   {
    "duration": 40,
    "start_time": "2023-09-24T12:58:59.934Z"
   },
   {
    "duration": 45,
    "start_time": "2023-09-24T12:58:59.976Z"
   },
   {
    "duration": 198,
    "start_time": "2023-09-24T12:59:00.024Z"
   },
   {
    "duration": 6,
    "start_time": "2023-09-24T12:59:00.224Z"
   },
   {
    "duration": 159,
    "start_time": "2023-09-24T12:59:00.231Z"
   },
   {
    "duration": 26,
    "start_time": "2023-09-24T12:59:00.392Z"
   },
   {
    "duration": 84,
    "start_time": "2023-09-24T12:59:00.420Z"
   },
   {
    "duration": 122,
    "start_time": "2023-09-24T12:59:00.505Z"
   },
   {
    "duration": 70,
    "start_time": "2023-09-24T12:59:00.629Z"
   },
   {
    "duration": 30,
    "start_time": "2023-09-24T12:59:00.702Z"
   },
   {
    "duration": 57,
    "start_time": "2023-09-24T12:59:00.734Z"
   },
   {
    "duration": 54,
    "start_time": "2023-09-24T12:59:00.793Z"
   },
   {
    "duration": 62,
    "start_time": "2023-09-24T12:59:00.849Z"
   },
   {
    "duration": 27,
    "start_time": "2023-09-24T12:59:00.913Z"
   },
   {
    "duration": 59,
    "start_time": "2023-09-24T12:59:00.942Z"
   },
   {
    "duration": 483,
    "start_time": "2023-09-24T12:59:01.003Z"
   },
   {
    "duration": 12,
    "start_time": "2023-09-24T12:59:01.501Z"
   },
   {
    "duration": 280,
    "start_time": "2023-09-24T12:59:01.515Z"
   },
   {
    "duration": 8,
    "start_time": "2023-09-24T12:59:01.797Z"
   },
   {
    "duration": 237,
    "start_time": "2023-09-24T12:59:01.807Z"
   },
   {
    "duration": 25,
    "start_time": "2023-09-24T12:59:02.049Z"
   },
   {
    "duration": 37,
    "start_time": "2023-09-24T12:59:02.079Z"
   },
   {
    "duration": 61,
    "start_time": "2023-09-24T12:59:02.117Z"
   },
   {
    "duration": 136,
    "start_time": "2023-09-24T12:59:02.180Z"
   },
   {
    "duration": 15,
    "start_time": "2023-09-24T12:59:02.318Z"
   },
   {
    "duration": 80,
    "start_time": "2023-09-24T12:59:02.336Z"
   },
   {
    "duration": 107,
    "start_time": "2023-09-24T12:59:02.418Z"
   },
   {
    "duration": 52,
    "start_time": "2023-09-24T12:59:02.528Z"
   },
   {
    "duration": 150,
    "start_time": "2023-09-24T12:59:02.584Z"
   },
   {
    "duration": 101,
    "start_time": "2023-09-24T12:59:02.735Z"
   },
   {
    "duration": 50,
    "start_time": "2023-09-24T12:59:02.838Z"
   },
   {
    "duration": 100,
    "start_time": "2023-09-24T12:59:02.890Z"
   },
   {
    "duration": 151,
    "start_time": "2023-09-24T12:59:02.995Z"
   },
   {
    "duration": 22,
    "start_time": "2023-09-24T12:59:03.161Z"
   },
   {
    "duration": 122,
    "start_time": "2023-09-24T12:59:03.185Z"
   },
   {
    "duration": 8,
    "start_time": "2023-09-24T12:59:03.309Z"
   },
   {
    "duration": 15,
    "start_time": "2023-09-24T12:59:03.319Z"
   },
   {
    "duration": 37,
    "start_time": "2023-09-24T12:59:03.335Z"
   },
   {
    "duration": 24,
    "start_time": "2023-09-24T12:59:03.374Z"
   },
   {
    "duration": 32,
    "start_time": "2023-09-24T12:59:03.400Z"
   },
   {
    "duration": 14,
    "start_time": "2023-09-24T12:59:03.434Z"
   },
   {
    "duration": 16,
    "start_time": "2023-09-24T12:59:42.385Z"
   },
   {
    "duration": 39,
    "start_time": "2023-09-24T13:00:11.994Z"
   },
   {
    "duration": 34,
    "start_time": "2023-09-24T13:00:47.429Z"
   },
   {
    "duration": 49,
    "start_time": "2023-09-24T14:46:00.192Z"
   },
   {
    "duration": 48,
    "start_time": "2023-09-24T14:51:10.082Z"
   },
   {
    "duration": 12,
    "start_time": "2023-09-24T15:02:28.180Z"
   },
   {
    "duration": 20,
    "start_time": "2023-09-24T15:03:02.165Z"
   },
   {
    "duration": 7,
    "start_time": "2023-09-24T15:03:58.839Z"
   },
   {
    "duration": 142,
    "start_time": "2023-09-24T15:04:25.970Z"
   },
   {
    "duration": 31,
    "start_time": "2023-09-24T15:04:51.812Z"
   },
   {
    "duration": 410,
    "start_time": "2023-09-24T15:05:21.765Z"
   },
   {
    "duration": 86,
    "start_time": "2023-09-24T15:05:22.277Z"
   },
   {
    "duration": 9,
    "start_time": "2023-09-24T15:09:27.579Z"
   },
   {
    "duration": 13,
    "start_time": "2023-09-24T15:11:50.776Z"
   },
   {
    "duration": 3,
    "start_time": "2023-09-24T15:12:33.645Z"
   },
   {
    "duration": 53,
    "start_time": "2023-09-24T15:12:34.078Z"
   },
   {
    "duration": 45,
    "start_time": "2023-09-24T15:12:43.822Z"
   },
   {
    "duration": 427,
    "start_time": "2023-09-24T15:14:04.139Z"
   },
   {
    "duration": 7,
    "start_time": "2023-09-24T15:15:01.665Z"
   },
   {
    "duration": 12,
    "start_time": "2023-09-24T15:15:10.064Z"
   },
   {
    "duration": 27,
    "start_time": "2023-09-24T15:15:18.303Z"
   },
   {
    "duration": 16,
    "start_time": "2023-09-24T15:16:14.334Z"
   },
   {
    "duration": 6,
    "start_time": "2023-09-24T15:16:44.792Z"
   },
   {
    "duration": 75,
    "start_time": "2023-09-24T15:16:52.961Z"
   },
   {
    "duration": 6,
    "start_time": "2023-09-24T15:18:00.569Z"
   },
   {
    "duration": 57,
    "start_time": "2023-09-24T15:18:55.531Z"
   },
   {
    "duration": 18,
    "start_time": "2023-09-24T15:18:57.678Z"
   },
   {
    "duration": 47,
    "start_time": "2023-09-24T15:19:04.571Z"
   },
   {
    "duration": 3,
    "start_time": "2023-09-24T15:19:15.696Z"
   },
   {
    "duration": 18,
    "start_time": "2023-09-24T15:19:35.203Z"
   },
   {
    "duration": 112,
    "start_time": "2023-09-24T15:20:09.213Z"
   },
   {
    "duration": 8,
    "start_time": "2023-09-24T15:21:23.014Z"
   },
   {
    "duration": 10,
    "start_time": "2023-09-24T15:21:23.776Z"
   },
   {
    "duration": 3,
    "start_time": "2023-09-24T15:21:26.080Z"
   },
   {
    "duration": 47,
    "start_time": "2023-09-24T15:21:26.700Z"
   },
   {
    "duration": 37,
    "start_time": "2023-09-24T15:21:49.724Z"
   },
   {
    "duration": 13,
    "start_time": "2023-09-24T15:22:07.524Z"
   },
   {
    "duration": 11,
    "start_time": "2023-09-24T15:22:07.987Z"
   },
   {
    "duration": 2,
    "start_time": "2023-09-24T15:22:08.544Z"
   },
   {
    "duration": 18,
    "start_time": "2023-09-24T15:22:09.189Z"
   },
   {
    "duration": 17,
    "start_time": "2023-09-24T15:22:35.797Z"
   },
   {
    "duration": 20,
    "start_time": "2023-09-24T15:22:52.466Z"
   },
   {
    "duration": 13,
    "start_time": "2023-09-24T15:23:09.394Z"
   },
   {
    "duration": 461,
    "start_time": "2023-09-24T15:23:51.675Z"
   },
   {
    "duration": 636,
    "start_time": "2023-09-24T15:23:52.137Z"
   },
   {
    "duration": 14,
    "start_time": "2023-09-24T15:23:52.775Z"
   },
   {
    "duration": 23,
    "start_time": "2023-09-24T15:23:52.791Z"
   },
   {
    "duration": 29,
    "start_time": "2023-09-24T15:23:52.815Z"
   },
   {
    "duration": 73,
    "start_time": "2023-09-24T15:23:52.846Z"
   },
   {
    "duration": 13,
    "start_time": "2023-09-24T15:23:52.921Z"
   },
   {
    "duration": 55,
    "start_time": "2023-09-24T15:23:52.936Z"
   },
   {
    "duration": 71,
    "start_time": "2023-09-24T15:23:52.993Z"
   },
   {
    "duration": 310,
    "start_time": "2023-09-24T15:23:53.067Z"
   },
   {
    "duration": 8,
    "start_time": "2023-09-24T15:23:53.378Z"
   },
   {
    "duration": 20,
    "start_time": "2023-09-24T15:23:53.387Z"
   },
   {
    "duration": 28,
    "start_time": "2023-09-24T15:23:53.408Z"
   },
   {
    "duration": 127,
    "start_time": "2023-09-24T15:23:53.437Z"
   },
   {
    "duration": 4,
    "start_time": "2023-09-24T15:23:53.566Z"
   },
   {
    "duration": 14,
    "start_time": "2023-09-24T15:23:53.571Z"
   },
   {
    "duration": 10,
    "start_time": "2023-09-24T15:23:53.586Z"
   },
   {
    "duration": 28,
    "start_time": "2023-09-24T15:23:53.598Z"
   },
   {
    "duration": 41,
    "start_time": "2023-09-24T15:23:53.627Z"
   },
   {
    "duration": 38,
    "start_time": "2023-09-24T15:23:53.669Z"
   },
   {
    "duration": 8,
    "start_time": "2023-09-24T15:23:53.708Z"
   },
   {
    "duration": 38,
    "start_time": "2023-09-24T15:23:53.718Z"
   },
   {
    "duration": 13,
    "start_time": "2023-09-24T15:23:53.759Z"
   },
   {
    "duration": 22,
    "start_time": "2023-09-24T15:23:53.774Z"
   },
   {
    "duration": 3,
    "start_time": "2023-09-24T15:23:53.798Z"
   },
   {
    "duration": 18,
    "start_time": "2023-09-24T15:23:53.802Z"
   },
   {
    "duration": 380,
    "start_time": "2023-09-24T15:23:53.822Z"
   },
   {
    "duration": 9,
    "start_time": "2023-09-24T15:23:54.206Z"
   },
   {
    "duration": 206,
    "start_time": "2023-09-24T15:23:54.216Z"
   },
   {
    "duration": 3,
    "start_time": "2023-09-24T15:23:54.424Z"
   },
   {
    "duration": 138,
    "start_time": "2023-09-24T15:23:54.428Z"
   },
   {
    "duration": 14,
    "start_time": "2023-09-24T15:23:54.567Z"
   },
   {
    "duration": 51,
    "start_time": "2023-09-24T15:23:54.583Z"
   },
   {
    "duration": 20,
    "start_time": "2023-09-24T15:23:54.635Z"
   },
   {
    "duration": 74,
    "start_time": "2023-09-24T15:23:54.656Z"
   },
   {
    "duration": 9,
    "start_time": "2023-09-24T15:23:54.731Z"
   },
   {
    "duration": 24,
    "start_time": "2023-09-24T15:23:54.750Z"
   },
   {
    "duration": 27,
    "start_time": "2023-09-24T15:23:54.776Z"
   },
   {
    "duration": 20,
    "start_time": "2023-09-24T15:23:54.804Z"
   },
   {
    "duration": 90,
    "start_time": "2023-09-24T15:23:54.825Z"
   },
   {
    "duration": 95,
    "start_time": "2023-09-24T15:23:54.916Z"
   },
   {
    "duration": 22,
    "start_time": "2023-09-24T15:23:55.012Z"
   },
   {
    "duration": 61,
    "start_time": "2023-09-24T15:23:55.035Z"
   },
   {
    "duration": 119,
    "start_time": "2023-09-24T15:23:55.098Z"
   },
   {
    "duration": 12,
    "start_time": "2023-09-24T15:23:55.218Z"
   },
   {
    "duration": 87,
    "start_time": "2023-09-24T15:23:55.232Z"
   },
   {
    "duration": 6,
    "start_time": "2023-09-24T15:23:55.321Z"
   },
   {
    "duration": 13,
    "start_time": "2023-09-24T15:23:55.328Z"
   },
   {
    "duration": 22,
    "start_time": "2023-09-24T15:23:55.342Z"
   },
   {
    "duration": 17,
    "start_time": "2023-09-24T15:23:55.366Z"
   },
   {
    "duration": 27,
    "start_time": "2023-09-24T15:23:55.385Z"
   },
   {
    "duration": 12,
    "start_time": "2023-09-24T15:23:55.414Z"
   },
   {
    "duration": 33,
    "start_time": "2023-09-24T15:23:55.428Z"
   },
   {
    "duration": 17,
    "start_time": "2023-09-24T15:23:55.462Z"
   },
   {
    "duration": 383,
    "start_time": "2023-09-24T15:23:55.480Z"
   },
   {
    "duration": 95,
    "start_time": "2023-09-24T15:23:55.865Z"
   },
   {
    "duration": 19,
    "start_time": "2023-09-24T15:25:32.812Z"
   },
   {
    "duration": 5,
    "start_time": "2023-09-24T15:25:56.895Z"
   },
   {
    "duration": 116,
    "start_time": "2023-09-24T15:25:57.320Z"
   },
   {
    "duration": 120,
    "start_time": "2023-09-24T15:35:19.077Z"
   },
   {
    "duration": 9,
    "start_time": "2023-09-24T15:35:45.460Z"
   },
   {
    "duration": 19,
    "start_time": "2023-09-24T15:38:15.570Z"
   },
   {
    "duration": 6,
    "start_time": "2023-09-24T15:40:15.411Z"
   },
   {
    "duration": 1829,
    "start_time": "2023-09-24T15:40:16.130Z"
   },
   {
    "duration": 6,
    "start_time": "2023-09-24T15:40:42.436Z"
   },
   {
    "duration": 35,
    "start_time": "2023-09-24T15:40:43.302Z"
   },
   {
    "duration": 94,
    "start_time": "2023-09-24T15:40:59.839Z"
   },
   {
    "duration": 7,
    "start_time": "2023-09-24T15:42:37.900Z"
   },
   {
    "duration": 33,
    "start_time": "2023-09-24T15:44:26.236Z"
   },
   {
    "duration": 41,
    "start_time": "2023-09-24T15:44:40.975Z"
   },
   {
    "duration": 20,
    "start_time": "2023-09-24T15:46:20.111Z"
   },
   {
    "duration": 5,
    "start_time": "2023-09-24T15:46:28.289Z"
   },
   {
    "duration": 9,
    "start_time": "2023-09-24T15:47:37.292Z"
   },
   {
    "duration": 5,
    "start_time": "2023-09-24T15:47:46.891Z"
   },
   {
    "duration": 19,
    "start_time": "2023-09-24T15:48:41.609Z"
   },
   {
    "duration": 10,
    "start_time": "2023-09-24T15:49:05.569Z"
   },
   {
    "duration": 4,
    "start_time": "2023-09-24T15:49:07.575Z"
   },
   {
    "duration": 19,
    "start_time": "2023-09-24T15:49:18.890Z"
   },
   {
    "duration": 5,
    "start_time": "2023-09-24T15:49:23.173Z"
   },
   {
    "duration": 20,
    "start_time": "2023-09-24T15:49:35.446Z"
   },
   {
    "duration": 4,
    "start_time": "2023-09-24T15:49:37.544Z"
   },
   {
    "duration": 16,
    "start_time": "2023-09-24T15:49:54.394Z"
   },
   {
    "duration": 4,
    "start_time": "2023-09-24T15:49:56.469Z"
   },
   {
    "duration": 9,
    "start_time": "2023-09-24T15:50:15.123Z"
   },
   {
    "duration": 21,
    "start_time": "2023-09-24T15:55:25.678Z"
   },
   {
    "duration": 6,
    "start_time": "2023-09-24T15:56:34.993Z"
   },
   {
    "duration": 92,
    "start_time": "2023-09-24T15:56:38.490Z"
   },
   {
    "duration": 16,
    "start_time": "2023-09-24T15:57:38.728Z"
   },
   {
    "duration": 23,
    "start_time": "2023-09-24T15:57:40.240Z"
   },
   {
    "duration": 5,
    "start_time": "2023-09-24T15:57:42.828Z"
   },
   {
    "duration": 67,
    "start_time": "2023-09-24T15:57:44.666Z"
   },
   {
    "duration": 67,
    "start_time": "2023-09-24T15:58:52.263Z"
   },
   {
    "duration": 8,
    "start_time": "2023-09-24T16:30:07.326Z"
   },
   {
    "duration": 135,
    "start_time": "2023-09-24T16:31:12.497Z"
   },
   {
    "duration": 120,
    "start_time": "2023-09-24T16:31:50.310Z"
   },
   {
    "duration": 24,
    "start_time": "2023-09-24T16:32:06.448Z"
   },
   {
    "duration": 9,
    "start_time": "2023-09-24T16:32:25.705Z"
   },
   {
    "duration": 9,
    "start_time": "2023-09-24T16:33:25.920Z"
   },
   {
    "duration": 11,
    "start_time": "2023-09-24T16:34:05.836Z"
   },
   {
    "duration": 475,
    "start_time": "2023-09-24T17:16:50.468Z"
   },
   {
    "duration": 632,
    "start_time": "2023-09-24T17:16:50.945Z"
   },
   {
    "duration": 13,
    "start_time": "2023-09-24T17:16:51.579Z"
   },
   {
    "duration": 9,
    "start_time": "2023-09-24T17:16:51.594Z"
   },
   {
    "duration": 26,
    "start_time": "2023-09-24T17:16:51.605Z"
   },
   {
    "duration": 73,
    "start_time": "2023-09-24T17:16:51.632Z"
   },
   {
    "duration": 12,
    "start_time": "2023-09-24T17:16:51.706Z"
   },
   {
    "duration": 68,
    "start_time": "2023-09-24T17:16:51.719Z"
   },
   {
    "duration": 62,
    "start_time": "2023-09-24T17:16:51.788Z"
   },
   {
    "duration": 316,
    "start_time": "2023-09-24T17:16:51.851Z"
   },
   {
    "duration": 8,
    "start_time": "2023-09-24T17:16:52.170Z"
   },
   {
    "duration": 50,
    "start_time": "2023-09-24T17:16:52.179Z"
   },
   {
    "duration": 51,
    "start_time": "2023-09-24T17:16:52.231Z"
   },
   {
    "duration": 120,
    "start_time": "2023-09-24T17:16:52.286Z"
   },
   {
    "duration": 4,
    "start_time": "2023-09-24T17:16:52.408Z"
   },
   {
    "duration": 10,
    "start_time": "2023-09-24T17:16:52.413Z"
   },
   {
    "duration": 6,
    "start_time": "2023-09-24T17:16:52.424Z"
   },
   {
    "duration": 54,
    "start_time": "2023-09-24T17:16:52.431Z"
   },
   {
    "duration": 35,
    "start_time": "2023-09-24T17:16:52.487Z"
   },
   {
    "duration": 39,
    "start_time": "2023-09-24T17:16:52.523Z"
   },
   {
    "duration": 7,
    "start_time": "2023-09-24T17:16:52.564Z"
   },
   {
    "duration": 33,
    "start_time": "2023-09-24T17:16:52.573Z"
   },
   {
    "duration": 37,
    "start_time": "2023-09-24T17:16:52.607Z"
   },
   {
    "duration": 248,
    "start_time": "2023-09-24T17:16:52.646Z"
   },
   {
    "duration": 3,
    "start_time": "2023-09-24T17:16:52.895Z"
   },
   {
    "duration": 22,
    "start_time": "2023-09-24T17:16:52.899Z"
   },
   {
    "duration": 374,
    "start_time": "2023-09-24T17:16:52.922Z"
   },
   {
    "duration": 8,
    "start_time": "2023-09-24T17:16:53.298Z"
   },
   {
    "duration": 198,
    "start_time": "2023-09-24T17:16:53.308Z"
   },
   {
    "duration": 5,
    "start_time": "2023-09-24T17:16:53.507Z"
   },
   {
    "duration": 146,
    "start_time": "2023-09-24T17:16:53.513Z"
   },
   {
    "duration": 12,
    "start_time": "2023-09-24T17:16:53.660Z"
   },
   {
    "duration": 19,
    "start_time": "2023-09-24T17:16:53.673Z"
   },
   {
    "duration": 14,
    "start_time": "2023-09-24T17:16:53.694Z"
   },
   {
    "duration": 21,
    "start_time": "2023-09-24T17:16:53.710Z"
   },
   {
    "duration": 91,
    "start_time": "2023-09-24T17:16:53.733Z"
   },
   {
    "duration": 9,
    "start_time": "2023-09-24T17:16:53.825Z"
   },
   {
    "duration": 48,
    "start_time": "2023-09-24T17:16:53.835Z"
   },
   {
    "duration": 26,
    "start_time": "2023-09-24T17:16:53.885Z"
   },
   {
    "duration": 90,
    "start_time": "2023-09-24T17:16:53.912Z"
   },
   {
    "duration": 95,
    "start_time": "2023-09-24T17:16:54.005Z"
   },
   {
    "duration": 24,
    "start_time": "2023-09-24T17:16:54.102Z"
   },
   {
    "duration": 73,
    "start_time": "2023-09-24T17:16:54.128Z"
   },
   {
    "duration": 118,
    "start_time": "2023-09-24T17:16:54.203Z"
   },
   {
    "duration": 12,
    "start_time": "2023-09-24T17:16:54.323Z"
   },
   {
    "duration": 93,
    "start_time": "2023-09-24T17:16:54.349Z"
   },
   {
    "duration": 17,
    "start_time": "2023-09-24T17:16:54.444Z"
   },
   {
    "duration": 9,
    "start_time": "2023-09-24T17:16:54.465Z"
   },
   {
    "duration": 10,
    "start_time": "2023-09-24T17:16:54.484Z"
   },
   {
    "duration": 47,
    "start_time": "2023-09-24T17:16:54.497Z"
   },
   {
    "duration": 43,
    "start_time": "2023-09-24T17:16:54.546Z"
   },
   {
    "duration": 17,
    "start_time": "2023-09-24T17:16:54.591Z"
   },
   {
    "duration": 17,
    "start_time": "2023-09-24T17:16:54.609Z"
   },
   {
    "duration": 30,
    "start_time": "2023-09-24T17:16:54.628Z"
   },
   {
    "duration": 136,
    "start_time": "2023-09-24T17:16:54.667Z"
   },
   {
    "duration": 396,
    "start_time": "2023-09-24T17:22:53.847Z"
   },
   {
    "duration": 865,
    "start_time": "2023-09-24T17:23:00.679Z"
   },
   {
    "duration": 592,
    "start_time": "2023-09-24T17:23:01.550Z"
   },
   {
    "duration": 18,
    "start_time": "2023-09-24T17:23:02.143Z"
   },
   {
    "duration": 67,
    "start_time": "2023-09-24T17:23:02.163Z"
   },
   {
    "duration": 64,
    "start_time": "2023-09-24T17:23:02.231Z"
   },
   {
    "duration": 128,
    "start_time": "2023-09-24T17:23:02.296Z"
   },
   {
    "duration": 41,
    "start_time": "2023-09-24T17:23:02.426Z"
   },
   {
    "duration": 77,
    "start_time": "2023-09-24T17:23:02.469Z"
   },
   {
    "duration": 65,
    "start_time": "2023-09-24T17:23:02.547Z"
   },
   {
    "duration": 351,
    "start_time": "2023-09-24T17:23:02.614Z"
   },
   {
    "duration": 11,
    "start_time": "2023-09-24T17:23:02.967Z"
   },
   {
    "duration": 21,
    "start_time": "2023-09-24T17:23:02.980Z"
   },
   {
    "duration": 32,
    "start_time": "2023-09-24T17:23:03.003Z"
   },
   {
    "duration": 127,
    "start_time": "2023-09-24T17:23:03.036Z"
   },
   {
    "duration": 5,
    "start_time": "2023-09-24T17:23:03.164Z"
   },
   {
    "duration": 26,
    "start_time": "2023-09-24T17:23:03.171Z"
   },
   {
    "duration": 20,
    "start_time": "2023-09-24T17:23:03.198Z"
   },
   {
    "duration": 35,
    "start_time": "2023-09-24T17:23:03.219Z"
   },
   {
    "duration": 36,
    "start_time": "2023-09-24T17:23:03.256Z"
   },
   {
    "duration": 40,
    "start_time": "2023-09-24T17:23:03.294Z"
   },
   {
    "duration": 26,
    "start_time": "2023-09-24T17:23:03.336Z"
   },
   {
    "duration": 16,
    "start_time": "2023-09-24T17:23:03.365Z"
   },
   {
    "duration": 17,
    "start_time": "2023-09-24T17:23:03.383Z"
   },
   {
    "duration": 36,
    "start_time": "2023-09-24T17:23:03.401Z"
   },
   {
    "duration": 3,
    "start_time": "2023-09-24T17:23:03.439Z"
   },
   {
    "duration": 25,
    "start_time": "2023-09-24T17:23:03.443Z"
   },
   {
    "duration": 399,
    "start_time": "2023-09-24T17:23:03.469Z"
   },
   {
    "duration": 9,
    "start_time": "2023-09-24T17:23:03.871Z"
   },
   {
    "duration": 196,
    "start_time": "2023-09-24T17:23:03.881Z"
   },
   {
    "duration": 5,
    "start_time": "2023-09-24T17:23:04.078Z"
   },
   {
    "duration": 133,
    "start_time": "2023-09-24T17:23:04.084Z"
   },
   {
    "duration": 10,
    "start_time": "2023-09-24T17:23:04.219Z"
   },
   {
    "duration": 33,
    "start_time": "2023-09-24T17:23:04.230Z"
   },
   {
    "duration": 26,
    "start_time": "2023-09-24T17:23:04.264Z"
   },
   {
    "duration": 13,
    "start_time": "2023-09-24T17:23:04.291Z"
   },
   {
    "duration": 74,
    "start_time": "2023-09-24T17:23:04.305Z"
   },
   {
    "duration": 9,
    "start_time": "2023-09-24T17:23:04.380Z"
   },
   {
    "duration": 30,
    "start_time": "2023-09-24T17:23:04.390Z"
   },
   {
    "duration": 19,
    "start_time": "2023-09-24T17:23:04.421Z"
   },
   {
    "duration": 87,
    "start_time": "2023-09-24T17:23:04.449Z"
   },
   {
    "duration": 95,
    "start_time": "2023-09-24T17:23:04.537Z"
   },
   {
    "duration": 33,
    "start_time": "2023-09-24T17:23:04.634Z"
   },
   {
    "duration": 51,
    "start_time": "2023-09-24T17:23:04.668Z"
   },
   {
    "duration": 71,
    "start_time": "2023-09-24T17:23:04.721Z"
   },
   {
    "duration": 11,
    "start_time": "2023-09-24T17:23:04.794Z"
   },
   {
    "duration": 90,
    "start_time": "2023-09-24T17:23:04.807Z"
   },
   {
    "duration": 7,
    "start_time": "2023-09-24T17:23:04.899Z"
   },
   {
    "duration": 13,
    "start_time": "2023-09-24T17:23:04.908Z"
   },
   {
    "duration": 17,
    "start_time": "2023-09-24T17:23:04.922Z"
   },
   {
    "duration": 32,
    "start_time": "2023-09-24T17:23:04.940Z"
   },
   {
    "duration": 32,
    "start_time": "2023-09-24T17:23:04.973Z"
   },
   {
    "duration": 14,
    "start_time": "2023-09-24T17:23:05.007Z"
   },
   {
    "duration": 17,
    "start_time": "2023-09-24T17:23:05.022Z"
   },
   {
    "duration": 13,
    "start_time": "2023-09-24T17:23:05.040Z"
   },
   {
    "duration": 77,
    "start_time": "2023-09-24T17:23:05.056Z"
   },
   {
    "duration": 965,
    "start_time": "2023-09-25T08:31:48.940Z"
   },
   {
    "duration": 983,
    "start_time": "2023-09-25T08:31:49.907Z"
   },
   {
    "duration": 16,
    "start_time": "2023-09-25T08:31:50.891Z"
   },
   {
    "duration": 10,
    "start_time": "2023-09-25T08:31:50.909Z"
   },
   {
    "duration": 35,
    "start_time": "2023-09-25T08:31:50.920Z"
   },
   {
    "duration": 89,
    "start_time": "2023-09-25T08:31:50.957Z"
   },
   {
    "duration": 14,
    "start_time": "2023-09-25T08:31:51.048Z"
   },
   {
    "duration": 77,
    "start_time": "2023-09-25T08:31:51.064Z"
   },
   {
    "duration": 61,
    "start_time": "2023-09-25T08:31:51.143Z"
   },
   {
    "duration": 340,
    "start_time": "2023-09-25T08:31:51.207Z"
   },
   {
    "duration": 8,
    "start_time": "2023-09-25T08:31:51.548Z"
   },
   {
    "duration": 37,
    "start_time": "2023-09-25T08:31:51.557Z"
   },
   {
    "duration": 50,
    "start_time": "2023-09-25T08:31:51.595Z"
   },
   {
    "duration": 152,
    "start_time": "2023-09-25T08:31:51.647Z"
   },
   {
    "duration": 6,
    "start_time": "2023-09-25T08:31:51.801Z"
   },
   {
    "duration": 16,
    "start_time": "2023-09-25T08:31:51.809Z"
   },
   {
    "duration": 51,
    "start_time": "2023-09-25T08:31:51.827Z"
   },
   {
    "duration": 34,
    "start_time": "2023-09-25T08:31:51.880Z"
   },
   {
    "duration": 42,
    "start_time": "2023-09-25T08:31:51.916Z"
   },
   {
    "duration": 59,
    "start_time": "2023-09-25T08:31:51.960Z"
   },
   {
    "duration": 11,
    "start_time": "2023-09-25T08:31:52.021Z"
   },
   {
    "duration": 23,
    "start_time": "2023-09-25T08:31:52.034Z"
   },
   {
    "duration": 33,
    "start_time": "2023-09-25T08:31:52.059Z"
   },
   {
    "duration": 32,
    "start_time": "2023-09-25T08:31:52.094Z"
   },
   {
    "duration": 4,
    "start_time": "2023-09-25T08:31:52.127Z"
   },
   {
    "duration": 33,
    "start_time": "2023-09-25T08:31:52.133Z"
   },
   {
    "duration": 560,
    "start_time": "2023-09-25T08:31:52.168Z"
   },
   {
    "duration": 10,
    "start_time": "2023-09-25T08:31:52.731Z"
   },
   {
    "duration": 230,
    "start_time": "2023-09-25T08:31:52.742Z"
   },
   {
    "duration": 9,
    "start_time": "2023-09-25T08:31:52.974Z"
   },
   {
    "duration": 151,
    "start_time": "2023-09-25T08:31:52.984Z"
   },
   {
    "duration": 14,
    "start_time": "2023-09-25T08:31:53.137Z"
   },
   {
    "duration": 32,
    "start_time": "2023-09-25T08:31:53.153Z"
   },
   {
    "duration": 27,
    "start_time": "2023-09-25T08:31:53.187Z"
   },
   {
    "duration": 19,
    "start_time": "2023-09-25T08:31:53.216Z"
   },
   {
    "duration": 84,
    "start_time": "2023-09-25T08:31:53.236Z"
   },
   {
    "duration": 9,
    "start_time": "2023-09-25T08:31:53.322Z"
   },
   {
    "duration": 22,
    "start_time": "2023-09-25T08:31:53.332Z"
   },
   {
    "duration": 64,
    "start_time": "2023-09-25T08:31:53.356Z"
   },
   {
    "duration": 114,
    "start_time": "2023-09-25T08:31:53.421Z"
   },
   {
    "duration": 85,
    "start_time": "2023-09-25T08:31:53.537Z"
   },
   {
    "duration": 84,
    "start_time": "2023-09-25T08:31:53.623Z"
   },
   {
    "duration": 107,
    "start_time": "2023-09-25T08:31:53.709Z"
   },
   {
    "duration": 69,
    "start_time": "2023-09-25T08:31:53.817Z"
   },
   {
    "duration": 22,
    "start_time": "2023-09-25T08:31:53.888Z"
   },
   {
    "duration": 167,
    "start_time": "2023-09-25T08:31:53.911Z"
   },
   {
    "duration": 7,
    "start_time": "2023-09-25T08:31:54.080Z"
   },
   {
    "duration": 17,
    "start_time": "2023-09-25T08:31:54.088Z"
   },
   {
    "duration": 15,
    "start_time": "2023-09-25T08:31:54.107Z"
   },
   {
    "duration": 65,
    "start_time": "2023-09-25T08:31:54.123Z"
   },
   {
    "duration": 53,
    "start_time": "2023-09-25T08:31:54.189Z"
   },
   {
    "duration": 17,
    "start_time": "2023-09-25T08:31:54.244Z"
   },
   {
    "duration": 46,
    "start_time": "2023-09-25T08:31:54.262Z"
   },
   {
    "duration": 14,
    "start_time": "2023-09-25T08:31:54.310Z"
   },
   {
    "duration": 128,
    "start_time": "2023-09-25T08:31:54.326Z"
   },
   {
    "duration": 1027,
    "start_time": "2023-09-25T08:32:07.681Z"
   },
   {
    "duration": 654,
    "start_time": "2023-09-25T08:32:08.710Z"
   },
   {
    "duration": 16,
    "start_time": "2023-09-25T08:32:09.366Z"
   },
   {
    "duration": 11,
    "start_time": "2023-09-25T08:32:09.384Z"
   },
   {
    "duration": 24,
    "start_time": "2023-09-25T08:32:09.397Z"
   },
   {
    "duration": 88,
    "start_time": "2023-09-25T08:32:09.423Z"
   },
   {
    "duration": 14,
    "start_time": "2023-09-25T08:32:09.513Z"
   },
   {
    "duration": 73,
    "start_time": "2023-09-25T08:32:09.529Z"
   },
   {
    "duration": 61,
    "start_time": "2023-09-25T08:32:09.603Z"
   },
   {
    "duration": 340,
    "start_time": "2023-09-25T08:32:09.681Z"
   },
   {
    "duration": 8,
    "start_time": "2023-09-25T08:32:10.023Z"
   },
   {
    "duration": 32,
    "start_time": "2023-09-25T08:32:10.033Z"
   },
   {
    "duration": 40,
    "start_time": "2023-09-25T08:32:10.067Z"
   },
   {
    "duration": 121,
    "start_time": "2023-09-25T08:32:10.109Z"
   },
   {
    "duration": 5,
    "start_time": "2023-09-25T08:32:10.232Z"
   },
   {
    "duration": 17,
    "start_time": "2023-09-25T08:32:10.238Z"
   },
   {
    "duration": 14,
    "start_time": "2023-09-25T08:32:10.257Z"
   },
   {
    "duration": 29,
    "start_time": "2023-09-25T08:32:10.280Z"
   },
   {
    "duration": 38,
    "start_time": "2023-09-25T08:32:10.310Z"
   },
   {
    "duration": 60,
    "start_time": "2023-09-25T08:32:10.349Z"
   },
   {
    "duration": 9,
    "start_time": "2023-09-25T08:32:10.410Z"
   },
   {
    "duration": 16,
    "start_time": "2023-09-25T08:32:10.420Z"
   },
   {
    "duration": 20,
    "start_time": "2023-09-25T08:32:10.438Z"
   },
   {
    "duration": 35,
    "start_time": "2023-09-25T08:32:10.460Z"
   },
   {
    "duration": 4,
    "start_time": "2023-09-25T08:32:10.496Z"
   },
   {
    "duration": 23,
    "start_time": "2023-09-25T08:32:10.502Z"
   },
   {
    "duration": 602,
    "start_time": "2023-09-25T08:32:10.527Z"
   },
   {
    "duration": 10,
    "start_time": "2023-09-25T08:32:11.132Z"
   },
   {
    "duration": 244,
    "start_time": "2023-09-25T08:32:11.144Z"
   },
   {
    "duration": 4,
    "start_time": "2023-09-25T08:32:11.390Z"
   },
   {
    "duration": 158,
    "start_time": "2023-09-25T08:32:11.396Z"
   },
   {
    "duration": 11,
    "start_time": "2023-09-25T08:32:11.556Z"
   },
   {
    "duration": 26,
    "start_time": "2023-09-25T08:32:11.569Z"
   },
   {
    "duration": 20,
    "start_time": "2023-09-25T08:32:11.597Z"
   },
   {
    "duration": 14,
    "start_time": "2023-09-25T08:32:11.619Z"
   },
   {
    "duration": 100,
    "start_time": "2023-09-25T08:32:11.634Z"
   },
   {
    "duration": 9,
    "start_time": "2023-09-25T08:32:11.736Z"
   },
   {
    "duration": 36,
    "start_time": "2023-09-25T08:32:11.747Z"
   },
   {
    "duration": 52,
    "start_time": "2023-09-25T08:32:11.785Z"
   },
   {
    "duration": 152,
    "start_time": "2023-09-25T08:32:11.839Z"
   },
   {
    "duration": 97,
    "start_time": "2023-09-25T08:32:11.993Z"
   },
   {
    "duration": 24,
    "start_time": "2023-09-25T08:32:12.092Z"
   },
   {
    "duration": 67,
    "start_time": "2023-09-25T08:32:12.118Z"
   },
   {
    "duration": 70,
    "start_time": "2023-09-25T08:32:12.187Z"
   },
   {
    "duration": 24,
    "start_time": "2023-09-25T08:32:12.258Z"
   },
   {
    "duration": 112,
    "start_time": "2023-09-25T08:32:12.283Z"
   },
   {
    "duration": 7,
    "start_time": "2023-09-25T08:32:12.396Z"
   },
   {
    "duration": 29,
    "start_time": "2023-09-25T08:32:12.404Z"
   },
   {
    "duration": 21,
    "start_time": "2023-09-25T08:32:12.435Z"
   },
   {
    "duration": 43,
    "start_time": "2023-09-25T08:32:12.458Z"
   },
   {
    "duration": 50,
    "start_time": "2023-09-25T08:32:12.503Z"
   },
   {
    "duration": 16,
    "start_time": "2023-09-25T08:32:12.555Z"
   },
   {
    "duration": 30,
    "start_time": "2023-09-25T08:32:12.573Z"
   },
   {
    "duration": 6,
    "start_time": "2023-09-25T08:32:12.604Z"
   },
   {
    "duration": 92,
    "start_time": "2023-09-25T08:32:12.612Z"
   },
   {
    "duration": 3,
    "start_time": "2023-09-25T10:47:39.870Z"
   },
   {
    "duration": 677,
    "start_time": "2023-09-25T10:47:39.898Z"
   },
   {
    "duration": 8,
    "start_time": "2023-09-25T10:47:40.577Z"
   },
   {
    "duration": 13,
    "start_time": "2023-09-25T10:47:40.586Z"
   },
   {
    "duration": 22,
    "start_time": "2023-09-25T10:47:40.601Z"
   },
   {
    "duration": 79,
    "start_time": "2023-09-25T10:47:40.624Z"
   },
   {
    "duration": 13,
    "start_time": "2023-09-25T10:47:40.704Z"
   },
   {
    "duration": 63,
    "start_time": "2023-09-25T10:47:40.719Z"
   },
   {
    "duration": 74,
    "start_time": "2023-09-25T10:47:40.784Z"
   },
   {
    "duration": 306,
    "start_time": "2023-09-25T10:47:40.866Z"
   },
   {
    "duration": 8,
    "start_time": "2023-09-25T10:47:41.176Z"
   },
   {
    "duration": 239,
    "start_time": "2023-09-25T10:47:41.186Z"
   },
   {
    "duration": 38,
    "start_time": "2023-09-25T10:47:41.426Z"
   },
   {
    "duration": 103,
    "start_time": "2023-09-25T10:47:41.466Z"
   },
   {
    "duration": 5,
    "start_time": "2023-09-25T10:47:41.571Z"
   },
   {
    "duration": 27,
    "start_time": "2023-09-25T10:47:41.577Z"
   },
   {
    "duration": 119,
    "start_time": "2023-09-25T10:47:41.605Z"
   },
   {
    "duration": 37,
    "start_time": "2023-09-25T10:47:41.726Z"
   },
   {
    "duration": 36,
    "start_time": "2023-09-25T10:47:41.765Z"
   },
   {
    "duration": 38,
    "start_time": "2023-09-25T10:47:41.803Z"
   },
   {
    "duration": 13,
    "start_time": "2023-09-25T10:47:41.849Z"
   },
   {
    "duration": 48,
    "start_time": "2023-09-25T10:47:41.863Z"
   },
   {
    "duration": 22,
    "start_time": "2023-09-25T10:47:41.912Z"
   },
   {
    "duration": 26,
    "start_time": "2023-09-25T10:47:41.935Z"
   },
   {
    "duration": 3,
    "start_time": "2023-09-25T10:47:41.963Z"
   },
   {
    "duration": 46,
    "start_time": "2023-09-25T10:47:41.968Z"
   },
   {
    "duration": 66,
    "start_time": "2023-09-25T10:47:42.016Z"
   },
   {
    "duration": 8,
    "start_time": "2023-09-25T10:47:42.083Z"
   },
   {
    "duration": 131,
    "start_time": "2023-09-25T10:47:42.094Z"
   },
   {
    "duration": 4,
    "start_time": "2023-09-25T10:47:42.226Z"
   },
   {
    "duration": 137,
    "start_time": "2023-09-25T10:47:42.231Z"
   },
   {
    "duration": 10,
    "start_time": "2023-09-25T10:47:42.369Z"
   },
   {
    "duration": 26,
    "start_time": "2023-09-25T10:47:42.381Z"
   },
   {
    "duration": 39,
    "start_time": "2023-09-25T10:47:42.409Z"
   },
   {
    "duration": 19,
    "start_time": "2023-09-25T10:47:42.449Z"
   },
   {
    "duration": 60,
    "start_time": "2023-09-25T10:47:42.470Z"
   },
   {
    "duration": 32,
    "start_time": "2023-09-25T10:47:42.532Z"
   },
   {
    "duration": 37,
    "start_time": "2023-09-25T10:47:42.565Z"
   },
   {
    "duration": 27,
    "start_time": "2023-09-25T10:47:42.604Z"
   },
   {
    "duration": 86,
    "start_time": "2023-09-25T10:47:42.632Z"
   },
   {
    "duration": 87,
    "start_time": "2023-09-25T10:47:42.720Z"
   },
   {
    "duration": 24,
    "start_time": "2023-09-25T10:47:42.808Z"
   },
   {
    "duration": 66,
    "start_time": "2023-09-25T10:47:42.833Z"
   },
   {
    "duration": 75,
    "start_time": "2023-09-25T10:47:42.901Z"
   },
   {
    "duration": 11,
    "start_time": "2023-09-25T10:47:42.978Z"
   },
   {
    "duration": 142,
    "start_time": "2023-09-25T10:47:42.990Z"
   },
   {
    "duration": 6,
    "start_time": "2023-09-25T10:47:43.134Z"
   },
   {
    "duration": 28,
    "start_time": "2023-09-25T10:47:43.141Z"
   },
   {
    "duration": 18,
    "start_time": "2023-09-25T10:47:43.170Z"
   },
   {
    "duration": 41,
    "start_time": "2023-09-25T10:47:43.190Z"
   },
   {
    "duration": 56,
    "start_time": "2023-09-25T10:47:43.233Z"
   },
   {
    "duration": 16,
    "start_time": "2023-09-25T10:47:43.291Z"
   },
   {
    "duration": 17,
    "start_time": "2023-09-25T10:47:43.308Z"
   },
   {
    "duration": 16,
    "start_time": "2023-09-25T10:47:43.326Z"
   },
   {
    "duration": 195,
    "start_time": "2023-09-25T10:47:43.344Z"
   },
   {
    "duration": 7,
    "start_time": "2023-09-25T10:56:59.195Z"
   },
   {
    "duration": 15,
    "start_time": "2023-09-25T10:58:54.194Z"
   },
   {
    "duration": 14,
    "start_time": "2023-09-25T11:04:29.961Z"
   },
   {
    "duration": 22,
    "start_time": "2023-09-25T11:04:58.609Z"
   },
   {
    "duration": 11,
    "start_time": "2023-09-25T11:09:45.627Z"
   },
   {
    "duration": 10,
    "start_time": "2023-09-25T11:09:54.133Z"
   },
   {
    "duration": 19,
    "start_time": "2023-09-25T11:10:47.893Z"
   },
   {
    "duration": 10,
    "start_time": "2023-09-25T11:10:56.528Z"
   },
   {
    "duration": 152,
    "start_time": "2023-09-25T11:11:46.374Z"
   },
   {
    "duration": 14,
    "start_time": "2023-09-25T11:11:53.468Z"
   },
   {
    "duration": 12,
    "start_time": "2023-09-25T11:11:57.003Z"
   },
   {
    "duration": 1007,
    "start_time": "2023-09-25T11:12:24.141Z"
   },
   {
    "duration": 667,
    "start_time": "2023-09-25T11:12:25.150Z"
   },
   {
    "duration": 15,
    "start_time": "2023-09-25T11:12:25.819Z"
   },
   {
    "duration": 19,
    "start_time": "2023-09-25T11:12:25.837Z"
   },
   {
    "duration": 23,
    "start_time": "2023-09-25T11:12:25.860Z"
   },
   {
    "duration": 108,
    "start_time": "2023-09-25T11:12:25.886Z"
   },
   {
    "duration": 16,
    "start_time": "2023-09-25T11:12:25.996Z"
   },
   {
    "duration": 84,
    "start_time": "2023-09-25T11:12:26.013Z"
   },
   {
    "duration": 83,
    "start_time": "2023-09-25T11:12:26.099Z"
   },
   {
    "duration": 7,
    "start_time": "2023-09-25T11:12:26.186Z"
   },
   {
    "duration": 18,
    "start_time": "2023-09-25T11:12:26.195Z"
   },
   {
    "duration": 55,
    "start_time": "2023-09-25T11:12:26.214Z"
   },
   {
    "duration": 333,
    "start_time": "2023-09-25T11:12:26.271Z"
   },
   {
    "duration": 8,
    "start_time": "2023-09-25T11:12:26.605Z"
   },
   {
    "duration": 22,
    "start_time": "2023-09-25T11:12:26.615Z"
   },
   {
    "duration": 124,
    "start_time": "2023-09-25T11:12:26.638Z"
   },
   {
    "duration": 112,
    "start_time": "2023-09-25T11:12:26.764Z"
   },
   {
    "duration": 5,
    "start_time": "2023-09-25T11:12:26.878Z"
   },
   {
    "duration": 20,
    "start_time": "2023-09-25T11:12:26.884Z"
   },
   {
    "duration": 30,
    "start_time": "2023-09-25T11:12:26.906Z"
   },
   {
    "duration": 54,
    "start_time": "2023-09-25T11:12:26.937Z"
   },
   {
    "duration": 38,
    "start_time": "2023-09-25T11:12:26.993Z"
   },
   {
    "duration": 48,
    "start_time": "2023-09-25T11:12:27.033Z"
   },
   {
    "duration": 8,
    "start_time": "2023-09-25T11:12:27.083Z"
   },
   {
    "duration": 10,
    "start_time": "2023-09-25T11:12:27.092Z"
   },
   {
    "duration": 9,
    "start_time": "2023-09-25T11:12:33.042Z"
   },
   {
    "duration": 16,
    "start_time": "2023-09-25T11:12:43.064Z"
   },
   {
    "duration": 111,
    "start_time": "2023-09-25T11:12:51.892Z"
   },
   {
    "duration": 18,
    "start_time": "2023-09-25T11:13:01.580Z"
   },
   {
    "duration": 8,
    "start_time": "2023-09-25T11:13:11.655Z"
   },
   {
    "duration": 12,
    "start_time": "2023-09-25T11:13:29.694Z"
   },
   {
    "duration": 13,
    "start_time": "2023-09-25T11:16:33.304Z"
   },
   {
    "duration": 11,
    "start_time": "2023-09-25T11:20:10.087Z"
   },
   {
    "duration": 11,
    "start_time": "2023-09-25T11:20:40.479Z"
   },
   {
    "duration": 16,
    "start_time": "2023-09-25T11:21:03.120Z"
   },
   {
    "duration": 871,
    "start_time": "2023-09-25T11:21:52.681Z"
   },
   {
    "duration": 575,
    "start_time": "2023-09-25T11:21:53.564Z"
   },
   {
    "duration": 23,
    "start_time": "2023-09-25T11:21:54.141Z"
   },
   {
    "duration": 15,
    "start_time": "2023-09-25T11:21:54.166Z"
   },
   {
    "duration": 33,
    "start_time": "2023-09-25T11:21:54.183Z"
   },
   {
    "duration": 71,
    "start_time": "2023-09-25T11:21:54.217Z"
   },
   {
    "duration": 12,
    "start_time": "2023-09-25T11:21:54.290Z"
   },
   {
    "duration": 69,
    "start_time": "2023-09-25T11:21:54.303Z"
   },
   {
    "duration": 55,
    "start_time": "2023-09-25T11:21:54.374Z"
   },
   {
    "duration": 42,
    "start_time": "2023-09-25T11:21:54.431Z"
   },
   {
    "duration": 42,
    "start_time": "2023-09-25T11:21:54.475Z"
   },
   {
    "duration": 36,
    "start_time": "2023-09-25T11:21:54.519Z"
   },
   {
    "duration": 324,
    "start_time": "2023-09-25T11:21:54.564Z"
   },
   {
    "duration": 7,
    "start_time": "2023-09-25T11:21:54.890Z"
   },
   {
    "duration": 33,
    "start_time": "2023-09-25T11:21:54.899Z"
   },
   {
    "duration": 52,
    "start_time": "2023-09-25T11:21:54.935Z"
   },
   {
    "duration": 207,
    "start_time": "2023-09-25T11:21:54.990Z"
   },
   {
    "duration": 5,
    "start_time": "2023-09-25T11:21:55.198Z"
   },
   {
    "duration": 34,
    "start_time": "2023-09-25T11:21:55.204Z"
   },
   {
    "duration": 32,
    "start_time": "2023-09-25T11:21:55.240Z"
   },
   {
    "duration": 49,
    "start_time": "2023-09-25T11:21:55.274Z"
   },
   {
    "duration": 79,
    "start_time": "2023-09-25T11:21:55.325Z"
   },
   {
    "duration": 139,
    "start_time": "2023-09-25T11:21:55.406Z"
   },
   {
    "duration": 38,
    "start_time": "2023-09-25T11:21:57.509Z"
   },
   {
    "duration": 8,
    "start_time": "2023-09-25T11:21:58.100Z"
   },
   {
    "duration": 10,
    "start_time": "2023-09-25T11:22:00.306Z"
   },
   {
    "duration": 9,
    "start_time": "2023-09-25T11:22:03.706Z"
   },
   {
    "duration": 11,
    "start_time": "2023-09-25T11:22:04.942Z"
   },
   {
    "duration": 10,
    "start_time": "2023-09-25T11:22:10.312Z"
   },
   {
    "duration": 17,
    "start_time": "2023-09-25T11:22:51.002Z"
   },
   {
    "duration": 10,
    "start_time": "2023-09-25T11:23:15.325Z"
   },
   {
    "duration": 11,
    "start_time": "2023-09-25T11:23:23.660Z"
   },
   {
    "duration": 7,
    "start_time": "2023-09-25T11:23:38.002Z"
   },
   {
    "duration": 4,
    "start_time": "2023-09-25T11:24:02.742Z"
   },
   {
    "duration": 9,
    "start_time": "2023-09-25T11:24:06.836Z"
   },
   {
    "duration": 13,
    "start_time": "2023-09-25T11:25:17.641Z"
   },
   {
    "duration": 4,
    "start_time": "2023-09-25T11:25:18.087Z"
   },
   {
    "duration": 11,
    "start_time": "2023-09-25T11:25:23.429Z"
   },
   {
    "duration": 13,
    "start_time": "2023-09-25T11:25:46.304Z"
   },
   {
    "duration": 5,
    "start_time": "2023-09-25T11:25:50.734Z"
   },
   {
    "duration": 8,
    "start_time": "2023-09-25T11:26:09.871Z"
   },
   {
    "duration": 10,
    "start_time": "2023-09-25T11:26:17.259Z"
   },
   {
    "duration": 8,
    "start_time": "2023-09-25T11:26:22.225Z"
   },
   {
    "duration": 1682,
    "start_time": "2023-09-25T11:27:08.093Z"
   },
   {
    "duration": 5,
    "start_time": "2023-09-25T11:28:08.840Z"
   },
   {
    "duration": 1169,
    "start_time": "2023-09-25T11:28:12.530Z"
   },
   {
    "duration": 16,
    "start_time": "2023-09-25T11:28:20.300Z"
   },
   {
    "duration": 17,
    "start_time": "2023-09-25T11:28:35.441Z"
   },
   {
    "duration": 12,
    "start_time": "2023-09-25T11:30:11.425Z"
   },
   {
    "duration": 12,
    "start_time": "2023-09-25T11:38:16.371Z"
   },
   {
    "duration": 10,
    "start_time": "2023-09-25T11:38:20.798Z"
   },
   {
    "duration": 16,
    "start_time": "2023-09-25T11:39:01.253Z"
   },
   {
    "duration": 9,
    "start_time": "2023-09-25T11:39:01.832Z"
   },
   {
    "duration": 3,
    "start_time": "2023-09-25T11:40:34.273Z"
   },
   {
    "duration": 606,
    "start_time": "2023-09-25T11:40:34.278Z"
   },
   {
    "duration": 9,
    "start_time": "2023-09-25T11:40:34.885Z"
   },
   {
    "duration": 34,
    "start_time": "2023-09-25T11:40:34.895Z"
   },
   {
    "duration": 43,
    "start_time": "2023-09-25T11:40:34.931Z"
   },
   {
    "duration": 64,
    "start_time": "2023-09-25T11:40:34.975Z"
   },
   {
    "duration": 14,
    "start_time": "2023-09-25T11:40:35.059Z"
   },
   {
    "duration": 85,
    "start_time": "2023-09-25T11:40:35.075Z"
   },
   {
    "duration": 60,
    "start_time": "2023-09-25T11:40:35.161Z"
   },
   {
    "duration": 37,
    "start_time": "2023-09-25T11:40:35.223Z"
   },
   {
    "duration": 13,
    "start_time": "2023-09-25T11:40:35.263Z"
   },
   {
    "duration": 24,
    "start_time": "2023-09-25T11:40:35.277Z"
   },
   {
    "duration": 289,
    "start_time": "2023-09-25T11:40:35.302Z"
   },
   {
    "duration": 8,
    "start_time": "2023-09-25T11:40:35.592Z"
   },
   {
    "duration": 93,
    "start_time": "2023-09-25T11:40:35.602Z"
   },
   {
    "duration": 77,
    "start_time": "2023-09-25T11:40:35.697Z"
   },
   {
    "duration": 125,
    "start_time": "2023-09-25T11:40:35.775Z"
   },
   {
    "duration": 10,
    "start_time": "2023-09-25T11:40:35.902Z"
   },
   {
    "duration": 36,
    "start_time": "2023-09-25T11:40:35.915Z"
   },
   {
    "duration": 29,
    "start_time": "2023-09-25T11:40:35.953Z"
   },
   {
    "duration": 58,
    "start_time": "2023-09-25T11:40:35.984Z"
   },
   {
    "duration": 46,
    "start_time": "2023-09-25T11:40:36.044Z"
   },
   {
    "duration": 46,
    "start_time": "2023-09-25T11:40:36.092Z"
   },
   {
    "duration": 16,
    "start_time": "2023-09-25T11:40:36.153Z"
   },
   {
    "duration": 16,
    "start_time": "2023-09-25T11:40:36.170Z"
   },
   {
    "duration": 21,
    "start_time": "2023-09-25T11:40:36.188Z"
   },
   {
    "duration": 24,
    "start_time": "2023-09-25T11:40:36.210Z"
   },
   {
    "duration": 47,
    "start_time": "2023-09-25T11:40:36.235Z"
   },
   {
    "duration": 32,
    "start_time": "2023-09-25T11:40:36.286Z"
   },
   {
    "duration": 3,
    "start_time": "2023-09-25T11:40:36.320Z"
   },
   {
    "duration": 46,
    "start_time": "2023-09-25T11:40:36.324Z"
   },
   {
    "duration": 416,
    "start_time": "2023-09-25T11:40:36.372Z"
   },
   {
    "duration": 9,
    "start_time": "2023-09-25T11:40:36.790Z"
   },
   {
    "duration": 224,
    "start_time": "2023-09-25T11:40:36.800Z"
   },
   {
    "duration": 4,
    "start_time": "2023-09-25T11:40:37.025Z"
   },
   {
    "duration": 243,
    "start_time": "2023-09-25T11:40:37.031Z"
   },
   {
    "duration": 10,
    "start_time": "2023-09-25T11:40:37.275Z"
   },
   {
    "duration": 76,
    "start_time": "2023-09-25T11:40:37.286Z"
   },
   {
    "duration": 15,
    "start_time": "2023-09-25T11:40:37.363Z"
   },
   {
    "duration": 14,
    "start_time": "2023-09-25T11:40:37.380Z"
   },
   {
    "duration": 184,
    "start_time": "2023-09-25T11:40:37.396Z"
   },
   {
    "duration": 9,
    "start_time": "2023-09-25T11:40:37.581Z"
   },
   {
    "duration": 77,
    "start_time": "2023-09-25T11:40:37.592Z"
   },
   {
    "duration": 20,
    "start_time": "2023-09-25T11:40:37.670Z"
   },
   {
    "duration": 266,
    "start_time": "2023-09-25T11:40:37.692Z"
   },
   {
    "duration": 132,
    "start_time": "2023-09-25T11:40:37.964Z"
   },
   {
    "duration": 79,
    "start_time": "2023-09-25T11:40:38.098Z"
   },
   {
    "duration": 116,
    "start_time": "2023-09-25T11:40:38.178Z"
   },
   {
    "duration": 157,
    "start_time": "2023-09-25T11:40:38.296Z"
   },
   {
    "duration": 12,
    "start_time": "2023-09-25T11:40:38.461Z"
   },
   {
    "duration": 189,
    "start_time": "2023-09-25T11:40:38.475Z"
   },
   {
    "duration": 7,
    "start_time": "2023-09-25T11:40:38.665Z"
   },
   {
    "duration": 40,
    "start_time": "2023-09-25T11:40:38.673Z"
   },
   {
    "duration": 47,
    "start_time": "2023-09-25T11:40:38.715Z"
   },
   {
    "duration": 34,
    "start_time": "2023-09-25T11:40:38.767Z"
   },
   {
    "duration": 74,
    "start_time": "2023-09-25T11:40:38.802Z"
   },
   {
    "duration": 15,
    "start_time": "2023-09-25T11:40:38.877Z"
   },
   {
    "duration": 52,
    "start_time": "2023-09-25T11:40:38.893Z"
   },
   {
    "duration": 17,
    "start_time": "2023-09-25T11:40:38.947Z"
   },
   {
    "duration": 151,
    "start_time": "2023-09-25T11:40:38.965Z"
   },
   {
    "duration": 17,
    "start_time": "2023-09-25T12:14:51.785Z"
   },
   {
    "duration": 20,
    "start_time": "2023-09-25T12:15:51.773Z"
   },
   {
    "duration": 29,
    "start_time": "2023-09-25T12:16:14.336Z"
   },
   {
    "duration": 119,
    "start_time": "2023-09-25T12:17:04.226Z"
   },
   {
    "duration": 510,
    "start_time": "2023-09-25T12:17:16.037Z"
   },
   {
    "duration": 22,
    "start_time": "2023-09-25T12:21:16.630Z"
   },
   {
    "duration": 21,
    "start_time": "2023-09-25T12:21:37.915Z"
   },
   {
    "duration": 20,
    "start_time": "2023-09-25T12:21:47.919Z"
   },
   {
    "duration": 20,
    "start_time": "2023-09-25T12:22:15.389Z"
   },
   {
    "duration": 10,
    "start_time": "2023-09-25T12:33:55.993Z"
   },
   {
    "duration": 35,
    "start_time": "2023-09-25T12:35:01.661Z"
   },
   {
    "duration": 77,
    "start_time": "2023-09-25T12:35:10.962Z"
   },
   {
    "duration": 65,
    "start_time": "2023-09-25T12:38:27.585Z"
   },
   {
    "duration": 65,
    "start_time": "2023-09-25T12:38:34.250Z"
   },
   {
    "duration": 10,
    "start_time": "2023-09-25T12:38:57.414Z"
   },
   {
    "duration": 67,
    "start_time": "2023-09-25T12:39:22.908Z"
   },
   {
    "duration": 68,
    "start_time": "2023-09-25T12:39:53.974Z"
   },
   {
    "duration": 9,
    "start_time": "2023-09-25T12:40:05.292Z"
   },
   {
    "duration": 78,
    "start_time": "2023-09-25T12:48:58.300Z"
   },
   {
    "duration": 77,
    "start_time": "2023-09-25T12:49:11.820Z"
   },
   {
    "duration": 79,
    "start_time": "2023-09-25T12:49:28.803Z"
   },
   {
    "duration": 140,
    "start_time": "2023-09-25T12:50:18.576Z"
   },
   {
    "duration": 21,
    "start_time": "2023-09-25T12:54:38.031Z"
   },
   {
    "duration": 6,
    "start_time": "2023-09-25T12:54:39.709Z"
   },
   {
    "duration": 52,
    "start_time": "2023-09-25T12:54:44.378Z"
   },
   {
    "duration": 58,
    "start_time": "2023-09-25T12:55:07.707Z"
   },
   {
    "duration": 10,
    "start_time": "2023-09-25T12:58:54.078Z"
   },
   {
    "duration": 156,
    "start_time": "2023-09-25T13:04:22.583Z"
   },
   {
    "duration": 20,
    "start_time": "2023-09-25T13:04:26.208Z"
   },
   {
    "duration": 80,
    "start_time": "2023-09-25T13:04:50.761Z"
   },
   {
    "duration": 184,
    "start_time": "2023-09-25T13:05:00.678Z"
   },
   {
    "duration": 84,
    "start_time": "2023-09-25T13:05:06.299Z"
   },
   {
    "duration": 10,
    "start_time": "2023-09-25T13:05:25.878Z"
   },
   {
    "duration": 18,
    "start_time": "2023-09-25T13:05:29.221Z"
   },
   {
    "duration": 5,
    "start_time": "2023-09-25T13:05:30.013Z"
   },
   {
    "duration": 4,
    "start_time": "2023-09-25T13:05:42.370Z"
   },
   {
    "duration": 2,
    "start_time": "2023-09-25T13:07:40.588Z"
   },
   {
    "duration": 891,
    "start_time": "2023-09-25T13:17:44.769Z"
   },
   {
    "duration": 601,
    "start_time": "2023-09-25T13:17:45.664Z"
   },
   {
    "duration": 18,
    "start_time": "2023-09-25T13:17:46.266Z"
   },
   {
    "duration": 30,
    "start_time": "2023-09-25T13:17:46.288Z"
   },
   {
    "duration": 95,
    "start_time": "2023-09-25T13:17:46.320Z"
   },
   {
    "duration": 120,
    "start_time": "2023-09-25T13:17:46.417Z"
   },
   {
    "duration": 29,
    "start_time": "2023-09-25T13:17:46.539Z"
   },
   {
    "duration": 56,
    "start_time": "2023-09-25T13:17:46.570Z"
   },
   {
    "duration": 72,
    "start_time": "2023-09-25T13:17:46.628Z"
   },
   {
    "duration": 32,
    "start_time": "2023-09-25T13:17:46.702Z"
   },
   {
    "duration": 28,
    "start_time": "2023-09-25T13:17:46.736Z"
   },
   {
    "duration": 20,
    "start_time": "2023-09-25T13:17:46.766Z"
   },
   {
    "duration": 323,
    "start_time": "2023-09-25T13:17:46.788Z"
   },
   {
    "duration": 7,
    "start_time": "2023-09-25T13:17:47.113Z"
   },
   {
    "duration": 40,
    "start_time": "2023-09-25T13:17:47.121Z"
   },
   {
    "duration": 27,
    "start_time": "2023-09-25T13:17:47.162Z"
   },
   {
    "duration": 114,
    "start_time": "2023-09-25T13:17:47.190Z"
   },
   {
    "duration": 4,
    "start_time": "2023-09-25T13:17:47.306Z"
   },
   {
    "duration": 16,
    "start_time": "2023-09-25T13:17:47.311Z"
   },
   {
    "duration": 16,
    "start_time": "2023-09-25T13:17:47.328Z"
   },
   {
    "duration": 36,
    "start_time": "2023-09-25T13:17:47.346Z"
   },
   {
    "duration": 31,
    "start_time": "2023-09-25T13:17:47.383Z"
   },
   {
    "duration": 50,
    "start_time": "2023-09-25T13:17:47.415Z"
   },
   {
    "duration": 8,
    "start_time": "2023-09-25T13:17:47.467Z"
   },
   {
    "duration": 12,
    "start_time": "2023-09-25T13:17:47.476Z"
   },
   {
    "duration": 34,
    "start_time": "2023-09-25T13:17:47.489Z"
   },
   {
    "duration": 35,
    "start_time": "2023-09-25T13:17:47.524Z"
   },
   {
    "duration": 6,
    "start_time": "2023-09-25T13:17:47.563Z"
   },
   {
    "duration": 28,
    "start_time": "2023-09-25T13:17:47.570Z"
   },
   {
    "duration": 430,
    "start_time": "2023-09-25T13:17:47.599Z"
   },
   {
    "duration": 9,
    "start_time": "2023-09-25T13:17:48.030Z"
   },
   {
    "duration": 182,
    "start_time": "2023-09-25T13:17:48.040Z"
   },
   {
    "duration": 4,
    "start_time": "2023-09-25T13:17:48.224Z"
   },
   {
    "duration": 145,
    "start_time": "2023-09-25T13:17:48.229Z"
   },
   {
    "duration": 11,
    "start_time": "2023-09-25T13:17:48.375Z"
   },
   {
    "duration": 32,
    "start_time": "2023-09-25T13:17:48.388Z"
   },
   {
    "duration": 28,
    "start_time": "2023-09-25T13:17:48.422Z"
   },
   {
    "duration": 40,
    "start_time": "2023-09-25T13:17:48.454Z"
   },
   {
    "duration": 78,
    "start_time": "2023-09-25T13:17:48.495Z"
   },
   {
    "duration": 10,
    "start_time": "2023-09-25T13:17:48.575Z"
   },
   {
    "duration": 47,
    "start_time": "2023-09-25T13:17:48.586Z"
   },
   {
    "duration": 31,
    "start_time": "2023-09-25T13:17:48.635Z"
   },
   {
    "duration": 98,
    "start_time": "2023-09-25T13:17:48.667Z"
   },
   {
    "duration": 72,
    "start_time": "2023-09-25T13:17:48.766Z"
   },
   {
    "duration": 37,
    "start_time": "2023-09-25T13:17:48.839Z"
   },
   {
    "duration": 47,
    "start_time": "2023-09-25T13:17:48.877Z"
   },
   {
    "duration": 80,
    "start_time": "2023-09-25T13:17:48.926Z"
   },
   {
    "duration": 10,
    "start_time": "2023-09-25T13:17:49.008Z"
   },
   {
    "duration": 101,
    "start_time": "2023-09-25T13:17:49.020Z"
   },
   {
    "duration": 7,
    "start_time": "2023-09-25T13:17:49.123Z"
   },
   {
    "duration": 13,
    "start_time": "2023-09-25T13:17:49.131Z"
   },
   {
    "duration": 12,
    "start_time": "2023-09-25T13:17:49.150Z"
   },
   {
    "duration": 36,
    "start_time": "2023-09-25T13:17:49.165Z"
   },
   {
    "duration": 33,
    "start_time": "2023-09-25T13:17:49.202Z"
   },
   {
    "duration": 25,
    "start_time": "2023-09-25T13:17:49.237Z"
   },
   {
    "duration": 18,
    "start_time": "2023-09-25T13:17:49.263Z"
   },
   {
    "duration": 6,
    "start_time": "2023-09-25T13:17:49.283Z"
   },
   {
    "duration": 90,
    "start_time": "2023-09-25T13:17:49.291Z"
   },
   {
    "duration": 976,
    "start_time": "2023-09-25T16:48:08.923Z"
   },
   {
    "duration": 640,
    "start_time": "2023-09-25T16:48:09.901Z"
   },
   {
    "duration": 17,
    "start_time": "2023-09-25T16:48:10.543Z"
   },
   {
    "duration": 11,
    "start_time": "2023-09-25T16:48:10.562Z"
   },
   {
    "duration": 26,
    "start_time": "2023-09-25T16:48:10.575Z"
   },
   {
    "duration": 83,
    "start_time": "2023-09-25T16:48:10.603Z"
   },
   {
    "duration": 16,
    "start_time": "2023-09-25T16:48:10.689Z"
   },
   {
    "duration": 55,
    "start_time": "2023-09-25T16:48:10.707Z"
   },
   {
    "duration": 81,
    "start_time": "2023-09-25T16:48:10.764Z"
   },
   {
    "duration": 8,
    "start_time": "2023-09-25T16:48:10.848Z"
   },
   {
    "duration": 32,
    "start_time": "2023-09-25T16:48:10.858Z"
   },
   {
    "duration": 21,
    "start_time": "2023-09-25T16:48:10.891Z"
   },
   {
    "duration": 341,
    "start_time": "2023-09-25T16:48:10.914Z"
   },
   {
    "duration": 8,
    "start_time": "2023-09-25T16:48:11.256Z"
   },
   {
    "duration": 23,
    "start_time": "2023-09-25T16:48:11.265Z"
   },
   {
    "duration": 36,
    "start_time": "2023-09-25T16:48:11.290Z"
   },
   {
    "duration": 126,
    "start_time": "2023-09-25T16:48:11.327Z"
   },
   {
    "duration": 5,
    "start_time": "2023-09-25T16:48:11.455Z"
   },
   {
    "duration": 29,
    "start_time": "2023-09-25T16:48:11.461Z"
   },
   {
    "duration": 18,
    "start_time": "2023-09-25T16:48:11.492Z"
   },
   {
    "duration": 41,
    "start_time": "2023-09-25T16:48:11.512Z"
   },
   {
    "duration": 52,
    "start_time": "2023-09-25T16:48:11.554Z"
   },
   {
    "duration": 43,
    "start_time": "2023-09-25T16:48:11.608Z"
   },
   {
    "duration": 8,
    "start_time": "2023-09-25T16:48:11.652Z"
   },
   {
    "duration": 26,
    "start_time": "2023-09-25T16:48:11.661Z"
   },
   {
    "duration": 13,
    "start_time": "2023-09-25T16:48:11.688Z"
   },
   {
    "duration": 29,
    "start_time": "2023-09-25T16:48:11.703Z"
   },
   {
    "duration": 4,
    "start_time": "2023-09-25T16:48:11.736Z"
   },
   {
    "duration": 26,
    "start_time": "2023-09-25T16:48:11.742Z"
   },
   {
    "duration": 529,
    "start_time": "2023-09-25T16:48:11.770Z"
   },
   {
    "duration": 9,
    "start_time": "2023-09-25T16:48:12.301Z"
   },
   {
    "duration": 229,
    "start_time": "2023-09-25T16:48:12.312Z"
   },
   {
    "duration": 4,
    "start_time": "2023-09-25T16:48:12.543Z"
   },
   {
    "duration": 150,
    "start_time": "2023-09-25T16:48:12.548Z"
   },
   {
    "duration": 12,
    "start_time": "2023-09-25T16:48:12.699Z"
   },
   {
    "duration": 29,
    "start_time": "2023-09-25T16:48:12.713Z"
   },
   {
    "duration": 18,
    "start_time": "2023-09-25T16:48:12.744Z"
   },
   {
    "duration": 27,
    "start_time": "2023-09-25T16:48:12.763Z"
   },
   {
    "duration": 79,
    "start_time": "2023-09-25T16:48:12.792Z"
   },
   {
    "duration": 9,
    "start_time": "2023-09-25T16:48:12.881Z"
   },
   {
    "duration": 31,
    "start_time": "2023-09-25T16:48:12.892Z"
   },
   {
    "duration": 22,
    "start_time": "2023-09-25T16:48:12.924Z"
   },
   {
    "duration": 105,
    "start_time": "2023-09-25T16:48:12.948Z"
   },
   {
    "duration": 98,
    "start_time": "2023-09-25T16:48:13.054Z"
   },
   {
    "duration": 38,
    "start_time": "2023-09-25T16:48:13.154Z"
   },
   {
    "duration": 64,
    "start_time": "2023-09-25T16:48:13.194Z"
   },
   {
    "duration": 64,
    "start_time": "2023-09-25T16:48:13.280Z"
   },
   {
    "duration": 12,
    "start_time": "2023-09-25T16:48:13.346Z"
   },
   {
    "duration": 96,
    "start_time": "2023-09-25T16:48:13.360Z"
   },
   {
    "duration": 8,
    "start_time": "2023-09-25T16:48:13.458Z"
   },
   {
    "duration": 10,
    "start_time": "2023-09-25T16:48:13.480Z"
   },
   {
    "duration": 29,
    "start_time": "2023-09-25T16:48:13.492Z"
   },
   {
    "duration": 33,
    "start_time": "2023-09-25T16:48:13.523Z"
   },
   {
    "duration": 49,
    "start_time": "2023-09-25T16:48:13.558Z"
   },
   {
    "duration": 17,
    "start_time": "2023-09-25T16:48:13.609Z"
   },
   {
    "duration": 22,
    "start_time": "2023-09-25T16:48:13.627Z"
   },
   {
    "duration": 6,
    "start_time": "2023-09-25T16:48:13.651Z"
   },
   {
    "duration": 74,
    "start_time": "2023-09-25T16:48:13.659Z"
   },
   {
    "duration": 3,
    "start_time": "2023-09-25T17:16:34.798Z"
   },
   {
    "duration": 586,
    "start_time": "2023-09-25T17:16:34.802Z"
   },
   {
    "duration": 9,
    "start_time": "2023-09-25T17:16:35.389Z"
   },
   {
    "duration": 36,
    "start_time": "2023-09-25T17:16:35.400Z"
   },
   {
    "duration": 78,
    "start_time": "2023-09-25T17:16:35.438Z"
   },
   {
    "duration": 113,
    "start_time": "2023-09-25T17:16:35.519Z"
   },
   {
    "duration": 37,
    "start_time": "2023-09-25T17:16:35.634Z"
   },
   {
    "duration": 62,
    "start_time": "2023-09-25T17:16:35.673Z"
   },
   {
    "duration": 64,
    "start_time": "2023-09-25T17:16:35.737Z"
   },
   {
    "duration": 30,
    "start_time": "2023-09-25T17:16:35.802Z"
   },
   {
    "duration": 29,
    "start_time": "2023-09-25T17:16:35.834Z"
   },
   {
    "duration": 34,
    "start_time": "2023-09-25T17:16:35.865Z"
   },
   {
    "duration": 310,
    "start_time": "2023-09-25T17:16:35.906Z"
   },
   {
    "duration": 8,
    "start_time": "2023-09-25T17:16:36.218Z"
   },
   {
    "duration": 43,
    "start_time": "2023-09-25T17:16:36.227Z"
   },
   {
    "duration": 35,
    "start_time": "2023-09-25T17:16:36.272Z"
   },
   {
    "duration": 112,
    "start_time": "2023-09-25T17:16:36.309Z"
   },
   {
    "duration": 4,
    "start_time": "2023-09-25T17:16:36.423Z"
   },
   {
    "duration": 24,
    "start_time": "2023-09-25T17:16:36.429Z"
   },
   {
    "duration": 11,
    "start_time": "2023-09-25T17:16:36.459Z"
   },
   {
    "duration": 27,
    "start_time": "2023-09-25T17:16:36.471Z"
   },
   {
    "duration": 32,
    "start_time": "2023-09-25T17:16:36.499Z"
   },
   {
    "duration": 63,
    "start_time": "2023-09-25T17:16:36.532Z"
   },
   {
    "duration": 9,
    "start_time": "2023-09-25T17:16:36.597Z"
   },
   {
    "duration": 17,
    "start_time": "2023-09-25T17:16:36.607Z"
   },
   {
    "duration": 14,
    "start_time": "2023-09-25T17:16:36.626Z"
   },
   {
    "duration": 21,
    "start_time": "2023-09-25T17:16:36.654Z"
   },
   {
    "duration": 3,
    "start_time": "2023-09-25T17:16:36.677Z"
   },
   {
    "duration": 17,
    "start_time": "2023-09-25T17:16:36.681Z"
   },
   {
    "duration": 77,
    "start_time": "2023-09-25T17:16:36.700Z"
   },
   {
    "duration": 8,
    "start_time": "2023-09-25T17:16:36.779Z"
   },
   {
    "duration": 130,
    "start_time": "2023-09-25T17:16:36.788Z"
   },
   {
    "duration": 4,
    "start_time": "2023-09-25T17:16:36.920Z"
   },
   {
    "duration": 143,
    "start_time": "2023-09-25T17:16:36.926Z"
   },
   {
    "duration": 11,
    "start_time": "2023-09-25T17:16:37.070Z"
   },
   {
    "duration": 38,
    "start_time": "2023-09-25T17:16:37.083Z"
   },
   {
    "duration": 14,
    "start_time": "2023-09-25T17:16:37.125Z"
   },
   {
    "duration": 31,
    "start_time": "2023-09-25T17:16:37.140Z"
   },
   {
    "duration": 60,
    "start_time": "2023-09-25T17:16:37.172Z"
   },
   {
    "duration": 9,
    "start_time": "2023-09-25T17:16:37.233Z"
   },
   {
    "duration": 32,
    "start_time": "2023-09-25T17:16:37.243Z"
   },
   {
    "duration": 19,
    "start_time": "2023-09-25T17:16:37.276Z"
   },
   {
    "duration": 91,
    "start_time": "2023-09-25T17:16:37.297Z"
   },
   {
    "duration": 181,
    "start_time": "2023-09-25T17:16:37.390Z"
   },
   {
    "duration": 24,
    "start_time": "2023-09-25T17:16:37.572Z"
   },
   {
    "duration": 104,
    "start_time": "2023-09-25T17:16:37.651Z"
   },
   {
    "duration": 120,
    "start_time": "2023-09-25T17:16:37.756Z"
   },
   {
    "duration": 11,
    "start_time": "2023-09-25T17:16:37.878Z"
   },
   {
    "duration": 183,
    "start_time": "2023-09-25T17:16:37.890Z"
   },
   {
    "duration": 6,
    "start_time": "2023-09-25T17:16:38.074Z"
   },
   {
    "duration": 9,
    "start_time": "2023-09-25T17:16:38.081Z"
   },
   {
    "duration": 65,
    "start_time": "2023-09-25T17:16:38.092Z"
   },
   {
    "duration": 194,
    "start_time": "2023-09-25T17:16:38.158Z"
   },
   {
    "duration": 29,
    "start_time": "2023-09-25T17:16:38.364Z"
   },
   {
    "duration": 64,
    "start_time": "2023-09-25T17:16:38.394Z"
   },
   {
    "duration": 20,
    "start_time": "2023-09-25T17:16:38.460Z"
   },
   {
    "duration": 6,
    "start_time": "2023-09-25T17:16:38.481Z"
   },
   {
    "duration": 167,
    "start_time": "2023-09-25T17:16:38.488Z"
   },
   {
    "duration": 77,
    "start_time": "2023-09-25T17:25:15.912Z"
   },
   {
    "duration": 73,
    "start_time": "2023-09-25T17:25:28.045Z"
   },
   {
    "duration": 1022,
    "start_time": "2023-09-26T08:39:24.795Z"
   },
   {
    "duration": 1098,
    "start_time": "2023-09-26T08:39:25.819Z"
   },
   {
    "duration": 16,
    "start_time": "2023-09-26T08:39:26.918Z"
   },
   {
    "duration": 18,
    "start_time": "2023-09-26T08:39:26.936Z"
   },
   {
    "duration": 30,
    "start_time": "2023-09-26T08:39:26.956Z"
   },
   {
    "duration": 77,
    "start_time": "2023-09-26T08:39:26.988Z"
   },
   {
    "duration": 15,
    "start_time": "2023-09-26T08:39:27.067Z"
   },
   {
    "duration": 68,
    "start_time": "2023-09-26T08:39:27.084Z"
   },
   {
    "duration": 88,
    "start_time": "2023-09-26T08:39:27.154Z"
   },
   {
    "duration": 14,
    "start_time": "2023-09-26T08:39:27.245Z"
   },
   {
    "duration": 23,
    "start_time": "2023-09-26T08:39:27.261Z"
   },
   {
    "duration": 28,
    "start_time": "2023-09-26T08:39:27.286Z"
   },
   {
    "duration": 373,
    "start_time": "2023-09-26T08:39:27.316Z"
   },
   {
    "duration": 9,
    "start_time": "2023-09-26T08:39:27.691Z"
   },
   {
    "duration": 19,
    "start_time": "2023-09-26T08:39:27.702Z"
   },
   {
    "duration": 35,
    "start_time": "2023-09-26T08:39:27.723Z"
   },
   {
    "duration": 165,
    "start_time": "2023-09-26T08:39:27.760Z"
   },
   {
    "duration": 5,
    "start_time": "2023-09-26T08:39:27.927Z"
   },
   {
    "duration": 34,
    "start_time": "2023-09-26T08:39:27.933Z"
   },
   {
    "duration": 33,
    "start_time": "2023-09-26T08:39:27.969Z"
   },
   {
    "duration": 54,
    "start_time": "2023-09-26T08:39:28.004Z"
   },
   {
    "duration": 47,
    "start_time": "2023-09-26T08:39:28.060Z"
   },
   {
    "duration": 46,
    "start_time": "2023-09-26T08:39:28.109Z"
   },
   {
    "duration": 27,
    "start_time": "2023-09-26T08:39:28.156Z"
   },
   {
    "duration": 21,
    "start_time": "2023-09-26T08:39:28.184Z"
   },
   {
    "duration": 30,
    "start_time": "2023-09-26T08:39:28.207Z"
   },
   {
    "duration": 28,
    "start_time": "2023-09-26T08:39:28.239Z"
   },
   {
    "duration": 20,
    "start_time": "2023-09-26T08:39:28.271Z"
   },
   {
    "duration": 44,
    "start_time": "2023-09-26T08:39:28.292Z"
   },
   {
    "duration": 461,
    "start_time": "2023-09-26T08:39:28.337Z"
   },
   {
    "duration": 14,
    "start_time": "2023-09-26T08:39:28.800Z"
   },
   {
    "duration": 291,
    "start_time": "2023-09-26T08:39:28.817Z"
   },
   {
    "duration": 4,
    "start_time": "2023-09-26T08:39:29.110Z"
   },
   {
    "duration": 183,
    "start_time": "2023-09-26T08:39:29.116Z"
   },
   {
    "duration": 13,
    "start_time": "2023-09-26T08:39:29.301Z"
   },
   {
    "duration": 31,
    "start_time": "2023-09-26T08:39:29.315Z"
   },
   {
    "duration": 19,
    "start_time": "2023-09-26T08:39:29.348Z"
   },
   {
    "duration": 29,
    "start_time": "2023-09-26T08:39:29.369Z"
   },
   {
    "duration": 96,
    "start_time": "2023-09-26T08:39:29.401Z"
   },
   {
    "duration": 10,
    "start_time": "2023-09-26T08:39:29.498Z"
   },
   {
    "duration": 45,
    "start_time": "2023-09-26T08:39:29.510Z"
   },
   {
    "duration": 21,
    "start_time": "2023-09-26T08:39:29.557Z"
   },
   {
    "duration": 118,
    "start_time": "2023-09-26T08:39:29.580Z"
   },
   {
    "duration": 88,
    "start_time": "2023-09-26T08:39:29.700Z"
   },
   {
    "duration": 26,
    "start_time": "2023-09-26T08:39:29.790Z"
   },
   {
    "duration": 91,
    "start_time": "2023-09-26T08:39:29.818Z"
   },
   {
    "duration": 89,
    "start_time": "2023-09-26T08:39:29.911Z"
   },
   {
    "duration": 14,
    "start_time": "2023-09-26T08:39:30.001Z"
   },
   {
    "duration": 176,
    "start_time": "2023-09-26T08:39:30.017Z"
   },
   {
    "duration": 11,
    "start_time": "2023-09-26T08:39:30.194Z"
   },
   {
    "duration": 69,
    "start_time": "2023-09-26T08:39:30.207Z"
   },
   {
    "duration": 65,
    "start_time": "2023-09-26T08:39:30.277Z"
   },
   {
    "duration": 79,
    "start_time": "2023-09-26T08:39:30.343Z"
   },
   {
    "duration": 46,
    "start_time": "2023-09-26T08:39:30.423Z"
   },
   {
    "duration": 21,
    "start_time": "2023-09-26T08:39:30.471Z"
   },
   {
    "duration": 35,
    "start_time": "2023-09-26T08:39:30.494Z"
   },
   {
    "duration": 51,
    "start_time": "2023-09-26T08:39:30.530Z"
   },
   {
    "duration": 226,
    "start_time": "2023-09-26T08:39:30.583Z"
   },
   {
    "duration": 10,
    "start_time": "2023-09-26T08:58:21.892Z"
   },
   {
    "duration": 18,
    "start_time": "2023-09-26T08:59:02.187Z"
   },
   {
    "duration": 28,
    "start_time": "2023-09-26T08:59:09.574Z"
   },
   {
    "duration": 26,
    "start_time": "2023-09-26T08:59:28.828Z"
   }
  ],
  "kernelspec": {
   "display_name": "Python 3 (ipykernel)",
   "language": "python",
   "name": "python3"
  },
  "language_info": {
   "codemirror_mode": {
    "name": "ipython",
    "version": 3
   },
   "file_extension": ".py",
   "mimetype": "text/x-python",
   "name": "python",
   "nbconvert_exporter": "python",
   "pygments_lexer": "ipython3",
   "version": "3.11.3"
  },
  "toc": {
   "base_numbering": 1,
   "nav_menu": {},
   "number_sections": true,
   "sideBar": true,
   "skip_h1_title": true,
   "title_cell": "Table of Contents",
   "title_sidebar": "Contents",
   "toc_cell": false,
   "toc_position": {
    "height": "calc(100% - 180px)",
    "left": "10px",
    "top": "150px",
    "width": "326.75px"
   },
   "toc_section_display": true,
   "toc_window_display": true
  }
 },
 "nbformat": 4,
 "nbformat_minor": 2
}
