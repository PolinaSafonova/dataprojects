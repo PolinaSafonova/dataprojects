{
 "cells": [
  {
   "cell_type": "markdown",
   "metadata": {},
   "source": [
    "# Проект: сервис для чтения книг"
   ]
  },
  {
   "cell_type": "markdown",
   "metadata": {},
   "source": [
    "Цель: проанализировать базу данных сервиса для чтения книг по подписке."
   ]
  },
  {
   "cell_type": "markdown",
   "metadata": {},
   "source": [
    "## Описание данных"
   ]
  },
  {
   "cell_type": "markdown",
   "metadata": {},
   "source": [
    "Таблица books  \n",
    "Содержит данные о книгах:\n",
    "- book_id — идентификатор книги;\n",
    "- author_id — идентификатор автора;\n",
    "- title — название книги;\n",
    "- num_pages — количество страниц;\n",
    "- publication_date — дата публикации книги;\n",
    "- publisher_id — идентификатор издателя.    \n",
    "\n",
    "Таблица authors  \n",
    "Содержит данные об авторах:\n",
    "- author_id — идентификатор автора;\n",
    "- author — имя автора.    \n",
    "\n",
    "Таблица publishers  \n",
    "Содержит данные об издательствах:\n",
    "- publisher_id — идентификатор издательства;\n",
    "- publisher — название издательства.  \n",
    "\n",
    "Таблица ratings  \n",
    "Содержит данные о пользовательских оценках книг:\n",
    "- rating_id — идентификатор оценки;\n",
    "- book_id — идентификатор книги;\n",
    "- username — имя пользователя, оставившего оценку;\n",
    "- rating — оценка книги.  \n",
    "\n",
    "Таблица reviews  \n",
    "Содержит данные о пользовательских обзорах на книги:\n",
    "- review_id — идентификатор обзора;\n",
    "- book_id — идентификатор книги;\n",
    "- username — имя пользователя, написавшего обзор;\n",
    "- text — текст обзора."
   ]
  },
  {
   "cell_type": "markdown",
   "metadata": {},
   "source": [
    "## Подключение к базе данных"
   ]
  },
  {
   "cell_type": "code",
   "execution_count": 24,
   "metadata": {},
   "outputs": [],
   "source": [
    "# импортируем библиотеки\n",
    "import pandas as pd\n",
    "import sqlalchemy as sa\n",
    "# устанавливаем параметры\n",
    "db_config = {\n",
    "'user': 'praktikum_student', # имя пользователя\n",
    "'pwd': 'Sdf4$2;d-d30pp', # пароль\n",
    "'host': 'rc1b-wcoijxj3yxfsf3fs.mdb.yandexcloud.net',\n",
    "'port': 6432, # порт подключения\n",
    "'db': 'data-analyst-final-project-db' # название базы данных\n",
    "}\n",
    "connection_string = 'postgresql://{user}:{pwd}@{host}:{port}/{db}'.format(**db_config)\n",
    "# сохраняем коннектор\n",
    "engine = sa.create_engine(connection_string, connect_args={'sslmode':'require'})\n",
    "# чтобы выполнить SQL-запрос, пишем функцию с использованием Pandas\n",
    "def get_sql_data(query:str, engine:sa.engine.base.Engine=engine) -> pd.DataFrame:\n",
    "# '''Открываем соединение, получаем данные из sql, закрываем соединение'''\n",
    "  with engine.connect() as con:\n",
    "    return pd.read_sql(sql=sa.text(query), con = con)"
   ]
  },
  {
   "cell_type": "markdown",
   "metadata": {},
   "source": [
    "## Исследование таблиц"
   ]
  },
  {
   "cell_type": "markdown",
   "metadata": {},
   "source": [
    "### Таблица books"
   ]
  },
  {
   "cell_type": "code",
   "execution_count": 25,
   "metadata": {},
   "outputs": [
    {
     "data": {
      "text/html": [
       "<div>\n",
       "<style scoped>\n",
       "    .dataframe tbody tr th:only-of-type {\n",
       "        vertical-align: middle;\n",
       "    }\n",
       "\n",
       "    .dataframe tbody tr th {\n",
       "        vertical-align: top;\n",
       "    }\n",
       "\n",
       "    .dataframe thead th {\n",
       "        text-align: right;\n",
       "    }\n",
       "</style>\n",
       "<table border=\"1\" class=\"dataframe\">\n",
       "  <thead>\n",
       "    <tr style=\"text-align: right;\">\n",
       "      <th></th>\n",
       "      <th>book_id</th>\n",
       "      <th>author_id</th>\n",
       "      <th>title</th>\n",
       "      <th>num_pages</th>\n",
       "      <th>publication_date</th>\n",
       "      <th>publisher_id</th>\n",
       "    </tr>\n",
       "  </thead>\n",
       "  <tbody>\n",
       "    <tr>\n",
       "      <th>0</th>\n",
       "      <td>1</td>\n",
       "      <td>546</td>\n",
       "      <td>'Salem's Lot</td>\n",
       "      <td>594</td>\n",
       "      <td>2005-11-01</td>\n",
       "      <td>93</td>\n",
       "    </tr>\n",
       "    <tr>\n",
       "      <th>1</th>\n",
       "      <td>2</td>\n",
       "      <td>465</td>\n",
       "      <td>1 000 Places to See Before You Die</td>\n",
       "      <td>992</td>\n",
       "      <td>2003-05-22</td>\n",
       "      <td>336</td>\n",
       "    </tr>\n",
       "    <tr>\n",
       "      <th>2</th>\n",
       "      <td>3</td>\n",
       "      <td>407</td>\n",
       "      <td>13 Little Blue Envelopes (Little Blue Envelope...</td>\n",
       "      <td>322</td>\n",
       "      <td>2010-12-21</td>\n",
       "      <td>135</td>\n",
       "    </tr>\n",
       "    <tr>\n",
       "      <th>3</th>\n",
       "      <td>4</td>\n",
       "      <td>82</td>\n",
       "      <td>1491: New Revelations of the Americas Before C...</td>\n",
       "      <td>541</td>\n",
       "      <td>2006-10-10</td>\n",
       "      <td>309</td>\n",
       "    </tr>\n",
       "    <tr>\n",
       "      <th>4</th>\n",
       "      <td>5</td>\n",
       "      <td>125</td>\n",
       "      <td>1776</td>\n",
       "      <td>386</td>\n",
       "      <td>2006-07-04</td>\n",
       "      <td>268</td>\n",
       "    </tr>\n",
       "  </tbody>\n",
       "</table>\n",
       "</div>"
      ],
      "text/plain": [
       "   book_id  author_id                                              title  \\\n",
       "0        1        546                                       'Salem's Lot   \n",
       "1        2        465                 1 000 Places to See Before You Die   \n",
       "2        3        407  13 Little Blue Envelopes (Little Blue Envelope...   \n",
       "3        4         82  1491: New Revelations of the Americas Before C...   \n",
       "4        5        125                                               1776   \n",
       "\n",
       "   num_pages publication_date  publisher_id  \n",
       "0        594       2005-11-01            93  \n",
       "1        992       2003-05-22           336  \n",
       "2        322       2010-12-21           135  \n",
       "3        541       2006-10-10           309  \n",
       "4        386       2006-07-04           268  "
      ]
     },
     "execution_count": 25,
     "metadata": {},
     "output_type": "execute_result"
    }
   ],
   "source": [
    "query = '''SELECT *\n",
    "FROM books\n",
    "LIMIT 5\n",
    "'''\n",
    "get_sql_data(query)"
   ]
  },
  {
   "cell_type": "code",
   "execution_count": 26,
   "metadata": {},
   "outputs": [
    {
     "data": {
      "text/html": [
       "<div>\n",
       "<style scoped>\n",
       "    .dataframe tbody tr th:only-of-type {\n",
       "        vertical-align: middle;\n",
       "    }\n",
       "\n",
       "    .dataframe tbody tr th {\n",
       "        vertical-align: top;\n",
       "    }\n",
       "\n",
       "    .dataframe thead th {\n",
       "        text-align: right;\n",
       "    }\n",
       "</style>\n",
       "<table border=\"1\" class=\"dataframe\">\n",
       "  <thead>\n",
       "    <tr style=\"text-align: right;\">\n",
       "      <th></th>\n",
       "      <th>count</th>\n",
       "    </tr>\n",
       "  </thead>\n",
       "  <tbody>\n",
       "    <tr>\n",
       "      <th>0</th>\n",
       "      <td>1000</td>\n",
       "    </tr>\n",
       "  </tbody>\n",
       "</table>\n",
       "</div>"
      ],
      "text/plain": [
       "   count\n",
       "0   1000"
      ]
     },
     "execution_count": 26,
     "metadata": {},
     "output_type": "execute_result"
    }
   ],
   "source": [
    "query = '''SELECT COUNT(*)\n",
    "FROM books\n",
    "'''\n",
    "get_sql_data(query)"
   ]
  },
  {
   "cell_type": "markdown",
   "metadata": {},
   "source": [
    "Всего у нас есть данные о 1000 книг."
   ]
  },
  {
   "cell_type": "markdown",
   "metadata": {},
   "source": [
    "### Таблица authors"
   ]
  },
  {
   "cell_type": "code",
   "execution_count": 27,
   "metadata": {
    "scrolled": true
   },
   "outputs": [
    {
     "data": {
      "text/html": [
       "<div>\n",
       "<style scoped>\n",
       "    .dataframe tbody tr th:only-of-type {\n",
       "        vertical-align: middle;\n",
       "    }\n",
       "\n",
       "    .dataframe tbody tr th {\n",
       "        vertical-align: top;\n",
       "    }\n",
       "\n",
       "    .dataframe thead th {\n",
       "        text-align: right;\n",
       "    }\n",
       "</style>\n",
       "<table border=\"1\" class=\"dataframe\">\n",
       "  <thead>\n",
       "    <tr style=\"text-align: right;\">\n",
       "      <th></th>\n",
       "      <th>author_id</th>\n",
       "      <th>author</th>\n",
       "    </tr>\n",
       "  </thead>\n",
       "  <tbody>\n",
       "    <tr>\n",
       "      <th>0</th>\n",
       "      <td>1</td>\n",
       "      <td>A.S. Byatt</td>\n",
       "    </tr>\n",
       "    <tr>\n",
       "      <th>1</th>\n",
       "      <td>2</td>\n",
       "      <td>Aesop/Laura Harris/Laura Gibbs</td>\n",
       "    </tr>\n",
       "    <tr>\n",
       "      <th>2</th>\n",
       "      <td>3</td>\n",
       "      <td>Agatha Christie</td>\n",
       "    </tr>\n",
       "    <tr>\n",
       "      <th>3</th>\n",
       "      <td>4</td>\n",
       "      <td>Alan Brennert</td>\n",
       "    </tr>\n",
       "    <tr>\n",
       "      <th>4</th>\n",
       "      <td>5</td>\n",
       "      <td>Alan Moore/David   Lloyd</td>\n",
       "    </tr>\n",
       "  </tbody>\n",
       "</table>\n",
       "</div>"
      ],
      "text/plain": [
       "   author_id                          author\n",
       "0          1                      A.S. Byatt\n",
       "1          2  Aesop/Laura Harris/Laura Gibbs\n",
       "2          3                 Agatha Christie\n",
       "3          4                   Alan Brennert\n",
       "4          5        Alan Moore/David   Lloyd"
      ]
     },
     "execution_count": 27,
     "metadata": {},
     "output_type": "execute_result"
    }
   ],
   "source": [
    "query = '''SELECT *\n",
    "FROM authors\n",
    "LIMIT 5\n",
    "'''\n",
    "get_sql_data(query)"
   ]
  },
  {
   "cell_type": "code",
   "execution_count": 28,
   "metadata": {
    "scrolled": true
   },
   "outputs": [
    {
     "data": {
      "text/html": [
       "<div>\n",
       "<style scoped>\n",
       "    .dataframe tbody tr th:only-of-type {\n",
       "        vertical-align: middle;\n",
       "    }\n",
       "\n",
       "    .dataframe tbody tr th {\n",
       "        vertical-align: top;\n",
       "    }\n",
       "\n",
       "    .dataframe thead th {\n",
       "        text-align: right;\n",
       "    }\n",
       "</style>\n",
       "<table border=\"1\" class=\"dataframe\">\n",
       "  <thead>\n",
       "    <tr style=\"text-align: right;\">\n",
       "      <th></th>\n",
       "      <th>count</th>\n",
       "    </tr>\n",
       "  </thead>\n",
       "  <tbody>\n",
       "    <tr>\n",
       "      <th>0</th>\n",
       "      <td>636</td>\n",
       "    </tr>\n",
       "  </tbody>\n",
       "</table>\n",
       "</div>"
      ],
      "text/plain": [
       "   count\n",
       "0    636"
      ]
     },
     "execution_count": 28,
     "metadata": {},
     "output_type": "execute_result"
    }
   ],
   "source": [
    "query = '''SELECT COUNT(*)\n",
    "FROM authors\n",
    "'''\n",
    "get_sql_data(query)"
   ]
  },
  {
   "cell_type": "markdown",
   "metadata": {},
   "source": [
    "Всего представлено 636 авторов."
   ]
  },
  {
   "cell_type": "markdown",
   "metadata": {},
   "source": [
    "### Таблица publishers"
   ]
  },
  {
   "cell_type": "code",
   "execution_count": 29,
   "metadata": {
    "scrolled": false
   },
   "outputs": [
    {
     "data": {
      "text/html": [
       "<div>\n",
       "<style scoped>\n",
       "    .dataframe tbody tr th:only-of-type {\n",
       "        vertical-align: middle;\n",
       "    }\n",
       "\n",
       "    .dataframe tbody tr th {\n",
       "        vertical-align: top;\n",
       "    }\n",
       "\n",
       "    .dataframe thead th {\n",
       "        text-align: right;\n",
       "    }\n",
       "</style>\n",
       "<table border=\"1\" class=\"dataframe\">\n",
       "  <thead>\n",
       "    <tr style=\"text-align: right;\">\n",
       "      <th></th>\n",
       "      <th>publisher_id</th>\n",
       "      <th>publisher</th>\n",
       "    </tr>\n",
       "  </thead>\n",
       "  <tbody>\n",
       "    <tr>\n",
       "      <th>0</th>\n",
       "      <td>1</td>\n",
       "      <td>Ace</td>\n",
       "    </tr>\n",
       "    <tr>\n",
       "      <th>1</th>\n",
       "      <td>2</td>\n",
       "      <td>Ace Book</td>\n",
       "    </tr>\n",
       "    <tr>\n",
       "      <th>2</th>\n",
       "      <td>3</td>\n",
       "      <td>Ace Books</td>\n",
       "    </tr>\n",
       "    <tr>\n",
       "      <th>3</th>\n",
       "      <td>4</td>\n",
       "      <td>Ace Hardcover</td>\n",
       "    </tr>\n",
       "    <tr>\n",
       "      <th>4</th>\n",
       "      <td>5</td>\n",
       "      <td>Addison Wesley Publishing Company</td>\n",
       "    </tr>\n",
       "  </tbody>\n",
       "</table>\n",
       "</div>"
      ],
      "text/plain": [
       "   publisher_id                          publisher\n",
       "0             1                                Ace\n",
       "1             2                           Ace Book\n",
       "2             3                          Ace Books\n",
       "3             4                      Ace Hardcover\n",
       "4             5  Addison Wesley Publishing Company"
      ]
     },
     "execution_count": 29,
     "metadata": {},
     "output_type": "execute_result"
    }
   ],
   "source": [
    "query = '''SELECT *\n",
    "FROM publishers\n",
    "LIMIT 5\n",
    "'''\n",
    "get_sql_data(query)"
   ]
  },
  {
   "cell_type": "code",
   "execution_count": 30,
   "metadata": {},
   "outputs": [
    {
     "data": {
      "text/html": [
       "<div>\n",
       "<style scoped>\n",
       "    .dataframe tbody tr th:only-of-type {\n",
       "        vertical-align: middle;\n",
       "    }\n",
       "\n",
       "    .dataframe tbody tr th {\n",
       "        vertical-align: top;\n",
       "    }\n",
       "\n",
       "    .dataframe thead th {\n",
       "        text-align: right;\n",
       "    }\n",
       "</style>\n",
       "<table border=\"1\" class=\"dataframe\">\n",
       "  <thead>\n",
       "    <tr style=\"text-align: right;\">\n",
       "      <th></th>\n",
       "      <th>count</th>\n",
       "    </tr>\n",
       "  </thead>\n",
       "  <tbody>\n",
       "    <tr>\n",
       "      <th>0</th>\n",
       "      <td>340</td>\n",
       "    </tr>\n",
       "  </tbody>\n",
       "</table>\n",
       "</div>"
      ],
      "text/plain": [
       "   count\n",
       "0    340"
      ]
     },
     "execution_count": 30,
     "metadata": {},
     "output_type": "execute_result"
    }
   ],
   "source": [
    "query = '''SELECT COUNT(*)\n",
    "FROM publishers\n",
    "'''\n",
    "get_sql_data(query)"
   ]
  },
  {
   "cell_type": "markdown",
   "metadata": {},
   "source": [
    "Всего представлено 340 издательств."
   ]
  },
  {
   "cell_type": "markdown",
   "metadata": {},
   "source": [
    "### Таблица ratings"
   ]
  },
  {
   "cell_type": "code",
   "execution_count": 31,
   "metadata": {
    "scrolled": true
   },
   "outputs": [
    {
     "data": {
      "text/html": [
       "<div>\n",
       "<style scoped>\n",
       "    .dataframe tbody tr th:only-of-type {\n",
       "        vertical-align: middle;\n",
       "    }\n",
       "\n",
       "    .dataframe tbody tr th {\n",
       "        vertical-align: top;\n",
       "    }\n",
       "\n",
       "    .dataframe thead th {\n",
       "        text-align: right;\n",
       "    }\n",
       "</style>\n",
       "<table border=\"1\" class=\"dataframe\">\n",
       "  <thead>\n",
       "    <tr style=\"text-align: right;\">\n",
       "      <th></th>\n",
       "      <th>rating_id</th>\n",
       "      <th>book_id</th>\n",
       "      <th>username</th>\n",
       "      <th>rating</th>\n",
       "    </tr>\n",
       "  </thead>\n",
       "  <tbody>\n",
       "    <tr>\n",
       "      <th>0</th>\n",
       "      <td>1</td>\n",
       "      <td>1</td>\n",
       "      <td>ryanfranco</td>\n",
       "      <td>4</td>\n",
       "    </tr>\n",
       "    <tr>\n",
       "      <th>1</th>\n",
       "      <td>2</td>\n",
       "      <td>1</td>\n",
       "      <td>grantpatricia</td>\n",
       "      <td>2</td>\n",
       "    </tr>\n",
       "    <tr>\n",
       "      <th>2</th>\n",
       "      <td>3</td>\n",
       "      <td>1</td>\n",
       "      <td>brandtandrea</td>\n",
       "      <td>5</td>\n",
       "    </tr>\n",
       "    <tr>\n",
       "      <th>3</th>\n",
       "      <td>4</td>\n",
       "      <td>2</td>\n",
       "      <td>lorichen</td>\n",
       "      <td>3</td>\n",
       "    </tr>\n",
       "    <tr>\n",
       "      <th>4</th>\n",
       "      <td>5</td>\n",
       "      <td>2</td>\n",
       "      <td>mariokeller</td>\n",
       "      <td>2</td>\n",
       "    </tr>\n",
       "  </tbody>\n",
       "</table>\n",
       "</div>"
      ],
      "text/plain": [
       "   rating_id  book_id       username  rating\n",
       "0          1        1     ryanfranco       4\n",
       "1          2        1  grantpatricia       2\n",
       "2          3        1   brandtandrea       5\n",
       "3          4        2       lorichen       3\n",
       "4          5        2    mariokeller       2"
      ]
     },
     "execution_count": 31,
     "metadata": {},
     "output_type": "execute_result"
    }
   ],
   "source": [
    "query = '''SELECT *\n",
    "FROM ratings\n",
    "LIMIT 5\n",
    "'''\n",
    "get_sql_data(query)"
   ]
  },
  {
   "cell_type": "code",
   "execution_count": 32,
   "metadata": {},
   "outputs": [
    {
     "data": {
      "text/html": [
       "<div>\n",
       "<style scoped>\n",
       "    .dataframe tbody tr th:only-of-type {\n",
       "        vertical-align: middle;\n",
       "    }\n",
       "\n",
       "    .dataframe tbody tr th {\n",
       "        vertical-align: top;\n",
       "    }\n",
       "\n",
       "    .dataframe thead th {\n",
       "        text-align: right;\n",
       "    }\n",
       "</style>\n",
       "<table border=\"1\" class=\"dataframe\">\n",
       "  <thead>\n",
       "    <tr style=\"text-align: right;\">\n",
       "      <th></th>\n",
       "      <th>count</th>\n",
       "    </tr>\n",
       "  </thead>\n",
       "  <tbody>\n",
       "    <tr>\n",
       "      <th>0</th>\n",
       "      <td>6456</td>\n",
       "    </tr>\n",
       "  </tbody>\n",
       "</table>\n",
       "</div>"
      ],
      "text/plain": [
       "   count\n",
       "0   6456"
      ]
     },
     "execution_count": 32,
     "metadata": {},
     "output_type": "execute_result"
    }
   ],
   "source": [
    "query = '''SELECT COUNT(*)\n",
    "FROM ratings\n",
    "'''\n",
    "get_sql_data(query)"
   ]
  },
  {
   "cell_type": "markdown",
   "metadata": {},
   "source": [
    "Всего пользователи поставили 6456 оценок."
   ]
  },
  {
   "cell_type": "markdown",
   "metadata": {},
   "source": [
    "### Таблица reviews"
   ]
  },
  {
   "cell_type": "code",
   "execution_count": 33,
   "metadata": {},
   "outputs": [
    {
     "data": {
      "text/html": [
       "<div>\n",
       "<style scoped>\n",
       "    .dataframe tbody tr th:only-of-type {\n",
       "        vertical-align: middle;\n",
       "    }\n",
       "\n",
       "    .dataframe tbody tr th {\n",
       "        vertical-align: top;\n",
       "    }\n",
       "\n",
       "    .dataframe thead th {\n",
       "        text-align: right;\n",
       "    }\n",
       "</style>\n",
       "<table border=\"1\" class=\"dataframe\">\n",
       "  <thead>\n",
       "    <tr style=\"text-align: right;\">\n",
       "      <th></th>\n",
       "      <th>review_id</th>\n",
       "      <th>book_id</th>\n",
       "      <th>username</th>\n",
       "      <th>text</th>\n",
       "    </tr>\n",
       "  </thead>\n",
       "  <tbody>\n",
       "    <tr>\n",
       "      <th>0</th>\n",
       "      <td>1</td>\n",
       "      <td>1</td>\n",
       "      <td>brandtandrea</td>\n",
       "      <td>Mention society tell send professor analysis. ...</td>\n",
       "    </tr>\n",
       "    <tr>\n",
       "      <th>1</th>\n",
       "      <td>2</td>\n",
       "      <td>1</td>\n",
       "      <td>ryanfranco</td>\n",
       "      <td>Foot glass pretty audience hit themselves. Amo...</td>\n",
       "    </tr>\n",
       "    <tr>\n",
       "      <th>2</th>\n",
       "      <td>3</td>\n",
       "      <td>2</td>\n",
       "      <td>lorichen</td>\n",
       "      <td>Listen treat keep worry. Miss husband tax but ...</td>\n",
       "    </tr>\n",
       "    <tr>\n",
       "      <th>3</th>\n",
       "      <td>4</td>\n",
       "      <td>3</td>\n",
       "      <td>johnsonamanda</td>\n",
       "      <td>Finally month interesting blue could nature cu...</td>\n",
       "    </tr>\n",
       "    <tr>\n",
       "      <th>4</th>\n",
       "      <td>5</td>\n",
       "      <td>3</td>\n",
       "      <td>scotttamara</td>\n",
       "      <td>Nation purpose heavy give wait song will. List...</td>\n",
       "    </tr>\n",
       "  </tbody>\n",
       "</table>\n",
       "</div>"
      ],
      "text/plain": [
       "   review_id  book_id       username  \\\n",
       "0          1        1   brandtandrea   \n",
       "1          2        1     ryanfranco   \n",
       "2          3        2       lorichen   \n",
       "3          4        3  johnsonamanda   \n",
       "4          5        3    scotttamara   \n",
       "\n",
       "                                                text  \n",
       "0  Mention society tell send professor analysis. ...  \n",
       "1  Foot glass pretty audience hit themselves. Amo...  \n",
       "2  Listen treat keep worry. Miss husband tax but ...  \n",
       "3  Finally month interesting blue could nature cu...  \n",
       "4  Nation purpose heavy give wait song will. List...  "
      ]
     },
     "execution_count": 33,
     "metadata": {},
     "output_type": "execute_result"
    }
   ],
   "source": [
    "query = '''SELECT *\n",
    "FROM reviews\n",
    "LIMIT 5\n",
    "'''\n",
    "get_sql_data(query)"
   ]
  },
  {
   "cell_type": "code",
   "execution_count": 34,
   "metadata": {},
   "outputs": [
    {
     "data": {
      "text/html": [
       "<div>\n",
       "<style scoped>\n",
       "    .dataframe tbody tr th:only-of-type {\n",
       "        vertical-align: middle;\n",
       "    }\n",
       "\n",
       "    .dataframe tbody tr th {\n",
       "        vertical-align: top;\n",
       "    }\n",
       "\n",
       "    .dataframe thead th {\n",
       "        text-align: right;\n",
       "    }\n",
       "</style>\n",
       "<table border=\"1\" class=\"dataframe\">\n",
       "  <thead>\n",
       "    <tr style=\"text-align: right;\">\n",
       "      <th></th>\n",
       "      <th>count</th>\n",
       "    </tr>\n",
       "  </thead>\n",
       "  <tbody>\n",
       "    <tr>\n",
       "      <th>0</th>\n",
       "      <td>2793</td>\n",
       "    </tr>\n",
       "  </tbody>\n",
       "</table>\n",
       "</div>"
      ],
      "text/plain": [
       "   count\n",
       "0   2793"
      ]
     },
     "execution_count": 34,
     "metadata": {},
     "output_type": "execute_result"
    }
   ],
   "source": [
    "query = '''SELECT COUNT(*)\n",
    "FROM reviews\n",
    "'''\n",
    "get_sql_data(query)"
   ]
  },
  {
   "cell_type": "markdown",
   "metadata": {},
   "source": [
    "Всего пользователи написали 2793 обзоров на книги."
   ]
  },
  {
   "cell_type": "markdown",
   "metadata": {},
   "source": [
    "## Задания"
   ]
  },
  {
   "cell_type": "markdown",
   "metadata": {},
   "source": [
    "### Cколько книг вышло после 1 января 2000 года?"
   ]
  },
  {
   "cell_type": "code",
   "execution_count": 35,
   "metadata": {},
   "outputs": [
    {
     "data": {
      "text/html": [
       "<div>\n",
       "<style scoped>\n",
       "    .dataframe tbody tr th:only-of-type {\n",
       "        vertical-align: middle;\n",
       "    }\n",
       "\n",
       "    .dataframe tbody tr th {\n",
       "        vertical-align: top;\n",
       "    }\n",
       "\n",
       "    .dataframe thead th {\n",
       "        text-align: right;\n",
       "    }\n",
       "</style>\n",
       "<table border=\"1\" class=\"dataframe\">\n",
       "  <thead>\n",
       "    <tr style=\"text-align: right;\">\n",
       "      <th></th>\n",
       "      <th>count</th>\n",
       "    </tr>\n",
       "  </thead>\n",
       "  <tbody>\n",
       "    <tr>\n",
       "      <th>0</th>\n",
       "      <td>819</td>\n",
       "    </tr>\n",
       "  </tbody>\n",
       "</table>\n",
       "</div>"
      ],
      "text/plain": [
       "   count\n",
       "0    819"
      ]
     },
     "execution_count": 35,
     "metadata": {},
     "output_type": "execute_result"
    }
   ],
   "source": [
    "query = '''SELECT COUNT(DISTINCT book_id) \n",
    "FROM books \n",
    "WHERE publication_date::date > '2000-01-01'\n",
    "'''\n",
    "get_sql_data(query)"
   ]
  },
  {
   "cell_type": "markdown",
   "metadata": {},
   "source": [
    "После 1 января 2000 года вышло 819 книг."
   ]
  },
  {
   "cell_type": "markdown",
   "metadata": {},
   "source": [
    "### Для каждой книги посчитайте количество обзоров и среднюю оценку."
   ]
  },
  {
   "cell_type": "code",
   "execution_count": 36,
   "metadata": {},
   "outputs": [
    {
     "data": {
      "text/html": [
       "<div>\n",
       "<style scoped>\n",
       "    .dataframe tbody tr th:only-of-type {\n",
       "        vertical-align: middle;\n",
       "    }\n",
       "\n",
       "    .dataframe tbody tr th {\n",
       "        vertical-align: top;\n",
       "    }\n",
       "\n",
       "    .dataframe thead th {\n",
       "        text-align: right;\n",
       "    }\n",
       "</style>\n",
       "<table border=\"1\" class=\"dataframe\">\n",
       "  <thead>\n",
       "    <tr style=\"text-align: right;\">\n",
       "      <th></th>\n",
       "      <th>title</th>\n",
       "      <th>count</th>\n",
       "      <th>avg</th>\n",
       "    </tr>\n",
       "  </thead>\n",
       "  <tbody>\n",
       "    <tr>\n",
       "      <th>0</th>\n",
       "      <td>Twilight (Twilight  #1)</td>\n",
       "      <td>7</td>\n",
       "      <td>3.662500</td>\n",
       "    </tr>\n",
       "    <tr>\n",
       "      <th>1</th>\n",
       "      <td>Eat  Pray  Love</td>\n",
       "      <td>6</td>\n",
       "      <td>3.395833</td>\n",
       "    </tr>\n",
       "    <tr>\n",
       "      <th>2</th>\n",
       "      <td>Harry Potter and the Chamber of Secrets (Harry...</td>\n",
       "      <td>6</td>\n",
       "      <td>4.287500</td>\n",
       "    </tr>\n",
       "    <tr>\n",
       "      <th>3</th>\n",
       "      <td>Harry Potter and the Prisoner of Azkaban (Harr...</td>\n",
       "      <td>6</td>\n",
       "      <td>4.414634</td>\n",
       "    </tr>\n",
       "    <tr>\n",
       "      <th>4</th>\n",
       "      <td>Outlander (Outlander  #1)</td>\n",
       "      <td>6</td>\n",
       "      <td>4.125000</td>\n",
       "    </tr>\n",
       "    <tr>\n",
       "      <th>...</th>\n",
       "      <td>...</td>\n",
       "      <td>...</td>\n",
       "      <td>...</td>\n",
       "    </tr>\n",
       "    <tr>\n",
       "      <th>995</th>\n",
       "      <td>Disney's Beauty and the Beast (A Little Golden...</td>\n",
       "      <td>0</td>\n",
       "      <td>4.000000</td>\n",
       "    </tr>\n",
       "    <tr>\n",
       "      <th>996</th>\n",
       "      <td>Essential Tales and Poems</td>\n",
       "      <td>0</td>\n",
       "      <td>4.000000</td>\n",
       "    </tr>\n",
       "    <tr>\n",
       "      <th>997</th>\n",
       "      <td>Leonardo's Notebooks</td>\n",
       "      <td>0</td>\n",
       "      <td>4.000000</td>\n",
       "    </tr>\n",
       "    <tr>\n",
       "      <th>998</th>\n",
       "      <td>The Cat in the Hat and Other Dr. Seuss Favorites</td>\n",
       "      <td>0</td>\n",
       "      <td>5.000000</td>\n",
       "    </tr>\n",
       "    <tr>\n",
       "      <th>999</th>\n",
       "      <td>The Natural Way to Draw</td>\n",
       "      <td>0</td>\n",
       "      <td>3.000000</td>\n",
       "    </tr>\n",
       "  </tbody>\n",
       "</table>\n",
       "<p>1000 rows × 3 columns</p>\n",
       "</div>"
      ],
      "text/plain": [
       "                                                 title  count       avg\n",
       "0                              Twilight (Twilight  #1)      7  3.662500\n",
       "1                                      Eat  Pray  Love      6  3.395833\n",
       "2    Harry Potter and the Chamber of Secrets (Harry...      6  4.287500\n",
       "3    Harry Potter and the Prisoner of Azkaban (Harr...      6  4.414634\n",
       "4                            Outlander (Outlander  #1)      6  4.125000\n",
       "..                                                 ...    ...       ...\n",
       "995  Disney's Beauty and the Beast (A Little Golden...      0  4.000000\n",
       "996                          Essential Tales and Poems      0  4.000000\n",
       "997                               Leonardo's Notebooks      0  4.000000\n",
       "998   The Cat in the Hat and Other Dr. Seuss Favorites      0  5.000000\n",
       "999                            The Natural Way to Draw      0  3.000000\n",
       "\n",
       "[1000 rows x 3 columns]"
      ]
     },
     "execution_count": 36,
     "metadata": {},
     "output_type": "execute_result"
    }
   ],
   "source": [
    "query = '''SELECT DISTINCT b.title, COUNT(DISTINCT r.review_id), AVG(ra.rating)\n",
    "FROM books AS b\n",
    "LEFT JOIN reviews AS r ON b.book_id=r.book_id\n",
    "LEFT JOIN ratings AS ra ON b.book_id=ra.book_id\n",
    "GROUP BY b.book_id\n",
    "ORDER BY COUNT(DISTINCT r.review_id) DESC\n",
    "'''\n",
    "get_sql_data(query)"
   ]
  },
  {
   "cell_type": "markdown",
   "metadata": {},
   "source": [
    "Больше всего обзоров у книги \"Сумерки\" - 7 штук."
   ]
  },
  {
   "cell_type": "markdown",
   "metadata": {},
   "source": [
    "### Определите издательство, которое выпустило наибольшее число книг толще 50 страниц."
   ]
  },
  {
   "cell_type": "code",
   "execution_count": 37,
   "metadata": {},
   "outputs": [
    {
     "data": {
      "text/html": [
       "<div>\n",
       "<style scoped>\n",
       "    .dataframe tbody tr th:only-of-type {\n",
       "        vertical-align: middle;\n",
       "    }\n",
       "\n",
       "    .dataframe tbody tr th {\n",
       "        vertical-align: top;\n",
       "    }\n",
       "\n",
       "    .dataframe thead th {\n",
       "        text-align: right;\n",
       "    }\n",
       "</style>\n",
       "<table border=\"1\" class=\"dataframe\">\n",
       "  <thead>\n",
       "    <tr style=\"text-align: right;\">\n",
       "      <th></th>\n",
       "      <th>publisher</th>\n",
       "      <th>books_count</th>\n",
       "    </tr>\n",
       "  </thead>\n",
       "  <tbody>\n",
       "    <tr>\n",
       "      <th>0</th>\n",
       "      <td>Penguin Books</td>\n",
       "      <td>42</td>\n",
       "    </tr>\n",
       "  </tbody>\n",
       "</table>\n",
       "</div>"
      ],
      "text/plain": [
       "       publisher  books_count\n",
       "0  Penguin Books           42"
      ]
     },
     "execution_count": 37,
     "metadata": {},
     "output_type": "execute_result"
    }
   ],
   "source": [
    "query = '''WITH publ AS (SELECT p.publisher, COUNT(b.book_id) AS books_count\n",
    "FROM books AS b\n",
    "JOIN publishers AS p ON b.publisher_id=p.publisher_id\n",
    "WHERE b.num_pages > 50\n",
    "GROUP BY p.publisher)\n",
    "\n",
    "SELECT publisher, books_count\n",
    "FROM publ\n",
    "ORDER BY books_count DESC\n",
    "LIMIT 1\n",
    "'''\n",
    "get_sql_data(query)"
   ]
  },
  {
   "cell_type": "markdown",
   "metadata": {},
   "source": [
    "Больше всего книг (42) выпустило издательство Penguin Books."
   ]
  },
  {
   "cell_type": "markdown",
   "metadata": {},
   "source": [
    "### Определите автора с самой высокой средней оценкой книг — учитывайте только книги с 50 и более оценками."
   ]
  },
  {
   "cell_type": "code",
   "execution_count": 59,
   "metadata": {},
   "outputs": [
    {
     "data": {
      "text/html": [
       "<div>\n",
       "<style scoped>\n",
       "    .dataframe tbody tr th:only-of-type {\n",
       "        vertical-align: middle;\n",
       "    }\n",
       "\n",
       "    .dataframe tbody tr th {\n",
       "        vertical-align: top;\n",
       "    }\n",
       "\n",
       "    .dataframe thead th {\n",
       "        text-align: right;\n",
       "    }\n",
       "</style>\n",
       "<table border=\"1\" class=\"dataframe\">\n",
       "  <thead>\n",
       "    <tr style=\"text-align: right;\">\n",
       "      <th></th>\n",
       "      <th>author</th>\n",
       "      <th>avg</th>\n",
       "    </tr>\n",
       "  </thead>\n",
       "  <tbody>\n",
       "    <tr>\n",
       "      <th>0</th>\n",
       "      <td>J.K. Rowling/Mary GrandPré</td>\n",
       "      <td>4.287097</td>\n",
       "    </tr>\n",
       "  </tbody>\n",
       "</table>\n",
       "</div>"
      ],
      "text/plain": [
       "                       author       avg\n",
       "0  J.K. Rowling/Mary GrandPré  4.287097"
      ]
     },
     "execution_count": 59,
     "metadata": {},
     "output_type": "execute_result"
    }
   ],
   "source": [
    "query = '''SELECT a.author, AVG(r.rating)\n",
    "FROM author AS a\n",
    "JOIN books AS b ON b.author_id=a.author_id\n",
    "JOIN ratings AS r ON b.book_id=r.book_id\n",
    "WHERE b.book_id IN (SELECT book_id\n",
    "                    FROM ratings \n",
    "                    GROUP BY book_id\n",
    "                    HAVING COUNT(rating_id) >= 50\n",
    "                    ORDER BY COUNT(rating_id) DESC)\n",
    "GROUP BY a.author\n",
    "ORDER BY AVG(r.rating) DESC\n",
    "LIMIT 1\n",
    "'''\n",
    "get_sql_data(query)"
   ]
  },
  {
   "cell_type": "markdown",
   "metadata": {},
   "source": [
    "Автор с самой высокой средней оценкой книг — Дж.К. Роулинг (средняя оценка: 4,28)."
   ]
  },
  {
   "cell_type": "markdown",
   "metadata": {},
   "source": [
    "### Посчитайте среднее количество обзоров от пользователей, которые поставили больше 48 оценок."
   ]
  },
  {
   "cell_type": "code",
   "execution_count": 39,
   "metadata": {},
   "outputs": [
    {
     "data": {
      "text/html": [
       "<div>\n",
       "<style scoped>\n",
       "    .dataframe tbody tr th:only-of-type {\n",
       "        vertical-align: middle;\n",
       "    }\n",
       "\n",
       "    .dataframe tbody tr th {\n",
       "        vertical-align: top;\n",
       "    }\n",
       "\n",
       "    .dataframe thead th {\n",
       "        text-align: right;\n",
       "    }\n",
       "</style>\n",
       "<table border=\"1\" class=\"dataframe\">\n",
       "  <thead>\n",
       "    <tr style=\"text-align: right;\">\n",
       "      <th></th>\n",
       "      <th>avg</th>\n",
       "    </tr>\n",
       "  </thead>\n",
       "  <tbody>\n",
       "    <tr>\n",
       "      <th>0</th>\n",
       "      <td>24.0</td>\n",
       "    </tr>\n",
       "  </tbody>\n",
       "</table>\n",
       "</div>"
      ],
      "text/plain": [
       "    avg\n",
       "0  24.0"
      ]
     },
     "execution_count": 39,
     "metadata": {},
     "output_type": "execute_result"
    }
   ],
   "source": [
    "query = ''' WITH users_reviews AS (SELECT COUNT(review_id) AS total_reviews_amt, username\n",
    "FROM reviews \n",
    "WHERE username IN (SELECT username\n",
    "                FROM ratings\n",
    "                GROUP BY username\n",
    "                HAVING COUNT(rating_id) > 48)\n",
    "                GROUP BY username)\n",
    "SELECT AVG(total_reviews_amt)\n",
    "FROM users_reviews\n",
    "'''\n",
    "get_sql_data(query)"
   ]
  },
  {
   "cell_type": "markdown",
   "metadata": {},
   "source": [
    "В среднем пользователи, которые поставили больше 48 оценок, пишут 24 обзора."
   ]
  },
  {
   "cell_type": "markdown",
   "metadata": {},
   "source": [
    "## Выводы"
   ]
  },
  {
   "cell_type": "markdown",
   "metadata": {},
   "source": [
    "После 1 января 2000 года вышло 819 книг.  \n",
    "Больше всего обзоров у книги \"Сумерки\" - 7 штук.  \n",
    "Больше всего книг (42) выпустило издательство Penguin Books.  \n",
    "Автор с самой высокой средней оценкой книг — Дж.К. Роулинг (средняя оценка: 4,4).  \n",
    "В среднем пользователи, которые поставили больше 48 оценок, пишут 24 обзора."
   ]
  }
 ],
 "metadata": {
  "ExecuteTimeLog": [
   {
    "duration": 11287,
    "start_time": "2023-09-25T20:16:18.095Z"
   },
   {
    "duration": 74,
    "start_time": "2023-09-25T20:17:31.458Z"
   },
   {
    "duration": 3,
    "start_time": "2023-09-25T20:17:42.935Z"
   },
   {
    "duration": 5,
    "start_time": "2023-09-25T20:18:22.060Z"
   },
   {
    "duration": 253,
    "start_time": "2023-09-25T20:18:28.105Z"
   },
   {
    "duration": 87,
    "start_time": "2023-09-25T20:19:54.459Z"
   },
   {
    "duration": 84,
    "start_time": "2023-09-25T20:22:24.356Z"
   },
   {
    "duration": 81,
    "start_time": "2023-09-25T20:22:35.675Z"
   },
   {
    "duration": 56,
    "start_time": "2023-09-25T20:24:21.991Z"
   },
   {
    "duration": 58,
    "start_time": "2023-09-25T20:25:02.960Z"
   },
   {
    "duration": 58,
    "start_time": "2023-09-25T20:31:36.877Z"
   },
   {
    "duration": 55,
    "start_time": "2023-09-25T20:31:50.623Z"
   },
   {
    "duration": 55,
    "start_time": "2023-09-25T20:32:10.197Z"
   },
   {
    "duration": 57,
    "start_time": "2023-09-25T20:32:33.653Z"
   },
   {
    "duration": 56,
    "start_time": "2023-09-25T20:33:34.555Z"
   },
   {
    "duration": 56,
    "start_time": "2023-09-25T20:35:17.781Z"
   },
   {
    "duration": 54,
    "start_time": "2023-09-25T20:36:30.236Z"
   },
   {
    "duration": 54,
    "start_time": "2023-09-25T20:36:55.921Z"
   },
   {
    "duration": 55,
    "start_time": "2023-09-25T20:37:13.212Z"
   },
   {
    "duration": 60,
    "start_time": "2023-09-25T20:37:30.215Z"
   },
   {
    "duration": 84,
    "start_time": "2023-09-25T20:40:10.815Z"
   },
   {
    "duration": 98,
    "start_time": "2023-09-25T20:40:47.852Z"
   },
   {
    "duration": 87,
    "start_time": "2023-09-25T20:41:00.640Z"
   },
   {
    "duration": 96,
    "start_time": "2023-09-25T20:41:08.291Z"
   },
   {
    "duration": 96,
    "start_time": "2023-09-25T20:41:40.021Z"
   },
   {
    "duration": 101,
    "start_time": "2023-09-25T20:42:50.637Z"
   },
   {
    "duration": 73,
    "start_time": "2023-09-25T20:43:19.666Z"
   },
   {
    "duration": 104,
    "start_time": "2023-09-25T20:43:24.230Z"
   },
   {
    "duration": 62,
    "start_time": "2023-09-25T20:45:15.782Z"
   },
   {
    "duration": 57,
    "start_time": "2023-09-25T20:45:23.997Z"
   },
   {
    "duration": 88,
    "start_time": "2023-09-25T20:47:18.516Z"
   },
   {
    "duration": 88,
    "start_time": "2023-09-25T20:48:01.584Z"
   },
   {
    "duration": 59,
    "start_time": "2023-09-25T20:48:10.759Z"
   },
   {
    "duration": 79,
    "start_time": "2023-09-25T20:49:12.691Z"
   },
   {
    "duration": 59,
    "start_time": "2023-09-25T20:49:25.149Z"
   },
   {
    "duration": 94,
    "start_time": "2023-09-25T20:50:54.792Z"
   },
   {
    "duration": 67,
    "start_time": "2023-09-25T20:53:20.935Z"
   },
   {
    "duration": 58,
    "start_time": "2023-09-25T20:53:35.560Z"
   },
   {
    "duration": 61,
    "start_time": "2023-09-25T20:53:56.989Z"
   },
   {
    "duration": 62,
    "start_time": "2023-09-25T21:06:00.510Z"
   },
   {
    "duration": 87,
    "start_time": "2023-09-25T21:06:34.576Z"
   },
   {
    "duration": 71,
    "start_time": "2023-09-25T21:07:40.299Z"
   },
   {
    "duration": 65,
    "start_time": "2023-09-25T21:07:46.673Z"
   },
   {
    "duration": 60,
    "start_time": "2023-09-25T21:08:05.548Z"
   },
   {
    "duration": 62,
    "start_time": "2023-09-25T21:08:44.488Z"
   },
   {
    "duration": 1976,
    "start_time": "2023-09-25T21:09:01.598Z"
   },
   {
    "duration": 59,
    "start_time": "2023-09-25T21:09:07.623Z"
   },
   {
    "duration": 68,
    "start_time": "2023-09-25T21:10:45.017Z"
   },
   {
    "duration": 66,
    "start_time": "2023-09-25T21:11:11.662Z"
   },
   {
    "duration": 60,
    "start_time": "2023-09-25T21:11:49.352Z"
   },
   {
    "duration": 60,
    "start_time": "2023-09-25T21:12:14.905Z"
   },
   {
    "duration": 66,
    "start_time": "2023-09-25T21:12:51.270Z"
   },
   {
    "duration": 76,
    "start_time": "2023-09-25T21:13:40.564Z"
   },
   {
    "duration": 9762,
    "start_time": "2023-09-25T21:17:36.022Z"
   },
   {
    "duration": 244,
    "start_time": "2023-09-25T21:17:45.786Z"
   },
   {
    "duration": 55,
    "start_time": "2023-09-25T21:17:46.032Z"
   },
   {
    "duration": 56,
    "start_time": "2023-09-25T21:17:46.089Z"
   },
   {
    "duration": 54,
    "start_time": "2023-09-25T21:17:46.147Z"
   },
   {
    "duration": 56,
    "start_time": "2023-09-25T21:17:46.203Z"
   },
   {
    "duration": 55,
    "start_time": "2023-09-25T21:17:46.260Z"
   },
   {
    "duration": 59,
    "start_time": "2023-09-25T21:17:46.317Z"
   },
   {
    "duration": 56,
    "start_time": "2023-09-25T21:17:46.377Z"
   },
   {
    "duration": 58,
    "start_time": "2023-09-25T21:17:46.436Z"
   },
   {
    "duration": 55,
    "start_time": "2023-09-25T21:17:46.496Z"
   },
   {
    "duration": 56,
    "start_time": "2023-09-25T21:17:46.553Z"
   },
   {
    "duration": 95,
    "start_time": "2023-09-25T21:17:46.611Z"
   },
   {
    "duration": 57,
    "start_time": "2023-09-25T21:17:46.708Z"
   },
   {
    "duration": 69,
    "start_time": "2023-09-25T21:17:46.766Z"
   },
   {
    "duration": 58,
    "start_time": "2023-09-25T21:17:46.838Z"
   },
   {
    "duration": 57,
    "start_time": "2023-09-25T21:23:52.239Z"
   },
   {
    "duration": 12484,
    "start_time": "2023-09-26T07:52:48.454Z"
   },
   {
    "duration": 68,
    "start_time": "2023-09-26T07:53:00.940Z"
   },
   {
    "duration": 9,
    "start_time": "2023-09-26T07:53:01.010Z"
   },
   {
    "duration": 39,
    "start_time": "2023-09-26T07:53:01.022Z"
   },
   {
    "duration": 25,
    "start_time": "2023-09-26T07:53:01.063Z"
   },
   {
    "duration": 39,
    "start_time": "2023-09-26T07:53:01.090Z"
   },
   {
    "duration": 30,
    "start_time": "2023-09-26T07:53:01.131Z"
   },
   {
    "duration": 33,
    "start_time": "2023-09-26T07:53:01.163Z"
   },
   {
    "duration": 29,
    "start_time": "2023-09-26T07:53:01.198Z"
   },
   {
    "duration": 30,
    "start_time": "2023-09-26T07:53:01.229Z"
   },
   {
    "duration": 21,
    "start_time": "2023-09-26T07:53:01.260Z"
   },
   {
    "duration": 71,
    "start_time": "2023-09-26T07:53:01.283Z"
   },
   {
    "duration": 127,
    "start_time": "2023-09-26T07:53:01.355Z"
   },
   {
    "duration": 32,
    "start_time": "2023-09-26T07:53:01.483Z"
   },
   {
    "duration": 77,
    "start_time": "2023-09-26T07:53:01.517Z"
   },
   {
    "duration": 25,
    "start_time": "2023-09-26T07:53:01.596Z"
   },
   {
    "duration": 14632,
    "start_time": "2023-09-26T08:20:45.115Z"
   },
   {
    "duration": 247,
    "start_time": "2023-09-26T08:20:59.749Z"
   },
   {
    "duration": 52,
    "start_time": "2023-09-26T08:20:59.998Z"
   },
   {
    "duration": 81,
    "start_time": "2023-09-26T08:21:00.052Z"
   },
   {
    "duration": 54,
    "start_time": "2023-09-26T08:21:00.134Z"
   },
   {
    "duration": 54,
    "start_time": "2023-09-26T08:21:00.190Z"
   },
   {
    "duration": 51,
    "start_time": "2023-09-26T08:21:00.246Z"
   },
   {
    "duration": 78,
    "start_time": "2023-09-26T08:21:00.298Z"
   },
   {
    "duration": 89,
    "start_time": "2023-09-26T08:21:00.378Z"
   },
   {
    "duration": 54,
    "start_time": "2023-09-26T08:21:00.470Z"
   },
   {
    "duration": 52,
    "start_time": "2023-09-26T08:21:00.525Z"
   },
   {
    "duration": 53,
    "start_time": "2023-09-26T08:21:00.579Z"
   },
   {
    "duration": 148,
    "start_time": "2023-09-26T08:21:00.633Z"
   },
   {
    "duration": 126,
    "start_time": "2023-09-26T08:21:00.782Z"
   },
   {
    "duration": 116,
    "start_time": "2023-09-26T08:21:00.910Z"
   },
   {
    "duration": 123,
    "start_time": "2023-09-26T08:21:01.027Z"
   },
   {
    "duration": 56,
    "start_time": "2023-09-26T08:21:16.771Z"
   },
   {
    "duration": 56,
    "start_time": "2023-09-26T08:21:26.067Z"
   },
   {
    "duration": 51,
    "start_time": "2023-09-26T08:24:25.863Z"
   },
   {
    "duration": 52,
    "start_time": "2023-09-26T08:24:31.286Z"
   },
   {
    "duration": 52,
    "start_time": "2023-09-26T08:24:36.903Z"
   },
   {
    "duration": 51,
    "start_time": "2023-09-26T08:24:43.054Z"
   },
   {
    "duration": 53,
    "start_time": "2023-09-26T08:24:47.809Z"
   },
   {
    "duration": 7853,
    "start_time": "2023-09-26T08:42:15.697Z"
   },
   {
    "duration": 57,
    "start_time": "2023-09-26T08:42:23.551Z"
   },
   {
    "duration": 9,
    "start_time": "2023-09-26T08:42:23.610Z"
   },
   {
    "duration": 23,
    "start_time": "2023-09-26T08:42:23.621Z"
   },
   {
    "duration": 9,
    "start_time": "2023-09-26T08:42:23.646Z"
   },
   {
    "duration": 15,
    "start_time": "2023-09-26T08:42:23.657Z"
   },
   {
    "duration": 10,
    "start_time": "2023-09-26T08:42:23.673Z"
   },
   {
    "duration": 13,
    "start_time": "2023-09-26T08:42:23.685Z"
   },
   {
    "duration": 11,
    "start_time": "2023-09-26T08:42:23.700Z"
   },
   {
    "duration": 37,
    "start_time": "2023-09-26T08:42:23.714Z"
   },
   {
    "duration": 10,
    "start_time": "2023-09-26T08:42:23.753Z"
   },
   {
    "duration": 19,
    "start_time": "2023-09-26T08:42:23.764Z"
   },
   {
    "duration": 42,
    "start_time": "2023-09-26T08:42:23.785Z"
   },
   {
    "duration": 14,
    "start_time": "2023-09-26T08:42:23.830Z"
   },
   {
    "duration": 17,
    "start_time": "2023-09-26T08:42:23.846Z"
   },
   {
    "duration": 15,
    "start_time": "2023-09-26T08:42:23.864Z"
   },
   {
    "duration": 5,
    "start_time": "2023-09-26T09:21:10.692Z"
   },
   {
    "duration": 239,
    "start_time": "2023-09-26T09:21:10.699Z"
   },
   {
    "duration": 51,
    "start_time": "2023-09-26T09:21:10.940Z"
   },
   {
    "duration": 53,
    "start_time": "2023-09-26T09:21:10.993Z"
   },
   {
    "duration": 50,
    "start_time": "2023-09-26T09:21:11.048Z"
   },
   {
    "duration": 130,
    "start_time": "2023-09-26T09:21:11.100Z"
   },
   {
    "duration": 51,
    "start_time": "2023-09-26T09:21:11.232Z"
   },
   {
    "duration": 54,
    "start_time": "2023-09-26T09:21:11.285Z"
   },
   {
    "duration": 112,
    "start_time": "2023-09-26T09:21:11.340Z"
   },
   {
    "duration": 54,
    "start_time": "2023-09-26T09:21:11.455Z"
   },
   {
    "duration": 53,
    "start_time": "2023-09-26T09:21:11.510Z"
   },
   {
    "duration": 52,
    "start_time": "2023-09-26T09:21:11.564Z"
   },
   {
    "duration": 89,
    "start_time": "2023-09-26T09:21:11.619Z"
   },
   {
    "duration": 53,
    "start_time": "2023-09-26T09:21:11.710Z"
   },
   {
    "duration": 57,
    "start_time": "2023-09-26T09:21:11.764Z"
   },
   {
    "duration": 56,
    "start_time": "2023-09-26T09:21:11.822Z"
   },
   {
    "duration": 160,
    "start_time": "2023-09-26T09:23:00.411Z"
   },
   {
    "duration": 62,
    "start_time": "2023-09-26T09:23:32.849Z"
   },
   {
    "duration": 62,
    "start_time": "2023-09-26T09:23:48.956Z"
   },
   {
    "duration": 53,
    "start_time": "2023-09-26T09:24:07.627Z"
   },
   {
    "duration": 63,
    "start_time": "2023-09-26T09:24:20.354Z"
   },
   {
    "duration": 53,
    "start_time": "2023-09-26T09:24:32.908Z"
   },
   {
    "duration": 55,
    "start_time": "2023-09-26T09:24:47.521Z"
   },
   {
    "duration": 55,
    "start_time": "2023-09-26T09:26:54.242Z"
   },
   {
    "duration": 81,
    "start_time": "2023-09-26T09:28:15.008Z"
   },
   {
    "duration": 55,
    "start_time": "2023-09-26T09:29:51.535Z"
   },
   {
    "duration": 57,
    "start_time": "2023-09-26T09:30:12.500Z"
   },
   {
    "duration": 55,
    "start_time": "2023-09-26T09:30:26.008Z"
   },
   {
    "duration": 54,
    "start_time": "2023-09-26T09:33:37.584Z"
   },
   {
    "duration": 56,
    "start_time": "2023-09-26T09:34:22.181Z"
   },
   {
    "duration": 55,
    "start_time": "2023-09-26T09:36:55.046Z"
   },
   {
    "duration": 62,
    "start_time": "2023-09-26T09:38:04.367Z"
   },
   {
    "duration": 70,
    "start_time": "2023-09-26T09:38:13.878Z"
   },
   {
    "duration": 57,
    "start_time": "2023-09-26T09:38:30.286Z"
   },
   {
    "duration": 54,
    "start_time": "2023-09-26T09:38:49.740Z"
   },
   {
    "duration": 56,
    "start_time": "2023-09-26T09:39:36.422Z"
   }
  ],
  "kernelspec": {
   "display_name": "Python 3 (ipykernel)",
   "language": "python",
   "name": "python3"
  },
  "language_info": {
   "codemirror_mode": {
    "name": "ipython",
    "version": 3
   },
   "file_extension": ".py",
   "mimetype": "text/x-python",
   "name": "python",
   "nbconvert_exporter": "python",
   "pygments_lexer": "ipython3",
   "version": "3.11.3"
  },
  "toc": {
   "base_numbering": 1,
   "nav_menu": {},
   "number_sections": true,
   "sideBar": true,
   "skip_h1_title": true,
   "title_cell": "Table of Contents",
   "title_sidebar": "Contents",
   "toc_cell": false,
   "toc_position": {
    "height": "calc(100% - 180px)",
    "left": "10px",
    "top": "150px",
    "width": "165px"
   },
   "toc_section_display": true,
   "toc_window_display": true
  }
 },
 "nbformat": 4,
 "nbformat_minor": 2
}
